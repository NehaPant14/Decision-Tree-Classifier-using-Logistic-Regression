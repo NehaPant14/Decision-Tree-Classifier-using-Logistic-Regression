{
 "cells": [
  {
   "cell_type": "markdown",
   "metadata": {},
   "source": [
    "# Dataset 2 - data_1 + data_2 Dataset"
   ]
  },
  {
   "cell_type": "code",
   "execution_count": 1,
   "metadata": {},
   "outputs": [],
   "source": [
    "#import all necessary libraries\n",
    "import pandas as pd\n",
    "import numpy as np\n",
    "from sklearn.model_selection import train_test_split\n",
    "from sklearn import metrics\n",
    "import statsmodels.api as sm\n",
    "from sklearn.tree import DecisionTreeClassifier\n",
    "from sklearn.linear_model import LogisticRegression\n",
    "from sklearn.metrics import accuracy_score, roc_auc_score\n",
    "import matplotlib.pyplot as plt\n",
    "import warnings\n",
    "warnings.filterwarnings(\"ignore\")"
   ]
  },
  {
   "cell_type": "code",
   "execution_count": 2,
   "metadata": {},
   "outputs": [],
   "source": [
    "#Load the dataset into memory\n",
    "df = pd.read_csv('data_1.csv', header=0)\n",
    "#Dropping rows with null values\n",
    "df = df.dropna()"
   ]
  },
  {
   "cell_type": "code",
   "execution_count": 3,
   "metadata": {},
   "outputs": [],
   "source": [
    "#Load the dataset into memory\n",
    "df_2 = pd.read_csv('data_2.csv', header=0)\n",
    "#Dropping rows with null values\n",
    "df_2 = df_2.dropna()"
   ]
  },
  {
   "cell_type": "code",
   "execution_count": 4,
   "metadata": {},
   "outputs": [
    {
     "data": {
      "text/html": [
       "<div>\n",
       "<style scoped>\n",
       "    .dataframe tbody tr th:only-of-type {\n",
       "        vertical-align: middle;\n",
       "    }\n",
       "\n",
       "    .dataframe tbody tr th {\n",
       "        vertical-align: top;\n",
       "    }\n",
       "\n",
       "    .dataframe thead th {\n",
       "        text-align: right;\n",
       "    }\n",
       "</style>\n",
       "<table border=\"1\" class=\"dataframe\">\n",
       "  <thead>\n",
       "    <tr style=\"text-align: right;\">\n",
       "      <th></th>\n",
       "      <th>baseline value</th>\n",
       "      <th>accelerations</th>\n",
       "      <th>fetal_movement</th>\n",
       "      <th>uterine_contractions</th>\n",
       "      <th>light_decelerations</th>\n",
       "      <th>severe_decelerations</th>\n",
       "      <th>prolongued_decelerations</th>\n",
       "      <th>abnormal_short_term_variability</th>\n",
       "      <th>mean_value_of_short_term_variability</th>\n",
       "      <th>percentage_of_time_with_abnormal_long_term_variability</th>\n",
       "      <th>...</th>\n",
       "      <th>histogram_min</th>\n",
       "      <th>histogram_max</th>\n",
       "      <th>histogram_number_of_peaks</th>\n",
       "      <th>histogram_number_of_zeroes</th>\n",
       "      <th>histogram_mode</th>\n",
       "      <th>histogram_mean</th>\n",
       "      <th>histogram_median</th>\n",
       "      <th>histogram_variance</th>\n",
       "      <th>histogram_tendency</th>\n",
       "      <th>fetal_health</th>\n",
       "    </tr>\n",
       "  </thead>\n",
       "  <tbody>\n",
       "    <tr>\n",
       "      <th>0</th>\n",
       "      <td>132</td>\n",
       "      <td>0.006</td>\n",
       "      <td>0.000</td>\n",
       "      <td>0.006</td>\n",
       "      <td>0.003</td>\n",
       "      <td>0.0</td>\n",
       "      <td>0.0</td>\n",
       "      <td>17</td>\n",
       "      <td>2.1</td>\n",
       "      <td>0</td>\n",
       "      <td>...</td>\n",
       "      <td>68</td>\n",
       "      <td>198</td>\n",
       "      <td>6</td>\n",
       "      <td>1</td>\n",
       "      <td>141</td>\n",
       "      <td>136</td>\n",
       "      <td>140</td>\n",
       "      <td>12</td>\n",
       "      <td>0</td>\n",
       "      <td>1</td>\n",
       "    </tr>\n",
       "    <tr>\n",
       "      <th>1</th>\n",
       "      <td>133</td>\n",
       "      <td>0.003</td>\n",
       "      <td>0.000</td>\n",
       "      <td>0.008</td>\n",
       "      <td>0.003</td>\n",
       "      <td>0.0</td>\n",
       "      <td>0.0</td>\n",
       "      <td>16</td>\n",
       "      <td>2.1</td>\n",
       "      <td>0</td>\n",
       "      <td>...</td>\n",
       "      <td>68</td>\n",
       "      <td>198</td>\n",
       "      <td>5</td>\n",
       "      <td>1</td>\n",
       "      <td>141</td>\n",
       "      <td>135</td>\n",
       "      <td>138</td>\n",
       "      <td>13</td>\n",
       "      <td>0</td>\n",
       "      <td>1</td>\n",
       "    </tr>\n",
       "    <tr>\n",
       "      <th>2</th>\n",
       "      <td>134</td>\n",
       "      <td>0.003</td>\n",
       "      <td>0.000</td>\n",
       "      <td>0.008</td>\n",
       "      <td>0.003</td>\n",
       "      <td>0.0</td>\n",
       "      <td>0.0</td>\n",
       "      <td>16</td>\n",
       "      <td>2.4</td>\n",
       "      <td>0</td>\n",
       "      <td>...</td>\n",
       "      <td>53</td>\n",
       "      <td>170</td>\n",
       "      <td>11</td>\n",
       "      <td>0</td>\n",
       "      <td>137</td>\n",
       "      <td>134</td>\n",
       "      <td>137</td>\n",
       "      <td>13</td>\n",
       "      <td>1</td>\n",
       "      <td>1</td>\n",
       "    </tr>\n",
       "    <tr>\n",
       "      <th>3</th>\n",
       "      <td>132</td>\n",
       "      <td>0.007</td>\n",
       "      <td>0.000</td>\n",
       "      <td>0.008</td>\n",
       "      <td>0.000</td>\n",
       "      <td>0.0</td>\n",
       "      <td>0.0</td>\n",
       "      <td>16</td>\n",
       "      <td>2.4</td>\n",
       "      <td>0</td>\n",
       "      <td>...</td>\n",
       "      <td>53</td>\n",
       "      <td>170</td>\n",
       "      <td>9</td>\n",
       "      <td>0</td>\n",
       "      <td>137</td>\n",
       "      <td>136</td>\n",
       "      <td>138</td>\n",
       "      <td>11</td>\n",
       "      <td>1</td>\n",
       "      <td>1</td>\n",
       "    </tr>\n",
       "    <tr>\n",
       "      <th>4</th>\n",
       "      <td>131</td>\n",
       "      <td>0.005</td>\n",
       "      <td>0.072</td>\n",
       "      <td>0.008</td>\n",
       "      <td>0.003</td>\n",
       "      <td>0.0</td>\n",
       "      <td>0.0</td>\n",
       "      <td>28</td>\n",
       "      <td>1.4</td>\n",
       "      <td>0</td>\n",
       "      <td>...</td>\n",
       "      <td>88</td>\n",
       "      <td>154</td>\n",
       "      <td>5</td>\n",
       "      <td>0</td>\n",
       "      <td>135</td>\n",
       "      <td>134</td>\n",
       "      <td>137</td>\n",
       "      <td>7</td>\n",
       "      <td>1</td>\n",
       "      <td>1</td>\n",
       "    </tr>\n",
       "    <tr>\n",
       "      <th>...</th>\n",
       "      <td>...</td>\n",
       "      <td>...</td>\n",
       "      <td>...</td>\n",
       "      <td>...</td>\n",
       "      <td>...</td>\n",
       "      <td>...</td>\n",
       "      <td>...</td>\n",
       "      <td>...</td>\n",
       "      <td>...</td>\n",
       "      <td>...</td>\n",
       "      <td>...</td>\n",
       "      <td>...</td>\n",
       "      <td>...</td>\n",
       "      <td>...</td>\n",
       "      <td>...</td>\n",
       "      <td>...</td>\n",
       "      <td>...</td>\n",
       "      <td>...</td>\n",
       "      <td>...</td>\n",
       "      <td>...</td>\n",
       "      <td>...</td>\n",
       "    </tr>\n",
       "    <tr>\n",
       "      <th>1445</th>\n",
       "      <td>150</td>\n",
       "      <td>0.000</td>\n",
       "      <td>0.000</td>\n",
       "      <td>0.001</td>\n",
       "      <td>0.000</td>\n",
       "      <td>0.0</td>\n",
       "      <td>0.0</td>\n",
       "      <td>81</td>\n",
       "      <td>0.4</td>\n",
       "      <td>17</td>\n",
       "      <td>...</td>\n",
       "      <td>130</td>\n",
       "      <td>174</td>\n",
       "      <td>2</td>\n",
       "      <td>0</td>\n",
       "      <td>152</td>\n",
       "      <td>150</td>\n",
       "      <td>151</td>\n",
       "      <td>1</td>\n",
       "      <td>0</td>\n",
       "      <td>3</td>\n",
       "    </tr>\n",
       "    <tr>\n",
       "      <th>1446</th>\n",
       "      <td>150</td>\n",
       "      <td>0.000</td>\n",
       "      <td>0.003</td>\n",
       "      <td>0.000</td>\n",
       "      <td>0.000</td>\n",
       "      <td>0.0</td>\n",
       "      <td>0.0</td>\n",
       "      <td>80</td>\n",
       "      <td>0.4</td>\n",
       "      <td>24</td>\n",
       "      <td>...</td>\n",
       "      <td>124</td>\n",
       "      <td>176</td>\n",
       "      <td>1</td>\n",
       "      <td>0</td>\n",
       "      <td>150</td>\n",
       "      <td>152</td>\n",
       "      <td>153</td>\n",
       "      <td>2</td>\n",
       "      <td>0</td>\n",
       "      <td>3</td>\n",
       "    </tr>\n",
       "    <tr>\n",
       "      <th>1447</th>\n",
       "      <td>150</td>\n",
       "      <td>0.000</td>\n",
       "      <td>0.001</td>\n",
       "      <td>0.000</td>\n",
       "      <td>0.000</td>\n",
       "      <td>0.0</td>\n",
       "      <td>0.0</td>\n",
       "      <td>84</td>\n",
       "      <td>0.3</td>\n",
       "      <td>32</td>\n",
       "      <td>...</td>\n",
       "      <td>136</td>\n",
       "      <td>156</td>\n",
       "      <td>0</td>\n",
       "      <td>0</td>\n",
       "      <td>150</td>\n",
       "      <td>150</td>\n",
       "      <td>151</td>\n",
       "      <td>1</td>\n",
       "      <td>1</td>\n",
       "      <td>3</td>\n",
       "    </tr>\n",
       "    <tr>\n",
       "      <th>1448</th>\n",
       "      <td>150</td>\n",
       "      <td>0.000</td>\n",
       "      <td>0.002</td>\n",
       "      <td>0.000</td>\n",
       "      <td>0.000</td>\n",
       "      <td>0.0</td>\n",
       "      <td>0.0</td>\n",
       "      <td>84</td>\n",
       "      <td>0.3</td>\n",
       "      <td>37</td>\n",
       "      <td>...</td>\n",
       "      <td>140</td>\n",
       "      <td>156</td>\n",
       "      <td>0</td>\n",
       "      <td>0</td>\n",
       "      <td>150</td>\n",
       "      <td>150</td>\n",
       "      <td>151</td>\n",
       "      <td>0</td>\n",
       "      <td>0</td>\n",
       "      <td>3</td>\n",
       "    </tr>\n",
       "    <tr>\n",
       "      <th>1449</th>\n",
       "      <td>148</td>\n",
       "      <td>0.000</td>\n",
       "      <td>0.002</td>\n",
       "      <td>0.005</td>\n",
       "      <td>0.000</td>\n",
       "      <td>0.0</td>\n",
       "      <td>0.0</td>\n",
       "      <td>82</td>\n",
       "      <td>0.4</td>\n",
       "      <td>5</td>\n",
       "      <td>...</td>\n",
       "      <td>142</td>\n",
       "      <td>160</td>\n",
       "      <td>0</td>\n",
       "      <td>0</td>\n",
       "      <td>150</td>\n",
       "      <td>151</td>\n",
       "      <td>151</td>\n",
       "      <td>0</td>\n",
       "      <td>0</td>\n",
       "      <td>3</td>\n",
       "    </tr>\n",
       "  </tbody>\n",
       "</table>\n",
       "<p>1450 rows × 22 columns</p>\n",
       "</div>"
      ],
      "text/plain": [
       "      baseline value  accelerations  fetal_movement  uterine_contractions  \\\n",
       "0                132          0.006           0.000                 0.006   \n",
       "1                133          0.003           0.000                 0.008   \n",
       "2                134          0.003           0.000                 0.008   \n",
       "3                132          0.007           0.000                 0.008   \n",
       "4                131          0.005           0.072                 0.008   \n",
       "...              ...            ...             ...                   ...   \n",
       "1445             150          0.000           0.000                 0.001   \n",
       "1446             150          0.000           0.003                 0.000   \n",
       "1447             150          0.000           0.001                 0.000   \n",
       "1448             150          0.000           0.002                 0.000   \n",
       "1449             148          0.000           0.002                 0.005   \n",
       "\n",
       "      light_decelerations  severe_decelerations  prolongued_decelerations  \\\n",
       "0                   0.003                   0.0                       0.0   \n",
       "1                   0.003                   0.0                       0.0   \n",
       "2                   0.003                   0.0                       0.0   \n",
       "3                   0.000                   0.0                       0.0   \n",
       "4                   0.003                   0.0                       0.0   \n",
       "...                   ...                   ...                       ...   \n",
       "1445                0.000                   0.0                       0.0   \n",
       "1446                0.000                   0.0                       0.0   \n",
       "1447                0.000                   0.0                       0.0   \n",
       "1448                0.000                   0.0                       0.0   \n",
       "1449                0.000                   0.0                       0.0   \n",
       "\n",
       "      abnormal_short_term_variability  mean_value_of_short_term_variability  \\\n",
       "0                                  17                                   2.1   \n",
       "1                                  16                                   2.1   \n",
       "2                                  16                                   2.4   \n",
       "3                                  16                                   2.4   \n",
       "4                                  28                                   1.4   \n",
       "...                               ...                                   ...   \n",
       "1445                               81                                   0.4   \n",
       "1446                               80                                   0.4   \n",
       "1447                               84                                   0.3   \n",
       "1448                               84                                   0.3   \n",
       "1449                               82                                   0.4   \n",
       "\n",
       "      percentage_of_time_with_abnormal_long_term_variability  ...  \\\n",
       "0                                                     0       ...   \n",
       "1                                                     0       ...   \n",
       "2                                                     0       ...   \n",
       "3                                                     0       ...   \n",
       "4                                                     0       ...   \n",
       "...                                                 ...       ...   \n",
       "1445                                                 17       ...   \n",
       "1446                                                 24       ...   \n",
       "1447                                                 32       ...   \n",
       "1448                                                 37       ...   \n",
       "1449                                                  5       ...   \n",
       "\n",
       "      histogram_min  histogram_max  histogram_number_of_peaks  \\\n",
       "0                68            198                          6   \n",
       "1                68            198                          5   \n",
       "2                53            170                         11   \n",
       "3                53            170                          9   \n",
       "4                88            154                          5   \n",
       "...             ...            ...                        ...   \n",
       "1445            130            174                          2   \n",
       "1446            124            176                          1   \n",
       "1447            136            156                          0   \n",
       "1448            140            156                          0   \n",
       "1449            142            160                          0   \n",
       "\n",
       "      histogram_number_of_zeroes  histogram_mode  histogram_mean  \\\n",
       "0                              1             141             136   \n",
       "1                              1             141             135   \n",
       "2                              0             137             134   \n",
       "3                              0             137             136   \n",
       "4                              0             135             134   \n",
       "...                          ...             ...             ...   \n",
       "1445                           0             152             150   \n",
       "1446                           0             150             152   \n",
       "1447                           0             150             150   \n",
       "1448                           0             150             150   \n",
       "1449                           0             150             151   \n",
       "\n",
       "      histogram_median  histogram_variance  histogram_tendency  fetal_health  \n",
       "0                  140                  12                   0             1  \n",
       "1                  138                  13                   0             1  \n",
       "2                  137                  13                   1             1  \n",
       "3                  138                  11                   1             1  \n",
       "4                  137                   7                   1             1  \n",
       "...                ...                 ...                 ...           ...  \n",
       "1445               151                   1                   0             3  \n",
       "1446               153                   2                   0             3  \n",
       "1447               151                   1                   1             3  \n",
       "1448               151                   0                   0             3  \n",
       "1449               151                   0                   0             3  \n",
       "\n",
       "[1450 rows x 22 columns]"
      ]
     },
     "execution_count": 4,
     "metadata": {},
     "output_type": "execute_result"
    }
   ],
   "source": [
    "#display first 5 records \n",
    "df"
   ]
  },
  {
   "cell_type": "code",
   "execution_count": 5,
   "metadata": {},
   "outputs": [
    {
     "data": {
      "text/plain": [
       "array([1, 2, 3], dtype=int64)"
      ]
     },
     "execution_count": 5,
     "metadata": {},
     "output_type": "execute_result"
    }
   ],
   "source": [
    "df['fetal_health'].unique()"
   ]
  },
  {
   "cell_type": "code",
   "execution_count": 6,
   "metadata": {},
   "outputs": [
    {
     "data": {
      "text/html": [
       "<div>\n",
       "<style scoped>\n",
       "    .dataframe tbody tr th:only-of-type {\n",
       "        vertical-align: middle;\n",
       "    }\n",
       "\n",
       "    .dataframe tbody tr th {\n",
       "        vertical-align: top;\n",
       "    }\n",
       "\n",
       "    .dataframe thead th {\n",
       "        text-align: right;\n",
       "    }\n",
       "</style>\n",
       "<table border=\"1\" class=\"dataframe\">\n",
       "  <thead>\n",
       "    <tr style=\"text-align: right;\">\n",
       "      <th></th>\n",
       "      <th>baseline value</th>\n",
       "      <th>accelerations</th>\n",
       "      <th>fetal_movement</th>\n",
       "      <th>uterine_contractions</th>\n",
       "      <th>light_decelerations</th>\n",
       "      <th>severe_decelerations</th>\n",
       "      <th>prolongued_decelerations</th>\n",
       "      <th>abnormal_short_term_variability</th>\n",
       "      <th>mean_value_of_short_term_variability</th>\n",
       "      <th>percentage_of_time_with_abnormal_long_term_variability</th>\n",
       "      <th>...</th>\n",
       "      <th>histogram_min</th>\n",
       "      <th>histogram_max</th>\n",
       "      <th>histogram_number_of_peaks</th>\n",
       "      <th>histogram_number_of_zeroes</th>\n",
       "      <th>histogram_mode</th>\n",
       "      <th>histogram_mean</th>\n",
       "      <th>histogram_median</th>\n",
       "      <th>histogram_variance</th>\n",
       "      <th>histogram_tendency</th>\n",
       "      <th>fetal_health</th>\n",
       "    </tr>\n",
       "  </thead>\n",
       "  <tbody>\n",
       "    <tr>\n",
       "      <th>0</th>\n",
       "      <td>132</td>\n",
       "      <td>0.000</td>\n",
       "      <td>0.000</td>\n",
       "      <td>0.003</td>\n",
       "      <td>0.003</td>\n",
       "      <td>0.0</td>\n",
       "      <td>0.000</td>\n",
       "      <td>34</td>\n",
       "      <td>1.0</td>\n",
       "      <td>7</td>\n",
       "      <td>...</td>\n",
       "      <td>83</td>\n",
       "      <td>149</td>\n",
       "      <td>7</td>\n",
       "      <td>1</td>\n",
       "      <td>136</td>\n",
       "      <td>133</td>\n",
       "      <td>137</td>\n",
       "      <td>7</td>\n",
       "      <td>1</td>\n",
       "      <td>1</td>\n",
       "    </tr>\n",
       "    <tr>\n",
       "      <th>1</th>\n",
       "      <td>132</td>\n",
       "      <td>0.000</td>\n",
       "      <td>0.000</td>\n",
       "      <td>0.004</td>\n",
       "      <td>0.007</td>\n",
       "      <td>0.0</td>\n",
       "      <td>0.000</td>\n",
       "      <td>35</td>\n",
       "      <td>1.2</td>\n",
       "      <td>10</td>\n",
       "      <td>...</td>\n",
       "      <td>71</td>\n",
       "      <td>143</td>\n",
       "      <td>7</td>\n",
       "      <td>1</td>\n",
       "      <td>136</td>\n",
       "      <td>131</td>\n",
       "      <td>136</td>\n",
       "      <td>11</td>\n",
       "      <td>1</td>\n",
       "      <td>1</td>\n",
       "    </tr>\n",
       "    <tr>\n",
       "      <th>2</th>\n",
       "      <td>132</td>\n",
       "      <td>0.001</td>\n",
       "      <td>0.000</td>\n",
       "      <td>0.004</td>\n",
       "      <td>0.004</td>\n",
       "      <td>0.0</td>\n",
       "      <td>0.000</td>\n",
       "      <td>28</td>\n",
       "      <td>1.6</td>\n",
       "      <td>4</td>\n",
       "      <td>...</td>\n",
       "      <td>56</td>\n",
       "      <td>153</td>\n",
       "      <td>9</td>\n",
       "      <td>3</td>\n",
       "      <td>136</td>\n",
       "      <td>130</td>\n",
       "      <td>135</td>\n",
       "      <td>25</td>\n",
       "      <td>1</td>\n",
       "      <td>1</td>\n",
       "    </tr>\n",
       "    <tr>\n",
       "      <th>3</th>\n",
       "      <td>132</td>\n",
       "      <td>0.000</td>\n",
       "      <td>0.000</td>\n",
       "      <td>0.003</td>\n",
       "      <td>0.000</td>\n",
       "      <td>0.0</td>\n",
       "      <td>0.000</td>\n",
       "      <td>30</td>\n",
       "      <td>1.1</td>\n",
       "      <td>0</td>\n",
       "      <td>...</td>\n",
       "      <td>97</td>\n",
       "      <td>149</td>\n",
       "      <td>4</td>\n",
       "      <td>1</td>\n",
       "      <td>133</td>\n",
       "      <td>133</td>\n",
       "      <td>135</td>\n",
       "      <td>3</td>\n",
       "      <td>1</td>\n",
       "      <td>1</td>\n",
       "    </tr>\n",
       "    <tr>\n",
       "      <th>4</th>\n",
       "      <td>132</td>\n",
       "      <td>0.001</td>\n",
       "      <td>0.000</td>\n",
       "      <td>0.005</td>\n",
       "      <td>0.004</td>\n",
       "      <td>0.0</td>\n",
       "      <td>0.000</td>\n",
       "      <td>25</td>\n",
       "      <td>1.9</td>\n",
       "      <td>0</td>\n",
       "      <td>...</td>\n",
       "      <td>54</td>\n",
       "      <td>153</td>\n",
       "      <td>6</td>\n",
       "      <td>0</td>\n",
       "      <td>133</td>\n",
       "      <td>127</td>\n",
       "      <td>133</td>\n",
       "      <td>34</td>\n",
       "      <td>1</td>\n",
       "      <td>1</td>\n",
       "    </tr>\n",
       "    <tr>\n",
       "      <th>...</th>\n",
       "      <td>...</td>\n",
       "      <td>...</td>\n",
       "      <td>...</td>\n",
       "      <td>...</td>\n",
       "      <td>...</td>\n",
       "      <td>...</td>\n",
       "      <td>...</td>\n",
       "      <td>...</td>\n",
       "      <td>...</td>\n",
       "      <td>...</td>\n",
       "      <td>...</td>\n",
       "      <td>...</td>\n",
       "      <td>...</td>\n",
       "      <td>...</td>\n",
       "      <td>...</td>\n",
       "      <td>...</td>\n",
       "      <td>...</td>\n",
       "      <td>...</td>\n",
       "      <td>...</td>\n",
       "      <td>...</td>\n",
       "      <td>...</td>\n",
       "    </tr>\n",
       "    <tr>\n",
       "      <th>671</th>\n",
       "      <td>128</td>\n",
       "      <td>0.000</td>\n",
       "      <td>0.002</td>\n",
       "      <td>0.007</td>\n",
       "      <td>0.005</td>\n",
       "      <td>0.0</td>\n",
       "      <td>0.002</td>\n",
       "      <td>65</td>\n",
       "      <td>2.6</td>\n",
       "      <td>0</td>\n",
       "      <td>...</td>\n",
       "      <td>63</td>\n",
       "      <td>192</td>\n",
       "      <td>6</td>\n",
       "      <td>0</td>\n",
       "      <td>103</td>\n",
       "      <td>92</td>\n",
       "      <td>114</td>\n",
       "      <td>28</td>\n",
       "      <td>0</td>\n",
       "      <td>3</td>\n",
       "    </tr>\n",
       "    <tr>\n",
       "      <th>672</th>\n",
       "      <td>128</td>\n",
       "      <td>0.000</td>\n",
       "      <td>0.002</td>\n",
       "      <td>0.007</td>\n",
       "      <td>0.005</td>\n",
       "      <td>0.0</td>\n",
       "      <td>0.002</td>\n",
       "      <td>66</td>\n",
       "      <td>2.7</td>\n",
       "      <td>0</td>\n",
       "      <td>...</td>\n",
       "      <td>63</td>\n",
       "      <td>192</td>\n",
       "      <td>4</td>\n",
       "      <td>0</td>\n",
       "      <td>105</td>\n",
       "      <td>89</td>\n",
       "      <td>112</td>\n",
       "      <td>21</td>\n",
       "      <td>0</td>\n",
       "      <td>3</td>\n",
       "    </tr>\n",
       "    <tr>\n",
       "      <th>673</th>\n",
       "      <td>128</td>\n",
       "      <td>0.000</td>\n",
       "      <td>0.002</td>\n",
       "      <td>0.007</td>\n",
       "      <td>0.006</td>\n",
       "      <td>0.0</td>\n",
       "      <td>0.002</td>\n",
       "      <td>65</td>\n",
       "      <td>2.5</td>\n",
       "      <td>0</td>\n",
       "      <td>...</td>\n",
       "      <td>63</td>\n",
       "      <td>192</td>\n",
       "      <td>6</td>\n",
       "      <td>0</td>\n",
       "      <td>104</td>\n",
       "      <td>94</td>\n",
       "      <td>115</td>\n",
       "      <td>28</td>\n",
       "      <td>0</td>\n",
       "      <td>3</td>\n",
       "    </tr>\n",
       "    <tr>\n",
       "      <th>674</th>\n",
       "      <td>128</td>\n",
       "      <td>0.000</td>\n",
       "      <td>0.003</td>\n",
       "      <td>0.007</td>\n",
       "      <td>0.006</td>\n",
       "      <td>0.0</td>\n",
       "      <td>0.002</td>\n",
       "      <td>65</td>\n",
       "      <td>2.5</td>\n",
       "      <td>0</td>\n",
       "      <td>...</td>\n",
       "      <td>63</td>\n",
       "      <td>192</td>\n",
       "      <td>5</td>\n",
       "      <td>0</td>\n",
       "      <td>114</td>\n",
       "      <td>97</td>\n",
       "      <td>116</td>\n",
       "      <td>25</td>\n",
       "      <td>0</td>\n",
       "      <td>3</td>\n",
       "    </tr>\n",
       "    <tr>\n",
       "      <th>675</th>\n",
       "      <td>128</td>\n",
       "      <td>0.000</td>\n",
       "      <td>0.000</td>\n",
       "      <td>0.008</td>\n",
       "      <td>0.010</td>\n",
       "      <td>0.0</td>\n",
       "      <td>0.000</td>\n",
       "      <td>63</td>\n",
       "      <td>4.2</td>\n",
       "      <td>0</td>\n",
       "      <td>...</td>\n",
       "      <td>66</td>\n",
       "      <td>156</td>\n",
       "      <td>5</td>\n",
       "      <td>0</td>\n",
       "      <td>69</td>\n",
       "      <td>73</td>\n",
       "      <td>118</td>\n",
       "      <td>128</td>\n",
       "      <td>0</td>\n",
       "      <td>3</td>\n",
       "    </tr>\n",
       "  </tbody>\n",
       "</table>\n",
       "<p>676 rows × 22 columns</p>\n",
       "</div>"
      ],
      "text/plain": [
       "     baseline value  accelerations  fetal_movement  uterine_contractions  \\\n",
       "0               132          0.000           0.000                 0.003   \n",
       "1               132          0.000           0.000                 0.004   \n",
       "2               132          0.001           0.000                 0.004   \n",
       "3               132          0.000           0.000                 0.003   \n",
       "4               132          0.001           0.000                 0.005   \n",
       "..              ...            ...             ...                   ...   \n",
       "671             128          0.000           0.002                 0.007   \n",
       "672             128          0.000           0.002                 0.007   \n",
       "673             128          0.000           0.002                 0.007   \n",
       "674             128          0.000           0.003                 0.007   \n",
       "675             128          0.000           0.000                 0.008   \n",
       "\n",
       "     light_decelerations  severe_decelerations  prolongued_decelerations  \\\n",
       "0                  0.003                   0.0                     0.000   \n",
       "1                  0.007                   0.0                     0.000   \n",
       "2                  0.004                   0.0                     0.000   \n",
       "3                  0.000                   0.0                     0.000   \n",
       "4                  0.004                   0.0                     0.000   \n",
       "..                   ...                   ...                       ...   \n",
       "671                0.005                   0.0                     0.002   \n",
       "672                0.005                   0.0                     0.002   \n",
       "673                0.006                   0.0                     0.002   \n",
       "674                0.006                   0.0                     0.002   \n",
       "675                0.010                   0.0                     0.000   \n",
       "\n",
       "     abnormal_short_term_variability  mean_value_of_short_term_variability  \\\n",
       "0                                 34                                   1.0   \n",
       "1                                 35                                   1.2   \n",
       "2                                 28                                   1.6   \n",
       "3                                 30                                   1.1   \n",
       "4                                 25                                   1.9   \n",
       "..                               ...                                   ...   \n",
       "671                               65                                   2.6   \n",
       "672                               66                                   2.7   \n",
       "673                               65                                   2.5   \n",
       "674                               65                                   2.5   \n",
       "675                               63                                   4.2   \n",
       "\n",
       "     percentage_of_time_with_abnormal_long_term_variability  ...  \\\n",
       "0                                                    7       ...   \n",
       "1                                                   10       ...   \n",
       "2                                                    4       ...   \n",
       "3                                                    0       ...   \n",
       "4                                                    0       ...   \n",
       "..                                                 ...       ...   \n",
       "671                                                  0       ...   \n",
       "672                                                  0       ...   \n",
       "673                                                  0       ...   \n",
       "674                                                  0       ...   \n",
       "675                                                  0       ...   \n",
       "\n",
       "     histogram_min  histogram_max  histogram_number_of_peaks  \\\n",
       "0               83            149                          7   \n",
       "1               71            143                          7   \n",
       "2               56            153                          9   \n",
       "3               97            149                          4   \n",
       "4               54            153                          6   \n",
       "..             ...            ...                        ...   \n",
       "671             63            192                          6   \n",
       "672             63            192                          4   \n",
       "673             63            192                          6   \n",
       "674             63            192                          5   \n",
       "675             66            156                          5   \n",
       "\n",
       "     histogram_number_of_zeroes  histogram_mode  histogram_mean  \\\n",
       "0                             1             136             133   \n",
       "1                             1             136             131   \n",
       "2                             3             136             130   \n",
       "3                             1             133             133   \n",
       "4                             0             133             127   \n",
       "..                          ...             ...             ...   \n",
       "671                           0             103              92   \n",
       "672                           0             105              89   \n",
       "673                           0             104              94   \n",
       "674                           0             114              97   \n",
       "675                           0              69              73   \n",
       "\n",
       "     histogram_median  histogram_variance  histogram_tendency  fetal_health  \n",
       "0                 137                   7                   1             1  \n",
       "1                 136                  11                   1             1  \n",
       "2                 135                  25                   1             1  \n",
       "3                 135                   3                   1             1  \n",
       "4                 133                  34                   1             1  \n",
       "..                ...                 ...                 ...           ...  \n",
       "671               114                  28                   0             3  \n",
       "672               112                  21                   0             3  \n",
       "673               115                  28                   0             3  \n",
       "674               116                  25                   0             3  \n",
       "675               118                 128                   0             3  \n",
       "\n",
       "[676 rows x 22 columns]"
      ]
     },
     "execution_count": 6,
     "metadata": {},
     "output_type": "execute_result"
    }
   ],
   "source": [
    "df_2"
   ]
  },
  {
   "cell_type": "code",
   "execution_count": 7,
   "metadata": {},
   "outputs": [
    {
     "data": {
      "text/html": [
       "<div>\n",
       "<style scoped>\n",
       "    .dataframe tbody tr th:only-of-type {\n",
       "        vertical-align: middle;\n",
       "    }\n",
       "\n",
       "    .dataframe tbody tr th {\n",
       "        vertical-align: top;\n",
       "    }\n",
       "\n",
       "    .dataframe thead th {\n",
       "        text-align: right;\n",
       "    }\n",
       "</style>\n",
       "<table border=\"1\" class=\"dataframe\">\n",
       "  <thead>\n",
       "    <tr style=\"text-align: right;\">\n",
       "      <th></th>\n",
       "      <th>baseline value</th>\n",
       "      <th>accelerations</th>\n",
       "      <th>fetal_movement</th>\n",
       "      <th>uterine_contractions</th>\n",
       "      <th>light_decelerations</th>\n",
       "      <th>severe_decelerations</th>\n",
       "      <th>prolongued_decelerations</th>\n",
       "      <th>abnormal_short_term_variability</th>\n",
       "      <th>mean_value_of_short_term_variability</th>\n",
       "      <th>percentage_of_time_with_abnormal_long_term_variability</th>\n",
       "      <th>...</th>\n",
       "      <th>histogram_min</th>\n",
       "      <th>histogram_max</th>\n",
       "      <th>histogram_number_of_peaks</th>\n",
       "      <th>histogram_number_of_zeroes</th>\n",
       "      <th>histogram_mode</th>\n",
       "      <th>histogram_mean</th>\n",
       "      <th>histogram_median</th>\n",
       "      <th>histogram_variance</th>\n",
       "      <th>histogram_tendency</th>\n",
       "      <th>fetal_health</th>\n",
       "    </tr>\n",
       "  </thead>\n",
       "  <tbody>\n",
       "    <tr>\n",
       "      <th>0</th>\n",
       "      <td>132</td>\n",
       "      <td>0.006</td>\n",
       "      <td>0.000</td>\n",
       "      <td>0.006</td>\n",
       "      <td>0.003</td>\n",
       "      <td>0.0</td>\n",
       "      <td>0.000</td>\n",
       "      <td>17</td>\n",
       "      <td>2.1</td>\n",
       "      <td>0</td>\n",
       "      <td>...</td>\n",
       "      <td>68</td>\n",
       "      <td>198</td>\n",
       "      <td>6</td>\n",
       "      <td>1</td>\n",
       "      <td>141</td>\n",
       "      <td>136</td>\n",
       "      <td>140</td>\n",
       "      <td>12</td>\n",
       "      <td>0</td>\n",
       "      <td>1</td>\n",
       "    </tr>\n",
       "    <tr>\n",
       "      <th>1</th>\n",
       "      <td>133</td>\n",
       "      <td>0.003</td>\n",
       "      <td>0.000</td>\n",
       "      <td>0.008</td>\n",
       "      <td>0.003</td>\n",
       "      <td>0.0</td>\n",
       "      <td>0.000</td>\n",
       "      <td>16</td>\n",
       "      <td>2.1</td>\n",
       "      <td>0</td>\n",
       "      <td>...</td>\n",
       "      <td>68</td>\n",
       "      <td>198</td>\n",
       "      <td>5</td>\n",
       "      <td>1</td>\n",
       "      <td>141</td>\n",
       "      <td>135</td>\n",
       "      <td>138</td>\n",
       "      <td>13</td>\n",
       "      <td>0</td>\n",
       "      <td>1</td>\n",
       "    </tr>\n",
       "    <tr>\n",
       "      <th>2</th>\n",
       "      <td>134</td>\n",
       "      <td>0.003</td>\n",
       "      <td>0.000</td>\n",
       "      <td>0.008</td>\n",
       "      <td>0.003</td>\n",
       "      <td>0.0</td>\n",
       "      <td>0.000</td>\n",
       "      <td>16</td>\n",
       "      <td>2.4</td>\n",
       "      <td>0</td>\n",
       "      <td>...</td>\n",
       "      <td>53</td>\n",
       "      <td>170</td>\n",
       "      <td>11</td>\n",
       "      <td>0</td>\n",
       "      <td>137</td>\n",
       "      <td>134</td>\n",
       "      <td>137</td>\n",
       "      <td>13</td>\n",
       "      <td>1</td>\n",
       "      <td>1</td>\n",
       "    </tr>\n",
       "    <tr>\n",
       "      <th>3</th>\n",
       "      <td>132</td>\n",
       "      <td>0.007</td>\n",
       "      <td>0.000</td>\n",
       "      <td>0.008</td>\n",
       "      <td>0.000</td>\n",
       "      <td>0.0</td>\n",
       "      <td>0.000</td>\n",
       "      <td>16</td>\n",
       "      <td>2.4</td>\n",
       "      <td>0</td>\n",
       "      <td>...</td>\n",
       "      <td>53</td>\n",
       "      <td>170</td>\n",
       "      <td>9</td>\n",
       "      <td>0</td>\n",
       "      <td>137</td>\n",
       "      <td>136</td>\n",
       "      <td>138</td>\n",
       "      <td>11</td>\n",
       "      <td>1</td>\n",
       "      <td>1</td>\n",
       "    </tr>\n",
       "    <tr>\n",
       "      <th>4</th>\n",
       "      <td>131</td>\n",
       "      <td>0.005</td>\n",
       "      <td>0.072</td>\n",
       "      <td>0.008</td>\n",
       "      <td>0.003</td>\n",
       "      <td>0.0</td>\n",
       "      <td>0.000</td>\n",
       "      <td>28</td>\n",
       "      <td>1.4</td>\n",
       "      <td>0</td>\n",
       "      <td>...</td>\n",
       "      <td>88</td>\n",
       "      <td>154</td>\n",
       "      <td>5</td>\n",
       "      <td>0</td>\n",
       "      <td>135</td>\n",
       "      <td>134</td>\n",
       "      <td>137</td>\n",
       "      <td>7</td>\n",
       "      <td>1</td>\n",
       "      <td>1</td>\n",
       "    </tr>\n",
       "    <tr>\n",
       "      <th>...</th>\n",
       "      <td>...</td>\n",
       "      <td>...</td>\n",
       "      <td>...</td>\n",
       "      <td>...</td>\n",
       "      <td>...</td>\n",
       "      <td>...</td>\n",
       "      <td>...</td>\n",
       "      <td>...</td>\n",
       "      <td>...</td>\n",
       "      <td>...</td>\n",
       "      <td>...</td>\n",
       "      <td>...</td>\n",
       "      <td>...</td>\n",
       "      <td>...</td>\n",
       "      <td>...</td>\n",
       "      <td>...</td>\n",
       "      <td>...</td>\n",
       "      <td>...</td>\n",
       "      <td>...</td>\n",
       "      <td>...</td>\n",
       "      <td>...</td>\n",
       "    </tr>\n",
       "    <tr>\n",
       "      <th>671</th>\n",
       "      <td>128</td>\n",
       "      <td>0.000</td>\n",
       "      <td>0.002</td>\n",
       "      <td>0.007</td>\n",
       "      <td>0.005</td>\n",
       "      <td>0.0</td>\n",
       "      <td>0.002</td>\n",
       "      <td>65</td>\n",
       "      <td>2.6</td>\n",
       "      <td>0</td>\n",
       "      <td>...</td>\n",
       "      <td>63</td>\n",
       "      <td>192</td>\n",
       "      <td>6</td>\n",
       "      <td>0</td>\n",
       "      <td>103</td>\n",
       "      <td>92</td>\n",
       "      <td>114</td>\n",
       "      <td>28</td>\n",
       "      <td>0</td>\n",
       "      <td>3</td>\n",
       "    </tr>\n",
       "    <tr>\n",
       "      <th>672</th>\n",
       "      <td>128</td>\n",
       "      <td>0.000</td>\n",
       "      <td>0.002</td>\n",
       "      <td>0.007</td>\n",
       "      <td>0.005</td>\n",
       "      <td>0.0</td>\n",
       "      <td>0.002</td>\n",
       "      <td>66</td>\n",
       "      <td>2.7</td>\n",
       "      <td>0</td>\n",
       "      <td>...</td>\n",
       "      <td>63</td>\n",
       "      <td>192</td>\n",
       "      <td>4</td>\n",
       "      <td>0</td>\n",
       "      <td>105</td>\n",
       "      <td>89</td>\n",
       "      <td>112</td>\n",
       "      <td>21</td>\n",
       "      <td>0</td>\n",
       "      <td>3</td>\n",
       "    </tr>\n",
       "    <tr>\n",
       "      <th>673</th>\n",
       "      <td>128</td>\n",
       "      <td>0.000</td>\n",
       "      <td>0.002</td>\n",
       "      <td>0.007</td>\n",
       "      <td>0.006</td>\n",
       "      <td>0.0</td>\n",
       "      <td>0.002</td>\n",
       "      <td>65</td>\n",
       "      <td>2.5</td>\n",
       "      <td>0</td>\n",
       "      <td>...</td>\n",
       "      <td>63</td>\n",
       "      <td>192</td>\n",
       "      <td>6</td>\n",
       "      <td>0</td>\n",
       "      <td>104</td>\n",
       "      <td>94</td>\n",
       "      <td>115</td>\n",
       "      <td>28</td>\n",
       "      <td>0</td>\n",
       "      <td>3</td>\n",
       "    </tr>\n",
       "    <tr>\n",
       "      <th>674</th>\n",
       "      <td>128</td>\n",
       "      <td>0.000</td>\n",
       "      <td>0.003</td>\n",
       "      <td>0.007</td>\n",
       "      <td>0.006</td>\n",
       "      <td>0.0</td>\n",
       "      <td>0.002</td>\n",
       "      <td>65</td>\n",
       "      <td>2.5</td>\n",
       "      <td>0</td>\n",
       "      <td>...</td>\n",
       "      <td>63</td>\n",
       "      <td>192</td>\n",
       "      <td>5</td>\n",
       "      <td>0</td>\n",
       "      <td>114</td>\n",
       "      <td>97</td>\n",
       "      <td>116</td>\n",
       "      <td>25</td>\n",
       "      <td>0</td>\n",
       "      <td>3</td>\n",
       "    </tr>\n",
       "    <tr>\n",
       "      <th>675</th>\n",
       "      <td>128</td>\n",
       "      <td>0.000</td>\n",
       "      <td>0.000</td>\n",
       "      <td>0.008</td>\n",
       "      <td>0.010</td>\n",
       "      <td>0.0</td>\n",
       "      <td>0.000</td>\n",
       "      <td>63</td>\n",
       "      <td>4.2</td>\n",
       "      <td>0</td>\n",
       "      <td>...</td>\n",
       "      <td>66</td>\n",
       "      <td>156</td>\n",
       "      <td>5</td>\n",
       "      <td>0</td>\n",
       "      <td>69</td>\n",
       "      <td>73</td>\n",
       "      <td>118</td>\n",
       "      <td>128</td>\n",
       "      <td>0</td>\n",
       "      <td>3</td>\n",
       "    </tr>\n",
       "  </tbody>\n",
       "</table>\n",
       "<p>2126 rows × 22 columns</p>\n",
       "</div>"
      ],
      "text/plain": [
       "     baseline value  accelerations  fetal_movement  uterine_contractions  \\\n",
       "0               132          0.006           0.000                 0.006   \n",
       "1               133          0.003           0.000                 0.008   \n",
       "2               134          0.003           0.000                 0.008   \n",
       "3               132          0.007           0.000                 0.008   \n",
       "4               131          0.005           0.072                 0.008   \n",
       "..              ...            ...             ...                   ...   \n",
       "671             128          0.000           0.002                 0.007   \n",
       "672             128          0.000           0.002                 0.007   \n",
       "673             128          0.000           0.002                 0.007   \n",
       "674             128          0.000           0.003                 0.007   \n",
       "675             128          0.000           0.000                 0.008   \n",
       "\n",
       "     light_decelerations  severe_decelerations  prolongued_decelerations  \\\n",
       "0                  0.003                   0.0                     0.000   \n",
       "1                  0.003                   0.0                     0.000   \n",
       "2                  0.003                   0.0                     0.000   \n",
       "3                  0.000                   0.0                     0.000   \n",
       "4                  0.003                   0.0                     0.000   \n",
       "..                   ...                   ...                       ...   \n",
       "671                0.005                   0.0                     0.002   \n",
       "672                0.005                   0.0                     0.002   \n",
       "673                0.006                   0.0                     0.002   \n",
       "674                0.006                   0.0                     0.002   \n",
       "675                0.010                   0.0                     0.000   \n",
       "\n",
       "     abnormal_short_term_variability  mean_value_of_short_term_variability  \\\n",
       "0                                 17                                   2.1   \n",
       "1                                 16                                   2.1   \n",
       "2                                 16                                   2.4   \n",
       "3                                 16                                   2.4   \n",
       "4                                 28                                   1.4   \n",
       "..                               ...                                   ...   \n",
       "671                               65                                   2.6   \n",
       "672                               66                                   2.7   \n",
       "673                               65                                   2.5   \n",
       "674                               65                                   2.5   \n",
       "675                               63                                   4.2   \n",
       "\n",
       "     percentage_of_time_with_abnormal_long_term_variability  ...  \\\n",
       "0                                                    0       ...   \n",
       "1                                                    0       ...   \n",
       "2                                                    0       ...   \n",
       "3                                                    0       ...   \n",
       "4                                                    0       ...   \n",
       "..                                                 ...       ...   \n",
       "671                                                  0       ...   \n",
       "672                                                  0       ...   \n",
       "673                                                  0       ...   \n",
       "674                                                  0       ...   \n",
       "675                                                  0       ...   \n",
       "\n",
       "     histogram_min  histogram_max  histogram_number_of_peaks  \\\n",
       "0               68            198                          6   \n",
       "1               68            198                          5   \n",
       "2               53            170                         11   \n",
       "3               53            170                          9   \n",
       "4               88            154                          5   \n",
       "..             ...            ...                        ...   \n",
       "671             63            192                          6   \n",
       "672             63            192                          4   \n",
       "673             63            192                          6   \n",
       "674             63            192                          5   \n",
       "675             66            156                          5   \n",
       "\n",
       "     histogram_number_of_zeroes  histogram_mode  histogram_mean  \\\n",
       "0                             1             141             136   \n",
       "1                             1             141             135   \n",
       "2                             0             137             134   \n",
       "3                             0             137             136   \n",
       "4                             0             135             134   \n",
       "..                          ...             ...             ...   \n",
       "671                           0             103              92   \n",
       "672                           0             105              89   \n",
       "673                           0             104              94   \n",
       "674                           0             114              97   \n",
       "675                           0              69              73   \n",
       "\n",
       "     histogram_median  histogram_variance  histogram_tendency  fetal_health  \n",
       "0                 140                  12                   0             1  \n",
       "1                 138                  13                   0             1  \n",
       "2                 137                  13                   1             1  \n",
       "3                 138                  11                   1             1  \n",
       "4                 137                   7                   1             1  \n",
       "..                ...                 ...                 ...           ...  \n",
       "671               114                  28                   0             3  \n",
       "672               112                  21                   0             3  \n",
       "673               115                  28                   0             3  \n",
       "674               116                  25                   0             3  \n",
       "675               118                 128                   0             3  \n",
       "\n",
       "[2126 rows x 22 columns]"
      ]
     },
     "execution_count": 7,
     "metadata": {},
     "output_type": "execute_result"
    }
   ],
   "source": [
    "df = df.append(df_2)\n",
    "df"
   ]
  },
  {
   "cell_type": "code",
   "execution_count": 8,
   "metadata": {},
   "outputs": [
    {
     "data": {
      "text/html": [
       "<div>\n",
       "<style scoped>\n",
       "    .dataframe tbody tr th:only-of-type {\n",
       "        vertical-align: middle;\n",
       "    }\n",
       "\n",
       "    .dataframe tbody tr th {\n",
       "        vertical-align: top;\n",
       "    }\n",
       "\n",
       "    .dataframe thead th {\n",
       "        text-align: right;\n",
       "    }\n",
       "</style>\n",
       "<table border=\"1\" class=\"dataframe\">\n",
       "  <thead>\n",
       "    <tr style=\"text-align: right;\">\n",
       "      <th></th>\n",
       "      <th>baseline value</th>\n",
       "      <th>accelerations</th>\n",
       "      <th>fetal_movement</th>\n",
       "      <th>uterine_contractions</th>\n",
       "      <th>light_decelerations</th>\n",
       "      <th>severe_decelerations</th>\n",
       "      <th>prolongued_decelerations</th>\n",
       "      <th>abnormal_short_term_variability</th>\n",
       "      <th>mean_value_of_short_term_variability</th>\n",
       "      <th>percentage_of_time_with_abnormal_long_term_variability</th>\n",
       "      <th>...</th>\n",
       "      <th>histogram_min</th>\n",
       "      <th>histogram_max</th>\n",
       "      <th>histogram_number_of_peaks</th>\n",
       "      <th>histogram_number_of_zeroes</th>\n",
       "      <th>histogram_mode</th>\n",
       "      <th>histogram_mean</th>\n",
       "      <th>histogram_median</th>\n",
       "      <th>histogram_variance</th>\n",
       "      <th>histogram_tendency</th>\n",
       "      <th>fetal_health</th>\n",
       "    </tr>\n",
       "  </thead>\n",
       "  <tbody>\n",
       "    <tr>\n",
       "      <th>0</th>\n",
       "      <td>132</td>\n",
       "      <td>0.006</td>\n",
       "      <td>0.000</td>\n",
       "      <td>0.006</td>\n",
       "      <td>0.003</td>\n",
       "      <td>0.0</td>\n",
       "      <td>0.000</td>\n",
       "      <td>17</td>\n",
       "      <td>2.1</td>\n",
       "      <td>0</td>\n",
       "      <td>...</td>\n",
       "      <td>68</td>\n",
       "      <td>198</td>\n",
       "      <td>6</td>\n",
       "      <td>1</td>\n",
       "      <td>141</td>\n",
       "      <td>136</td>\n",
       "      <td>140</td>\n",
       "      <td>12</td>\n",
       "      <td>0</td>\n",
       "      <td>1</td>\n",
       "    </tr>\n",
       "    <tr>\n",
       "      <th>1</th>\n",
       "      <td>133</td>\n",
       "      <td>0.003</td>\n",
       "      <td>0.000</td>\n",
       "      <td>0.008</td>\n",
       "      <td>0.003</td>\n",
       "      <td>0.0</td>\n",
       "      <td>0.000</td>\n",
       "      <td>16</td>\n",
       "      <td>2.1</td>\n",
       "      <td>0</td>\n",
       "      <td>...</td>\n",
       "      <td>68</td>\n",
       "      <td>198</td>\n",
       "      <td>5</td>\n",
       "      <td>1</td>\n",
       "      <td>141</td>\n",
       "      <td>135</td>\n",
       "      <td>138</td>\n",
       "      <td>13</td>\n",
       "      <td>0</td>\n",
       "      <td>1</td>\n",
       "    </tr>\n",
       "    <tr>\n",
       "      <th>2</th>\n",
       "      <td>134</td>\n",
       "      <td>0.003</td>\n",
       "      <td>0.000</td>\n",
       "      <td>0.008</td>\n",
       "      <td>0.003</td>\n",
       "      <td>0.0</td>\n",
       "      <td>0.000</td>\n",
       "      <td>16</td>\n",
       "      <td>2.4</td>\n",
       "      <td>0</td>\n",
       "      <td>...</td>\n",
       "      <td>53</td>\n",
       "      <td>170</td>\n",
       "      <td>11</td>\n",
       "      <td>0</td>\n",
       "      <td>137</td>\n",
       "      <td>134</td>\n",
       "      <td>137</td>\n",
       "      <td>13</td>\n",
       "      <td>1</td>\n",
       "      <td>1</td>\n",
       "    </tr>\n",
       "    <tr>\n",
       "      <th>3</th>\n",
       "      <td>132</td>\n",
       "      <td>0.007</td>\n",
       "      <td>0.000</td>\n",
       "      <td>0.008</td>\n",
       "      <td>0.000</td>\n",
       "      <td>0.0</td>\n",
       "      <td>0.000</td>\n",
       "      <td>16</td>\n",
       "      <td>2.4</td>\n",
       "      <td>0</td>\n",
       "      <td>...</td>\n",
       "      <td>53</td>\n",
       "      <td>170</td>\n",
       "      <td>9</td>\n",
       "      <td>0</td>\n",
       "      <td>137</td>\n",
       "      <td>136</td>\n",
       "      <td>138</td>\n",
       "      <td>11</td>\n",
       "      <td>1</td>\n",
       "      <td>1</td>\n",
       "    </tr>\n",
       "    <tr>\n",
       "      <th>4</th>\n",
       "      <td>131</td>\n",
       "      <td>0.005</td>\n",
       "      <td>0.072</td>\n",
       "      <td>0.008</td>\n",
       "      <td>0.003</td>\n",
       "      <td>0.0</td>\n",
       "      <td>0.000</td>\n",
       "      <td>28</td>\n",
       "      <td>1.4</td>\n",
       "      <td>0</td>\n",
       "      <td>...</td>\n",
       "      <td>88</td>\n",
       "      <td>154</td>\n",
       "      <td>5</td>\n",
       "      <td>0</td>\n",
       "      <td>135</td>\n",
       "      <td>134</td>\n",
       "      <td>137</td>\n",
       "      <td>7</td>\n",
       "      <td>1</td>\n",
       "      <td>1</td>\n",
       "    </tr>\n",
       "    <tr>\n",
       "      <th>...</th>\n",
       "      <td>...</td>\n",
       "      <td>...</td>\n",
       "      <td>...</td>\n",
       "      <td>...</td>\n",
       "      <td>...</td>\n",
       "      <td>...</td>\n",
       "      <td>...</td>\n",
       "      <td>...</td>\n",
       "      <td>...</td>\n",
       "      <td>...</td>\n",
       "      <td>...</td>\n",
       "      <td>...</td>\n",
       "      <td>...</td>\n",
       "      <td>...</td>\n",
       "      <td>...</td>\n",
       "      <td>...</td>\n",
       "      <td>...</td>\n",
       "      <td>...</td>\n",
       "      <td>...</td>\n",
       "      <td>...</td>\n",
       "      <td>...</td>\n",
       "    </tr>\n",
       "    <tr>\n",
       "      <th>2121</th>\n",
       "      <td>128</td>\n",
       "      <td>0.000</td>\n",
       "      <td>0.002</td>\n",
       "      <td>0.007</td>\n",
       "      <td>0.005</td>\n",
       "      <td>0.0</td>\n",
       "      <td>0.002</td>\n",
       "      <td>65</td>\n",
       "      <td>2.6</td>\n",
       "      <td>0</td>\n",
       "      <td>...</td>\n",
       "      <td>63</td>\n",
       "      <td>192</td>\n",
       "      <td>6</td>\n",
       "      <td>0</td>\n",
       "      <td>103</td>\n",
       "      <td>92</td>\n",
       "      <td>114</td>\n",
       "      <td>28</td>\n",
       "      <td>0</td>\n",
       "      <td>3</td>\n",
       "    </tr>\n",
       "    <tr>\n",
       "      <th>2122</th>\n",
       "      <td>128</td>\n",
       "      <td>0.000</td>\n",
       "      <td>0.002</td>\n",
       "      <td>0.007</td>\n",
       "      <td>0.005</td>\n",
       "      <td>0.0</td>\n",
       "      <td>0.002</td>\n",
       "      <td>66</td>\n",
       "      <td>2.7</td>\n",
       "      <td>0</td>\n",
       "      <td>...</td>\n",
       "      <td>63</td>\n",
       "      <td>192</td>\n",
       "      <td>4</td>\n",
       "      <td>0</td>\n",
       "      <td>105</td>\n",
       "      <td>89</td>\n",
       "      <td>112</td>\n",
       "      <td>21</td>\n",
       "      <td>0</td>\n",
       "      <td>3</td>\n",
       "    </tr>\n",
       "    <tr>\n",
       "      <th>2123</th>\n",
       "      <td>128</td>\n",
       "      <td>0.000</td>\n",
       "      <td>0.002</td>\n",
       "      <td>0.007</td>\n",
       "      <td>0.006</td>\n",
       "      <td>0.0</td>\n",
       "      <td>0.002</td>\n",
       "      <td>65</td>\n",
       "      <td>2.5</td>\n",
       "      <td>0</td>\n",
       "      <td>...</td>\n",
       "      <td>63</td>\n",
       "      <td>192</td>\n",
       "      <td>6</td>\n",
       "      <td>0</td>\n",
       "      <td>104</td>\n",
       "      <td>94</td>\n",
       "      <td>115</td>\n",
       "      <td>28</td>\n",
       "      <td>0</td>\n",
       "      <td>3</td>\n",
       "    </tr>\n",
       "    <tr>\n",
       "      <th>2124</th>\n",
       "      <td>128</td>\n",
       "      <td>0.000</td>\n",
       "      <td>0.003</td>\n",
       "      <td>0.007</td>\n",
       "      <td>0.006</td>\n",
       "      <td>0.0</td>\n",
       "      <td>0.002</td>\n",
       "      <td>65</td>\n",
       "      <td>2.5</td>\n",
       "      <td>0</td>\n",
       "      <td>...</td>\n",
       "      <td>63</td>\n",
       "      <td>192</td>\n",
       "      <td>5</td>\n",
       "      <td>0</td>\n",
       "      <td>114</td>\n",
       "      <td>97</td>\n",
       "      <td>116</td>\n",
       "      <td>25</td>\n",
       "      <td>0</td>\n",
       "      <td>3</td>\n",
       "    </tr>\n",
       "    <tr>\n",
       "      <th>2125</th>\n",
       "      <td>128</td>\n",
       "      <td>0.000</td>\n",
       "      <td>0.000</td>\n",
       "      <td>0.008</td>\n",
       "      <td>0.010</td>\n",
       "      <td>0.0</td>\n",
       "      <td>0.000</td>\n",
       "      <td>63</td>\n",
       "      <td>4.2</td>\n",
       "      <td>0</td>\n",
       "      <td>...</td>\n",
       "      <td>66</td>\n",
       "      <td>156</td>\n",
       "      <td>5</td>\n",
       "      <td>0</td>\n",
       "      <td>69</td>\n",
       "      <td>73</td>\n",
       "      <td>118</td>\n",
       "      <td>128</td>\n",
       "      <td>0</td>\n",
       "      <td>3</td>\n",
       "    </tr>\n",
       "  </tbody>\n",
       "</table>\n",
       "<p>2126 rows × 22 columns</p>\n",
       "</div>"
      ],
      "text/plain": [
       "      baseline value  accelerations  fetal_movement  uterine_contractions  \\\n",
       "0                132          0.006           0.000                 0.006   \n",
       "1                133          0.003           0.000                 0.008   \n",
       "2                134          0.003           0.000                 0.008   \n",
       "3                132          0.007           0.000                 0.008   \n",
       "4                131          0.005           0.072                 0.008   \n",
       "...              ...            ...             ...                   ...   \n",
       "2121             128          0.000           0.002                 0.007   \n",
       "2122             128          0.000           0.002                 0.007   \n",
       "2123             128          0.000           0.002                 0.007   \n",
       "2124             128          0.000           0.003                 0.007   \n",
       "2125             128          0.000           0.000                 0.008   \n",
       "\n",
       "      light_decelerations  severe_decelerations  prolongued_decelerations  \\\n",
       "0                   0.003                   0.0                     0.000   \n",
       "1                   0.003                   0.0                     0.000   \n",
       "2                   0.003                   0.0                     0.000   \n",
       "3                   0.000                   0.0                     0.000   \n",
       "4                   0.003                   0.0                     0.000   \n",
       "...                   ...                   ...                       ...   \n",
       "2121                0.005                   0.0                     0.002   \n",
       "2122                0.005                   0.0                     0.002   \n",
       "2123                0.006                   0.0                     0.002   \n",
       "2124                0.006                   0.0                     0.002   \n",
       "2125                0.010                   0.0                     0.000   \n",
       "\n",
       "      abnormal_short_term_variability  mean_value_of_short_term_variability  \\\n",
       "0                                  17                                   2.1   \n",
       "1                                  16                                   2.1   \n",
       "2                                  16                                   2.4   \n",
       "3                                  16                                   2.4   \n",
       "4                                  28                                   1.4   \n",
       "...                               ...                                   ...   \n",
       "2121                               65                                   2.6   \n",
       "2122                               66                                   2.7   \n",
       "2123                               65                                   2.5   \n",
       "2124                               65                                   2.5   \n",
       "2125                               63                                   4.2   \n",
       "\n",
       "      percentage_of_time_with_abnormal_long_term_variability  ...  \\\n",
       "0                                                     0       ...   \n",
       "1                                                     0       ...   \n",
       "2                                                     0       ...   \n",
       "3                                                     0       ...   \n",
       "4                                                     0       ...   \n",
       "...                                                 ...       ...   \n",
       "2121                                                  0       ...   \n",
       "2122                                                  0       ...   \n",
       "2123                                                  0       ...   \n",
       "2124                                                  0       ...   \n",
       "2125                                                  0       ...   \n",
       "\n",
       "      histogram_min  histogram_max  histogram_number_of_peaks  \\\n",
       "0                68            198                          6   \n",
       "1                68            198                          5   \n",
       "2                53            170                         11   \n",
       "3                53            170                          9   \n",
       "4                88            154                          5   \n",
       "...             ...            ...                        ...   \n",
       "2121             63            192                          6   \n",
       "2122             63            192                          4   \n",
       "2123             63            192                          6   \n",
       "2124             63            192                          5   \n",
       "2125             66            156                          5   \n",
       "\n",
       "      histogram_number_of_zeroes  histogram_mode  histogram_mean  \\\n",
       "0                              1             141             136   \n",
       "1                              1             141             135   \n",
       "2                              0             137             134   \n",
       "3                              0             137             136   \n",
       "4                              0             135             134   \n",
       "...                          ...             ...             ...   \n",
       "2121                           0             103              92   \n",
       "2122                           0             105              89   \n",
       "2123                           0             104              94   \n",
       "2124                           0             114              97   \n",
       "2125                           0              69              73   \n",
       "\n",
       "      histogram_median  histogram_variance  histogram_tendency  fetal_health  \n",
       "0                  140                  12                   0             1  \n",
       "1                  138                  13                   0             1  \n",
       "2                  137                  13                   1             1  \n",
       "3                  138                  11                   1             1  \n",
       "4                  137                   7                   1             1  \n",
       "...                ...                 ...                 ...           ...  \n",
       "2121               114                  28                   0             3  \n",
       "2122               112                  21                   0             3  \n",
       "2123               115                  28                   0             3  \n",
       "2124               116                  25                   0             3  \n",
       "2125               118                 128                   0             3  \n",
       "\n",
       "[2126 rows x 22 columns]"
      ]
     },
     "execution_count": 8,
     "metadata": {},
     "output_type": "execute_result"
    }
   ],
   "source": [
    "df.reset_index(drop = True, inplace = True)\n",
    "df"
   ]
  },
  {
   "cell_type": "code",
   "execution_count": 9,
   "metadata": {},
   "outputs": [
    {
     "data": {
      "text/plain": [
       "(2126, 22)"
      ]
     },
     "execution_count": 9,
     "metadata": {},
     "output_type": "execute_result"
    }
   ],
   "source": [
    "df.shape"
   ]
  },
  {
   "cell_type": "code",
   "execution_count": 10,
   "metadata": {},
   "outputs": [
    {
     "data": {
      "text/plain": [
       "baseline value                                              int64\n",
       "accelerations                                             float64\n",
       "fetal_movement                                            float64\n",
       "uterine_contractions                                      float64\n",
       "light_decelerations                                       float64\n",
       "severe_decelerations                                      float64\n",
       "prolongued_decelerations                                  float64\n",
       "abnormal_short_term_variability                             int64\n",
       "mean_value_of_short_term_variability                      float64\n",
       "percentage_of_time_with_abnormal_long_term_variability      int64\n",
       "mean_value_of_long_term_variability                       float64\n",
       "histogram_width                                             int64\n",
       "histogram_min                                               int64\n",
       "histogram_max                                               int64\n",
       "histogram_number_of_peaks                                   int64\n",
       "histogram_number_of_zeroes                                  int64\n",
       "histogram_mode                                              int64\n",
       "histogram_mean                                              int64\n",
       "histogram_median                                            int64\n",
       "histogram_variance                                          int64\n",
       "histogram_tendency                                          int64\n",
       "fetal_health                                                int64\n",
       "dtype: object"
      ]
     },
     "execution_count": 10,
     "metadata": {},
     "output_type": "execute_result"
    }
   ],
   "source": [
    "df.dtypes "
   ]
  },
  {
   "cell_type": "code",
   "execution_count": 11,
   "metadata": {
    "scrolled": false
   },
   "outputs": [
    {
     "data": {
      "text/plain": [
       "Index(['baseline value', 'accelerations', 'fetal_movement',\n",
       "       'uterine_contractions', 'light_decelerations', 'severe_decelerations',\n",
       "       'prolongued_decelerations', 'abnormal_short_term_variability',\n",
       "       'mean_value_of_short_term_variability',\n",
       "       'percentage_of_time_with_abnormal_long_term_variability',\n",
       "       'mean_value_of_long_term_variability', 'histogram_width',\n",
       "       'histogram_min', 'histogram_max', 'histogram_number_of_peaks',\n",
       "       'histogram_number_of_zeroes', 'histogram_mode', 'histogram_mean',\n",
       "       'histogram_median', 'histogram_variance', 'histogram_tendency',\n",
       "       'fetal_health'],\n",
       "      dtype='object')"
      ]
     },
     "execution_count": 11,
     "metadata": {},
     "output_type": "execute_result"
    }
   ],
   "source": [
    "df.columns"
   ]
  },
  {
   "cell_type": "markdown",
   "metadata": {},
   "source": [
    "# Preprocessing Continuous variables"
   ]
  },
  {
   "cell_type": "markdown",
   "metadata": {},
   "source": [
    "# Preprocessing baseline value column"
   ]
  },
  {
   "cell_type": "code",
   "execution_count": 12,
   "metadata": {},
   "outputs": [
    {
     "name": "stdout",
     "output_type": "stream",
     "text": [
      "Total Null Values in baseline value column:\n",
      "0\n",
      "\n",
      "Minimum and Maximum values for baseline value column:\n",
      "106 160\n"
     ]
    }
   ],
   "source": [
    "#Display total null values\n",
    "print('Total Null Values in baseline value column:')\n",
    "print(df['baseline value'].isna().sum())\n",
    "\n",
    "# Display minimum and maximum values\n",
    "print('\\nMinimum and Maximum values for baseline value column:')\n",
    "print(df['baseline value'].min(), df['baseline value'].max())"
   ]
  },
  {
   "cell_type": "code",
   "execution_count": 13,
   "metadata": {},
   "outputs": [
    {
     "data": {
      "text/plain": [
       "283404"
      ]
     },
     "execution_count": 13,
     "metadata": {},
     "output_type": "execute_result"
    }
   ],
   "source": [
    "df['baseline value'].sum()"
   ]
  },
  {
   "cell_type": "code",
   "execution_count": 14,
   "metadata": {
    "scrolled": true
   },
   "outputs": [
    {
     "data": {
      "text/plain": [
       "133    136\n",
       "130    111\n",
       "122    109\n",
       "138    103\n",
       "125     91\n",
       "128     85\n",
       "120     78\n",
       "144     77\n",
       "142     77\n",
       "132     76\n",
       "136     72\n",
       "140     70\n",
       "134     67\n",
       "135     65\n",
       "146     62\n",
       "127     60\n",
       "137     59\n",
       "129     57\n",
       "123     56\n",
       "131     56\n",
       "143     56\n",
       "148     52\n",
       "121     44\n",
       "139     39\n",
       "141     39\n",
       "126     38\n",
       "145     37\n",
       "115     28\n",
       "150     26\n",
       "110     21\n",
       "149     18\n",
       "152     17\n",
       "119     17\n",
       "112     16\n",
       "147     14\n",
       "151     14\n",
       "159     12\n",
       "114     11\n",
       "158     10\n",
       "124     10\n",
       "118      9\n",
       "154      8\n",
       "106      7\n",
       "116      5\n",
       "157      4\n",
       "156      4\n",
       "117      2\n",
       "160      1\n",
       "Name: baseline value, dtype: int64"
      ]
     },
     "execution_count": 14,
     "metadata": {},
     "output_type": "execute_result"
    }
   ],
   "source": [
    "df['baseline value'].value_counts()"
   ]
  },
  {
   "cell_type": "code",
   "execution_count": 15,
   "metadata": {},
   "outputs": [
    {
     "data": {
      "text/plain": [
       "10    286\n",
       "9     271\n",
       "11    242\n",
       "7     203\n",
       "1     194\n",
       "4     183\n",
       "5     168\n",
       "3     157\n",
       "2     153\n",
       "8     137\n",
       "6     132\n",
       "Name: baseline value_bin, dtype: int64"
      ]
     },
     "execution_count": 15,
     "metadata": {},
     "output_type": "execute_result"
    }
   ],
   "source": [
    "#Discretizing the baseline value column\n",
    "cut_label_baseline_value_bin = ['1', '2', '3', '4', '5','6','7','8','9','10','11']\n",
    "\n",
    "cut_bins = [105, 120, 122, 125, 128, 130, 132, 134, 136, 140, 145, 160]\n",
    "\n",
    "df['baseline value_bin'] = pd.cut(df['baseline value'], bins=cut_bins, labels=cut_label_baseline_value_bin)\n",
    "\n",
    "# Finding counts of unique values\n",
    "df['baseline value_bin'].value_counts()\n"
   ]
  },
  {
   "cell_type": "markdown",
   "metadata": {},
   "source": [
    "# Preprocessing accelerations column"
   ]
  },
  {
   "cell_type": "code",
   "execution_count": 16,
   "metadata": {},
   "outputs": [
    {
     "name": "stdout",
     "output_type": "stream",
     "text": [
      "Total Null Values in accelerations column:\n",
      "0\n",
      "\n",
      "Minimum and Maximum values for accelerations column:\n",
      "0.0 0.019\n"
     ]
    }
   ],
   "source": [
    "#Display total null values\n",
    "print('Total Null Values in accelerations column:')\n",
    "print(df['accelerations'].isna().sum())\n",
    "\n",
    "# Display minimum and maximum values\n",
    "print('\\nMinimum and Maximum values for accelerations column:')\n",
    "print(df['accelerations'].min(), df['accelerations'].max())"
   ]
  },
  {
   "cell_type": "code",
   "execution_count": 17,
   "metadata": {},
   "outputs": [
    {
     "data": {
      "text/plain": [
       "0.000    894\n",
       "0.003    161\n",
       "0.002    160\n",
       "0.001    143\n",
       "0.004    117\n",
       "0.006    112\n",
       "0.005    110\n",
       "0.008    103\n",
       "0.007     91\n",
       "0.009     60\n",
       "0.010     50\n",
       "0.011     36\n",
       "0.012     24\n",
       "0.013     22\n",
       "0.014     20\n",
       "0.015      9\n",
       "0.016      7\n",
       "0.017      4\n",
       "0.018      2\n",
       "0.019      1\n",
       "Name: accelerations, dtype: int64"
      ]
     },
     "execution_count": 17,
     "metadata": {},
     "output_type": "execute_result"
    }
   ],
   "source": [
    "# Finding counts of unique values\n",
    "df['accelerations'].value_counts()"
   ]
  },
  {
   "cell_type": "code",
   "execution_count": 18,
   "metadata": {},
   "outputs": [
    {
     "data": {
      "text/plain": [
       "1    894\n",
       "2    303\n",
       "7    194\n",
       "3    161\n",
       "9    125\n",
       "4    117\n",
       "6    112\n",
       "8    110\n",
       "5    110\n",
       "Name: accelerations_bin, dtype: int64"
      ]
     },
     "execution_count": 18,
     "metadata": {},
     "output_type": "execute_result"
    }
   ],
   "source": [
    "#Discretizing the accelerations column\n",
    "cut_label_accelerations = ['1', '2', '3', '4', '5', '6', '7','8','9']\n",
    "\n",
    "cut_bins = [-1, 0.000, 0.002, 0.003, 0.004, 0.005, 0.006, 0.008, 0.010, 0.019]\n",
    "\n",
    "df['accelerations_bin'] = pd.cut(df['accelerations'], bins=cut_bins, labels=cut_label_accelerations)\n",
    "\n",
    "df['accelerations_bin'].value_counts()\n",
    "\n"
   ]
  },
  {
   "cell_type": "markdown",
   "metadata": {},
   "source": [
    "# Preprocessing fetal_movement column"
   ]
  },
  {
   "cell_type": "code",
   "execution_count": 19,
   "metadata": {},
   "outputs": [
    {
     "name": "stdout",
     "output_type": "stream",
     "text": [
      "Total Null Values in fetal_movement column:\n",
      "0\n",
      "\n",
      "Minimum and Maximum values for fetal_movement column:\n",
      "0.0 0.48100000000000004\n"
     ]
    }
   ],
   "source": [
    "#Display total null values\n",
    "print('Total Null Values in fetal_movement column:')\n",
    "print(df['fetal_movement'].isna().sum())\n",
    "\n",
    "# Display minimum and maximum values\n",
    "print('\\nMinimum and Maximum values for fetal_movement column:')\n",
    "print(df['fetal_movement'].min(), df['fetal_movement'].max())"
   ]
  },
  {
   "cell_type": "code",
   "execution_count": 20,
   "metadata": {
    "scrolled": true
   },
   "outputs": [
    {
     "data": {
      "text/plain": [
       "0.000    1311\n",
       "0.001     164\n",
       "0.002     112\n",
       "0.003      88\n",
       "0.004      49\n",
       "         ... \n",
       "0.092       1\n",
       "0.383       1\n",
       "0.051       1\n",
       "0.037       1\n",
       "0.306       1\n",
       "Name: fetal_movement, Length: 102, dtype: int64"
      ]
     },
     "execution_count": 20,
     "metadata": {},
     "output_type": "execute_result"
    }
   ],
   "source": [
    "# Finding counts of unique values\n",
    "\n",
    "df['fetal_movement'].value_counts()"
   ]
  },
  {
   "cell_type": "code",
   "execution_count": 21,
   "metadata": {},
   "outputs": [
    {
     "data": {
      "text/plain": [
       "1    1311\n",
       "2     276\n",
       "4     251\n",
       "3     173\n",
       "5     115\n",
       "Name: fetal_movement_bin, dtype: int64"
      ]
     },
     "execution_count": 21,
     "metadata": {},
     "output_type": "execute_result"
    }
   ],
   "source": [
    "#Discretizing the fetal_movement column\n",
    "cut_label_fetal_movement = ['1', '2', '3', '4', '5']\n",
    "\n",
    "cut_bins = [-1,0.000,0.002,0.005,0.025, 0.482]\n",
    "\n",
    "df['fetal_movement_bin'] = pd.cut(df['fetal_movement'], bins=cut_bins, labels=cut_label_fetal_movement)\n",
    "\n",
    "# Finding counts of unique values\n",
    "df['fetal_movement_bin'].value_counts()\n",
    "\n"
   ]
  },
  {
   "cell_type": "markdown",
   "metadata": {},
   "source": [
    "# Preprocessing uterine_contractions column"
   ]
  },
  {
   "cell_type": "code",
   "execution_count": 22,
   "metadata": {},
   "outputs": [
    {
     "name": "stdout",
     "output_type": "stream",
     "text": [
      "Total Null Values in uterine_contractions column:\n",
      "0\n",
      "\n",
      "Minimum and Maximum values for uterine_contractions column:\n",
      "0.0 0.015\n"
     ]
    }
   ],
   "source": [
    "#Display total null values\n",
    "print('Total Null Values in uterine_contractions column:')\n",
    "print(df['uterine_contractions'].isna().sum())\n",
    "\n",
    "# Display minimum and maximum values\n",
    "print('\\nMinimum and Maximum values for uterine_contractions column:')\n",
    "print(df['uterine_contractions'].min(), df['uterine_contractions'].max())"
   ]
  },
  {
   "cell_type": "code",
   "execution_count": 23,
   "metadata": {
    "scrolled": true
   },
   "outputs": [
    {
     "data": {
      "text/plain": [
       "0.000    332\n",
       "0.005    290\n",
       "0.004    244\n",
       "0.006    231\n",
       "0.007    216\n",
       "0.003    212\n",
       "0.002    160\n",
       "0.008    160\n",
       "0.001    118\n",
       "0.009     82\n",
       "0.010     49\n",
       "0.011     16\n",
       "0.012     11\n",
       "0.013      2\n",
       "0.014      2\n",
       "0.015      1\n",
       "Name: uterine_contractions, dtype: int64"
      ]
     },
     "execution_count": 23,
     "metadata": {},
     "output_type": "execute_result"
    }
   ],
   "source": [
    "# Finding counts of unique values\n",
    "df['uterine_contractions'].value_counts()"
   ]
  },
  {
   "cell_type": "code",
   "execution_count": 24,
   "metadata": {},
   "outputs": [
    {
     "data": {
      "text/plain": [
       "1    332\n",
       "5    290\n",
       "2    278\n",
       "4    244\n",
       "6    231\n",
       "7    216\n",
       "3    212\n",
       "9    163\n",
       "8    160\n",
       "Name: uterine_contractions_bin, dtype: int64"
      ]
     },
     "execution_count": 24,
     "metadata": {},
     "output_type": "execute_result"
    }
   ],
   "source": [
    "#Discretizing the uterine_contractions column\n",
    "cut_label_uterine_contractions = ['1', '2', '3', '4', '5', '6', '7', '8', '9']\n",
    "\n",
    "cut_bins = [-1, 0.000, 0.002, 0.003, 0.004, 0.005, 0.006, 0.007, 0.008, 0.015]\n",
    "\n",
    "df['uterine_contractions_bin'] = pd.cut(df['uterine_contractions'], bins=cut_bins, labels=cut_label_uterine_contractions)\n",
    "\n",
    "# Finding counts of unique values\n",
    "df['uterine_contractions_bin'].value_counts()"
   ]
  },
  {
   "cell_type": "markdown",
   "metadata": {},
   "source": [
    "# Preprocessing light_decelerations column"
   ]
  },
  {
   "cell_type": "code",
   "execution_count": 25,
   "metadata": {},
   "outputs": [
    {
     "name": "stdout",
     "output_type": "stream",
     "text": [
      "Total Null Values in light_decelerations column:\n",
      "0\n",
      "\n",
      "Minimum and Maximum values for light_decelerations column:\n",
      "0.0 0.015\n"
     ]
    }
   ],
   "source": [
    "#Display total null values\n",
    "print('Total Null Values in light_decelerations column:')\n",
    "print(df['light_decelerations'].isna().sum())\n",
    "\n",
    "# Display minimum and maximum values\n",
    "print('\\nMinimum and Maximum values for light_decelerations column:')\n",
    "print(df['light_decelerations'].min(), df['light_decelerations'].max())"
   ]
  },
  {
   "cell_type": "code",
   "execution_count": 26,
   "metadata": {},
   "outputs": [
    {
     "data": {
      "text/plain": [
       "0.000    1231\n",
       "0.001     163\n",
       "0.003     118\n",
       "0.002     115\n",
       "0.004     114\n",
       "0.005     107\n",
       "0.006      74\n",
       "0.008      55\n",
       "0.007      54\n",
       "0.009      37\n",
       "0.010      15\n",
       "0.011      13\n",
       "0.012      12\n",
       "0.013       8\n",
       "0.014       7\n",
       "0.015       3\n",
       "Name: light_decelerations, dtype: int64"
      ]
     },
     "execution_count": 26,
     "metadata": {},
     "output_type": "execute_result"
    }
   ],
   "source": [
    "# Finding counts of unique values\n",
    "df['light_decelerations'].value_counts()"
   ]
  },
  {
   "cell_type": "code",
   "execution_count": 27,
   "metadata": {},
   "outputs": [
    {
     "data": {
      "text/plain": [
       "1    1231\n",
       "6     278\n",
       "2     278\n",
       "3     118\n",
       "4     114\n",
       "5     107\n",
       "Name: light_decelerations_bin, dtype: int64"
      ]
     },
     "execution_count": 27,
     "metadata": {},
     "output_type": "execute_result"
    }
   ],
   "source": [
    "#Discretizing the light_decelerations column\n",
    "cut_label_light_decelerations = ['1', '2', '3', '4', '5', '6']\n",
    "\n",
    "cut_bins = [-1, 0.000, 0.002, 0.003, 0.004, 0.005, 0.015]\n",
    "\n",
    "df['light_decelerations_bin'] = pd.cut(df['light_decelerations'], bins=cut_bins, labels=cut_label_light_decelerations)\n",
    "\n",
    "# Finding counts of unique values\n",
    "df['light_decelerations_bin'].value_counts()"
   ]
  },
  {
   "cell_type": "markdown",
   "metadata": {},
   "source": [
    "# Preprocessing severe_decelerations column"
   ]
  },
  {
   "cell_type": "code",
   "execution_count": 28,
   "metadata": {},
   "outputs": [
    {
     "name": "stdout",
     "output_type": "stream",
     "text": [
      "Total Null Values in severe_decelerations column:\n",
      "0\n",
      "\n",
      "Minimum and Maximum values for severe_decelerations column:\n",
      "0.0 0.001\n"
     ]
    }
   ],
   "source": [
    "#Display total null values\n",
    "print('Total Null Values in severe_decelerations column:')\n",
    "print(df['severe_decelerations'].isna().sum())\n",
    "\n",
    "# Display minimum and maximum values\n",
    "print('\\nMinimum and Maximum values for severe_decelerations column:')\n",
    "print(df['severe_decelerations'].min(), df['severe_decelerations'].max())"
   ]
  },
  {
   "cell_type": "code",
   "execution_count": 29,
   "metadata": {},
   "outputs": [
    {
     "data": {
      "text/plain": [
       "0.000    2119\n",
       "0.001       7\n",
       "Name: severe_decelerations, dtype: int64"
      ]
     },
     "execution_count": 29,
     "metadata": {},
     "output_type": "execute_result"
    }
   ],
   "source": [
    "# Finding counts of unique values\n",
    "df['severe_decelerations'].value_counts()"
   ]
  },
  {
   "cell_type": "code",
   "execution_count": 30,
   "metadata": {},
   "outputs": [
    {
     "data": {
      "text/plain": [
       "1    2119\n",
       "2       7\n",
       "Name: severe_decelerations_bin, dtype: int64"
      ]
     },
     "execution_count": 30,
     "metadata": {},
     "output_type": "execute_result"
    }
   ],
   "source": [
    "#Discretizing the severe_decelerations column\n",
    "cut_label_severe_decelerations = ['1', '2']\n",
    "\n",
    "cut_bins = [-1, 0.0005, 0.001]\n",
    "\n",
    "df['severe_decelerations_bin'] = pd.cut(df['severe_decelerations'], bins=cut_bins, labels=cut_label_severe_decelerations)\n",
    "\n",
    "# Finding counts of unique values\n",
    "df['severe_decelerations_bin'].value_counts()"
   ]
  },
  {
   "cell_type": "markdown",
   "metadata": {},
   "source": [
    "# Preprocessing prolongued_decelerations column"
   ]
  },
  {
   "cell_type": "code",
   "execution_count": 31,
   "metadata": {},
   "outputs": [
    {
     "name": "stdout",
     "output_type": "stream",
     "text": [
      "Total Null Values in prolongued_decelerations column:\n",
      "0\n",
      "\n",
      "Minimum and Maximum values for prolongued_decelerations column:\n",
      "0.0 0.005\n"
     ]
    }
   ],
   "source": [
    "#Display total null values\n",
    "print('Total Null Values in prolongued_decelerations column:')\n",
    "print(df['prolongued_decelerations'].isna().sum())\n",
    "\n",
    "# Display minimum and maximum values\n",
    "print('\\nMinimum and Maximum values for prolongued_decelerations column:')\n",
    "print(df['prolongued_decelerations'].min(), df['prolongued_decelerations'].max())"
   ]
  },
  {
   "cell_type": "code",
   "execution_count": 32,
   "metadata": {},
   "outputs": [
    {
     "data": {
      "text/plain": [
       "0.000    1948\n",
       "0.002      72\n",
       "0.001      70\n",
       "0.003      24\n",
       "0.004       9\n",
       "0.005       3\n",
       "Name: prolongued_decelerations, dtype: int64"
      ]
     },
     "execution_count": 32,
     "metadata": {},
     "output_type": "execute_result"
    }
   ],
   "source": [
    "# Finding counts of unique values\n",
    "df['prolongued_decelerations'].value_counts()"
   ]
  },
  {
   "cell_type": "code",
   "execution_count": 33,
   "metadata": {},
   "outputs": [
    {
     "data": {
      "text/plain": [
       "1    1948\n",
       "2     178\n",
       "Name: prolongued_decelerations_bin, dtype: int64"
      ]
     },
     "execution_count": 33,
     "metadata": {},
     "output_type": "execute_result"
    }
   ],
   "source": [
    "#Discretizing the prolongued_decelerations column\n",
    "cut_label_prolongued_decelerations = ['1', '2']\n",
    "\n",
    "cut_bins = [-1, 0.0001, 0.005]\n",
    "\n",
    "df['prolongued_decelerations_bin'] = pd.cut(df['prolongued_decelerations'], bins=cut_bins, labels=cut_label_prolongued_decelerations)\n",
    "\n",
    "# Finding counts of unique values\n",
    "df['prolongued_decelerations_bin'].value_counts()"
   ]
  },
  {
   "cell_type": "markdown",
   "metadata": {},
   "source": [
    "# Preprocessing abnormal_short_term_variability column"
   ]
  },
  {
   "cell_type": "code",
   "execution_count": 34,
   "metadata": {},
   "outputs": [
    {
     "name": "stdout",
     "output_type": "stream",
     "text": [
      "Total Null Values in abnormal_short_term_variability column:\n",
      "0\n",
      "\n",
      "Minimum and Maximum values for abnormal_short_term_variability column:\n",
      "12 87\n"
     ]
    }
   ],
   "source": [
    "#Display total null values\n",
    "print('Total Null Values in abnormal_short_term_variability column:')\n",
    "print(df['abnormal_short_term_variability'].isna().sum())\n",
    "\n",
    "# Display minimum and maximum values\n",
    "print('\\nMinimum and Maximum values for abnormal_short_term_variability column:')\n",
    "print(df['abnormal_short_term_variability'].min(), df['abnormal_short_term_variability'].max())"
   ]
  },
  {
   "cell_type": "code",
   "execution_count": 35,
   "metadata": {
    "scrolled": true
   },
   "outputs": [
    {
     "data": {
      "text/plain": [
       "60    62\n",
       "58    61\n",
       "65    60\n",
       "63    58\n",
       "64    58\n",
       "      ..\n",
       "15     4\n",
       "86     4\n",
       "12     2\n",
       "82     2\n",
       "87     1\n",
       "Name: abnormal_short_term_variability, Length: 75, dtype: int64"
      ]
     },
     "execution_count": 35,
     "metadata": {},
     "output_type": "execute_result"
    }
   ],
   "source": [
    "# Finding counts of unique values\n",
    "df['abnormal_short_term_variability'].value_counts()"
   ]
  },
  {
   "cell_type": "code",
   "execution_count": 36,
   "metadata": {
    "scrolled": true
   },
   "outputs": [
    {
     "data": {
      "text/plain": [
       "10    284\n",
       "9     250\n",
       "8     188\n",
       "5     180\n",
       "1     179\n",
       "4     171\n",
       "12    161\n",
       "2     158\n",
       "6     155\n",
       "3     147\n",
       "7     134\n",
       "11    119\n",
       "Name: abnormal_short_term_variability_bin, dtype: int64"
      ]
     },
     "execution_count": 36,
     "metadata": {},
     "output_type": "execute_result"
    }
   ],
   "source": [
    "#Discretizing the abnormal_short_term_variability column\n",
    "cut_label_abnormal_short_term_variability = ['1', '2', '3','4','5','6','7', '8', '9', '10', '11', '12']\n",
    "\n",
    "cut_bins = [11, 22, 26, 30, 35, 40, 45, 50, 55, 60, 65, 70, 87]\n",
    "\n",
    "df['abnormal_short_term_variability_bin'] = pd.cut(df['abnormal_short_term_variability'], bins=cut_bins, labels=cut_label_abnormal_short_term_variability)\n",
    "\n",
    "# Finding counts of unique values\n",
    "df['abnormal_short_term_variability_bin'].value_counts()"
   ]
  },
  {
   "cell_type": "markdown",
   "metadata": {},
   "source": [
    "# Preprocessing mean_value_of_short_term_variability column"
   ]
  },
  {
   "cell_type": "code",
   "execution_count": 37,
   "metadata": {},
   "outputs": [
    {
     "name": "stdout",
     "output_type": "stream",
     "text": [
      "Total Null Values in mean_value_of_short_term_variability column:\n",
      "0\n",
      "\n",
      "Minimum and Maximum values for mean_value_of_short_term_variability column:\n",
      "0.2 7.0\n"
     ]
    }
   ],
   "source": [
    "#Display total null values\n",
    "print('Total Null Values in mean_value_of_short_term_variability column:')\n",
    "print(df['mean_value_of_short_term_variability'].isna().sum())\n",
    "\n",
    "# Display minimum and maximum values\n",
    "print('\\nMinimum and Maximum values for mean_value_of_short_term_variability column:')\n",
    "print(df['mean_value_of_short_term_variability'].min(), df['mean_value_of_short_term_variability'].max())"
   ]
  },
  {
   "cell_type": "code",
   "execution_count": 38,
   "metadata": {},
   "outputs": [],
   "source": [
    "#Converting the datatype to float\n",
    "df['mean_value_of_short_term_variability'] = df['mean_value_of_short_term_variability'].apply(lambda x:float(x))"
   ]
  },
  {
   "cell_type": "code",
   "execution_count": 39,
   "metadata": {
    "scrolled": true
   },
   "outputs": [
    {
     "data": {
      "text/plain": [
       "0.8    125\n",
       "1.3    121\n",
       "0.5    121\n",
       "0.4    120\n",
       "0.7    117\n",
       "0.9    114\n",
       "0.6    113\n",
       "1.2    107\n",
       "1.5    100\n",
       "1.0     99\n",
       "1.1     97\n",
       "1.4     95\n",
       "0.3     84\n",
       "1.7     78\n",
       "1.6     76\n",
       "1.9     62\n",
       "1.8     51\n",
       "0.2     47\n",
       "2.2     47\n",
       "2.1     44\n",
       "2.0     38\n",
       "2.3     27\n",
       "2.4     27\n",
       "2.5     26\n",
       "2.7     25\n",
       "2.8     22\n",
       "2.6     21\n",
       "3.0     16\n",
       "2.9     13\n",
       "3.2     13\n",
       "3.4     12\n",
       "3.1     10\n",
       "3.3      7\n",
       "3.8      6\n",
       "3.6      4\n",
       "3.5      3\n",
       "4.2      3\n",
       "4.9      3\n",
       "4.1      3\n",
       "3.7      3\n",
       "5.4      2\n",
       "4.5      2\n",
       "5.0      2\n",
       "4.0      2\n",
       "4.3      2\n",
       "4.4      2\n",
       "6.3      2\n",
       "3.9      2\n",
       "4.8      2\n",
       "5.7      1\n",
       "5.9      1\n",
       "5.2      1\n",
       "4.7      1\n",
       "5.3      1\n",
       "7.0      1\n",
       "6.0      1\n",
       "6.9      1\n",
       "Name: mean_value_of_short_term_variability, dtype: int64"
      ]
     },
     "execution_count": 39,
     "metadata": {},
     "output_type": "execute_result"
    }
   ],
   "source": [
    "# Finding counts of unique values\n",
    "df['mean_value_of_short_term_variability'].value_counts()"
   ]
  },
  {
   "cell_type": "code",
   "execution_count": 40,
   "metadata": {},
   "outputs": [
    {
     "data": {
      "text/plain": [
       "9    361\n",
       "8    305\n",
       "2    241\n",
       "4    239\n",
       "3    230\n",
       "6    228\n",
       "5    196\n",
       "7    195\n",
       "1    131\n",
       "Name: mean_value_of_short_term_variability_bin, dtype: int64"
      ]
     },
     "execution_count": 40,
     "metadata": {},
     "output_type": "execute_result"
    }
   ],
   "source": [
    "#Discretizing the cut_label_mean_value_of_short_term_variability column\n",
    "cut_label_mean_value_of_short_term_variability = ['1', '2', '3', '4', '5', '6', '7', '8', '9']\n",
    "\n",
    "cut_bins = [0, 0.3, 0.5, 0.7, 0.9, 1.15, 1.3, 1.5, 2.0, 7.0]\n",
    "\n",
    "df['mean_value_of_short_term_variability_bin'] = pd.cut(df['mean_value_of_short_term_variability'], bins=cut_bins, labels=cut_label_mean_value_of_short_term_variability)\n",
    "\n",
    "# Finding counts of unique values\n",
    "df['mean_value_of_short_term_variability_bin'].value_counts()"
   ]
  },
  {
   "cell_type": "markdown",
   "metadata": {},
   "source": [
    "# Preprocessing percentage_of_time_with_abnormal_long_term_variability column"
   ]
  },
  {
   "cell_type": "code",
   "execution_count": 41,
   "metadata": {},
   "outputs": [
    {
     "name": "stdout",
     "output_type": "stream",
     "text": [
      "Total Null Values in percentage_of_time_with_abnormal_long_term_variability column:\n",
      "0\n",
      "\n",
      "Minimum and Maximum values for percentage_of_time_with_abnormal_long_term_variability column:\n",
      "0 91\n"
     ]
    }
   ],
   "source": [
    "#Display total null values\n",
    "print('Total Null Values in percentage_of_time_with_abnormal_long_term_variability column:')\n",
    "print(df['percentage_of_time_with_abnormal_long_term_variability'].isna().sum())\n",
    "\n",
    "# Display minimum and maximum values\n",
    "print('\\nMinimum and Maximum values for percentage_of_time_with_abnormal_long_term_variability column:')\n",
    "print(df['percentage_of_time_with_abnormal_long_term_variability'].min(), df['percentage_of_time_with_abnormal_long_term_variability'].max())"
   ]
  },
  {
   "cell_type": "code",
   "execution_count": 42,
   "metadata": {},
   "outputs": [],
   "source": [
    "#Converting the datatype to float\n",
    "df['percentage_of_time_with_abnormal_long_term_variability'] = df['percentage_of_time_with_abnormal_long_term_variability'].apply(lambda x:float(x))"
   ]
  },
  {
   "cell_type": "code",
   "execution_count": 43,
   "metadata": {},
   "outputs": [
    {
     "data": {
      "text/plain": [
       "0.0     1240\n",
       "1.0       52\n",
       "2.0       45\n",
       "5.0       43\n",
       "4.0       40\n",
       "        ... \n",
       "88.0       1\n",
       "65.0       1\n",
       "82.0       1\n",
       "86.0       1\n",
       "63.0       1\n",
       "Name: percentage_of_time_with_abnormal_long_term_variability, Length: 87, dtype: int64"
      ]
     },
     "execution_count": 43,
     "metadata": {},
     "output_type": "execute_result"
    }
   ],
   "source": [
    "# Finding counts of unique values\n",
    "df['percentage_of_time_with_abnormal_long_term_variability'].value_counts()"
   ]
  },
  {
   "cell_type": "code",
   "execution_count": 44,
   "metadata": {},
   "outputs": [
    {
     "data": {
      "text/plain": [
       "1    1240\n",
       "2     886\n",
       "Name: percentage_of_time_with_abnormal_long_term_variability_bin, dtype: int64"
      ]
     },
     "execution_count": 44,
     "metadata": {},
     "output_type": "execute_result"
    }
   ],
   "source": [
    "#Discretizing the percentage_of_time_with_abnormal_long_term_variability column\n",
    "cut_label_percentage_of_time_with_abnormal_long_term_variability = ['1', '2']\n",
    "\n",
    "cut_bins = [-1, 0, 91]\n",
    "\n",
    "df['percentage_of_time_with_abnormal_long_term_variability_bin'] = pd.cut(df['percentage_of_time_with_abnormal_long_term_variability'], bins=cut_bins, labels=cut_label_percentage_of_time_with_abnormal_long_term_variability)\n",
    "\n",
    "# Finding counts of unique values\n",
    "df['percentage_of_time_with_abnormal_long_term_variability_bin'].value_counts()"
   ]
  },
  {
   "cell_type": "markdown",
   "metadata": {},
   "source": [
    "# Preprocessing of mean_value_of_long_term_variability column"
   ]
  },
  {
   "cell_type": "code",
   "execution_count": 45,
   "metadata": {},
   "outputs": [
    {
     "name": "stdout",
     "output_type": "stream",
     "text": [
      "Total Null Values in mean_value_of_long_term_variability column:\n",
      "0\n",
      "\n",
      "Minimum and Maximum values for mean_value_of_long_term_variability column:\n",
      "0.0 50.7\n"
     ]
    }
   ],
   "source": [
    "#Display total null values\n",
    "print('Total Null Values in mean_value_of_long_term_variability column:')\n",
    "print(df['mean_value_of_long_term_variability'].isna().sum())\n",
    "\n",
    "# Display minimum and maximum values\n",
    "print('\\nMinimum and Maximum values for mean_value_of_long_term_variability column:')\n",
    "print(df['mean_value_of_long_term_variability'].min(), df['mean_value_of_long_term_variability'].max())"
   ]
  },
  {
   "cell_type": "code",
   "execution_count": 46,
   "metadata": {},
   "outputs": [
    {
     "data": {
      "text/plain": [
       "0.0     137\n",
       "6.7      29\n",
       "7.1      29\n",
       "5.2      25\n",
       "6.5      25\n",
       "       ... \n",
       "29.5      1\n",
       "25.3      1\n",
       "27.0      1\n",
       "29.1      1\n",
       "23.0      1\n",
       "Name: mean_value_of_long_term_variability, Length: 249, dtype: int64"
      ]
     },
     "execution_count": 46,
     "metadata": {},
     "output_type": "execute_result"
    }
   ],
   "source": [
    "# Finding counts of unique values\n",
    "df['mean_value_of_long_term_variability'].value_counts()"
   ]
  },
  {
   "cell_type": "code",
   "execution_count": 47,
   "metadata": {},
   "outputs": [
    {
     "data": {
      "text/plain": [
       "9     301\n",
       "8     275\n",
       "1     264\n",
       "10    210\n",
       "5     202\n",
       "6     193\n",
       "2     191\n",
       "4     169\n",
       "7     165\n",
       "3     156\n",
       "Name: mean_value_of_long_term_variability_bin, dtype: int64"
      ]
     },
     "execution_count": 47,
     "metadata": {},
     "output_type": "execute_result"
    }
   ],
   "source": [
    "#Discretizing the mean_value_of_long_term_variability column\n",
    "cut_label_mean_value_of_long_term_variability = ['1', '2', '3', '4', '5', '6', '7', '8', '9', '10']\n",
    "\n",
    "cut_bins = [-1, 2, 4, 5, 6, 7, 8, 9, 11, 15, 50.7]\n",
    "\n",
    "df['mean_value_of_long_term_variability_bin'] = pd.cut(df['mean_value_of_long_term_variability'], bins=cut_bins, labels=cut_label_mean_value_of_long_term_variability)\n",
    "\n",
    "# Finding counts of unique values\n",
    "df['mean_value_of_long_term_variability_bin'].value_counts()"
   ]
  },
  {
   "cell_type": "markdown",
   "metadata": {},
   "source": [
    "# Preprocessing of histogram_width column"
   ]
  },
  {
   "cell_type": "code",
   "execution_count": 48,
   "metadata": {},
   "outputs": [
    {
     "name": "stdout",
     "output_type": "stream",
     "text": [
      "Total Null Values in histogram_width column:\n",
      "0\n",
      "\n",
      "Minimum and Maximum values for histogram_width column:\n",
      "3 180\n"
     ]
    }
   ],
   "source": [
    "#Display total null values\n",
    "print('Total Null Values in histogram_width column:')\n",
    "print(df['histogram_width'].isna().sum())\n",
    "\n",
    "# Display minimum and maximum values\n",
    "print('\\nMinimum and Maximum values for histogram_width column:')\n",
    "print(df['histogram_width'].min(), df['histogram_width'].max())"
   ]
  },
  {
   "cell_type": "code",
   "execution_count": 49,
   "metadata": {},
   "outputs": [
    {
     "data": {
      "text/plain": [
       "39     42\n",
       "102    35\n",
       "27     30\n",
       "31     29\n",
       "98     28\n",
       "       ..\n",
       "180     1\n",
       "146     1\n",
       "162     1\n",
       "131     1\n",
       "6       1\n",
       "Name: histogram_width, Length: 154, dtype: int64"
      ]
     },
     "execution_count": 49,
     "metadata": {},
     "output_type": "execute_result"
    }
   ],
   "source": [
    "# Finding counts of unique values\n",
    "df['histogram_width'].value_counts()"
   ]
  },
  {
   "cell_type": "code",
   "execution_count": 50,
   "metadata": {},
   "outputs": [
    {
     "data": {
      "text/plain": [
       "10    370\n",
       "9     337\n",
       "2     207\n",
       "6     205\n",
       "1     185\n",
       "3     179\n",
       "8     178\n",
       "5     165\n",
       "4     163\n",
       "7     137\n",
       "Name: histogram_width_bin, dtype: int64"
      ]
     },
     "execution_count": 50,
     "metadata": {},
     "output_type": "execute_result"
    }
   ],
   "source": [
    "#Discretizing the histogram_width column\n",
    "cut_label_histogram_width = ['1', '2', '3', '4', '5', '6', '7', '8', '9', '10']\n",
    "\n",
    "cut_bins = [0, 20, 30, 38, 45, 55, 70, 80, 90, 110, 180]\n",
    "\n",
    "df['histogram_width_bin'] = pd.cut(df['histogram_width'], bins=cut_bins, labels=cut_label_histogram_width)\n",
    "\n",
    "# Finding counts of unique values\n",
    "df['histogram_width_bin'].value_counts()"
   ]
  },
  {
   "cell_type": "markdown",
   "metadata": {},
   "source": [
    "# Preprocessing of histogram_min column"
   ]
  },
  {
   "cell_type": "code",
   "execution_count": 51,
   "metadata": {},
   "outputs": [
    {
     "name": "stdout",
     "output_type": "stream",
     "text": [
      "Total Null Values in histogram_min column:\n",
      "0\n",
      "\n",
      "Minimum and Maximum values for histogram_min column:\n",
      "50 159\n"
     ]
    }
   ],
   "source": [
    "#Display total null values\n",
    "print('Total Null Values in histogram_min column:')\n",
    "print(df['histogram_min'].isna().sum())\n",
    "\n",
    "# Display minimum and maximum values\n",
    "print('\\nMinimum and Maximum values for histogram_min column:')\n",
    "print(df['histogram_min'].min(), df['histogram_min'].max())"
   ]
  },
  {
   "cell_type": "code",
   "execution_count": 52,
   "metadata": {},
   "outputs": [
    {
     "data": {
      "text/plain": [
       "50     77\n",
       "52     50\n",
       "71     49\n",
       "120    48\n",
       "60     45\n",
       "       ..\n",
       "155     2\n",
       "149     2\n",
       "159     1\n",
       "156     1\n",
       "158     1\n",
       "Name: histogram_min, Length: 109, dtype: int64"
      ]
     },
     "execution_count": 52,
     "metadata": {},
     "output_type": "execute_result"
    }
   ],
   "source": [
    "# Finding counts of unique values\n",
    "df['histogram_min'].value_counts()"
   ]
  },
  {
   "cell_type": "code",
   "execution_count": 53,
   "metadata": {},
   "outputs": [
    {
     "data": {
      "text/plain": [
       "7    358\n",
       "6    329\n",
       "3    298\n",
       "5    292\n",
       "8    276\n",
       "4    206\n",
       "2    204\n",
       "1    163\n",
       "Name: histogram_min_bin, dtype: int64"
      ]
     },
     "execution_count": 53,
     "metadata": {},
     "output_type": "execute_result"
    }
   ],
   "source": [
    "#Discretizing the histogram_min column\n",
    "cut_label_histogram_min= ['1', '2', '3', '4', '5', '6', '7', '8']\n",
    "\n",
    "cut_bins = [0, 52, 60, 70, 80, 100, 115, 130, 159]\n",
    "\n",
    "df['histogram_min_bin'] = pd.cut(df['histogram_min'], bins=cut_bins, labels=cut_label_histogram_min)\n",
    "\n",
    "# Finding counts of unique values\n",
    "df['histogram_min_bin'].value_counts()"
   ]
  },
  {
   "cell_type": "markdown",
   "metadata": {},
   "source": [
    "# Preprocessing of histogram_max column"
   ]
  },
  {
   "cell_type": "code",
   "execution_count": 54,
   "metadata": {},
   "outputs": [
    {
     "name": "stdout",
     "output_type": "stream",
     "text": [
      "Total Null Values in histogram_max column:\n",
      "0\n",
      "\n",
      "Minimum and Maximum values for histogram_max column:\n",
      "122 238\n"
     ]
    }
   ],
   "source": [
    "#Display total null values\n",
    "print('Total Null Values in histogram_max column:')\n",
    "print(df['histogram_max'].isna().sum())\n",
    "\n",
    "# Display minimum and maximum values\n",
    "print('\\nMinimum and Maximum values for histogram_max column:')\n",
    "print(df['histogram_max'].min(), df['histogram_max'].max())"
   ]
  },
  {
   "cell_type": "code",
   "execution_count": 55,
   "metadata": {},
   "outputs": [
    {
     "data": {
      "text/plain": [
       "157    71\n",
       "171    66\n",
       "158    62\n",
       "156    60\n",
       "159    58\n",
       "       ..\n",
       "134     2\n",
       "123     2\n",
       "127     2\n",
       "205     1\n",
       "213     1\n",
       "Name: histogram_max, Length: 86, dtype: int64"
      ]
     },
     "execution_count": 55,
     "metadata": {},
     "output_type": "execute_result"
    }
   ],
   "source": [
    "# Finding counts of unique values\n",
    "df['histogram_max'].value_counts()"
   ]
  },
  {
   "cell_type": "code",
   "execution_count": 56,
   "metadata": {},
   "outputs": [
    {
     "data": {
      "text/plain": [
       "8     349\n",
       "5     296\n",
       "4     243\n",
       "7     210\n",
       "6     199\n",
       "10    198\n",
       "3     172\n",
       "9     158\n",
       "1     153\n",
       "2     148\n",
       "Name: histogram_max_bin, dtype: int64"
      ]
     },
     "execution_count": 56,
     "metadata": {},
     "output_type": "execute_result"
    }
   ],
   "source": [
    "#Discretizing the histogram_max column\n",
    "cut_label_histogram_max = ['1', '2', '3', '4', '5', '6', '7', '8', '9', '10']\n",
    "\n",
    "cut_bins = [0, 140, 145, 150, 155, 160, 165, 170, 180, 190, 238]\n",
    "\n",
    "df['histogram_max_bin'] = pd.cut(df['histogram_max'], bins=cut_bins, labels=cut_label_histogram_max)\n",
    "\n",
    "# Finding counts of unique values\n",
    "df['histogram_max_bin'].value_counts()"
   ]
  },
  {
   "cell_type": "markdown",
   "metadata": {},
   "source": [
    "# Preprocessing of histogram_number_of_peaks column"
   ]
  },
  {
   "cell_type": "code",
   "execution_count": 57,
   "metadata": {},
   "outputs": [
    {
     "name": "stdout",
     "output_type": "stream",
     "text": [
      "Total Null Values in histogram_number_of_peaks column:\n",
      "0\n",
      "\n",
      "Minimum and Maximum values for histogram_number_of_peaks column:\n",
      "0 18\n"
     ]
    }
   ],
   "source": [
    "#Display total null values\n",
    "print('Total Null Values in histogram_number_of_peaks column:')\n",
    "print(df['histogram_number_of_peaks'].isna().sum())\n",
    "\n",
    "# Display minimum and maximum values\n",
    "print('\\nMinimum and Maximum values for histogram_number_of_peaks column:')\n",
    "print(df['histogram_number_of_peaks'].min(), df['histogram_number_of_peaks'].max())"
   ]
  },
  {
   "cell_type": "code",
   "execution_count": 58,
   "metadata": {},
   "outputs": [
    {
     "data": {
      "text/plain": [
       "1     357\n",
       "2     331\n",
       "3     269\n",
       "4     258\n",
       "5     210\n",
       "6     158\n",
       "7     145\n",
       "0     107\n",
       "8     106\n",
       "9      67\n",
       "10     49\n",
       "11     28\n",
       "12     22\n",
       "13     10\n",
       "14      5\n",
       "16      2\n",
       "18      1\n",
       "15      1\n",
       "Name: histogram_number_of_peaks, dtype: int64"
      ]
     },
     "execution_count": 58,
     "metadata": {},
     "output_type": "execute_result"
    }
   ],
   "source": [
    "# Finding counts of unique values\n",
    "df['histogram_number_of_peaks'].value_counts()"
   ]
  },
  {
   "cell_type": "code",
   "execution_count": 59,
   "metadata": {},
   "outputs": [
    {
     "data": {
      "text/plain": [
       "2     357\n",
       "3     331\n",
       "4     269\n",
       "5     258\n",
       "6     210\n",
       "10    185\n",
       "7     158\n",
       "8     145\n",
       "1     107\n",
       "9     106\n",
       "Name: histogram_number_of_peaks_bin, dtype: int64"
      ]
     },
     "execution_count": 59,
     "metadata": {},
     "output_type": "execute_result"
    }
   ],
   "source": [
    "#Discretizing the histogram_number_of_peaks column\n",
    "cut_label_histogram_number_of_peaks = ['1', '2', '3', '4', '5', '6', '7', '8', '9', '10']\n",
    "\n",
    "cut_bins = [-1, 0, 1, 2, 3, 4, 5, 6, 7, 8, 18]\n",
    "\n",
    "df['histogram_number_of_peaks_bin'] = pd.cut(df['histogram_number_of_peaks'], bins=cut_bins, labels=cut_label_histogram_number_of_peaks)\n",
    "\n",
    "# Finding counts of unique values\n",
    "df['histogram_number_of_peaks_bin'].value_counts()"
   ]
  },
  {
   "cell_type": "markdown",
   "metadata": {},
   "source": [
    "# Preprocessing of histogram_number_of_zeroes column"
   ]
  },
  {
   "cell_type": "code",
   "execution_count": 60,
   "metadata": {},
   "outputs": [
    {
     "name": "stdout",
     "output_type": "stream",
     "text": [
      "Total Null Values in histogram_number_of_zeroes column:\n",
      "0\n",
      "\n",
      "Minimum and Maximum values for histogram_number_of_zeroes column:\n",
      "0 10\n"
     ]
    }
   ],
   "source": [
    "#Display total null values\n",
    "print('Total Null Values in histogram_number_of_zeroes column:')\n",
    "print(df['histogram_number_of_zeroes'].isna().sum())\n",
    "\n",
    "# Display minimum and maximum values\n",
    "print('\\nMinimum and Maximum values for histogram_number_of_zeroes column:')\n",
    "print(df['histogram_number_of_zeroes'].min(), df['histogram_number_of_zeroes'].max())"
   ]
  },
  {
   "cell_type": "code",
   "execution_count": 61,
   "metadata": {},
   "outputs": [
    {
     "data": {
      "text/plain": [
       "0     1624\n",
       "1      366\n",
       "2      108\n",
       "3       21\n",
       "5        2\n",
       "4        2\n",
       "7        1\n",
       "10       1\n",
       "8        1\n",
       "Name: histogram_number_of_zeroes, dtype: int64"
      ]
     },
     "execution_count": 61,
     "metadata": {},
     "output_type": "execute_result"
    }
   ],
   "source": [
    "# Finding counts of unique values\n",
    "df['histogram_number_of_zeroes'].value_counts()"
   ]
  },
  {
   "cell_type": "code",
   "execution_count": 62,
   "metadata": {},
   "outputs": [
    {
     "data": {
      "text/plain": [
       "1    1624\n",
       "2     502\n",
       "Name: histogram_number_of_zeroes_bin, dtype: int64"
      ]
     },
     "execution_count": 62,
     "metadata": {},
     "output_type": "execute_result"
    }
   ],
   "source": [
    "#Discretizing the histogram_number_of_zeroes column\n",
    "cut_label_histogram_number_of_zeroes = ['1', '2']\n",
    "\n",
    "cut_bins = [-1, 0, 10]\n",
    "\n",
    "df['histogram_number_of_zeroes_bin'] = pd.cut(df['histogram_number_of_zeroes'], bins=cut_bins, labels=cut_label_histogram_number_of_zeroes)\n",
    "\n",
    "# Finding counts of unique values\n",
    "df['histogram_number_of_zeroes_bin'].value_counts()"
   ]
  },
  {
   "cell_type": "markdown",
   "metadata": {},
   "source": [
    "# Preprocessing of histogram_mode column"
   ]
  },
  {
   "cell_type": "code",
   "execution_count": 63,
   "metadata": {},
   "outputs": [
    {
     "name": "stdout",
     "output_type": "stream",
     "text": [
      "Total Null Values in histogram_mode column:\n",
      "0\n",
      "\n",
      "Minimum and Maximum values for histogram_mode column:\n",
      "60 187\n"
     ]
    }
   ],
   "source": [
    "#Display total null values\n",
    "print('Total Null Values in histogram_mode column:')\n",
    "print(df['histogram_mode'].isna().sum())\n",
    "\n",
    "# Display minimum and maximum values\n",
    "print('\\nMinimum and Maximum values for histogram_mode column:')\n",
    "print(df['histogram_mode'].min(), df['histogram_mode'].max())"
   ]
  },
  {
   "cell_type": "code",
   "execution_count": 64,
   "metadata": {},
   "outputs": [
    {
     "data": {
      "text/plain": [
       "133    140\n",
       "150     89\n",
       "136     89\n",
       "142     87\n",
       "148     79\n",
       "      ... \n",
       "179      1\n",
       "77       1\n",
       "95       1\n",
       "97       1\n",
       "71       1\n",
       "Name: histogram_mode, Length: 88, dtype: int64"
      ]
     },
     "execution_count": 64,
     "metadata": {},
     "output_type": "execute_result"
    }
   ],
   "source": [
    "# Finding counts of unique values\n",
    "df['histogram_mode'].value_counts()"
   ]
  },
  {
   "cell_type": "code",
   "execution_count": 65,
   "metadata": {},
   "outputs": [
    {
     "data": {
      "text/plain": [
       "6    385\n",
       "7    337\n",
       "5    298\n",
       "4    289\n",
       "2    269\n",
       "1    236\n",
       "3    166\n",
       "8    146\n",
       "Name: histogram_mode_bin, dtype: int64"
      ]
     },
     "execution_count": 65,
     "metadata": {},
     "output_type": "execute_result"
    }
   ],
   "source": [
    "#Discretizing the histogram_mode column\n",
    "cut_label_histogram_mode = ['1', '2', '3', '4', '5', '6', '7', '8']\n",
    "\n",
    "cut_bins = [0, 120, 127, 132, 136, 142, 148, 158, 187]\n",
    "\n",
    "df['histogram_mode_bin'] = pd.cut(df['histogram_mode'], bins=cut_bins, labels=cut_label_histogram_mode)\n",
    "\n",
    "# Finding counts of unique values\n",
    "df['histogram_mode_bin'].value_counts()"
   ]
  },
  {
   "cell_type": "markdown",
   "metadata": {},
   "source": [
    "# Preprocessing of histogram_mean column"
   ]
  },
  {
   "cell_type": "code",
   "execution_count": 66,
   "metadata": {},
   "outputs": [
    {
     "name": "stdout",
     "output_type": "stream",
     "text": [
      "Total Null Values in histogram_mean column:\n",
      "0\n",
      "\n",
      "Minimum and Maximum values for histogram_mean column:\n",
      "73 182\n"
     ]
    }
   ],
   "source": [
    "#Display total null values\n",
    "print('Total Null Values in histogram_mean column:')\n",
    "print(df['histogram_mean'].isna().sum())\n",
    "\n",
    "# Display minimum and maximum values\n",
    "print('\\nMinimum and Maximum values for histogram_mean column:')\n",
    "print(df['histogram_mean'].min(), df['histogram_mean'].max())"
   ]
  },
  {
   "cell_type": "code",
   "execution_count": 67,
   "metadata": {},
   "outputs": [
    {
     "data": {
      "text/plain": [
       "143    65\n",
       "144    64\n",
       "135    63\n",
       "141    61\n",
       "140    60\n",
       "       ..\n",
       "79      1\n",
       "81      1\n",
       "165     1\n",
       "169     1\n",
       "76      1\n",
       "Name: histogram_mean, Length: 103, dtype: int64"
      ]
     },
     "execution_count": 67,
     "metadata": {},
     "output_type": "execute_result"
    }
   ],
   "source": [
    "# Finding counts of unique values\n",
    "df['histogram_mean'].value_counts()"
   ]
  },
  {
   "cell_type": "code",
   "execution_count": 68,
   "metadata": {},
   "outputs": [
    {
     "data": {
      "text/plain": [
       "9    371\n",
       "8    344\n",
       "3    230\n",
       "7    223\n",
       "1    216\n",
       "4    212\n",
       "5    207\n",
       "6    206\n",
       "2    117\n",
       "Name: histogram_mean_bin, dtype: int64"
      ]
     },
     "execution_count": 68,
     "metadata": {},
     "output_type": "execute_result"
    }
   ],
   "source": [
    "#Discretizing the histogram_mean column\n",
    "cut_label_histogram_mean= ['1', '2', '3', '4', '5', '6', '7', '8', '9']\n",
    "\n",
    "cut_bins = [0, 115, 120, 125, 130, 134, 138, 142, 148, 182]\n",
    "\n",
    "df['histogram_mean_bin'] = pd.cut(df['histogram_mean'], bins=cut_bins, labels=cut_label_histogram_mean)\n",
    "\n",
    "# Finding counts of unique values\n",
    "df['histogram_mean_bin'].value_counts()"
   ]
  },
  {
   "cell_type": "markdown",
   "metadata": {},
   "source": [
    "# Preprocessing of histogram_median column"
   ]
  },
  {
   "cell_type": "code",
   "execution_count": 69,
   "metadata": {},
   "outputs": [
    {
     "name": "stdout",
     "output_type": "stream",
     "text": [
      "Total Null Values in histogram_median column:\n",
      "0\n",
      "\n",
      "Minimum and Maximum values for histogram_median column:\n",
      "77 186\n"
     ]
    }
   ],
   "source": [
    "#Display total null values\n",
    "print('Total Null Values in histogram_median column:')\n",
    "print(df['histogram_median'].isna().sum())\n",
    "\n",
    "# Display minimum and maximum values\n",
    "print('\\nMinimum and Maximum values for histogram_median column:')\n",
    "print(df['histogram_median'].min(), df['histogram_median'].max())"
   ]
  },
  {
   "cell_type": "code",
   "execution_count": 70,
   "metadata": {},
   "outputs": [
    {
     "data": {
      "text/plain": [
       "146    69\n",
       "142    68\n",
       "137    68\n",
       "145    67\n",
       "147    65\n",
       "       ..\n",
       "91      1\n",
       "93      1\n",
       "99      1\n",
       "171     1\n",
       "78      1\n",
       "Name: histogram_median, Length: 95, dtype: int64"
      ]
     },
     "execution_count": 70,
     "metadata": {},
     "output_type": "execute_result"
    }
   ],
   "source": [
    "# Finding counts of unique values\n",
    "df['histogram_median'].value_counts()"
   ]
  },
  {
   "cell_type": "code",
   "execution_count": 71,
   "metadata": {},
   "outputs": [
    {
     "data": {
      "text/plain": [
       "7    353\n",
       "8    301\n",
       "5    285\n",
       "6    239\n",
       "3    216\n",
       "9    212\n",
       "2    197\n",
       "4    178\n",
       "1    145\n",
       "Name: histogram_median_bin, dtype: int64"
      ]
     },
     "execution_count": 71,
     "metadata": {},
     "output_type": "execute_result"
    }
   ],
   "source": [
    "#Discretizing the histogram_median column\n",
    "cut_label_histogram_median = ['1', '2', '3', '4', '5', '6', '7', '8', '9']\n",
    "\n",
    "cut_bins = [0, 115, 124, 129, 133, 138, 142, 148, 155, 186]\n",
    "\n",
    "df['histogram_median_bin'] = pd.cut(df['histogram_median'], bins=cut_bins, labels=cut_label_histogram_median)\n",
    "\n",
    "# Finding counts of unique values\n",
    "df['histogram_median_bin'].value_counts()"
   ]
  },
  {
   "cell_type": "markdown",
   "metadata": {},
   "source": [
    "# Preprocessing of histogram_variance column"
   ]
  },
  {
   "cell_type": "code",
   "execution_count": 72,
   "metadata": {},
   "outputs": [
    {
     "name": "stdout",
     "output_type": "stream",
     "text": [
      "Total Null Values in histogram_variance column:\n",
      "0\n",
      "\n",
      "Minimum and Maximum values for histogram_variance column:\n",
      "0 269\n"
     ]
    }
   ],
   "source": [
    "#Display total null values\n",
    "print('Total Null Values in histogram_variance column:')\n",
    "print(df['histogram_variance'].isna().sum())\n",
    "\n",
    "# Display minimum and maximum values\n",
    "print('\\nMinimum and Maximum values for histogram_variance column:')\n",
    "print(df['histogram_variance'].min(), df['histogram_variance'].max())"
   ]
  },
  {
   "cell_type": "code",
   "execution_count": 73,
   "metadata": {},
   "outputs": [
    {
     "data": {
      "text/plain": [
       "1      248\n",
       "0      187\n",
       "2      166\n",
       "3      161\n",
       "4      108\n",
       "      ... \n",
       "110      1\n",
       "106      1\n",
       "104      1\n",
       "96       1\n",
       "250      1\n",
       "Name: histogram_variance, Length: 133, dtype: int64"
      ]
     },
     "execution_count": 73,
     "metadata": {},
     "output_type": "execute_result"
    }
   ],
   "source": [
    "# Finding counts of unique values\n",
    "df['histogram_variance'].value_counts()"
   ]
  },
  {
   "cell_type": "code",
   "execution_count": 74,
   "metadata": {},
   "outputs": [
    {
     "data": {
      "text/plain": [
       "8    382\n",
       "6    284\n",
       "7    282\n",
       "2    248\n",
       "9    223\n",
       "5    193\n",
       "1    187\n",
       "3    166\n",
       "4    161\n",
       "Name: histogram_variance_bin, dtype: int64"
      ]
     },
     "execution_count": 74,
     "metadata": {},
     "output_type": "execute_result"
    }
   ],
   "source": [
    "#Discretizing the histogram_variance column\n",
    "cut_label_histogram_variance = ['1', '2', '3', '4', '5', '6', '7', '8', '9']\n",
    "\n",
    "cut_bins = [-1, 0, 1, 2, 3, 5, 10, 20, 50, 269]\n",
    "\n",
    "df['histogram_variance_bin'] = pd.cut(df['histogram_variance'], bins=cut_bins, labels=cut_label_histogram_variance)\n",
    "\n",
    "# Finding counts of unique values\n",
    "df['histogram_variance_bin'].value_counts()"
   ]
  },
  {
   "cell_type": "markdown",
   "metadata": {},
   "source": [
    "# Preprocessing of histogram_tendency column"
   ]
  },
  {
   "cell_type": "code",
   "execution_count": 75,
   "metadata": {},
   "outputs": [
    {
     "name": "stdout",
     "output_type": "stream",
     "text": [
      "Total Null Values in histogram_tendency column:\n",
      "0\n",
      "\n",
      "Minimum and Maximum values for histogram_tendency column:\n",
      "-1 1\n"
     ]
    }
   ],
   "source": [
    "#Display total null values\n",
    "print('Total Null Values in histogram_tendency column:')\n",
    "print(df['histogram_tendency'].isna().sum())\n",
    "\n",
    "# Display minimum and maximum values\n",
    "print('\\nMinimum and Maximum values for histogram_tendency column:')\n",
    "print(df['histogram_tendency'].min(), df['histogram_tendency'].max())"
   ]
  },
  {
   "cell_type": "code",
   "execution_count": 76,
   "metadata": {},
   "outputs": [
    {
     "data": {
      "text/plain": [
       " 0    1115\n",
       " 1     846\n",
       "-1     165\n",
       "Name: histogram_tendency, dtype: int64"
      ]
     },
     "execution_count": 76,
     "metadata": {},
     "output_type": "execute_result"
    }
   ],
   "source": [
    "# Finding counts of unique values\n",
    "df['histogram_tendency'].value_counts()"
   ]
  },
  {
   "cell_type": "code",
   "execution_count": 77,
   "metadata": {},
   "outputs": [
    {
     "data": {
      "text/plain": [
       "2    1115\n",
       "3     846\n",
       "1     165\n",
       "Name: histogram_tendency_bin, dtype: int64"
      ]
     },
     "execution_count": 77,
     "metadata": {},
     "output_type": "execute_result"
    }
   ],
   "source": [
    "#Discretizing the histogram_tendency column\n",
    "cut_label_histogram_tendency = ['1', '2', '3']\n",
    "\n",
    "cut_bins = [-2, -1, 0, 1]\n",
    "\n",
    "df['histogram_tendency_bin'] = pd.cut(df['histogram_tendency'], bins=cut_bins, labels=cut_label_histogram_tendency)\n",
    "\n",
    "# Finding counts of unique values\n",
    "df['histogram_tendency_bin'].value_counts()"
   ]
  },
  {
   "cell_type": "code",
   "execution_count": 78,
   "metadata": {},
   "outputs": [
    {
     "data": {
      "text/plain": [
       "1    1655\n",
       "2     295\n",
       "3     176\n",
       "Name: fetal_health, dtype: int64"
      ]
     },
     "execution_count": 78,
     "metadata": {},
     "output_type": "execute_result"
    }
   ],
   "source": [
    "df['fetal_health'].value_counts()"
   ]
  },
  {
   "cell_type": "markdown",
   "metadata": {},
   "source": [
    "# Q1:"
   ]
  },
  {
   "cell_type": "markdown",
   "metadata": {},
   "source": [
    "## Node Class"
   ]
  },
  {
   "cell_type": "code",
   "execution_count": 79,
   "metadata": {},
   "outputs": [],
   "source": [
    "#creating a node class for the decision tree\n",
    "class Node():\n",
    "    def __init__(self, feature_index=None,left=None,right=None,middle=None, value=None):\n",
    "       #constructor  \n",
    "        \n",
    "        # decision node\n",
    "        self.feature_index = feature_index\n",
    "        self.left = left\n",
    "        self.middle=middle\n",
    "        self.right = right\n",
    "        \n",
    "        # leaf node\n",
    "        self.value = value"
   ]
  },
  {
   "cell_type": "markdown",
   "metadata": {},
   "source": [
    "# Decision Tree classifier using Weight of Evidence(WOE)"
   ]
  },
  {
   "cell_type": "markdown",
   "metadata": {},
   "source": [
    "## This decision tree classifier is being designed by us to be used for one attribute based split or two attribute per node based split."
   ]
  },
  {
   "cell_type": "code",
   "execution_count": 80,
   "metadata": {},
   "outputs": [],
   "source": [
    "# class for decision tree classifier\n",
    "\n",
    "class DecisionTreeClassifier(): \n",
    "    def __init__(self, min_samples_split=3, max_depth=3, no_of_IV=0):\n",
    "        # constructor \n",
    "        \n",
    "        # root of the tree \n",
    "        self.root = None\n",
    "        \n",
    "        # Stopping Criteria\n",
    "        self.min_samples_split = min_samples_split\n",
    "        self.max_depth = max_depth\n",
    "        self.no_of_IV = no_of_IV \n",
    "        \n",
    "    def build_tree(self, dataset, curr_depth=0):  \n",
    "        # function to build the tree \n",
    "\n",
    "        X, Y = dataset.iloc[:,:-1].values, dataset.iloc[:,-1].values\n",
    "        num_samples, num_features = np.shape(X)\n",
    "        \n",
    "        # check the stopping criteria to split the node\n",
    "        if num_samples>=self.min_samples_split and curr_depth<=self.max_depth:\n",
    "            \n",
    "            best_split = self.get_best_split(dataset, num_samples, num_features)\n",
    "        \n",
    "            # building left subtree using recursion\n",
    "            left_subtree = self.build_tree(best_split[\"dataset_left\"], curr_depth+1)\n",
    "            \n",
    "            # building middle subtree using recursion\n",
    "            middle_subtree = self.build_tree(best_split[\"dataset_middle\"], curr_depth+1)\n",
    "\n",
    "            # building right subtree using recursion\n",
    "            right_subtree = self.build_tree(best_split[\"dataset_right\"], curr_depth+1)\n",
    "\n",
    "            # return the decision node\n",
    "            return Node(best_split[\"feature_index\"],left_subtree, middle_subtree, right_subtree)\n",
    "        \n",
    "       \n",
    "        # Finding the class leaf node\n",
    "        leaf_value = self.calculate_leaf_value(Y)\n",
    "        \n",
    "        # return the leaf node\n",
    "        return Node(value=leaf_value)\n",
    "      \n",
    "    def get_best_split(self, dataset, num_samples, num_features):\n",
    "        # Function to get the best split based on the IV value\n",
    "        \n",
    "        dataset = pd.DataFrame(dataset)\n",
    "        \n",
    "        best_split = {}\n",
    "        \n",
    "       \n",
    "        # dataframe for the continuous variables\n",
    "        df_con = dataset[['baseline value', 'accelerations', 'fetal_movement',\n",
    "       'uterine_contractions', 'light_decelerations', 'severe_decelerations',\n",
    "       'prolongued_decelerations', 'abnormal_short_term_variability',\n",
    "       'mean_value_of_short_term_variability',\n",
    "       'percentage_of_time_with_abnormal_long_term_variability',\n",
    "       'mean_value_of_long_term_variability', 'histogram_width',\n",
    "       'histogram_min', 'histogram_max', 'histogram_number_of_peaks',\n",
    "       'histogram_number_of_zeroes', 'histogram_mode', 'histogram_mean',\n",
    "       'histogram_median', 'histogram_variance', 'histogram_tendency']]\n",
    "        \n",
    "        # ataframe for the continuous variables including the bin variables \n",
    "        data = dataset[['baseline value', 'accelerations', 'fetal_movement',\n",
    "       'uterine_contractions', 'light_decelerations', 'severe_decelerations',\n",
    "       'prolongued_decelerations', 'abnormal_short_term_variability',\n",
    "       'mean_value_of_short_term_variability',\n",
    "       'percentage_of_time_with_abnormal_long_term_variability',\n",
    "       'mean_value_of_long_term_variability', 'histogram_width',\n",
    "       'histogram_min', 'histogram_max', 'histogram_number_of_peaks',\n",
    "       'histogram_number_of_zeroes', 'histogram_mode', 'histogram_mean',\n",
    "       'histogram_median', 'histogram_variance', 'histogram_tendency',\n",
    "       'baseline value_bin', 'accelerations_bin', 'fetal_movement_bin',\n",
    "       'uterine_contractions_bin', 'light_decelerations_bin', 'severe_decelerations_bin',\n",
    "       'prolongued_decelerations_bin', 'abnormal_short_term_variability_bin',\n",
    "       'mean_value_of_short_term_variability_bin',\n",
    "       'percentage_of_time_with_abnormal_long_term_variability_bin',\n",
    "       'mean_value_of_long_term_variability_bin', 'histogram_width_bin',\n",
    "       'histogram_min_bin', 'histogram_max_bin', 'histogram_number_of_peaks_bin',\n",
    "       'histogram_number_of_zeroes_bin', 'histogram_mode_bin', 'histogram_mean_bin',\n",
    "       'histogram_median_bin', 'histogram_variance_bin', 'histogram_tendency_bin']]\n",
    "\n",
    "        #Target Class\n",
    "        target = 'fetal_health' \n",
    "    \n",
    "        #lists containing IV values for continuous variables\n",
    "        \n",
    "        iv_con=[]\n",
    "        iv_con_col_name =[]\n",
    "        \n",
    "        # column names \n",
    "       \n",
    "        feature_con = df_con.columns\n",
    "      \n",
    "            \n",
    "        #lists containing Information Value(IV) values for continuous variables\n",
    "        for col in feature_con:\n",
    "            df2, iv2 = self.calculate_woe_iv_con(df_con,data, col, target)\n",
    "            iv_con.append(iv2)\n",
    "            iv_con_col_name.append(col)\n",
    "            \n",
    "        #concatenating the IV values and their corresponding attributes into one list\n",
    "        iv_col = iv_con_col_name\n",
    "        iv=iv_con\n",
    "\n",
    "        my_dict = {\"col\":iv_col,\"iv\":iv};\n",
    "        new = pd.DataFrame.from_dict(my_dict)\n",
    "        \n",
    "        #sorting the dataframe containg IV values in decreasing order \n",
    "#       and filtering only relevant IV values\n",
    "        new_df = new.sort_values(by=['iv'], ascending=False)\n",
    "        new_df1 =new_df[new_df['iv']<=0.5]\n",
    "\n",
    "        #creating list of best one or two feature numbers/index  \n",
    "        a=[]\n",
    "        for i in range(self.no_of_IV):\n",
    "            l=new_df1.index[new_df1['iv']==new_df1.iloc[i]['iv']] #returns list\n",
    "            a.append(l)\n",
    "\n",
    "        dataset1 =dataset.iloc[:,:43]\n",
    "        feature_ind = []\n",
    "        for s in a:\n",
    "            feature_ind.append(s.item()+1)\n",
    "            \n",
    "        y = dataset.iloc[:, 42].values\n",
    "        z=dataset.iloc[:,feature_ind].values\n",
    "        y=y.reshape(y.shape[0], 1)\n",
    "        z=z.reshape(z.shape[0], len(a))\n",
    "        \n",
    "        #calling logistic regression to calculate new feature for splitting the node\n",
    "        result= self.logistic_split(y, z, dataset1)\n",
    "        \n",
    "        dataset_right = pd.DataFrame()\n",
    "        dataset_middle = pd.DataFrame()\n",
    "        dataset_left = pd.DataFrame()\n",
    "        \n",
    "        #splitting the node\n",
    "        dataset_left,dataset_middle, dataset_right = self.split(result)\n",
    "        \n",
    "        # decision node values on best split\n",
    "        best_split[\"feature_index\"] = feature_ind\n",
    "        best_split[\"dataset_left\"] = dataset_left\n",
    "        best_split[\"dataset_middle\"] = dataset_middle\n",
    "        best_split[\"dataset_right\"] = dataset_right\n",
    "        \n",
    "        \n",
    "        return best_split\n",
    "    \n",
    "    def split(self, dataset): \n",
    "        \n",
    "        # function to split the data \n",
    "        dataset_left = dataset[dataset.iloc[:,-1] == 1]\n",
    "        dataset_middle = dataset[dataset.iloc[:,-1] == 2]\n",
    "        dataset_right = dataset[dataset.iloc[:,-1] == 3]\n",
    "        \n",
    "        return dataset_left, dataset_middle, dataset_right\n",
    "    \n",
    "    def logistic_split(self, y_train, X_train, dataset):\n",
    "\n",
    "        # create logistic regression classifier using IV values\n",
    "        LR=LogisticRegression(C=0.1,max_iter=1000,solver='newton-cg',random_state=1)\n",
    "      \n",
    "        y_train=y_train.astype('int')\n",
    "        LR.fit(X_train,y_train)\n",
    "          \n",
    "        #compute probabilities\n",
    "        prob=LR.predict_proba(X_train)\n",
    "        \n",
    "        #create list with predicted values from logistic regression classifier\n",
    "        LRPredict_train=[]\n",
    "        for i in range(len(y_train)):\n",
    "            if(prob[i][0]>0.333):\n",
    "                LRPredict_train.append(1)\n",
    "            elif(prob[i][0]>0.333):\n",
    "                LRPredict_train.append(2)\n",
    "            else : \n",
    "                LRPredict_train.append(3)\n",
    "\n",
    "        LRPredict_train=np.array(LRPredict_train)     \n",
    "       \n",
    "        a=pd.DataFrame(dataset.iloc[:,:43])\n",
    "        c=pd.DataFrame(LRPredict_train)\n",
    "\n",
    "        a.reset_index(drop=True, inplace=True)\n",
    "        c.reset_index(drop=True, inplace=True)\n",
    "    \n",
    "        # Create concatenated dataframe containing given class label and predicted class label\n",
    "        frames = [a,c]  \n",
    "        result = pd.concat(frames, axis=1) \n",
    "\n",
    "        return result\n",
    "    \n",
    "    def calculate_leaf_value(self, Y):\n",
    "        # function to compute the leaf node \n",
    "        Y = list(Y)\n",
    "        \n",
    "        # the most frequent value is returned as the class label and in case of an empty sequence return nan \n",
    "        return max(Y, key=Y.count, default=np.nan)\n",
    "    \n",
    "    def print_tree(self, tree=None, indent=\" \"):\n",
    "        # function to print the tree \n",
    "        threshold=0.333\n",
    "        if not tree:\n",
    "            tree = self.root\n",
    "\n",
    "        if tree.value is not None:\n",
    "            print(tree.value)\n",
    "\n",
    "        else:\n",
    "            print(\"X_\"+str(tree.feature_index), \"<=\", threshold)\n",
    "            print(\"%sleft:\" % (indent), end=\"\")\n",
    "            self.print_tree(tree.left, indent + indent)\n",
    "            print(\"%smiddle:\" % (indent), end=\"\")\n",
    "            self.print_tree(tree.middle, indent + indent)\n",
    "            print(\"%sright:\" % (indent), end=\"\")\n",
    "            self.print_tree(tree.right, indent + indent)\n",
    "    \n",
    "    def fit(self, X, Y):\n",
    "        # function to train the tree \n",
    "        \n",
    "        dataset = np.concatenate((X, Y), axis=1)\n",
    "        dataset = pd.DataFrame(dataset)\n",
    "        dataset.columns = ['baseline value', 'accelerations', 'fetal_movement',\n",
    "       'uterine_contractions', 'light_decelerations', 'severe_decelerations',\n",
    "       'prolongued_decelerations', 'abnormal_short_term_variability',\n",
    "       'mean_value_of_short_term_variability',\n",
    "       'percentage_of_time_with_abnormal_long_term_variability',\n",
    "       'mean_value_of_long_term_variability', 'histogram_width',\n",
    "       'histogram_min', 'histogram_max', 'histogram_number_of_peaks',\n",
    "       'histogram_number_of_zeroes', 'histogram_mode', 'histogram_mean',\n",
    "       'histogram_median', 'histogram_variance', 'histogram_tendency',\n",
    "       'baseline value_bin', 'accelerations_bin', 'fetal_movement_bin',\n",
    "       'uterine_contractions_bin', 'light_decelerations_bin', 'severe_decelerations_bin',\n",
    "       'prolongued_decelerations_bin', 'abnormal_short_term_variability_bin',\n",
    "       'mean_value_of_short_term_variability_bin',\n",
    "       'percentage_of_time_with_abnormal_long_term_variability_bin',\n",
    "       'mean_value_of_long_term_variability_bin', 'histogram_width_bin',\n",
    "       'histogram_min_bin', 'histogram_max_bin', 'histogram_number_of_peaks_bin',\n",
    "       'histogram_number_of_zeroes_bin', 'histogram_mode_bin', 'histogram_mean_bin',\n",
    "       'histogram_median_bin', 'histogram_variance_bin', 'histogram_tendency_bin','fetal_health']\n",
    "      \n",
    "        self.root = self.build_tree(dataset, 0)\n",
    "    \n",
    "       \n",
    "    def calculate_woe_iv_con(self, df,data, feature, target):\n",
    "    #function to calculate WOE and IV for continuous variables\n",
    "    \n",
    "        #creating column names for features whose bins are created \n",
    "        feat_bin = feature + '_bin'\n",
    "\n",
    "        grouped_df = data.groupby(feat_bin).sum()\n",
    "        grouped_df.reset_index(level=0, inplace=True)\n",
    "\n",
    "        a=data[feat_bin].value_counts().to_dict()\n",
    "        d=grouped_df[[feat_bin,feature]]\n",
    "        d.columns = ['bin','sum']\n",
    "        d['obs'] = d['bin'].map(a)\n",
    "        d = d.astype(float)\n",
    "        d['percent_obs'] = d['obs']/(d['obs'].sum()) * 100\n",
    "        d['percent_Y'] = (d['sum']/d['sum'].sum()) * 100\n",
    "        d['WOE'] = np.log(d['percent_Y']/d['percent_obs'])\n",
    "        d['IV'] = (d['percent_Y']/100 - d['percent_obs']/100) * d['WOE']\n",
    "        sum_of_IV=d['IV'].sum()\n",
    "\n",
    "        return d, sum_of_IV\n",
    "    \n",
    "    def predict(self, X):\n",
    "        # function to predict new dataset \n",
    "        predictions = [self.make_prediction(x, self.root) for x in X]\n",
    "        return predictions\n",
    "    \n",
    "    def make_prediction(self, x, tree):\n",
    "        threshold1 = 2\n",
    "        threshold2 = 3\n",
    "        # function to predict a single data point \n",
    "        if tree.value!=None: return tree.value\n",
    "        feature_val = x[-1]\n",
    "        if int(feature_val)<threshold1:\n",
    "            return self.make_prediction(x, tree.left)\n",
    "        elif int(feature_val)>=threshold1 & int(feature_val)<threshold2:\n",
    "            return self.make_prediction(x, tree.middle)\n",
    "        else:\n",
    "            return self.make_prediction(x, tree.right)\n",
    "    "
   ]
  },
  {
   "cell_type": "markdown",
   "metadata": {},
   "source": [
    "## Train-Test split using 80:20 ratio as given in question"
   ]
  },
  {
   "cell_type": "code",
   "execution_count": 81,
   "metadata": {},
   "outputs": [],
   "source": [
    "#create target variable dataframe\n",
    "target = df[['fetal_health']]\n",
    "#create dataframe with independent variables\n",
    "df = df.drop(columns = 'fetal_health')"
   ]
  },
  {
   "cell_type": "code",
   "execution_count": 82,
   "metadata": {},
   "outputs": [],
   "source": [
    "#concat the dataframe\n",
    "df = pd.concat([df,target],axis =1)"
   ]
  },
  {
   "cell_type": "code",
   "execution_count": 83,
   "metadata": {},
   "outputs": [],
   "source": [
    "# splitting the dataset into input variables and target variables\n",
    "\n",
    "X = df.iloc[:, :-1].values\n",
    "Y = df.iloc[:, -1].values.reshape(-1,1)\n",
    "\n",
    "#split the data into train and test part\n",
    "X_train, X_test, Y_train, Y_test = train_test_split(X, Y, test_size=.20, random_state=1)\n"
   ]
  },
  {
   "cell_type": "markdown",
   "metadata": {},
   "source": [
    "# Fit the model using one attribute for the split and visualize it"
   ]
  },
  {
   "cell_type": "code",
   "execution_count": 84,
   "metadata": {
    "scrolled": true
   },
   "outputs": [
    {
     "name": "stdout",
     "output_type": "stream",
     "text": [
      "X_[9] <= 0.333\n",
      " left:X_[9] <= 0.333\n",
      "  left:X_[9] <= 0.333\n",
      "    left:X_[9] <= 0.333\n",
      "        left:X_[9] <= 0.333\n",
      "                left:X_[9] <= 0.333\n",
      "                                left:X_[9] <= 0.333\n",
      "                                                                left:1\n",
      "                                                                middle:3\n",
      "                                                                right:nan\n",
      "                                middle:3\n",
      "                                right:nan\n",
      "                middle:3\n",
      "                right:nan\n",
      "        middle:3\n",
      "        right:nan\n",
      "    middle:3\n",
      "    right:nan\n",
      "  middle:3\n",
      "  right:nan\n",
      " middle:3\n",
      " right:nan\n"
     ]
    }
   ],
   "source": [
    "#train the model \n",
    "classifier1 = DecisionTreeClassifier(min_samples_split=140, max_depth=6, no_of_IV=1)\n",
    "classifier1.fit(X_train,Y_train)\n",
    "\n",
    "# #Print the tree\n",
    "classifier1.print_tree()"
   ]
  },
  {
   "cell_type": "markdown",
   "metadata": {},
   "source": [
    "## Predictions on the test data for model with one attribute for the split"
   ]
  },
  {
   "cell_type": "code",
   "execution_count": 85,
   "metadata": {},
   "outputs": [
    {
     "data": {
      "text/plain": [
       "0.07746478873239436"
      ]
     },
     "execution_count": 85,
     "metadata": {},
     "output_type": "execute_result"
    }
   ],
   "source": [
    "#make predictions\n",
    "Y_pred1 = classifier1.predict(X_test) \n",
    "from sklearn.metrics import accuracy_score\n",
    "\n",
    "#print the accuracy score\n",
    "accuracy_score(Y_test, Y_pred1)"
   ]
  },
  {
   "cell_type": "code",
   "execution_count": 86,
   "metadata": {},
   "outputs": [
    {
     "name": "stdout",
     "output_type": "stream",
     "text": [
      "              precision    recall  f1-score   support\n",
      "\n",
      "           1       0.57      0.05      0.09       337\n",
      "           2       0.00      0.00      0.00        63\n",
      "           3       0.04      0.65      0.08        26\n",
      "\n",
      "    accuracy                           0.08       426\n",
      "   macro avg       0.20      0.23      0.06       426\n",
      "weighted avg       0.45      0.08      0.07       426\n",
      "\n"
     ]
    }
   ],
   "source": [
    "# Print the classification report containing precision, recall, f1-score, support\n",
    "print(metrics.classification_report(Y_test, Y_pred1))\n",
    "\n",
    "# #print the ROC_AUC score\n",
    "# print (roc_auc_score(Y_test, Y_pred1))"
   ]
  },
  {
   "cell_type": "markdown",
   "metadata": {},
   "source": [
    "## Fit the model using two attributes for the split and visualize it"
   ]
  },
  {
   "cell_type": "code",
   "execution_count": 87,
   "metadata": {
    "scrolled": true
   },
   "outputs": [
    {
     "name": "stdout",
     "output_type": "stream",
     "text": [
      "X_[9, 12] <= 0.333\n",
      " left:X_[9, 12] <= 0.333\n",
      "  left:X_[9, 12] <= 0.333\n",
      "    left:X_[9, 12] <= 0.333\n",
      "        left:X_[9, 12] <= 0.333\n",
      "                left:X_[9, 12] <= 0.333\n",
      "                                left:X_[9, 12] <= 0.333\n",
      "                                                                left:1\n",
      "                                                                middle:3\n",
      "                                                                right:nan\n",
      "                                middle:3\n",
      "                                right:nan\n",
      "                middle:3\n",
      "                right:nan\n",
      "        middle:3\n",
      "        right:nan\n",
      "    middle:3\n",
      "    right:nan\n",
      "  middle:3\n",
      "  right:nan\n",
      " middle:3\n",
      " right:nan\n"
     ]
    }
   ],
   "source": [
    "#train the model\n",
    "classifier2 = DecisionTreeClassifier(min_samples_split=150, max_depth=6, no_of_IV=2)\n",
    "classifier2.fit(X_train,Y_train)\n",
    "\n",
    "# #Print the tree\n",
    "classifier2.print_tree()"
   ]
  },
  {
   "cell_type": "markdown",
   "metadata": {},
   "source": [
    "## Predictions on the test data for model with two attributes for the split"
   ]
  },
  {
   "cell_type": "code",
   "execution_count": 88,
   "metadata": {},
   "outputs": [
    {
     "data": {
      "text/plain": [
       "0.07746478873239436"
      ]
     },
     "execution_count": 88,
     "metadata": {},
     "output_type": "execute_result"
    }
   ],
   "source": [
    "#make predictions\n",
    "Y_pred2 = classifier2.predict(X_test) \n",
    "from sklearn.metrics import accuracy_score\n",
    "\n",
    "#print the accuracy score\n",
    "accuracy_score(Y_test, Y_pred2)"
   ]
  },
  {
   "cell_type": "code",
   "execution_count": 89,
   "metadata": {},
   "outputs": [
    {
     "name": "stdout",
     "output_type": "stream",
     "text": [
      "              precision    recall  f1-score   support\n",
      "\n",
      "           1       0.57      0.05      0.09       337\n",
      "           2       0.00      0.00      0.00        63\n",
      "           3       0.04      0.65      0.08        26\n",
      "\n",
      "    accuracy                           0.08       426\n",
      "   macro avg       0.20      0.23      0.06       426\n",
      "weighted avg       0.45      0.08      0.07       426\n",
      "\n"
     ]
    }
   ],
   "source": [
    "# Print the classification report containing precision, recall, f1-score, support\n",
    "print(metrics.classification_report(Y_test, Y_pred2))\n",
    "\n",
    "#You can't use roc_auc as a single summary metric for multiclass models.\n",
    "# print (roc_auc_score(Y_test, Y_pred2))"
   ]
  },
  {
   "cell_type": "markdown",
   "metadata": {},
   "source": [
    "# Q2:"
   ]
  },
  {
   "cell_type": "markdown",
   "metadata": {},
   "source": [
    "## Visualize custom made decision tree using one attribute "
   ]
  },
  {
   "cell_type": "code",
   "execution_count": 90,
   "metadata": {
    "scrolled": true
   },
   "outputs": [
    {
     "name": "stdout",
     "output_type": "stream",
     "text": [
      "X_[9] <= 0.333\n",
      " left:X_[9] <= 0.333\n",
      "  left:X_[9] <= 0.333\n",
      "    left:X_[9] <= 0.333\n",
      "        left:X_[9] <= 0.333\n",
      "                left:X_[9] <= 0.333\n",
      "                                left:X_[9] <= 0.333\n",
      "                                                                left:1\n",
      "                                                                middle:3\n",
      "                                                                right:nan\n",
      "                                middle:3\n",
      "                                right:nan\n",
      "                middle:3\n",
      "                right:nan\n",
      "        middle:3\n",
      "        right:nan\n",
      "    middle:3\n",
      "    right:nan\n",
      "  middle:3\n",
      "  right:nan\n",
      " middle:3\n",
      " right:nan\n"
     ]
    }
   ],
   "source": [
    "# #Print the tree\n",
    "classifier1.print_tree()"
   ]
  },
  {
   "cell_type": "code",
   "execution_count": 91,
   "metadata": {},
   "outputs": [],
   "source": [
    "# column 9 is percentage_of_time_with_abnormal_long_term_variability \n",
    "\n",
    "# The rules can be visualized using tree generated\n",
    "# if probability (percentage_of_time_with_abnormal_long_term_variability) < =0.333  then class = 1 "
   ]
  },
  {
   "cell_type": "markdown",
   "metadata": {},
   "source": [
    "## Visualize custom made decision tree using two attribute "
   ]
  },
  {
   "cell_type": "code",
   "execution_count": 92,
   "metadata": {
    "scrolled": true
   },
   "outputs": [
    {
     "name": "stdout",
     "output_type": "stream",
     "text": [
      "X_[9, 12] <= 0.333\n",
      " left:X_[9, 12] <= 0.333\n",
      "  left:X_[9, 12] <= 0.333\n",
      "    left:X_[9, 12] <= 0.333\n",
      "        left:X_[9, 12] <= 0.333\n",
      "                left:X_[9, 12] <= 0.333\n",
      "                                left:X_[9, 12] <= 0.333\n",
      "                                                                left:1\n",
      "                                                                middle:3\n",
      "                                                                right:nan\n",
      "                                middle:3\n",
      "                                right:nan\n",
      "                middle:3\n",
      "                right:nan\n",
      "        middle:3\n",
      "        right:nan\n",
      "    middle:3\n",
      "    right:nan\n",
      "  middle:3\n",
      "  right:nan\n",
      " middle:3\n",
      " right:nan\n"
     ]
    }
   ],
   "source": [
    "# #Print the tree\n",
    "classifier2.print_tree()"
   ]
  },
  {
   "cell_type": "code",
   "execution_count": 93,
   "metadata": {
    "scrolled": true
   },
   "outputs": [
    {
     "data": {
      "text/plain": [
       "Index(['baseline value', 'accelerations', 'fetal_movement',\n",
       "       'uterine_contractions', 'light_decelerations', 'severe_decelerations',\n",
       "       'prolongued_decelerations', 'abnormal_short_term_variability',\n",
       "       'mean_value_of_short_term_variability',\n",
       "       'percentage_of_time_with_abnormal_long_term_variability',\n",
       "       'mean_value_of_long_term_variability', 'histogram_width',\n",
       "       'histogram_min', 'histogram_max', 'histogram_number_of_peaks',\n",
       "       'histogram_number_of_zeroes', 'histogram_mode', 'histogram_mean',\n",
       "       'histogram_median', 'histogram_variance', 'histogram_tendency',\n",
       "       'baseline value_bin', 'accelerations_bin', 'fetal_movement_bin',\n",
       "       'uterine_contractions_bin', 'light_decelerations_bin',\n",
       "       'severe_decelerations_bin', 'prolongued_decelerations_bin',\n",
       "       'abnormal_short_term_variability_bin',\n",
       "       'mean_value_of_short_term_variability_bin',\n",
       "       'percentage_of_time_with_abnormal_long_term_variability_bin',\n",
       "       'mean_value_of_long_term_variability_bin', 'histogram_width_bin',\n",
       "       'histogram_min_bin', 'histogram_max_bin',\n",
       "       'histogram_number_of_peaks_bin', 'histogram_number_of_zeroes_bin',\n",
       "       'histogram_mode_bin', 'histogram_mean_bin', 'histogram_median_bin',\n",
       "       'histogram_variance_bin', 'histogram_tendency_bin', 'fetal_health'],\n",
       "      dtype='object')"
      ]
     },
     "execution_count": 93,
     "metadata": {},
     "output_type": "execute_result"
    }
   ],
   "source": [
    "df.columns"
   ]
  },
  {
   "cell_type": "code",
   "execution_count": 94,
   "metadata": {},
   "outputs": [],
   "source": [
    "# column 9 is percentage_of_time_with_abnormal_long_term_variability and column 12 is histogram_min\n",
    "\n",
    "# The rules can be visualized using the tree generated\n",
    "# if probability (percentage_of_time_with_abnormal_long_term_variability and histogram_min) < =0.333 then class =1 "
   ]
  },
  {
   "cell_type": "markdown",
   "metadata": {},
   "source": [
    "## Normal Decision Tree"
   ]
  },
  {
   "cell_type": "code",
   "execution_count": 95,
   "metadata": {
    "scrolled": true
   },
   "outputs": [
    {
     "name": "stdout",
     "output_type": "stream",
     "text": [
      "0.9295774647887324\n",
      "              precision    recall  f1-score   support\n",
      "\n",
      "           1       0.94      0.98      0.96       337\n",
      "           2       0.91      0.65      0.76        63\n",
      "           3       0.86      0.96      0.91        26\n",
      "\n",
      "    accuracy                           0.93       426\n",
      "   macro avg       0.90      0.86      0.88       426\n",
      "weighted avg       0.93      0.93      0.93       426\n",
      "\n"
     ]
    }
   ],
   "source": [
    "from sklearn.tree import DecisionTreeClassifier\n",
    "\n",
    "# Train the decision tree classifier using scikit learn\n",
    "dt = DecisionTreeClassifier(criterion='gini', min_samples_split=140,min_samples_leaf=1, max_depth=6)\n",
    "dt.fit(X_train,Y_train)\n",
    "\n",
    "#Make Predictions\n",
    "Y_pred = dt.predict(X_test)\n",
    "\n",
    "#print the accuracy score\n",
    "print(accuracy_score(Y_test, Y_pred))\n",
    "\n",
    "# Print the classification report containing precision, recall, f1-score, support\n",
    "print(metrics.classification_report(Y_test, Y_pred))\n",
    "\n",
    "# You can't use roc_auc as a single summary metric for multiclass models.\n",
    "# print(roc_auc_score(Y_test, Y_pred))"
   ]
  },
  {
   "cell_type": "code",
   "execution_count": 96,
   "metadata": {},
   "outputs": [
    {
     "data": {
      "image/png": "[encoded data removed]",
      "text/plain": [
       "<Figure size 1440x720 with 1 Axes>"
      ]
     },
     "metadata": {
      "needs_background": "light"
     },
     "output_type": "display_data"
    }
   ],
   "source": [
    "from sklearn import tree\n",
    "plt.figure(figsize=(20,10))\n",
    "tree.plot_tree(dt);"
   ]
  },
  {
   "cell_type": "markdown",
   "metadata": {},
   "source": [
    "# Comparision and observations from visualizing the splits"
   ]
  },
  {
   "cell_type": "markdown",
   "metadata": {},
   "source": [
    "#### The custom made decision tree using WOE and logistic regression generates rules based on probabilities as thresholds."
   ]
  },
  {
   "cell_type": "markdown",
   "metadata": {},
   "source": [
    "#### However, the normal decision tree generates rules using attribute values as thresholds"
   ]
  },
  {
   "cell_type": "markdown",
   "metadata": {},
   "source": [
    "#### This is evident from the visualizations provided above"
   ]
  },
  {
   "cell_type": "markdown",
   "metadata": {},
   "source": [
    "# Q3:"
   ]
  },
  {
   "cell_type": "markdown",
   "metadata": {},
   "source": [
    "## Model using 5 fold Cross validation"
   ]
  },
  {
   "cell_type": "code",
   "execution_count": 97,
   "metadata": {},
   "outputs": [
    {
     "name": "stdout",
     "output_type": "stream",
     "text": [
      "              precision    recall  f1-score   support\n",
      "\n",
      "           1       0.90      0.93      0.92      1655\n",
      "           2       0.65      0.61      0.63       295\n",
      "           3       0.84      0.61      0.71       176\n",
      "\n",
      "    accuracy                           0.86      2126\n",
      "   macro avg       0.80      0.72      0.75      2126\n",
      "weighted avg       0.86      0.86      0.86      2126\n",
      "\n"
     ]
    }
   ],
   "source": [
    "from sklearn.model_selection import cross_val_predict\n",
    "y_pred_cv=cross_val_predict(dt,X,Y,cv=5)\n",
    "\n",
    "#print the accuracy score\n",
    "accuracy_score(Y, y_pred_cv)\n",
    "\n",
    "# Print the classification report containing precision, recall, f1-score, support\n",
    "print(metrics.classification_report(Y, y_pred_cv))\n",
    "\n",
    "# You can't use roc_auc as a single summary metric for multiclass models.\n",
    "# print(roc_auc_score(Y, y_pred_cv))"
   ]
  },
  {
   "cell_type": "markdown",
   "metadata": {},
   "source": [
    "## Student t test for single attribute "
   ]
  },
  {
   "cell_type": "code",
   "execution_count": 98,
   "metadata": {},
   "outputs": [
    {
     "data": {
      "text/plain": [
       "Ttest_indResult(statistic=array([-43.85251182]), pvalue=array([1.83173296e-220]))"
      ]
     },
     "execution_count": 98,
     "metadata": {},
     "output_type": "execute_result"
    }
   ],
   "source": [
    "import scipy.stats as stats\n",
    " \n",
    "# Perform the two sample t-test with equal variances\n",
    "stats.ttest_ind(a=Y_test, b=Y_pred1, equal_var=True)"
   ]
  },
  {
   "cell_type": "markdown",
   "metadata": {},
   "source": [
    "Two sample t-test has the following hypothesis:\n",
    "\n",
    "H0 => µ1 = µ2 (population mean of given class labels is equal to the mean of the predicted class labels)\n",
    "\n",
    "HA => µ1 ≠µ2 (population mean of given class labels is different from the mean of the predicted class labels)\n",
    "\n",
    "Here, since the p-value (1.83173296e-220) is less than alpha = 0.05 so we reject the null hypothesis (H0) of the test."
   ]
  },
  {
   "cell_type": "markdown",
   "metadata": {},
   "source": [
    "## Student t test for two attributes "
   ]
  },
  {
   "cell_type": "code",
   "execution_count": 99,
   "metadata": {},
   "outputs": [
    {
     "data": {
      "text/plain": [
       "Ttest_indResult(statistic=array([-43.85251182]), pvalue=array([1.83173296e-220]))"
      ]
     },
     "execution_count": 99,
     "metadata": {},
     "output_type": "execute_result"
    }
   ],
   "source": [
    "import scipy.stats as stats\n",
    " \n",
    "# Perform the two sample t-test with equal variances\n",
    "stats.ttest_ind(a=Y_test, b=Y_pred2, equal_var=True)"
   ]
  },
  {
   "cell_type": "markdown",
   "metadata": {},
   "source": [
    "Two sample t-test has the following hypothesis:\n",
    "\n",
    "H0 => µ1 = µ2 (population mean of given class labels is equal to the mean of the predicted class labels)\n",
    "\n",
    "HA => µ1 ≠µ2 (population mean of given class labels is different from the mean of the predicted class labels)\n",
    "\n",
    "Here, since the p-value (1.83173296e-220) is less than alpha = 0.05 so we reject the null hypothesis (H0) of the test."
   ]
  },
  {
   "cell_type": "code",
   "execution_count": 100,
   "metadata": {},
   "outputs": [],
   "source": [
    "# Since the accuracy of both the models is similar ,the possible reason for this may be that when we are taking two \n",
    "# attributes for making the model both of them are possibly correlated with each other.\n",
    "\n",
    "#Hence, the presence of two attributes per node versus one attribute per node both are generating similar results in terms\n",
    "# of precision, recall, F1 score and accuracy ."
   ]
  },
  {
   "cell_type": "code",
   "execution_count": null,
   "metadata": {},
   "outputs": [],
   "source": []
  }
 ],
 "metadata": {
  "kernelspec": {
   "display_name": "Python 3",
   "language": "python",
   "name": "python3"
  },
  "language_info": {
   "codemirror_mode": {
    "name": "ipython",
    "version": 3
   },
   "file_extension": ".py",
   "mimetype": "text/x-python",
   "name": "python",
   "nbconvert_exporter": "python",
   "pygments_lexer": "ipython3",
   "version": "3.8.3"
  }
 },
 "nbformat": 4,
 "nbformat_minor": 4
}
