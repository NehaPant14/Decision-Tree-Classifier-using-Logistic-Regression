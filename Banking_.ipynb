{
 "cells": [
  {
   "cell_type": "markdown",
   "metadata": {},
   "source": [
    "# Dataset 3 - Banking Dataset"
   ]
  },
  {
   "cell_type": "code",
   "execution_count": 1,
   "metadata": {},
   "outputs": [],
   "source": [
    "#import all necessary libraries\n",
    "import pandas as pd\n",
    "import numpy as np\n",
    "from sklearn.model_selection import train_test_split\n",
    "from sklearn import metrics\n",
    "import statsmodels.api as sm\n",
    "from sklearn.tree import DecisionTreeClassifier\n",
    "from sklearn.linear_model import LogisticRegression\n",
    "from sklearn.metrics import accuracy_score, roc_auc_score\n",
    "import matplotlib.pyplot as plt\n",
    "import warnings\n",
    "warnings.filterwarnings(\"ignore\")"
   ]
  },
  {
   "cell_type": "code",
   "execution_count": 2,
   "metadata": {},
   "outputs": [],
   "source": [
    "#Load the dataset into memory\n",
    "df = pd.read_csv('banking.csv')"
   ]
  },
  {
   "cell_type": "code",
   "execution_count": 3,
   "metadata": {},
   "outputs": [
    {
     "data": {
      "text/plain": [
       "age               0\n",
       "job               0\n",
       "marital           0\n",
       "education         0\n",
       "default           0\n",
       "housing           0\n",
       "loan              0\n",
       "contact           0\n",
       "month             0\n",
       "day_of_week       0\n",
       "duration          0\n",
       "campaign          0\n",
       "pdays             0\n",
       "previous          0\n",
       "poutcome          0\n",
       "emp_var_rate      0\n",
       "cons_price_idx    0\n",
       "cons_conf_idx     0\n",
       "euribor3m         0\n",
       "nr_employed       0\n",
       "y                 0\n",
       "dtype: int64"
      ]
     },
     "execution_count": 3,
     "metadata": {},
     "output_type": "execute_result"
    }
   ],
   "source": [
    "df.isna().sum()"
   ]
  },
  {
   "cell_type": "code",
   "execution_count": 4,
   "metadata": {},
   "outputs": [],
   "source": [
    "#Dropping rows with null values\n",
    "# df = df.dropna()"
   ]
  },
  {
   "cell_type": "code",
   "execution_count": 5,
   "metadata": {},
   "outputs": [
    {
     "data": {
      "text/plain": [
       "(41188, 21)"
      ]
     },
     "execution_count": 5,
     "metadata": {},
     "output_type": "execute_result"
    }
   ],
   "source": [
    "#display shape\n",
    "df.shape"
   ]
  },
  {
   "cell_type": "code",
   "execution_count": 6,
   "metadata": {},
   "outputs": [
    {
     "data": {
      "text/html": [
       "<div>\n",
       "<style scoped>\n",
       "    .dataframe tbody tr th:only-of-type {\n",
       "        vertical-align: middle;\n",
       "    }\n",
       "\n",
       "    .dataframe tbody tr th {\n",
       "        vertical-align: top;\n",
       "    }\n",
       "\n",
       "    .dataframe thead th {\n",
       "        text-align: right;\n",
       "    }\n",
       "</style>\n",
       "<table border=\"1\" class=\"dataframe\">\n",
       "  <thead>\n",
       "    <tr style=\"text-align: right;\">\n",
       "      <th></th>\n",
       "      <th>age</th>\n",
       "      <th>job</th>\n",
       "      <th>marital</th>\n",
       "      <th>education</th>\n",
       "      <th>default</th>\n",
       "      <th>housing</th>\n",
       "      <th>loan</th>\n",
       "      <th>contact</th>\n",
       "      <th>month</th>\n",
       "      <th>day_of_week</th>\n",
       "      <th>...</th>\n",
       "      <th>campaign</th>\n",
       "      <th>pdays</th>\n",
       "      <th>previous</th>\n",
       "      <th>poutcome</th>\n",
       "      <th>emp_var_rate</th>\n",
       "      <th>cons_price_idx</th>\n",
       "      <th>cons_conf_idx</th>\n",
       "      <th>euribor3m</th>\n",
       "      <th>nr_employed</th>\n",
       "      <th>y</th>\n",
       "    </tr>\n",
       "  </thead>\n",
       "  <tbody>\n",
       "    <tr>\n",
       "      <th>0</th>\n",
       "      <td>44</td>\n",
       "      <td>blue-collar</td>\n",
       "      <td>married</td>\n",
       "      <td>basic.4y</td>\n",
       "      <td>unknown</td>\n",
       "      <td>yes</td>\n",
       "      <td>no</td>\n",
       "      <td>cellular</td>\n",
       "      <td>aug</td>\n",
       "      <td>thu</td>\n",
       "      <td>...</td>\n",
       "      <td>1</td>\n",
       "      <td>999</td>\n",
       "      <td>0</td>\n",
       "      <td>nonexistent</td>\n",
       "      <td>1.4</td>\n",
       "      <td>93.444</td>\n",
       "      <td>-36.1</td>\n",
       "      <td>4.963</td>\n",
       "      <td>5228.1</td>\n",
       "      <td>0</td>\n",
       "    </tr>\n",
       "    <tr>\n",
       "      <th>1</th>\n",
       "      <td>53</td>\n",
       "      <td>technician</td>\n",
       "      <td>married</td>\n",
       "      <td>unknown</td>\n",
       "      <td>no</td>\n",
       "      <td>no</td>\n",
       "      <td>no</td>\n",
       "      <td>cellular</td>\n",
       "      <td>nov</td>\n",
       "      <td>fri</td>\n",
       "      <td>...</td>\n",
       "      <td>1</td>\n",
       "      <td>999</td>\n",
       "      <td>0</td>\n",
       "      <td>nonexistent</td>\n",
       "      <td>-0.1</td>\n",
       "      <td>93.200</td>\n",
       "      <td>-42.0</td>\n",
       "      <td>4.021</td>\n",
       "      <td>5195.8</td>\n",
       "      <td>0</td>\n",
       "    </tr>\n",
       "    <tr>\n",
       "      <th>2</th>\n",
       "      <td>28</td>\n",
       "      <td>management</td>\n",
       "      <td>single</td>\n",
       "      <td>university.degree</td>\n",
       "      <td>no</td>\n",
       "      <td>yes</td>\n",
       "      <td>no</td>\n",
       "      <td>cellular</td>\n",
       "      <td>jun</td>\n",
       "      <td>thu</td>\n",
       "      <td>...</td>\n",
       "      <td>3</td>\n",
       "      <td>6</td>\n",
       "      <td>2</td>\n",
       "      <td>success</td>\n",
       "      <td>-1.7</td>\n",
       "      <td>94.055</td>\n",
       "      <td>-39.8</td>\n",
       "      <td>0.729</td>\n",
       "      <td>4991.6</td>\n",
       "      <td>1</td>\n",
       "    </tr>\n",
       "    <tr>\n",
       "      <th>3</th>\n",
       "      <td>39</td>\n",
       "      <td>services</td>\n",
       "      <td>married</td>\n",
       "      <td>high.school</td>\n",
       "      <td>no</td>\n",
       "      <td>no</td>\n",
       "      <td>no</td>\n",
       "      <td>cellular</td>\n",
       "      <td>apr</td>\n",
       "      <td>fri</td>\n",
       "      <td>...</td>\n",
       "      <td>2</td>\n",
       "      <td>999</td>\n",
       "      <td>0</td>\n",
       "      <td>nonexistent</td>\n",
       "      <td>-1.8</td>\n",
       "      <td>93.075</td>\n",
       "      <td>-47.1</td>\n",
       "      <td>1.405</td>\n",
       "      <td>5099.1</td>\n",
       "      <td>0</td>\n",
       "    </tr>\n",
       "    <tr>\n",
       "      <th>4</th>\n",
       "      <td>55</td>\n",
       "      <td>retired</td>\n",
       "      <td>married</td>\n",
       "      <td>basic.4y</td>\n",
       "      <td>no</td>\n",
       "      <td>yes</td>\n",
       "      <td>no</td>\n",
       "      <td>cellular</td>\n",
       "      <td>aug</td>\n",
       "      <td>fri</td>\n",
       "      <td>...</td>\n",
       "      <td>1</td>\n",
       "      <td>3</td>\n",
       "      <td>1</td>\n",
       "      <td>success</td>\n",
       "      <td>-2.9</td>\n",
       "      <td>92.201</td>\n",
       "      <td>-31.4</td>\n",
       "      <td>0.869</td>\n",
       "      <td>5076.2</td>\n",
       "      <td>1</td>\n",
       "    </tr>\n",
       "  </tbody>\n",
       "</table>\n",
       "<p>5 rows × 21 columns</p>\n",
       "</div>"
      ],
      "text/plain": [
       "   age          job  marital          education  default housing loan  \\\n",
       "0   44  blue-collar  married           basic.4y  unknown     yes   no   \n",
       "1   53   technician  married            unknown       no      no   no   \n",
       "2   28   management   single  university.degree       no     yes   no   \n",
       "3   39     services  married        high.school       no      no   no   \n",
       "4   55      retired  married           basic.4y       no     yes   no   \n",
       "\n",
       "    contact month day_of_week  ...  campaign  pdays  previous     poutcome  \\\n",
       "0  cellular   aug         thu  ...         1    999         0  nonexistent   \n",
       "1  cellular   nov         fri  ...         1    999         0  nonexistent   \n",
       "2  cellular   jun         thu  ...         3      6         2      success   \n",
       "3  cellular   apr         fri  ...         2    999         0  nonexistent   \n",
       "4  cellular   aug         fri  ...         1      3         1      success   \n",
       "\n",
       "  emp_var_rate  cons_price_idx  cons_conf_idx  euribor3m  nr_employed  y  \n",
       "0          1.4          93.444          -36.1      4.963       5228.1  0  \n",
       "1         -0.1          93.200          -42.0      4.021       5195.8  0  \n",
       "2         -1.7          94.055          -39.8      0.729       4991.6  1  \n",
       "3         -1.8          93.075          -47.1      1.405       5099.1  0  \n",
       "4         -2.9          92.201          -31.4      0.869       5076.2  1  \n",
       "\n",
       "[5 rows x 21 columns]"
      ]
     },
     "execution_count": 6,
     "metadata": {},
     "output_type": "execute_result"
    }
   ],
   "source": [
    "#display first 5 records \n",
    "df.head(5)"
   ]
  },
  {
   "cell_type": "code",
   "execution_count": 7,
   "metadata": {},
   "outputs": [
    {
     "data": {
      "text/plain": [
       "age                 int64\n",
       "job                object\n",
       "marital            object\n",
       "education          object\n",
       "default            object\n",
       "housing            object\n",
       "loan               object\n",
       "contact            object\n",
       "month              object\n",
       "day_of_week        object\n",
       "duration            int64\n",
       "campaign            int64\n",
       "pdays               int64\n",
       "previous            int64\n",
       "poutcome           object\n",
       "emp_var_rate      float64\n",
       "cons_price_idx    float64\n",
       "cons_conf_idx     float64\n",
       "euribor3m         float64\n",
       "nr_employed       float64\n",
       "y                   int64\n",
       "dtype: object"
      ]
     },
     "execution_count": 7,
     "metadata": {},
     "output_type": "execute_result"
    }
   ],
   "source": [
    "#display datatypes of columns\n",
    "df.dtypes "
   ]
  },
  {
   "cell_type": "code",
   "execution_count": 8,
   "metadata": {
    "scrolled": false
   },
   "outputs": [
    {
     "data": {
      "text/plain": [
       "Index(['age', 'job', 'marital', 'education', 'default', 'housing', 'loan',\n",
       "       'contact', 'month', 'day_of_week', 'duration', 'campaign', 'pdays',\n",
       "       'previous', 'poutcome', 'emp_var_rate', 'cons_price_idx',\n",
       "       'cons_conf_idx', 'euribor3m', 'nr_employed', 'y'],\n",
       "      dtype='object')"
      ]
     },
     "execution_count": 8,
     "metadata": {},
     "output_type": "execute_result"
    }
   ],
   "source": [
    "# column names\n",
    "df.columns"
   ]
  },
  {
   "cell_type": "markdown",
   "metadata": {},
   "source": [
    "# Preprocessing Categorical variables"
   ]
  },
  {
   "cell_type": "markdown",
   "metadata": {},
   "source": [
    "## There are 10 categorical attributes and we will handle them one by one"
   ]
  },
  {
   "cell_type": "markdown",
   "metadata": {},
   "source": [
    "# Preprocessing job column"
   ]
  },
  {
   "cell_type": "code",
   "execution_count": 9,
   "metadata": {},
   "outputs": [
    {
     "data": {
      "text/plain": [
       "admin.           10422\n",
       "blue-collar       9254\n",
       "technician        6743\n",
       "services          3969\n",
       "management        2924\n",
       "retired           1720\n",
       "entrepreneur      1456\n",
       "self-employed     1421\n",
       "housemaid         1060\n",
       "unemployed        1014\n",
       "student            875\n",
       "unknown            330\n",
       "Name: job, dtype: int64"
      ]
     },
     "execution_count": 9,
     "metadata": {},
     "output_type": "execute_result"
    }
   ],
   "source": [
    "# Finding counts of unique values\n",
    "df['job'].value_counts()"
   ]
  },
  {
   "cell_type": "code",
   "execution_count": 10,
   "metadata": {},
   "outputs": [
    {
     "data": {
      "text/plain": [
       "1     10422\n",
       "2      9254\n",
       "3      6743\n",
       "4      3969\n",
       "5      2924\n",
       "6      1720\n",
       "7      1456\n",
       "8      1421\n",
       "9      1060\n",
       "10     1014\n",
       "11      875\n",
       "12      330\n",
       "Name: job, dtype: int64"
      ]
     },
     "execution_count": 10,
     "metadata": {},
     "output_type": "execute_result"
    }
   ],
   "source": [
    "#Discretizing the job column\n",
    "df[\"job\"] = df[\"job\"].map({'admin.':1, 'blue-collar':2, 'technician':3, 'services':4, 'management':5, 'retired':6, 'entrepreneur':7, 'self-employed':8, 'housemaid':9, 'unemployed':10, 'student':11, 'unknown':12  })\n",
    "\n",
    "# Finding counts of unique values\n",
    "df['job'].value_counts()"
   ]
  },
  {
   "cell_type": "markdown",
   "metadata": {},
   "source": [
    "# Preprocessing marital column"
   ]
  },
  {
   "cell_type": "code",
   "execution_count": 11,
   "metadata": {},
   "outputs": [
    {
     "data": {
      "text/plain": [
       "married     24928\n",
       "single      11568\n",
       "divorced     4612\n",
       "unknown        80\n",
       "Name: marital, dtype: int64"
      ]
     },
     "execution_count": 11,
     "metadata": {},
     "output_type": "execute_result"
    }
   ],
   "source": [
    "# Finding counts of unique values\n",
    "df['marital'].value_counts()"
   ]
  },
  {
   "cell_type": "code",
   "execution_count": 12,
   "metadata": {},
   "outputs": [
    {
     "data": {
      "text/plain": [
       "1    24928\n",
       "2    11568\n",
       "3     4612\n",
       "4       80\n",
       "Name: marital, dtype: int64"
      ]
     },
     "execution_count": 12,
     "metadata": {},
     "output_type": "execute_result"
    }
   ],
   "source": [
    "#Discretizing the marital column\n",
    "df[\"marital\"] = df[\"marital\"].map({'married':1, 'single':2, 'divorced':3, 'unknown':4})\n",
    "\n",
    "# Finding counts of unique values\n",
    "df['marital'].value_counts()"
   ]
  },
  {
   "cell_type": "markdown",
   "metadata": {},
   "source": [
    "# Preprocessing education column"
   ]
  },
  {
   "cell_type": "code",
   "execution_count": 13,
   "metadata": {},
   "outputs": [
    {
     "data": {
      "text/plain": [
       "university.degree      12168\n",
       "high.school             9515\n",
       "basic.9y                6045\n",
       "professional.course     5243\n",
       "basic.4y                4176\n",
       "basic.6y                2292\n",
       "unknown                 1731\n",
       "illiterate                18\n",
       "Name: education, dtype: int64"
      ]
     },
     "execution_count": 13,
     "metadata": {},
     "output_type": "execute_result"
    }
   ],
   "source": [
    "# Finding counts of unique values\n",
    "df['education'].value_counts()"
   ]
  },
  {
   "cell_type": "code",
   "execution_count": 14,
   "metadata": {},
   "outputs": [
    {
     "data": {
      "text/plain": [
       "1    12168\n",
       "2     9515\n",
       "3     6045\n",
       "4     5243\n",
       "5     4176\n",
       "6     2292\n",
       "7     1731\n",
       "8       18\n",
       "Name: education, dtype: int64"
      ]
     },
     "execution_count": 14,
     "metadata": {},
     "output_type": "execute_result"
    }
   ],
   "source": [
    "#Discretizing the education column\n",
    "df[\"education\"] = df[\"education\"].map({'university.degree':1, 'high.school':2, 'basic.9y':3, 'professional.course':4, 'basic.4y':5, 'basic.6y':6, 'unknown':7, 'illiterate':8})\n",
    "\n",
    "# Finding counts of unique values\n",
    "df['education'].value_counts()"
   ]
  },
  {
   "cell_type": "markdown",
   "metadata": {},
   "source": [
    "# Preprocessing default column"
   ]
  },
  {
   "cell_type": "code",
   "execution_count": 15,
   "metadata": {},
   "outputs": [
    {
     "data": {
      "text/plain": [
       "no         32588\n",
       "unknown     8597\n",
       "yes            3\n",
       "Name: default, dtype: int64"
      ]
     },
     "execution_count": 15,
     "metadata": {},
     "output_type": "execute_result"
    }
   ],
   "source": [
    "# Finding counts of unique values\n",
    "df['default'].value_counts()"
   ]
  },
  {
   "cell_type": "code",
   "execution_count": 16,
   "metadata": {},
   "outputs": [
    {
     "data": {
      "text/plain": [
       "1    32588\n",
       "2     8597\n",
       "3        3\n",
       "Name: default, dtype: int64"
      ]
     },
     "execution_count": 16,
     "metadata": {},
     "output_type": "execute_result"
    }
   ],
   "source": [
    "#Discretizing the default column\n",
    "df[\"default\"] = df[\"default\"].map({'no':1, 'unknown':2, 'yes':3})\n",
    "\n",
    "# Finding counts of unique values\n",
    "df['default'].value_counts()"
   ]
  },
  {
   "cell_type": "markdown",
   "metadata": {},
   "source": [
    "# Preprocessing housing column"
   ]
  },
  {
   "cell_type": "code",
   "execution_count": 17,
   "metadata": {},
   "outputs": [
    {
     "data": {
      "text/plain": [
       "yes        21576\n",
       "no         18622\n",
       "unknown      990\n",
       "Name: housing, dtype: int64"
      ]
     },
     "execution_count": 17,
     "metadata": {},
     "output_type": "execute_result"
    }
   ],
   "source": [
    "# Finding counts of unique values\n",
    "df['housing'].value_counts()"
   ]
  },
  {
   "cell_type": "code",
   "execution_count": 18,
   "metadata": {},
   "outputs": [
    {
     "data": {
      "text/plain": [
       "1    21576\n",
       "2    18622\n",
       "3      990\n",
       "Name: housing, dtype: int64"
      ]
     },
     "execution_count": 18,
     "metadata": {},
     "output_type": "execute_result"
    }
   ],
   "source": [
    "#Discretizing the housing column\n",
    "df[\"housing\"] = df[\"housing\"].map({'yes':1, 'no':2, 'unknown':3})\n",
    "\n",
    "# Finding counts of unique values\n",
    "df['housing'].value_counts()"
   ]
  },
  {
   "cell_type": "markdown",
   "metadata": {},
   "source": [
    "# Preprocessing loan column"
   ]
  },
  {
   "cell_type": "code",
   "execution_count": 19,
   "metadata": {},
   "outputs": [
    {
     "data": {
      "text/plain": [
       "no         33950\n",
       "yes         6248\n",
       "unknown      990\n",
       "Name: loan, dtype: int64"
      ]
     },
     "execution_count": 19,
     "metadata": {},
     "output_type": "execute_result"
    }
   ],
   "source": [
    "# Finding counts of unique values\n",
    "df['loan'].value_counts()"
   ]
  },
  {
   "cell_type": "code",
   "execution_count": 20,
   "metadata": {},
   "outputs": [
    {
     "data": {
      "text/plain": [
       "2    33950\n",
       "1     6248\n",
       "3      990\n",
       "Name: loan, dtype: int64"
      ]
     },
     "execution_count": 20,
     "metadata": {},
     "output_type": "execute_result"
    }
   ],
   "source": [
    "#Discretizing the loan column\n",
    "df[\"loan\"] = df[\"loan\"].map({'yes':1, 'no':2, 'unknown':3})\n",
    "\n",
    "# Finding counts of unique values\n",
    "df['loan'].value_counts()"
   ]
  },
  {
   "cell_type": "markdown",
   "metadata": {},
   "source": [
    "# Preprocessing contact column"
   ]
  },
  {
   "cell_type": "code",
   "execution_count": 21,
   "metadata": {},
   "outputs": [
    {
     "data": {
      "text/plain": [
       "cellular     26144\n",
       "telephone    15044\n",
       "Name: contact, dtype: int64"
      ]
     },
     "execution_count": 21,
     "metadata": {},
     "output_type": "execute_result"
    }
   ],
   "source": [
    "# Finding counts of unique values\n",
    "df['contact'].value_counts()"
   ]
  },
  {
   "cell_type": "code",
   "execution_count": 22,
   "metadata": {},
   "outputs": [
    {
     "data": {
      "text/plain": [
       "1    26144\n",
       "2    15044\n",
       "Name: contact, dtype: int64"
      ]
     },
     "execution_count": 22,
     "metadata": {},
     "output_type": "execute_result"
    }
   ],
   "source": [
    "#Discretizing the contact column\n",
    "df[\"contact\"] = df[\"contact\"].map({'cellular':1, 'telephone':2})\n",
    "\n",
    "# Finding counts of unique values\n",
    "df['contact'].value_counts()"
   ]
  },
  {
   "cell_type": "markdown",
   "metadata": {},
   "source": [
    "# Preprocessing month column "
   ]
  },
  {
   "cell_type": "code",
   "execution_count": 23,
   "metadata": {},
   "outputs": [
    {
     "data": {
      "text/plain": [
       "may    13769\n",
       "jul     7174\n",
       "aug     6178\n",
       "jun     5318\n",
       "nov     4101\n",
       "apr     2632\n",
       "oct      718\n",
       "sep      570\n",
       "mar      546\n",
       "dec      182\n",
       "Name: month, dtype: int64"
      ]
     },
     "execution_count": 23,
     "metadata": {},
     "output_type": "execute_result"
    }
   ],
   "source": [
    "# Finding counts of unique values\n",
    "df['month'].value_counts()"
   ]
  },
  {
   "cell_type": "code",
   "execution_count": 24,
   "metadata": {},
   "outputs": [
    {
     "data": {
      "text/plain": [
       "1     13769\n",
       "2      7174\n",
       "3      6178\n",
       "4      5318\n",
       "5      4101\n",
       "6      2632\n",
       "7       718\n",
       "8       570\n",
       "9       546\n",
       "10      182\n",
       "Name: month, dtype: int64"
      ]
     },
     "execution_count": 24,
     "metadata": {},
     "output_type": "execute_result"
    }
   ],
   "source": [
    "#Discretizing the month column\n",
    "df[\"month\"] = df[\"month\"].map({'may':1, 'jul':2, 'aug':3, 'jun':4, 'nov':5, 'apr':6,'oct':7,'sep':8,'mar':9,'dec':10})\n",
    "# Finding counts of unique values\n",
    "df['month'].value_counts()"
   ]
  },
  {
   "cell_type": "markdown",
   "metadata": {},
   "source": [
    "# Preprocessing day_of_week column "
   ]
  },
  {
   "cell_type": "code",
   "execution_count": 25,
   "metadata": {},
   "outputs": [
    {
     "data": {
      "text/plain": [
       "thu    8623\n",
       "mon    8514\n",
       "wed    8134\n",
       "tue    8090\n",
       "fri    7827\n",
       "Name: day_of_week, dtype: int64"
      ]
     },
     "execution_count": 25,
     "metadata": {},
     "output_type": "execute_result"
    }
   ],
   "source": [
    "# Finding counts of unique values\n",
    "df['day_of_week'].value_counts()"
   ]
  },
  {
   "cell_type": "code",
   "execution_count": 26,
   "metadata": {},
   "outputs": [
    {
     "data": {
      "text/plain": [
       "1    8623\n",
       "2    8514\n",
       "3    8134\n",
       "4    8090\n",
       "5    7827\n",
       "Name: day_of_week, dtype: int64"
      ]
     },
     "execution_count": 26,
     "metadata": {},
     "output_type": "execute_result"
    }
   ],
   "source": [
    "#Discretizing the day_of_week column\n",
    "df[\"day_of_week\"] = df[\"day_of_week\"].map({'thu':1, 'mon':2, 'wed':3, 'tue':4, 'fri':5})\n",
    "# Finding counts of unique values\n",
    "df['day_of_week'].value_counts()"
   ]
  },
  {
   "cell_type": "markdown",
   "metadata": {},
   "source": [
    "# Preprocessing poutcome column"
   ]
  },
  {
   "cell_type": "code",
   "execution_count": 27,
   "metadata": {},
   "outputs": [
    {
     "data": {
      "text/plain": [
       "nonexistent    35563\n",
       "failure         4252\n",
       "success         1373\n",
       "Name: poutcome, dtype: int64"
      ]
     },
     "execution_count": 27,
     "metadata": {},
     "output_type": "execute_result"
    }
   ],
   "source": [
    "# Finding counts of unique values\n",
    "df['poutcome'].value_counts()"
   ]
  },
  {
   "cell_type": "code",
   "execution_count": 28,
   "metadata": {},
   "outputs": [
    {
     "data": {
      "text/plain": [
       "1    35563\n",
       "2     4252\n",
       "3     1373\n",
       "Name: poutcome, dtype: int64"
      ]
     },
     "execution_count": 28,
     "metadata": {},
     "output_type": "execute_result"
    }
   ],
   "source": [
    "#Discretizing the poutcome column\n",
    "df[\"poutcome\"] = df[\"poutcome\"].map({'nonexistent':1, 'failure':2, 'success':3})\n",
    "\n",
    "# Finding counts of unique values\n",
    "df['poutcome'].value_counts()"
   ]
  },
  {
   "cell_type": "markdown",
   "metadata": {},
   "source": [
    "# Preprocessing Continuous variables"
   ]
  },
  {
   "cell_type": "markdown",
   "metadata": {},
   "source": [
    "# There are 10 numeric(continuous) variables. We will handle them one by one."
   ]
  },
  {
   "cell_type": "markdown",
   "metadata": {},
   "source": [
    "# Preprocessing age column"
   ]
  },
  {
   "cell_type": "code",
   "execution_count": 29,
   "metadata": {},
   "outputs": [
    {
     "name": "stdout",
     "output_type": "stream",
     "text": [
      "Total Null Values in age column:\n",
      "0\n",
      "\n",
      "Minimum and Maximum values for age column:\n",
      "17 98\n"
     ]
    }
   ],
   "source": [
    "#Display total null values\n",
    "print('Total Null Values in age column:')\n",
    "print(df['age'].isna().sum())\n",
    "\n",
    "# Display minimum and maximum values\n",
    "print('\\nMinimum and Maximum values for age column:')\n",
    "print(df['age'].min(), df['age'].max())"
   ]
  },
  {
   "cell_type": "code",
   "execution_count": 30,
   "metadata": {},
   "outputs": [],
   "source": [
    "#Converting the datatype to float\n",
    "# df['age'] = df['age'].apply(lambda x:float(x))"
   ]
  },
  {
   "cell_type": "code",
   "execution_count": 31,
   "metadata": {},
   "outputs": [
    {
     "data": {
      "text/plain": [
       "31    1947\n",
       "32    1846\n",
       "33    1833\n",
       "36    1780\n",
       "35    1759\n",
       "      ... \n",
       "89       2\n",
       "91       2\n",
       "87       1\n",
       "94       1\n",
       "95       1\n",
       "Name: age, Length: 78, dtype: int64"
      ]
     },
     "execution_count": 31,
     "metadata": {},
     "output_type": "execute_result"
    }
   ],
   "source": [
    "df['age'].value_counts()"
   ]
  },
  {
   "cell_type": "code",
   "execution_count": 32,
   "metadata": {},
   "outputs": [
    {
     "data": {
      "text/plain": [
       "2     4168\n",
       "9     4040\n",
       "7     3871\n",
       "3     3793\n",
       "12    3582\n",
       "4     3578\n",
       "5     3539\n",
       "10    3247\n",
       "1     3215\n",
       "8     3208\n",
       "6     2882\n",
       "11    2065\n",
       "Name: age_bin, dtype: int64"
      ]
     },
     "execution_count": 32,
     "metadata": {},
     "output_type": "execute_result"
    }
   ],
   "source": [
    "#Discretizing the age column to have approx. 10% data per bin\n",
    "cut_label_age = ['1', '2', '3', '4', '5','6','7','8','9','10','11','12']\n",
    "\n",
    "cut_bins = [10, 27, 30, 32, 34, 36, 38, 41, 44, 48, 52, 55, 100]\n",
    "\n",
    "#Creating a new column using the data after binning\n",
    "df['age_bin'] = pd.cut(df['age'], bins=cut_bins, labels=cut_label_age)\n",
    "\n",
    "# Finding counts of unique values\n",
    "df['age_bin'].value_counts()"
   ]
  },
  {
   "cell_type": "markdown",
   "metadata": {},
   "source": [
    "# Preprocessing duration column"
   ]
  },
  {
   "cell_type": "code",
   "execution_count": 33,
   "metadata": {},
   "outputs": [
    {
     "name": "stdout",
     "output_type": "stream",
     "text": [
      "Total Null Values in duration column:\n",
      "0\n",
      "\n",
      "Minimum and Maximum values for duration column:\n",
      "0 4918\n"
     ]
    }
   ],
   "source": [
    "#Display total null values \n",
    "print('Total Null Values in duration column:')\n",
    "print(df['duration'].isna().sum())\n",
    "\n",
    "# Display minimum and maximum values\n",
    "print('\\nMinimum and Maximum values for duration column:')\n",
    "print(df['duration'].min(), df['duration'].max())"
   ]
  },
  {
   "cell_type": "code",
   "execution_count": 34,
   "metadata": {},
   "outputs": [],
   "source": [
    "#Converting the datatype to float\n",
    "# df['duration'] = df['duration'].apply(lambda x:int(x))"
   ]
  },
  {
   "cell_type": "code",
   "execution_count": 35,
   "metadata": {},
   "outputs": [
    {
     "data": {
      "text/plain": [
       "85      170\n",
       "90      170\n",
       "136     168\n",
       "73      167\n",
       "124     164\n",
       "       ... \n",
       "1108      1\n",
       "980       1\n",
       "4918      1\n",
       "2453      1\n",
       "2015      1\n",
       "Name: duration, Length: 1544, dtype: int64"
      ]
     },
     "execution_count": 35,
     "metadata": {},
     "output_type": "execute_result"
    }
   ],
   "source": [
    "# Finding counts of unique values\n",
    "df['duration'].value_counts()"
   ]
  },
  {
   "cell_type": "code",
   "execution_count": 36,
   "metadata": {
    "scrolled": true
   },
   "outputs": [
    {
     "data": {
      "text/plain": [
       "11    4928\n",
       "5     4116\n",
       "10    3988\n",
       "9     3970\n",
       "7     3914\n",
       "2     3846\n",
       "8     3683\n",
       "6     3672\n",
       "1     3198\n",
       "3     2983\n",
       "4     2890\n",
       "Name: duration_bin, dtype: int64"
      ]
     },
     "execution_count": 36,
     "metadata": {},
     "output_type": "execute_result"
    }
   ],
   "source": [
    "#Discretizing the duration column to have approx. 10% data per bin\n",
    "cut_label_duration = ['1', '2', '3', '4', '5', '6', '7','8','9','10','11']\n",
    "\n",
    "cut_bins = [-1, 50, 80,100,120,150,180,220, 270,350,500,5000]\n",
    "\n",
    "#Creating a new column using the data after binning\n",
    "df['duration_bin'] = pd.cut(df['duration'], bins=cut_bins, labels=cut_label_duration)\n",
    "\n",
    "\n",
    "# Finding counts of unique values\n",
    "df['duration_bin'].value_counts()\n"
   ]
  },
  {
   "cell_type": "markdown",
   "metadata": {},
   "source": [
    "# Preprocessing campaign column"
   ]
  },
  {
   "cell_type": "code",
   "execution_count": 37,
   "metadata": {},
   "outputs": [
    {
     "name": "stdout",
     "output_type": "stream",
     "text": [
      "Total Null Values in campaign column:\n",
      "0\n",
      "\n",
      "Minimum and Maximum values for campaign column:\n",
      "1 56\n"
     ]
    }
   ],
   "source": [
    "#Display total null values\n",
    "print('Total Null Values in campaign column:')\n",
    "print(df['campaign'].isna().sum())\n",
    "\n",
    "# Display minimum and maximum values\n",
    "print('\\nMinimum and Maximum values for campaign column:')\n",
    "print(df['campaign'].min(), df['campaign'].max())"
   ]
  },
  {
   "cell_type": "code",
   "execution_count": 38,
   "metadata": {},
   "outputs": [],
   "source": [
    "#Converting the datatype to float\n",
    "df['campaign'] = df['campaign'].apply(lambda x:int(x))"
   ]
  },
  {
   "cell_type": "code",
   "execution_count": 39,
   "metadata": {
    "scrolled": true
   },
   "outputs": [
    {
     "data": {
      "text/plain": [
       "1     17642\n",
       "2     10570\n",
       "3      5341\n",
       "4      2651\n",
       "5      1599\n",
       "6       979\n",
       "7       629\n",
       "8       400\n",
       "9       283\n",
       "10      225\n",
       "11      177\n",
       "12      125\n",
       "13       92\n",
       "14       69\n",
       "17       58\n",
       "15       51\n",
       "16       51\n",
       "18       33\n",
       "20       30\n",
       "19       26\n",
       "21       24\n",
       "22       17\n",
       "23       16\n",
       "24       15\n",
       "27       11\n",
       "29       10\n",
       "25        8\n",
       "26        8\n",
       "28        8\n",
       "30        7\n",
       "31        7\n",
       "35        5\n",
       "33        4\n",
       "32        4\n",
       "34        3\n",
       "40        2\n",
       "42        2\n",
       "43        2\n",
       "37        1\n",
       "39        1\n",
       "41        1\n",
       "56        1\n",
       "Name: campaign, dtype: int64"
      ]
     },
     "execution_count": 39,
     "metadata": {},
     "output_type": "execute_result"
    }
   ],
   "source": [
    "# Finding counts of unique values\n",
    "\n",
    "df['campaign'].value_counts()"
   ]
  },
  {
   "cell_type": "code",
   "execution_count": 40,
   "metadata": {},
   "outputs": [
    {
     "data": {
      "text/plain": [
       "1    17642\n",
       "2    10570\n",
       "3     5341\n",
       "4     2651\n",
       "5     2578\n",
       "6     2406\n",
       "Name: campaign_bin, dtype: int64"
      ]
     },
     "execution_count": 40,
     "metadata": {},
     "output_type": "execute_result"
    }
   ],
   "source": [
    "#Discretizing the campaign column such that unique values from 6 to 60 for which there are very few records are merged together into one single bin\n",
    "cut_label_campaign = ['1', '2', '3', '4', '5', '6']\n",
    "\n",
    "cut_bins = [0,1,2,3,4,6,60]\n",
    "\n",
    "#Creating a new column using the data after binning\n",
    "df['campaign_bin'] = pd.cut(df['campaign'], bins=cut_bins, labels=cut_label_campaign)\n",
    "\n",
    "# Finding counts of unique values\n",
    "df['campaign_bin'].value_counts()\n",
    "\n"
   ]
  },
  {
   "cell_type": "markdown",
   "metadata": {},
   "source": [
    "# Preprocessing pdays column"
   ]
  },
  {
   "cell_type": "code",
   "execution_count": 41,
   "metadata": {},
   "outputs": [
    {
     "name": "stdout",
     "output_type": "stream",
     "text": [
      "Total Null Values in pdays column:\n",
      "0\n",
      "\n",
      "Minimum and Maximum values for pdays column:\n",
      "0 999\n"
     ]
    }
   ],
   "source": [
    "#Display total null values\n",
    "print('Total Null Values in pdays column:')\n",
    "print(df['pdays'].isna().sum())\n",
    "\n",
    "# Display minimum and maximum values\n",
    "print('\\nMinimum and Maximum values for pdays column:')\n",
    "print(df['pdays'].min(), df['pdays'].max())"
   ]
  },
  {
   "cell_type": "code",
   "execution_count": 42,
   "metadata": {},
   "outputs": [],
   "source": [
    "#Converting the datatype to float\n",
    "df['pdays'] = df['pdays'].apply(lambda x:float(x))"
   ]
  },
  {
   "cell_type": "code",
   "execution_count": 43,
   "metadata": {
    "scrolled": true
   },
   "outputs": [
    {
     "data": {
      "text/plain": [
       "999.0    39673\n",
       "3.0        439\n",
       "6.0        412\n",
       "4.0        118\n",
       "9.0         64\n",
       "2.0         61\n",
       "7.0         60\n",
       "12.0        58\n",
       "10.0        52\n",
       "5.0         46\n",
       "13.0        36\n",
       "11.0        28\n",
       "1.0         26\n",
       "15.0        24\n",
       "14.0        20\n",
       "8.0         18\n",
       "0.0         15\n",
       "16.0        11\n",
       "17.0         8\n",
       "18.0         7\n",
       "19.0         3\n",
       "22.0         3\n",
       "21.0         2\n",
       "20.0         1\n",
       "26.0         1\n",
       "27.0         1\n",
       "25.0         1\n",
       "Name: pdays, dtype: int64"
      ]
     },
     "execution_count": 43,
     "metadata": {},
     "output_type": "execute_result"
    }
   ],
   "source": [
    "# Finding counts of unique values\n",
    "df['pdays'].value_counts()"
   ]
  },
  {
   "cell_type": "code",
   "execution_count": 44,
   "metadata": {},
   "outputs": [
    {
     "data": {
      "text/plain": [
       "2    39673\n",
       "1     1515\n",
       "Name: pdays_bin, dtype: int64"
      ]
     },
     "execution_count": 44,
     "metadata": {},
     "output_type": "execute_result"
    }
   ],
   "source": [
    "#Discretizing the pdays column such that  unique values from 30 to 999 for which there are very few records are merged together into one single bin\n",
    "cut_label_pdays = ['1', '2']\n",
    "\n",
    "cut_bins = [-1,30,999]\n",
    "\n",
    "df['pdays_bin'] = pd.cut(df['pdays'], bins=cut_bins, labels=cut_label_pdays)\n",
    "\n",
    "# Finding counts of unique values\n",
    "df['pdays_bin'].value_counts()"
   ]
  },
  {
   "cell_type": "markdown",
   "metadata": {},
   "source": [
    "# Preprocessing previous column"
   ]
  },
  {
   "cell_type": "code",
   "execution_count": 45,
   "metadata": {},
   "outputs": [
    {
     "name": "stdout",
     "output_type": "stream",
     "text": [
      "Total Null Values in previous column:\n",
      "0\n",
      "\n",
      "Minimum and Maximum values for previous column:\n",
      "0 7\n"
     ]
    }
   ],
   "source": [
    "#Display total null values\n",
    "print('Total Null Values in previous column:')\n",
    "print(df['previous'].isna().sum())\n",
    "\n",
    "# Display minimum and maximum values\n",
    "print('\\nMinimum and Maximum values for previous column:')\n",
    "print(df['previous'].min(), df['previous'].max())"
   ]
  },
  {
   "cell_type": "code",
   "execution_count": 46,
   "metadata": {},
   "outputs": [],
   "source": [
    "#Converting the datatype to float\n",
    "df['previous'] = df['previous'].apply(lambda x:int(x))"
   ]
  },
  {
   "cell_type": "code",
   "execution_count": 47,
   "metadata": {},
   "outputs": [
    {
     "data": {
      "text/plain": [
       "0    35563\n",
       "1     4561\n",
       "2      754\n",
       "3      216\n",
       "4       70\n",
       "5       18\n",
       "6        5\n",
       "7        1\n",
       "Name: previous, dtype: int64"
      ]
     },
     "execution_count": 47,
     "metadata": {},
     "output_type": "execute_result"
    }
   ],
   "source": [
    "# Finding counts of unique values\n",
    "df['previous'].value_counts()"
   ]
  },
  {
   "cell_type": "code",
   "execution_count": 48,
   "metadata": {},
   "outputs": [
    {
     "data": {
      "text/plain": [
       "1    35563\n",
       "2     4561\n",
       "3     1064\n",
       "Name: previous_bin, dtype: int64"
      ]
     },
     "execution_count": 48,
     "metadata": {},
     "output_type": "execute_result"
    }
   ],
   "source": [
    "#Discretizing the previous column such that unique values from 2 to 7 for which there are very few records are merged together into one single bin\n",
    "cut_label_previous = ['1', '2', '3']\n",
    "\n",
    "cut_bins = [-1, 0,1,8]\n",
    "\n",
    "#Creating a new column using the data after binning\n",
    "df['previous_bin'] = pd.cut(df['previous'], bins=cut_bins, labels=cut_label_previous)\n",
    "\n",
    "# Finding counts of unique values\n",
    "df['previous_bin'].value_counts()"
   ]
  },
  {
   "cell_type": "markdown",
   "metadata": {},
   "source": [
    "# Preprocessing emp_var_rate column"
   ]
  },
  {
   "cell_type": "code",
   "execution_count": 49,
   "metadata": {},
   "outputs": [
    {
     "name": "stdout",
     "output_type": "stream",
     "text": [
      "Total Null Values in emp_var_rate column:\n",
      "0\n",
      "\n",
      "Minimum and Maximum values for emp_var_rate column:\n",
      "-3.4 1.4\n"
     ]
    }
   ],
   "source": [
    "#Display total null values\n",
    "print('Total Null Values in emp_var_rate column:')\n",
    "print(df['emp_var_rate'].isna().sum())\n",
    "\n",
    "# Display minimum and maximum values\n",
    "print('\\nMinimum and Maximum values for emp_var_rate column:')\n",
    "print(df['emp_var_rate'].min(), df['emp_var_rate'].max())"
   ]
  },
  {
   "cell_type": "code",
   "execution_count": 50,
   "metadata": {},
   "outputs": [],
   "source": [
    "#Converting the datatype to float\n",
    "df['emp_var_rate'] = df['emp_var_rate'].apply(lambda x:float(x))"
   ]
  },
  {
   "cell_type": "code",
   "execution_count": 51,
   "metadata": {},
   "outputs": [
    {
     "data": {
      "text/plain": [
       " 1.4    16234\n",
       "-1.8     9184\n",
       " 1.1     7763\n",
       "-0.1     3683\n",
       "-2.9     1663\n",
       "-3.4     1071\n",
       "-1.7      773\n",
       "-1.1      635\n",
       "-3.0      172\n",
       "-0.2       10\n",
       "Name: emp_var_rate, dtype: int64"
      ]
     },
     "execution_count": 51,
     "metadata": {},
     "output_type": "execute_result"
    }
   ],
   "source": [
    "# Finding counts of unique values\n",
    "df['emp_var_rate'].value_counts()"
   ]
  },
  {
   "cell_type": "code",
   "execution_count": 52,
   "metadata": {},
   "outputs": [
    {
     "data": {
      "text/plain": [
       "10    16234\n",
       "2      9184\n",
       "9      7763\n",
       "3      5101\n",
       "1      2906\n",
       "Name: emp_var_rate_bin, dtype: int64"
      ]
     },
     "execution_count": 52,
     "metadata": {},
     "output_type": "execute_result"
    }
   ],
   "source": [
    "#Discretizing the emp_var_rate column\n",
    "#Creating a new column using the data after binning\n",
    "df[\"emp_var_rate_bin\"] = df[\"emp_var_rate\"].map({-3.4:1, -3.0:1,  -2.9:1, -1.8:2, -1.7:3, -1.1:3,  -0.2:3, -0.1:3, 1.1:9, 1.4:10})\n",
    "\n",
    "# Finding counts of unique values\n",
    "df['emp_var_rate_bin'].value_counts()"
   ]
  },
  {
   "cell_type": "markdown",
   "metadata": {},
   "source": [
    "# Preprocessing cons_conf_idx column"
   ]
  },
  {
   "cell_type": "code",
   "execution_count": 53,
   "metadata": {},
   "outputs": [
    {
     "name": "stdout",
     "output_type": "stream",
     "text": [
      "Total Null Values in cons_conf_idx column:\n",
      "0\n",
      "\n",
      "Minimum and Maximum values for cons_conf_idx column:\n",
      "-50.8 -26.9\n"
     ]
    }
   ],
   "source": [
    "#Display total null values\n",
    "print('Total Null Values in cons_conf_idx column:')\n",
    "print(df['cons_conf_idx'].isna().sum())\n",
    "\n",
    "# Display minimum and maximum values\n",
    "print('\\nMinimum and Maximum values for cons_conf_idx column:')\n",
    "print(df['cons_conf_idx'].min(), df['cons_conf_idx'].max())"
   ]
  },
  {
   "cell_type": "code",
   "execution_count": 54,
   "metadata": {},
   "outputs": [],
   "source": [
    "#Converting the datatype to float\n",
    "df['cons_conf_idx'] = df['cons_conf_idx'].apply(lambda x:float(x))"
   ]
  },
  {
   "cell_type": "code",
   "execution_count": 55,
   "metadata": {},
   "outputs": [
    {
     "data": {
      "text/plain": [
       "-36.4    7763\n",
       "-42.7    6685\n",
       "-46.2    5794\n",
       "-36.1    5175\n",
       "-41.8    4374\n",
       "-42.0    3616\n",
       "-47.1    2458\n",
       "-31.4     770\n",
       "-40.8     715\n",
       "-26.9     447\n",
       "-30.1     357\n",
       "-40.3     311\n",
       "-37.5     303\n",
       "-50.0     282\n",
       "-29.8     267\n",
       "-34.8     264\n",
       "-38.3     233\n",
       "-39.8     229\n",
       "-40.0     212\n",
       "-49.5     204\n",
       "-33.6     178\n",
       "-34.6     174\n",
       "-33.0     172\n",
       "-50.8     128\n",
       "-40.4      67\n",
       "-45.9      10\n",
       "Name: cons_conf_idx, dtype: int64"
      ]
     },
     "execution_count": 55,
     "metadata": {},
     "output_type": "execute_result"
    }
   ],
   "source": [
    "# Finding counts of unique values\n",
    "df['cons_conf_idx'].value_counts()"
   ]
  },
  {
   "cell_type": "code",
   "execution_count": 56,
   "metadata": {},
   "outputs": [
    {
     "data": {
      "text/plain": [
       "array([-36.1, -42. , -39.8, -47.1, -31.4, -42.7, -46.2, -40.8, -36.4,\n",
       "       -41.8, -40.4, -26.9, -30.1, -50. , -33.6, -34.6, -40. , -38.3,\n",
       "       -37.5, -49.5, -33. , -50.8, -34.8, -40.3, -29.8, -45.9])"
      ]
     },
     "execution_count": 56,
     "metadata": {},
     "output_type": "execute_result"
    }
   ],
   "source": [
    "df['cons_conf_idx'].unique()"
   ]
  },
  {
   "cell_type": "code",
   "execution_count": 57,
   "metadata": {},
   "outputs": [
    {
     "data": {
      "text/plain": [
       "5    7990\n",
       "3    7763\n",
       "6    6685\n",
       "7    5804\n",
       "2    5175\n",
       "8    3072\n",
       "1    2629\n",
       "4    2070\n",
       "Name: cons_conf_idx_bin, dtype: int64"
      ]
     },
     "execution_count": 57,
     "metadata": {},
     "output_type": "execute_result"
    }
   ],
   "source": [
    "#map the categories of the attributes to numbers\n",
    "#Creating a new column using the data after binning\n",
    "df[\"cons_conf_idx_bin\"] = df[\"cons_conf_idx\"].map({-26.9:1,  -29.8:1, -30.1:1, -31.4:1, -33.:1 , -33.6:1, -34.6:1,-34.8:1, -36.1:2, -36.4:3, -37.5:4, -38.3:4, -39.8:4, -40.:4,-40.3:4, -40.4:4, -40.8:4, -41.8:5, -42.:5, -42.7:6, -45.9:7,  -46.2:7, -47.1:8, -49.5:8, -50.:8 , -50.8:8})\n",
    "\n",
    "# Finding counts of unique values\n",
    "df['cons_conf_idx_bin'].value_counts()"
   ]
  },
  {
   "cell_type": "markdown",
   "metadata": {},
   "source": [
    "# Preprocessing cons_price_idx column"
   ]
  },
  {
   "cell_type": "code",
   "execution_count": 58,
   "metadata": {},
   "outputs": [
    {
     "name": "stdout",
     "output_type": "stream",
     "text": [
      "Total Null Values in cons_price_idx column:\n",
      "0\n",
      "\n",
      "Minimum and Maximum values for cons_price_idx column:\n",
      "92.20100000000001 94.76700000000001\n"
     ]
    }
   ],
   "source": [
    "#Display total null values\n",
    "print('Total Null Values in cons_price_idx column:')\n",
    "print(df['cons_price_idx'].isna().sum())\n",
    "\n",
    "# Display minimum and maximum values\n",
    "print('\\nMinimum and Maximum values for cons_price_idx column:')\n",
    "print(df['cons_price_idx'].min(), df['cons_price_idx'].max())"
   ]
  },
  {
   "cell_type": "code",
   "execution_count": 59,
   "metadata": {},
   "outputs": [],
   "source": [
    "#Converting the datatype to float\n",
    "df['cons_price_idx'] = df['cons_price_idx'].apply(lambda x:float(x))"
   ]
  },
  {
   "cell_type": "code",
   "execution_count": 60,
   "metadata": {
    "scrolled": true
   },
   "outputs": [
    {
     "data": {
      "text/plain": [
       "93.994    7763\n",
       "93.918    6685\n",
       "92.893    5794\n",
       "93.444    5175\n",
       "94.465    4374\n",
       "93.200    3616\n",
       "93.075    2458\n",
       "92.201     770\n",
       "92.963     715\n",
       "92.431     447\n",
       "92.649     357\n",
       "94.215     311\n",
       "94.199     303\n",
       "92.843     282\n",
       "92.379     267\n",
       "93.369     264\n",
       "94.027     233\n",
       "94.055     229\n",
       "93.876     212\n",
       "94.601     204\n",
       "92.469     178\n",
       "93.749     174\n",
       "92.713     172\n",
       "94.767     128\n",
       "93.798      67\n",
       "92.756      10\n",
       "Name: cons_price_idx, dtype: int64"
      ]
     },
     "execution_count": 60,
     "metadata": {},
     "output_type": "execute_result"
    }
   ],
   "source": [
    "# Finding counts of unique values\n",
    "df['cons_price_idx'].value_counts()"
   ]
  },
  {
   "cell_type": "code",
   "execution_count": 61,
   "metadata": {
    "scrolled": true
   },
   "outputs": [
    {
     "data": {
      "text/plain": [
       "6    7763\n",
       "5    7138\n",
       "3    6789\n",
       "2    6076\n",
       "7    5782\n",
       "4    5439\n",
       "1    2201\n",
       "Name: cons_price_idx_bin, dtype: int64"
      ]
     },
     "execution_count": 61,
     "metadata": {},
     "output_type": "execute_result"
    }
   ],
   "source": [
    "#Discretizing the cons_price_idx column to have approx. 10% data per bin\n",
    "cut_label_cons_price_idx = ['1', '2', '3','4','5','6','7']\n",
    "\n",
    "cut_bins = [92, 92.8, 92.9, 93.2, 93.5, 93.92, 94,95]\n",
    "\n",
    "#Creating a new column using the data after binning\n",
    "df['cons_price_idx_bin'] = pd.cut(df['cons_price_idx'], bins=cut_bins, labels=cut_label_cons_price_idx)\n",
    "\n",
    "# Finding counts of unique values\n",
    "df['cons_price_idx_bin'].value_counts()"
   ]
  },
  {
   "cell_type": "markdown",
   "metadata": {},
   "source": [
    "# Preprocessing euribor3m column"
   ]
  },
  {
   "cell_type": "code",
   "execution_count": 62,
   "metadata": {},
   "outputs": [
    {
     "name": "stdout",
     "output_type": "stream",
     "text": [
      "Total Null Values in euribor3m column:\n",
      "0\n",
      "\n",
      "Minimum and Maximum values for euribor3m column:\n",
      "0.634 5.045\n"
     ]
    }
   ],
   "source": [
    "#Display total null values\n",
    "print('Total Null Values in euribor3m column:')\n",
    "print(df['euribor3m'].isna().sum())\n",
    "\n",
    "# Display minimum and maximum values\n",
    "print('\\nMinimum and Maximum values for euribor3m column:')\n",
    "print(df['euribor3m'].min(), df['euribor3m'].max())"
   ]
  },
  {
   "cell_type": "code",
   "execution_count": 63,
   "metadata": {},
   "outputs": [],
   "source": [
    "#Converting the datatype to float\n",
    "df['euribor3m'] = df['euribor3m'].apply(lambda x:float(x))"
   ]
  },
  {
   "cell_type": "code",
   "execution_count": 64,
   "metadata": {},
   "outputs": [
    {
     "data": {
      "text/plain": [
       "4.857    2868\n",
       "4.962    2613\n",
       "4.963    2487\n",
       "4.961    1902\n",
       "4.856    1210\n",
       "         ... \n",
       "3.329       1\n",
       "0.933       1\n",
       "0.996       1\n",
       "1.574       1\n",
       "3.282       1\n",
       "Name: euribor3m, Length: 316, dtype: int64"
      ]
     },
     "execution_count": 64,
     "metadata": {},
     "output_type": "execute_result"
    }
   ],
   "source": [
    "# Finding counts of unique values\n",
    "df['euribor3m'].value_counts()"
   ]
  },
  {
   "cell_type": "code",
   "execution_count": 65,
   "metadata": {},
   "outputs": [
    {
     "data": {
      "text/plain": [
       "5    7336\n",
       "8    7178\n",
       "6    5027\n",
       "3    4580\n",
       "7    4515\n",
       "2    4376\n",
       "1    4260\n",
       "4    3916\n",
       "Name: euribor3m_bin, dtype: int64"
      ]
     },
     "execution_count": 65,
     "metadata": {},
     "output_type": "execute_result"
    }
   ],
   "source": [
    "#Discretizing the euribor3m column to have approx. 10% data per bin\n",
    "cut_label_euribor3m = ['1', '2', '3', '4', '5','6','7','8']\n",
    "\n",
    "\n",
    "cut_bins = [0, 1.1, 1.3, 1.5, 4.8, 4.86, 4.96, 4.962,6]\n",
    "\n",
    "#Creating a new column using the data after binning\n",
    "df['euribor3m_bin'] = pd.cut(df['euribor3m'], bins=cut_bins, labels=cut_label_euribor3m)\n",
    "\n",
    "# Finding counts of unique values\n",
    "df['euribor3m_bin'].value_counts()"
   ]
  },
  {
   "cell_type": "markdown",
   "metadata": {},
   "source": [
    "# Preprocessing nr_employed column"
   ]
  },
  {
   "cell_type": "code",
   "execution_count": 66,
   "metadata": {},
   "outputs": [
    {
     "name": "stdout",
     "output_type": "stream",
     "text": [
      "Total Null Values in nr_employed column:\n",
      "0\n",
      "\n",
      "Minimum and Maximum values for nr_employed column:\n",
      "4963.6 5228.1\n"
     ]
    }
   ],
   "source": [
    "#Display total null values\n",
    "print('Total Null Values in nr_employed column:')\n",
    "print(df['nr_employed'].isna().sum())\n",
    "\n",
    "# Display minimum and maximum values\n",
    "print('\\nMinimum and Maximum values for nr_employed column:')\n",
    "print(df['nr_employed'].min(), df['nr_employed'].max())"
   ]
  },
  {
   "cell_type": "code",
   "execution_count": 67,
   "metadata": {},
   "outputs": [],
   "source": [
    "#Converting the datatype to float\n",
    "df['nr_employed'] = df['nr_employed'].apply(lambda x:float(x))"
   ]
  },
  {
   "cell_type": "code",
   "execution_count": 68,
   "metadata": {},
   "outputs": [
    {
     "data": {
      "text/plain": [
       "5228.1    16234\n",
       "5099.1     8534\n",
       "5191.0     7763\n",
       "5195.8     3683\n",
       "5076.2     1663\n",
       "5017.5     1071\n",
       "4991.6      773\n",
       "5008.7      650\n",
       "4963.6      635\n",
       "5023.5      172\n",
       "5176.3       10\n",
       "Name: nr_employed, dtype: int64"
      ]
     },
     "execution_count": 68,
     "metadata": {},
     "output_type": "execute_result"
    }
   ],
   "source": [
    "# Finding counts of unique values\n",
    "df['nr_employed'].value_counts()"
   ]
  },
  {
   "cell_type": "code",
   "execution_count": 69,
   "metadata": {},
   "outputs": [
    {
     "data": {
      "text/plain": [
       "11    16234\n",
       "7      8534\n",
       "9      7763\n",
       "10     3683\n",
       "6      1663\n",
       "4      1071\n",
       "2       773\n",
       "3       650\n",
       "1       635\n",
       "5       172\n",
       "8        10\n",
       "Name: nr_employed_bin, dtype: int64"
      ]
     },
     "execution_count": 69,
     "metadata": {},
     "output_type": "execute_result"
    }
   ],
   "source": [
    "#map the categories of the attributes to numbers \n",
    "#Creating a new column using the data after binning\n",
    "df[\"nr_employed_bin\"] = df[\"nr_employed\"].map({4963.6:1, 4991.6:2, 5008.7:3, 5017.5:4, 5023.5:5, 5076.2:6, 5099.1:7, 5176.3:8, 5191.0:9, 5195.8:10, 5228.1:11})\n",
    "\n",
    "# Finding counts of unique values\n",
    "df['nr_employed_bin'].value_counts()"
   ]
  },
  {
   "cell_type": "markdown",
   "metadata": {},
   "source": [
    "# Q1:"
   ]
  },
  {
   "cell_type": "markdown",
   "metadata": {},
   "source": [
    "## Node class"
   ]
  },
  {
   "cell_type": "code",
   "execution_count": 70,
   "metadata": {},
   "outputs": [],
   "source": [
    "#creating a node class for the decision tree\n",
    "class Node():\n",
    "    def __init__(self, feature_index=None,left=None,right=None, value=None):\n",
    "       #constructor  \n",
    "        \n",
    "        # decision node\n",
    "        self.feature_index = feature_index\n",
    "        self.left = left\n",
    "        self.right = right\n",
    "        \n",
    "        # leaf node\n",
    "        self.value = value"
   ]
  },
  {
   "cell_type": "markdown",
   "metadata": {},
   "source": [
    "## Decision Tree classifier using Weight of Evidence(WOE)"
   ]
  },
  {
   "cell_type": "markdown",
   "metadata": {},
   "source": [
    "## This decision tree classifier is being designed by us to be used for one attribute based split or two attribute per node based split."
   ]
  },
  {
   "cell_type": "code",
   "execution_count": 71,
   "metadata": {},
   "outputs": [],
   "source": [
    "# class for decision tree classifier \n",
    "\n",
    "class DecisionTreeClassifier(): \n",
    "    def __init__(self, min_samples_split=3, max_depth=3, no_of_IV=0):\n",
    "        # constructor \n",
    "        \n",
    "        # root of the tree \n",
    "        self.root = None\n",
    "        \n",
    "        # Stopping Criteria\n",
    "        self.min_samples_split = min_samples_split\n",
    "        self.max_depth = max_depth\n",
    "        self.no_of_IV = no_of_IV \n",
    "        \n",
    "    def build_tree(self, dataset, curr_depth=0):  \n",
    "        # function to build the tree \n",
    "\n",
    "        X, Y = dataset.iloc[:,:-1].values, dataset.iloc[:,-1].values\n",
    "        num_samples, num_features = np.shape(X)\n",
    "        \n",
    "        # check the stopping criteria to split the node\n",
    "        if num_samples>=self.min_samples_split and curr_depth<=self.max_depth:\n",
    "            \n",
    "            best_split = self.get_best_split(dataset, num_samples, num_features)\n",
    "        \n",
    "            # building left subtree using recursion\n",
    "            left_subtree = self.build_tree(best_split[\"dataset_left\"], curr_depth+1)\n",
    "\n",
    "            # building right subtree using recursion\n",
    "            right_subtree = self.build_tree(best_split[\"dataset_right\"], curr_depth+1)\n",
    "\n",
    "            # return the decision node\n",
    "            return Node(best_split[\"feature_index\"],left_subtree, right_subtree)\n",
    "        \n",
    "        \n",
    "        # Finding the class leaf node\n",
    "        leaf_value = self.calculate_leaf_value(Y)\n",
    "        \n",
    "        # return the leaf node\n",
    "        return Node(value=leaf_value)\n",
    "      \n",
    "    def get_best_split(self, dataset, num_samples, num_features): #\n",
    "        # Function to get the best split based on the IV value\n",
    "        \n",
    "        dataset = pd.DataFrame(dataset)\n",
    "        \n",
    "        best_split = {}\n",
    "        \n",
    "        # dataframe for the categorical variables\n",
    "        df_cat = dataset[['job', 'marital', 'education', 'default',\n",
    "       'housing', 'loan', 'contact','month','day_of_week', 'poutcome', 'y']]\n",
    "        \n",
    "        # dataframe for the continuous variables\n",
    "        df_con = dataset[['age', 'duration', 'campaign', 'pdays',\n",
    "       'previous', 'emp_var_rate', 'cons_price_idx','cons_conf_idx', 'euribor3m', 'nr_employed']]\n",
    "        \n",
    "        # dataframe for the continuous variables including the bin variables \n",
    "        data = dataset[['age', 'duration', 'campaign', 'pdays',\n",
    "       'previous', 'emp_var_rate', 'cons_price_idx',\n",
    "       'cons_conf_idx', 'euribor3m', 'nr_employed', 'age_bin', 'duration_bin',\n",
    "       'campaign_bin', 'pdays_bin', 'previous_bin', 'emp_var_rate_bin',\n",
    "       'cons_conf_idx_bin', 'cons_price_idx_bin', 'euribor3m_bin',\n",
    "       'nr_employed_bin']]\n",
    "\n",
    "        #Target Class\n",
    "        target = 'y' \n",
    "    \n",
    "        #lists containing Information Value(IV) values for categorical and continuous variables\n",
    "        iv_cat=[]\n",
    "        iv_cat_col_name=[]\n",
    "        iv_con=[]\n",
    "        iv_con_col_name =[]\n",
    "        \n",
    "        # column names \n",
    "        feature_cat = df_cat.columns\n",
    "        feature_con = df_con.columns\n",
    "        \n",
    "        #creating lists with IV values and their corresponding categorical attributes\n",
    "        for col in feature_cat:\n",
    "            df1, iv1 = self.calculate_woe_iv_cat(df_cat, col, target)\n",
    "            iv_cat_col_name.append(col)\n",
    "            iv_cat.append(iv1)\n",
    "            \n",
    "        #creating lists with IV values and their corresponding continuous attributes\n",
    "        for col in feature_con:\n",
    "            df2, iv2 = self.calculate_woe_iv_con(df_con,data, col, target)\n",
    "            iv_con.append(iv2)\n",
    "            iv_con_col_name.append(col)\n",
    "            \n",
    "        #concatenating the IV values and their corresponding attributes into one list\n",
    "        iv_col = iv_cat_col_name + iv_con_col_name\n",
    "        iv=iv_cat+iv_con\n",
    "\n",
    "        my_dict = {\"col\":iv_col,\"iv\":iv};\n",
    "        new = pd.DataFrame.from_dict(my_dict)\n",
    "        \n",
    "        #sorting the dataframe containg IV values in decreasing order \n",
    "#       and filtering only relevant IV values\n",
    "        new_df = new.sort_values(by=['iv'], ascending=False)\n",
    "        new_df1 =new_df[new_df['iv']<=0.5]\n",
    "\n",
    "        #creating list of best one or two feature numbers/index  \n",
    "        a=[]\n",
    "        for i in range(self.no_of_IV):\n",
    "            l=new_df1.index[new_df1['iv']==new_df1.iloc[i]['iv']] #returns list\n",
    "            a.append(l)\n",
    "\n",
    "        dataset1 =dataset.iloc[:,:31]\n",
    "        feature_ind = []\n",
    "        for s in a:\n",
    "            feature_ind.append(s.item()+1)\n",
    "            \n",
    "#         print(\"list of IV \",feature_ind)\n",
    "    \n",
    "        y = dataset.iloc[:, 30].values\n",
    "        z=dataset.iloc[:,feature_ind].values\n",
    "        y=y.reshape(y.shape[0], 1)\n",
    "        z=z.reshape(z.shape[0], len(a))\n",
    "        \n",
    "        #calling logistic regression to calculate new feature for splitting the node\n",
    "        result= self.logistic_split(y, z, dataset1)\n",
    "        \n",
    "        dataset_right = pd.DataFrame()\n",
    "        dataset_left = pd.DataFrame()\n",
    "        \n",
    "        #splitting the node\n",
    "        dataset_left, dataset_right = self.split(result)\n",
    "        \n",
    "        # decision node values on best split\n",
    "        best_split[\"feature_index\"] = feature_ind\n",
    "        best_split[\"dataset_left\"] = dataset_left\n",
    "        best_split[\"dataset_right\"] = dataset_right\n",
    "        \n",
    "        return best_split\n",
    "    \n",
    "    def split(self, dataset): \n",
    "        \n",
    "        # function to split the data \n",
    "        dataset_left = dataset[dataset.iloc[:,-1] == 0]\n",
    "        dataset_right = dataset[dataset.iloc[:,-1] == 1]\n",
    "        \n",
    "        return dataset_left, dataset_right\n",
    "    \n",
    "    def logistic_split(self, y_train, X_train, dataset):\n",
    "\n",
    "        # create logistic regression classifier using IV values\n",
    "        LR=LogisticRegression(random_state=1)\n",
    "      \n",
    "        y_train=y_train.astype('int')\n",
    "        LR.fit(X_train,y_train)\n",
    "          \n",
    "        #compute probabilities\n",
    "        prob=LR.predict_proba(X_train)\n",
    "        \n",
    "        #create list with predicted values from logistic regression classifier\n",
    "        LRPredict_train=[]\n",
    "        for i in range(len(y_train)):\n",
    "            if(prob[i][0]>=0.80):\n",
    "                LRPredict_train.append(0)\n",
    "            else: \n",
    "                LRPredict_train.append(1)\n",
    "                \n",
    "        LRPredict_train=np.array(LRPredict_train)     \n",
    "       \n",
    "        a=pd.DataFrame(dataset.iloc[:,:31])\n",
    "        c=pd.DataFrame(LRPredict_train)\n",
    "\n",
    "        a.reset_index(drop=True, inplace=True)\n",
    "        c.reset_index(drop=True, inplace=True)\n",
    "    \n",
    "        frames = [a,c]  \n",
    "        # Create concatenated dataframe containing given class label and predicted class label\n",
    "        result = pd.concat(frames, axis=1) \n",
    "\n",
    "        return result\n",
    "    \n",
    "    def calculate_leaf_value(self, Y):\n",
    "        # function to compute the leaf node \n",
    "        pred_train=[]\n",
    "        Y = list(Y)\n",
    "\n",
    "        for i in range(len(Y)):\n",
    "            if(Y[i]>=0.80):\n",
    "                pred_train.append(0)\n",
    "            else: \n",
    "                pred_train.append(1)\n",
    "       \n",
    "        # the most frequent value is returned as the class label and in case of an empty sequence return nan  \n",
    "        return max(pred_train, key=pred_train.count, default=np.nan)\n",
    "    \n",
    "    def print_tree(self, tree=None, indent=\" \"):\n",
    "        # function to print the tree \n",
    "        threshold=0.80\n",
    "        if not tree:\n",
    "            tree = self.root\n",
    "\n",
    "        if tree.value is not None:\n",
    "            print(tree.value)\n",
    "\n",
    "        else:\n",
    "            print(\"X_\"+str(tree.feature_index), \"<=\", threshold)\n",
    "            print(\"%sleft:\" % (indent), end=\"\")\n",
    "            self.print_tree(tree.left, indent + indent)\n",
    "            print(\"%sright:\" % (indent), end=\"\")\n",
    "            self.print_tree(tree.right, indent + indent)\n",
    "    \n",
    "    def fit(self, X, Y):\n",
    "        # function to train the tree \n",
    "        \n",
    "        dataset = np.concatenate((X, Y), axis=1)\n",
    "        dataset = pd.DataFrame(dataset)\n",
    "        dataset.columns = ['age', 'job', 'marital', 'education', 'default', 'housing', 'loan',\n",
    "       'contact', 'month', 'day_of_week', 'duration', 'campaign', 'pdays',\n",
    "       'previous', 'poutcome', 'emp_var_rate', 'cons_price_idx',\n",
    "       'cons_conf_idx', 'euribor3m', 'nr_employed', 'age_bin', 'duration_bin',\n",
    "       'campaign_bin', 'pdays_bin', 'previous_bin', 'emp_var_rate_bin',\n",
    "       'cons_conf_idx_bin', 'cons_price_idx_bin', 'euribor3m_bin',\n",
    "       'nr_employed_bin', 'y']\n",
    "      \n",
    "        self.root = self.build_tree(dataset, 0)\n",
    "    \n",
    "    def calculate_woe_iv_cat(self,dataset, feature, target):\n",
    "        #function to calculate WOE and IV for categorical variables\n",
    "        lst = []\n",
    "        dataset = pd.DataFrame(dataset)\n",
    "        dataset = dataset.astype(float)\n",
    "\n",
    "        for i in range(dataset[feature].nunique()):\n",
    "            val = list(dataset[feature].unique())[i]\n",
    "            lst.append({\n",
    "                'bin' : val,\n",
    "                'events' : dataset[(dataset[feature] == val) & (dataset[target] == 0.0)][feature].count(),\n",
    "                'non_events' : dataset[(dataset[feature] == val) & (dataset[target] == 1.0)][feature].count()\n",
    "            })\n",
    "            d = pd.DataFrame(lst)\n",
    "            d['Percent_events']  =  (d['events'] / (d['events'].sum())) * 100\n",
    "            d['Percent_non_events'] = (d['non_events'] / (d['non_events'].sum())) * 100\n",
    "            d['WOE'] = np.log(d['Percent_events'] / d['Percent_non_events'])\n",
    "            d = d.replace({'WOE': {np.inf: 0, -np.inf: 0.5}})\n",
    "            d['IV'] = (d['Percent_events']/100 - d['Percent_non_events']/100) * d['WOE']\n",
    "            sum_of_IV=d['IV'].sum()\n",
    "\n",
    "        return d, sum_of_IV\n",
    "    \n",
    "    def calculate_woe_iv_con(self, df,data, feature, target):\n",
    "    #function to calculate WOE and IV for continuous variables\n",
    "    \n",
    "        #creating column names for features whose bins are created \n",
    "        feat_bin = feature + '_bin'\n",
    "\n",
    "        grouped_df = data.groupby(feat_bin).sum()\n",
    "        grouped_df.reset_index(level=0, inplace=True)\n",
    "\n",
    "        a=data[feat_bin].value_counts().to_dict()\n",
    "        d=grouped_df[[feat_bin,feature]]\n",
    "        d.columns = ['bin','sum']\n",
    "        d['obs'] = d['bin'].map(a)\n",
    "        d = d.astype(float)\n",
    "        d['percent_obs'] = d['obs']/(d['obs'].sum()) * 100\n",
    "        d['percent_Y'] = (d['sum']/d['sum'].sum()) * 100\n",
    "        d['WOE'] = np.log(d['percent_Y']/d['percent_obs'])\n",
    "        d['IV'] = (d['percent_Y']/100 - d['percent_obs']/100) * d['WOE']\n",
    "        sum_of_IV=d['IV'].sum()\n",
    "\n",
    "        return d, sum_of_IV\n",
    "    \n",
    "    def predict(self, X):\n",
    "        # function to predict new dataset \n",
    "        predictions = [self.make_prediction(x, self.root) for x in X]\n",
    "        return predictions\n",
    "    \n",
    "    def make_prediction(self, x, tree):\n",
    "        threshold = 1\n",
    "        # function to predict a single data point \n",
    "        if tree.value!=None: return tree.value\n",
    "        feature_val = x[-1]\n",
    "        if feature_val<=threshold:\n",
    "            return self.make_prediction(x, tree.left)\n",
    "        else:\n",
    "            return self.make_prediction(x, tree.right)\n",
    "    "
   ]
  },
  {
   "cell_type": "markdown",
   "metadata": {},
   "source": [
    "## Train-Test split using 80:20 ratio as given in question"
   ]
  },
  {
   "cell_type": "code",
   "execution_count": 72,
   "metadata": {},
   "outputs": [],
   "source": [
    "#create target variable dataframe\n",
    "target = df[['y']]\n",
    "#create dataframe with independent variables\n",
    "df = df.drop(columns = 'y')"
   ]
  },
  {
   "cell_type": "code",
   "execution_count": 73,
   "metadata": {},
   "outputs": [],
   "source": [
    "#concat the dataframe\n",
    "df = pd.concat([df,target],axis =1)"
   ]
  },
  {
   "cell_type": "code",
   "execution_count": 74,
   "metadata": {},
   "outputs": [],
   "source": [
    "# splitting the dataset into input variables and target variables\n",
    "\n",
    "X = df.iloc[:, :-1].values\n",
    "Y = df.iloc[:, -1].values.reshape(-1,1)\n",
    "\n",
    "#split the data into train and test part \n",
    "X_train, X_test, Y_train, Y_test = train_test_split(X, Y, test_size=.20, random_state=1)\n"
   ]
  },
  {
   "cell_type": "markdown",
   "metadata": {},
   "source": [
    "# Fit the model using one attribute for the split and visualize it"
   ]
  },
  {
   "cell_type": "code",
   "execution_count": 75,
   "metadata": {
    "scrolled": true
   },
   "outputs": [
    {
     "name": "stdout",
     "output_type": "stream",
     "text": [
      "X_[8] <= 0.8\n",
      " left:X_[10] <= 0.8\n",
      "  left:X_[13] <= 0.8\n",
      "    left:X_[13] <= 0.8\n",
      "        left:X_[13] <= 0.8\n",
      "                left:X_[13] <= 0.8\n",
      "                                left:X_[13] <= 0.8\n",
      "                                                                left:1\n",
      "                                                                right:nan\n",
      "                                right:nan\n",
      "                right:nan\n",
      "        right:nan\n",
      "    right:0\n",
      "  right:X_[20] <= 0.8\n",
      "    left:nan\n",
      "    right:X_[20] <= 0.8\n",
      "        left:nan\n",
      "        right:X_[20] <= 0.8\n",
      "                left:nan\n",
      "                right:X_[20] <= 0.8\n",
      "                                left:nan\n",
      "                                right:X_[20] <= 0.8\n",
      "                                                                left:nan\n",
      "                                                                right:0\n",
      " right:X_[10] <= 0.8\n",
      "  left:1\n",
      "  right:X_[10] <= 0.8\n",
      "    left:nan\n",
      "    right:X_[10] <= 0.8\n",
      "        left:nan\n",
      "        right:X_[10] <= 0.8\n",
      "                left:nan\n",
      "                right:X_[10] <= 0.8\n",
      "                                left:nan\n",
      "                                right:X_[10] <= 0.8\n",
      "                                                                left:nan\n",
      "                                                                right:0\n"
     ]
    }
   ],
   "source": [
    "#train the model \n",
    "classifier1 = DecisionTreeClassifier(min_samples_split=2000, max_depth=6, no_of_IV=1)\n",
    "classifier1.fit(X_train,Y_train)\n",
    "\n",
    "# #Print the tree\n",
    "classifier1.print_tree()"
   ]
  },
  {
   "cell_type": "markdown",
   "metadata": {},
   "source": [
    "## Predictions on the test data for model with one attribute for the split"
   ]
  },
  {
   "cell_type": "code",
   "execution_count": 76,
   "metadata": {},
   "outputs": [
    {
     "data": {
      "text/plain": [
       "0.8856518572469045"
      ]
     },
     "execution_count": 76,
     "metadata": {},
     "output_type": "execute_result"
    }
   ],
   "source": [
    "#make predictions\n",
    "Y_pred1 = classifier1.predict(X_test) \n",
    "from sklearn.metrics import accuracy_score\n",
    "\n",
    "#print the accuracy score\n",
    "accuracy_score(Y_test, Y_pred1)"
   ]
  },
  {
   "cell_type": "code",
   "execution_count": 77,
   "metadata": {},
   "outputs": [
    {
     "name": "stdout",
     "output_type": "stream",
     "text": [
      "              precision    recall  f1-score   support\n",
      "\n",
      "           0       0.89      0.99      0.94      7301\n",
      "           1       0.48      0.06      0.11       937\n",
      "\n",
      "    accuracy                           0.89      8238\n",
      "   macro avg       0.69      0.53      0.52      8238\n",
      "weighted avg       0.84      0.89      0.84      8238\n",
      "\n",
      "0.5261702282855654\n"
     ]
    }
   ],
   "source": [
    "# Print the classification report containing precision, recall, f1-score, support\n",
    "print(metrics.classification_report(Y_test, Y_pred1))\n",
    "\n",
    "#print the ROC_AUC score\n",
    "print (roc_auc_score(Y_test, Y_pred1))"
   ]
  },
  {
   "cell_type": "markdown",
   "metadata": {},
   "source": [
    "## Fit the model using two attributes for the split and visualize it"
   ]
  },
  {
   "cell_type": "code",
   "execution_count": 78,
   "metadata": {
    "scrolled": true
   },
   "outputs": [
    {
     "name": "stdout",
     "output_type": "stream",
     "text": [
      "X_[8, 20] <= 0.8\n",
      " left:X_[10, 20] <= 0.8\n",
      "  left:X_[7, 13] <= 0.8\n",
      "    left:X_[13, 7] <= 0.8\n",
      "        left:X_[13, 7] <= 0.8\n",
      "                left:X_[13, 7] <= 0.8\n",
      "                                left:X_[13, 7] <= 0.8\n",
      "                                                                left:1\n",
      "                                                                right:nan\n",
      "                                right:nan\n",
      "                right:nan\n",
      "        right:nan\n",
      "    right:0\n",
      "  right:X_[20, 15] <= 0.8\n",
      "    left:nan\n",
      "    right:X_[20, 15] <= 0.8\n",
      "        left:nan\n",
      "        right:X_[20, 15] <= 0.8\n",
      "                left:nan\n",
      "                right:X_[20, 15] <= 0.8\n",
      "                                left:nan\n",
      "                                right:X_[20, 15] <= 0.8\n",
      "                                                                left:nan\n",
      "                                                                right:0\n",
      " right:X_[8, 10] <= 0.8\n",
      "  left:1\n",
      "  right:X_[13, 14] <= 0.8\n",
      "    left:nan\n",
      "    right:X_[13, 14] <= 0.8\n",
      "        left:nan\n",
      "        right:X_[13, 14] <= 0.8\n",
      "                left:nan\n",
      "                right:X_[13, 14] <= 0.8\n",
      "                                left:nan\n",
      "                                right:X_[13, 14] <= 0.8\n",
      "                                                                left:nan\n",
      "                                                                right:0\n"
     ]
    }
   ],
   "source": [
    "#train the model\n",
    "classifier2 = DecisionTreeClassifier(min_samples_split=2000, max_depth=6, no_of_IV=2)\n",
    "classifier2.fit(X_train,Y_train)\n",
    "\n",
    "# #Print the tree\n",
    "classifier2.print_tree()"
   ]
  },
  {
   "cell_type": "markdown",
   "metadata": {},
   "source": [
    "## Predictions on the test data for model with two attributes for the split"
   ]
  },
  {
   "cell_type": "code",
   "execution_count": 79,
   "metadata": {},
   "outputs": [
    {
     "data": {
      "text/plain": [
       "0.8856518572469045"
      ]
     },
     "execution_count": 79,
     "metadata": {},
     "output_type": "execute_result"
    }
   ],
   "source": [
    "#make predictions\n",
    "Y_pred2 = classifier2.predict(X_test) \n",
    "from sklearn.metrics import accuracy_score\n",
    "\n",
    "#print the accuracy score\n",
    "accuracy_score(Y_test, Y_pred2)"
   ]
  },
  {
   "cell_type": "code",
   "execution_count": 80,
   "metadata": {},
   "outputs": [
    {
     "name": "stdout",
     "output_type": "stream",
     "text": [
      "              precision    recall  f1-score   support\n",
      "\n",
      "           0       0.89      0.99      0.94      7301\n",
      "           1       0.48      0.06      0.11       937\n",
      "\n",
      "    accuracy                           0.89      8238\n",
      "   macro avg       0.69      0.53      0.52      8238\n",
      "weighted avg       0.84      0.89      0.84      8238\n",
      "\n",
      "0.5261702282855654\n"
     ]
    }
   ],
   "source": [
    "# Print the classification report containing precision, recall, f1-score, support\n",
    "print(metrics.classification_report(Y_test, Y_pred2))\n",
    "\n",
    "#print the ROC_AUC score\n",
    "print (roc_auc_score(Y_test, Y_pred2))"
   ]
  },
  {
   "cell_type": "markdown",
   "metadata": {},
   "source": [
    "# Q2:"
   ]
  },
  {
   "cell_type": "markdown",
   "metadata": {},
   "source": [
    "## Visualize custom made decision tree using one attribute "
   ]
  },
  {
   "cell_type": "code",
   "execution_count": 81,
   "metadata": {},
   "outputs": [
    {
     "name": "stdout",
     "output_type": "stream",
     "text": [
      "X_[8] <= 0.8\n",
      " left:X_[10] <= 0.8\n",
      "  left:X_[13] <= 0.8\n",
      "    left:X_[13] <= 0.8\n",
      "        left:X_[13] <= 0.8\n",
      "                left:X_[13] <= 0.8\n",
      "                                left:X_[13] <= 0.8\n",
      "                                                                left:1\n",
      "                                                                right:nan\n",
      "                                right:nan\n",
      "                right:nan\n",
      "        right:nan\n",
      "    right:0\n",
      "  right:X_[20] <= 0.8\n",
      "    left:nan\n",
      "    right:X_[20] <= 0.8\n",
      "        left:nan\n",
      "        right:X_[20] <= 0.8\n",
      "                left:nan\n",
      "                right:X_[20] <= 0.8\n",
      "                                left:nan\n",
      "                                right:X_[20] <= 0.8\n",
      "                                                                left:nan\n",
      "                                                                right:0\n",
      " right:X_[10] <= 0.8\n",
      "  left:1\n",
      "  right:X_[10] <= 0.8\n",
      "    left:nan\n",
      "    right:X_[10] <= 0.8\n",
      "        left:nan\n",
      "        right:X_[10] <= 0.8\n",
      "                left:nan\n",
      "                right:X_[10] <= 0.8\n",
      "                                left:nan\n",
      "                                right:X_[10] <= 0.8\n",
      "                                                                left:nan\n",
      "                                                                right:0\n"
     ]
    }
   ],
   "source": [
    "# #Print the tree\n",
    "classifier1.print_tree()"
   ]
  },
  {
   "cell_type": "code",
   "execution_count": 82,
   "metadata": {},
   "outputs": [],
   "source": [
    "# column 8 is month and column 10 is duration\n",
    "\n",
    "# The rules can be visualized using th tree generated\n",
    "# if probability (month) < =0.8 and probability (duration) < =0.8 then class =1 "
   ]
  },
  {
   "cell_type": "markdown",
   "metadata": {},
   "source": [
    "## Visualize custom made decision tree using two attribute "
   ]
  },
  {
   "cell_type": "code",
   "execution_count": 83,
   "metadata": {},
   "outputs": [
    {
     "name": "stdout",
     "output_type": "stream",
     "text": [
      "X_[8, 20] <= 0.8\n",
      " left:X_[10, 20] <= 0.8\n",
      "  left:X_[7, 13] <= 0.8\n",
      "    left:X_[13, 7] <= 0.8\n",
      "        left:X_[13, 7] <= 0.8\n",
      "                left:X_[13, 7] <= 0.8\n",
      "                                left:X_[13, 7] <= 0.8\n",
      "                                                                left:1\n",
      "                                                                right:nan\n",
      "                                right:nan\n",
      "                right:nan\n",
      "        right:nan\n",
      "    right:0\n",
      "  right:X_[20, 15] <= 0.8\n",
      "    left:nan\n",
      "    right:X_[20, 15] <= 0.8\n",
      "        left:nan\n",
      "        right:X_[20, 15] <= 0.8\n",
      "                left:nan\n",
      "                right:X_[20, 15] <= 0.8\n",
      "                                left:nan\n",
      "                                right:X_[20, 15] <= 0.8\n",
      "                                                                left:nan\n",
      "                                                                right:0\n",
      " right:X_[8, 10] <= 0.8\n",
      "  left:1\n",
      "  right:X_[13, 14] <= 0.8\n",
      "    left:nan\n",
      "    right:X_[13, 14] <= 0.8\n",
      "        left:nan\n",
      "        right:X_[13, 14] <= 0.8\n",
      "                left:nan\n",
      "                right:X_[13, 14] <= 0.8\n",
      "                                left:nan\n",
      "                                right:X_[13, 14] <= 0.8\n",
      "                                                                left:nan\n",
      "                                                                right:0\n"
     ]
    }
   ],
   "source": [
    "# #Print the tree\n",
    "classifier2.print_tree()"
   ]
  },
  {
   "cell_type": "code",
   "execution_count": 84,
   "metadata": {},
   "outputs": [
    {
     "data": {
      "text/plain": [
       "Index(['age', 'job', 'marital', 'education', 'default', 'housing', 'loan',\n",
       "       'contact', 'month', 'day_of_week', 'duration', 'campaign', 'pdays',\n",
       "       'previous', 'poutcome', 'emp_var_rate', 'cons_price_idx',\n",
       "       'cons_conf_idx', 'euribor3m', 'nr_employed', 'age_bin', 'duration_bin',\n",
       "       'campaign_bin', 'pdays_bin', 'previous_bin', 'emp_var_rate_bin',\n",
       "       'cons_conf_idx_bin', 'cons_price_idx_bin', 'euribor3m_bin',\n",
       "       'nr_employed_bin', 'y'],\n",
       "      dtype='object')"
      ]
     },
     "execution_count": 84,
     "metadata": {},
     "output_type": "execute_result"
    }
   ],
   "source": [
    "df.columns"
   ]
  },
  {
   "cell_type": "code",
   "execution_count": 85,
   "metadata": {},
   "outputs": [],
   "source": [
    "# column 8 is month, column 10 is duration, column 7 is contact, column 13 is previous and column 20 is age_bin\n",
    "\n",
    "# The rules can be visualized using th tree generated\n",
    "# if probability (month and age_bin) < =0.8 and probability (duration and age_bin) < =0.8 and probability (contact and previous) then class =1 "
   ]
  },
  {
   "cell_type": "markdown",
   "metadata": {},
   "source": [
    "## Normal Decision Tree"
   ]
  },
  {
   "cell_type": "code",
   "execution_count": 86,
   "metadata": {},
   "outputs": [
    {
     "name": "stdout",
     "output_type": "stream",
     "text": [
      "              precision    recall  f1-score   support\n",
      "\n",
      "           0       0.95      0.95      0.95      7301\n",
      "           1       0.60      0.60      0.60       937\n",
      "\n",
      "    accuracy                           0.91      8238\n",
      "   macro avg       0.77      0.77      0.77      8238\n",
      "weighted avg       0.91      0.91      0.91      8238\n",
      "\n",
      "0.772145874960185\n"
     ]
    }
   ],
   "source": [
    "from sklearn.tree import DecisionTreeClassifier\n",
    "\n",
    "# Train the decision tree classifier using scikit learn\n",
    "dt = DecisionTreeClassifier(criterion='gini', min_samples_split=2000,min_samples_leaf=1, max_depth=6)\n",
    "dt.fit(X_train,Y_train)\n",
    "\n",
    "#Make Predictions\n",
    "Y_pred = dt.predict(X_test)\n",
    "\n",
    "# Print the classification report containing precision, recall, f1-score, support\n",
    "print(metrics.classification_report(Y_test, Y_pred))\n",
    "\n",
    "#print the ROC_AUC score\n",
    "print(roc_auc_score(Y_test, Y_pred))"
   ]
  },
  {
   "cell_type": "code",
   "execution_count": 87,
   "metadata": {},
   "outputs": [
    {
     "data": {
      "image/png": "[encoded data removed]",
      "text/plain": [
       "<Figure size 1440x720 with 1 Axes>"
      ]
     },
     "metadata": {
      "needs_background": "light"
     },
     "output_type": "display_data"
    }
   ],
   "source": [
    "from sklearn import tree\n",
    "plt.figure(figsize=(20,10))\n",
    "tree.plot_tree(dt);"
   ]
  },
  {
   "cell_type": "markdown",
   "metadata": {},
   "source": [
    "# Comparision and observations from visualizing the splits"
   ]
  },
  {
   "cell_type": "markdown",
   "metadata": {},
   "source": [
    "#### The custom made decision tree using WOE and logistic regression generates rules based on probabilities as thresholds."
   ]
  },
  {
   "cell_type": "markdown",
   "metadata": {},
   "source": [
    "#### However, the normal decision tree generates rules using attribute values as thresholds"
   ]
  },
  {
   "cell_type": "markdown",
   "metadata": {},
   "source": [
    "#### This is evident from the visualizations provided above"
   ]
  },
  {
   "cell_type": "markdown",
   "metadata": {},
   "source": [
    "# Q3:"
   ]
  },
  {
   "cell_type": "markdown",
   "metadata": {},
   "source": [
    "## Model using 5 fold Cross validation"
   ]
  },
  {
   "cell_type": "code",
   "execution_count": 88,
   "metadata": {},
   "outputs": [
    {
     "name": "stdout",
     "output_type": "stream",
     "text": [
      "              precision    recall  f1-score   support\n",
      "\n",
      "           0       0.95      0.95      0.95     36548\n",
      "           1       0.59      0.60      0.60      4640\n",
      "\n",
      "    accuracy                           0.91     41188\n",
      "   macro avg       0.77      0.77      0.77     41188\n",
      "weighted avg       0.91      0.91      0.91     41188\n",
      "\n",
      "0.7745148444369805\n"
     ]
    }
   ],
   "source": [
    "from sklearn.model_selection import cross_val_predict\n",
    "y_pred_cv=cross_val_predict(dt,X,Y,cv=5)\n",
    "\n",
    "#print the accuracy score\n",
    "accuracy_score(Y, y_pred_cv)\n",
    "\n",
    "# Print the classification report containing precision, recall, f1-score, support\n",
    "print(metrics.classification_report(Y, y_pred_cv))\n",
    "\n",
    "#print the ROC_AUC score\n",
    "print(roc_auc_score(Y, y_pred_cv))"
   ]
  },
  {
   "cell_type": "markdown",
   "metadata": {},
   "source": [
    "## Student t test for single attribute "
   ]
  },
  {
   "cell_type": "code",
   "execution_count": 89,
   "metadata": {},
   "outputs": [
    {
     "data": {
      "text/plain": [
       "Ttest_indResult(statistic=array([26.56991957]), pvalue=array([2.41182871e-152]))"
      ]
     },
     "execution_count": 89,
     "metadata": {},
     "output_type": "execute_result"
    }
   ],
   "source": [
    "import scipy.stats as stats\n",
    " \n",
    "# Perform the two sample t-test with equal variances\n",
    "stats.ttest_ind(a=Y_test, b=Y_pred1, equal_var=True)"
   ]
  },
  {
   "cell_type": "markdown",
   "metadata": {},
   "source": [
    "Two sample t-test has the following hypothesis:\n",
    "\n",
    "H0 => µ1 = µ2 (population mean of given class labels is equal to the mean of the predicted class labels)\n",
    "\n",
    "HA => µ1 ≠µ2 (population mean of given class labels is different from the mean of the predicted class labels)\n",
    "\n",
    "Here, since the p-value (2.41182871e-152) is less than alpha = 0.05 so we reject the null hypothesis (H0) of the test."
   ]
  },
  {
   "cell_type": "markdown",
   "metadata": {},
   "source": [
    "## Student t test for two attributes "
   ]
  },
  {
   "cell_type": "code",
   "execution_count": 90,
   "metadata": {},
   "outputs": [
    {
     "data": {
      "text/plain": [
       "Ttest_indResult(statistic=array([26.56991957]), pvalue=array([2.41182871e-152]))"
      ]
     },
     "execution_count": 90,
     "metadata": {},
     "output_type": "execute_result"
    }
   ],
   "source": [
    "import scipy.stats as stats\n",
    " \n",
    "# Perform the two sample t-test with equal variances\n",
    "stats.ttest_ind(a=Y_test, b=Y_pred2, equal_var=True)"
   ]
  },
  {
   "cell_type": "markdown",
   "metadata": {},
   "source": [
    "Two sample t-test has the following hypothesis:\n",
    "\n",
    "H0 => µ1 = µ2 (population mean of given class labels is equal to the mean of the predicted class labels)\n",
    "\n",
    "HA => µ1 ≠µ2 (population mean of given class labels is different from the mean of the predicted class labels)\n",
    "\n",
    "Here, since the p-value (2.41182871e-152) is less than alpha = 0.05 so we reject the null hypothesis (H0) of the test."
   ]
  },
  {
   "cell_type": "code",
   "execution_count": 91,
   "metadata": {},
   "outputs": [],
   "source": [
    "# Since the accuracy of both the models is similar ,the poosible reason for this may be that when we are taking two \n",
    "# attributes for making the model both of them are possibly correlated with each other.\n",
    "\n",
    "#Hence, the presence of two attributes per node versus one attribute per node both are generating similar results in terms\n",
    "# of precision, recall, F1 score and accuracy ."
   ]
  },
  {
   "cell_type": "code",
   "execution_count": null,
   "metadata": {},
   "outputs": [],
   "source": []
  }
 ],
 "metadata": {
  "kernelspec": {
   "display_name": "Python 3",
   "language": "python",
   "name": "python3"
  },
  "language_info": {
   "codemirror_mode": {
    "name": "ipython",
    "version": 3
   },
   "file_extension": ".py",
   "mimetype": "text/x-python",
   "name": "python",
   "nbconvert_exporter": "python",
   "pygments_lexer": "ipython3",
   "version": "3.8.3"
  }
 },
 "nbformat": 4,
 "nbformat_minor": 4
}
