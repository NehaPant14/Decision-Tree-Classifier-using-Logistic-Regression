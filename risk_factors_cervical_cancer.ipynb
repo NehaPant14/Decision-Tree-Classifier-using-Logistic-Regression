{
 "cells": [
  {
   "cell_type": "markdown",
   "metadata": {},
   "source": [
    "# Dataset 1 : risk_factors_cervical_cancer"
   ]
  },
  {
   "cell_type": "code",
   "execution_count": 1,
   "metadata": {},
   "outputs": [],
   "source": [
    "#import all necessary libraries\n",
    "import pandas as pd\n",
    "import numpy as np\n",
    "from sklearn.model_selection import train_test_split\n",
    "from sklearn import metrics\n",
    "import statsmodels.api as sm\n",
    "from sklearn.tree import DecisionTreeClassifier\n",
    "from sklearn.linear_model import LogisticRegression\n",
    "from sklearn.metrics import accuracy_score, roc_auc_score\n",
    "import matplotlib.pyplot as plt\n",
    "import warnings\n",
    "warnings.filterwarnings(\"ignore\")"
   ]
  },
  {
   "cell_type": "code",
   "execution_count": 2,
   "metadata": {},
   "outputs": [
    {
     "name": "stdout",
     "output_type": "stream",
     "text": [
      "(858, 36)\n",
      "['Age', 'Number of sexual partners', 'First sexual intercourse', 'Num of pregnancies', 'Smokes', 'Smokes (years)', 'Smokes (packs/year)', 'Hormonal Contraceptives', 'Hormonal Contraceptives (years)', 'IUD', 'IUD (years)', 'STDs', 'STDs (number)', 'STDs:condylomatosis', 'STDs:cervical condylomatosis', 'STDs:vaginal condylomatosis', 'STDs:vulvo-perineal condylomatosis', 'STDs:syphilis', 'STDs:pelvic inflammatory disease', 'STDs:genital herpes', 'STDs:molluscum contagiosum', 'STDs:AIDS', 'STDs:HIV', 'STDs:Hepatitis B', 'STDs:HPV', 'STDs: Number of diagnosis', 'STDs: Time since first diagnosis', 'STDs: Time since last diagnosis', 'Dx:Cancer', 'Dx:CIN', 'Dx:HPV', 'Dx', 'Hinselmann', 'Schiller', 'Citology', 'Biopsy']\n"
     ]
    }
   ],
   "source": [
    "df = pd.read_csv('risk_factors_cervical_cancer.csv', header=0)\n",
    "df = df.dropna()\n",
    "print(df.shape)\n",
    "print(list(df.columns))"
   ]
  },
  {
   "cell_type": "code",
   "execution_count": 3,
   "metadata": {},
   "outputs": [
    {
     "data": {
      "text/html": [
       "<div>\n",
       "<style scoped>\n",
       "    .dataframe tbody tr th:only-of-type {\n",
       "        vertical-align: middle;\n",
       "    }\n",
       "\n",
       "    .dataframe tbody tr th {\n",
       "        vertical-align: top;\n",
       "    }\n",
       "\n",
       "    .dataframe thead th {\n",
       "        text-align: right;\n",
       "    }\n",
       "</style>\n",
       "<table border=\"1\" class=\"dataframe\">\n",
       "  <thead>\n",
       "    <tr style=\"text-align: right;\">\n",
       "      <th></th>\n",
       "      <th>Age</th>\n",
       "      <th>Number of sexual partners</th>\n",
       "      <th>First sexual intercourse</th>\n",
       "      <th>Num of pregnancies</th>\n",
       "      <th>Smokes</th>\n",
       "      <th>Smokes (years)</th>\n",
       "      <th>Smokes (packs/year)</th>\n",
       "      <th>Hormonal Contraceptives</th>\n",
       "      <th>Hormonal Contraceptives (years)</th>\n",
       "      <th>IUD</th>\n",
       "      <th>...</th>\n",
       "      <th>STDs: Time since first diagnosis</th>\n",
       "      <th>STDs: Time since last diagnosis</th>\n",
       "      <th>Dx:Cancer</th>\n",
       "      <th>Dx:CIN</th>\n",
       "      <th>Dx:HPV</th>\n",
       "      <th>Dx</th>\n",
       "      <th>Hinselmann</th>\n",
       "      <th>Schiller</th>\n",
       "      <th>Citology</th>\n",
       "      <th>Biopsy</th>\n",
       "    </tr>\n",
       "  </thead>\n",
       "  <tbody>\n",
       "    <tr>\n",
       "      <th>0</th>\n",
       "      <td>18</td>\n",
       "      <td>4.0</td>\n",
       "      <td>15.0</td>\n",
       "      <td>1.0</td>\n",
       "      <td>0.0</td>\n",
       "      <td>0.0</td>\n",
       "      <td>0.0</td>\n",
       "      <td>0.0</td>\n",
       "      <td>0.0</td>\n",
       "      <td>0.0</td>\n",
       "      <td>...</td>\n",
       "      <td>?</td>\n",
       "      <td>?</td>\n",
       "      <td>0</td>\n",
       "      <td>0</td>\n",
       "      <td>0</td>\n",
       "      <td>0</td>\n",
       "      <td>0</td>\n",
       "      <td>0</td>\n",
       "      <td>0</td>\n",
       "      <td>0</td>\n",
       "    </tr>\n",
       "    <tr>\n",
       "      <th>1</th>\n",
       "      <td>15</td>\n",
       "      <td>1.0</td>\n",
       "      <td>14.0</td>\n",
       "      <td>1.0</td>\n",
       "      <td>0.0</td>\n",
       "      <td>0.0</td>\n",
       "      <td>0.0</td>\n",
       "      <td>0.0</td>\n",
       "      <td>0.0</td>\n",
       "      <td>0.0</td>\n",
       "      <td>...</td>\n",
       "      <td>?</td>\n",
       "      <td>?</td>\n",
       "      <td>0</td>\n",
       "      <td>0</td>\n",
       "      <td>0</td>\n",
       "      <td>0</td>\n",
       "      <td>0</td>\n",
       "      <td>0</td>\n",
       "      <td>0</td>\n",
       "      <td>0</td>\n",
       "    </tr>\n",
       "    <tr>\n",
       "      <th>2</th>\n",
       "      <td>34</td>\n",
       "      <td>1.0</td>\n",
       "      <td>?</td>\n",
       "      <td>1.0</td>\n",
       "      <td>0.0</td>\n",
       "      <td>0.0</td>\n",
       "      <td>0.0</td>\n",
       "      <td>0.0</td>\n",
       "      <td>0.0</td>\n",
       "      <td>0.0</td>\n",
       "      <td>...</td>\n",
       "      <td>?</td>\n",
       "      <td>?</td>\n",
       "      <td>0</td>\n",
       "      <td>0</td>\n",
       "      <td>0</td>\n",
       "      <td>0</td>\n",
       "      <td>0</td>\n",
       "      <td>0</td>\n",
       "      <td>0</td>\n",
       "      <td>0</td>\n",
       "    </tr>\n",
       "    <tr>\n",
       "      <th>3</th>\n",
       "      <td>52</td>\n",
       "      <td>5.0</td>\n",
       "      <td>16.0</td>\n",
       "      <td>4.0</td>\n",
       "      <td>1.0</td>\n",
       "      <td>37.0</td>\n",
       "      <td>37.0</td>\n",
       "      <td>1.0</td>\n",
       "      <td>3.0</td>\n",
       "      <td>0.0</td>\n",
       "      <td>...</td>\n",
       "      <td>?</td>\n",
       "      <td>?</td>\n",
       "      <td>1</td>\n",
       "      <td>0</td>\n",
       "      <td>1</td>\n",
       "      <td>0</td>\n",
       "      <td>0</td>\n",
       "      <td>0</td>\n",
       "      <td>0</td>\n",
       "      <td>0</td>\n",
       "    </tr>\n",
       "    <tr>\n",
       "      <th>4</th>\n",
       "      <td>46</td>\n",
       "      <td>3.0</td>\n",
       "      <td>21.0</td>\n",
       "      <td>4.0</td>\n",
       "      <td>0.0</td>\n",
       "      <td>0.0</td>\n",
       "      <td>0.0</td>\n",
       "      <td>1.0</td>\n",
       "      <td>15.0</td>\n",
       "      <td>0.0</td>\n",
       "      <td>...</td>\n",
       "      <td>?</td>\n",
       "      <td>?</td>\n",
       "      <td>0</td>\n",
       "      <td>0</td>\n",
       "      <td>0</td>\n",
       "      <td>0</td>\n",
       "      <td>0</td>\n",
       "      <td>0</td>\n",
       "      <td>0</td>\n",
       "      <td>0</td>\n",
       "    </tr>\n",
       "    <tr>\n",
       "      <th>...</th>\n",
       "      <td>...</td>\n",
       "      <td>...</td>\n",
       "      <td>...</td>\n",
       "      <td>...</td>\n",
       "      <td>...</td>\n",
       "      <td>...</td>\n",
       "      <td>...</td>\n",
       "      <td>...</td>\n",
       "      <td>...</td>\n",
       "      <td>...</td>\n",
       "      <td>...</td>\n",
       "      <td>...</td>\n",
       "      <td>...</td>\n",
       "      <td>...</td>\n",
       "      <td>...</td>\n",
       "      <td>...</td>\n",
       "      <td>...</td>\n",
       "      <td>...</td>\n",
       "      <td>...</td>\n",
       "      <td>...</td>\n",
       "      <td>...</td>\n",
       "    </tr>\n",
       "    <tr>\n",
       "      <th>853</th>\n",
       "      <td>34</td>\n",
       "      <td>3.0</td>\n",
       "      <td>18.0</td>\n",
       "      <td>0.0</td>\n",
       "      <td>0.0</td>\n",
       "      <td>0.0</td>\n",
       "      <td>0.0</td>\n",
       "      <td>0.0</td>\n",
       "      <td>0.0</td>\n",
       "      <td>0.0</td>\n",
       "      <td>...</td>\n",
       "      <td>?</td>\n",
       "      <td>?</td>\n",
       "      <td>0</td>\n",
       "      <td>0</td>\n",
       "      <td>0</td>\n",
       "      <td>0</td>\n",
       "      <td>0</td>\n",
       "      <td>0</td>\n",
       "      <td>0</td>\n",
       "      <td>0</td>\n",
       "    </tr>\n",
       "    <tr>\n",
       "      <th>854</th>\n",
       "      <td>32</td>\n",
       "      <td>2.0</td>\n",
       "      <td>19.0</td>\n",
       "      <td>1.0</td>\n",
       "      <td>0.0</td>\n",
       "      <td>0.0</td>\n",
       "      <td>0.0</td>\n",
       "      <td>1.0</td>\n",
       "      <td>8.0</td>\n",
       "      <td>0.0</td>\n",
       "      <td>...</td>\n",
       "      <td>?</td>\n",
       "      <td>?</td>\n",
       "      <td>0</td>\n",
       "      <td>0</td>\n",
       "      <td>0</td>\n",
       "      <td>0</td>\n",
       "      <td>0</td>\n",
       "      <td>0</td>\n",
       "      <td>0</td>\n",
       "      <td>0</td>\n",
       "    </tr>\n",
       "    <tr>\n",
       "      <th>855</th>\n",
       "      <td>25</td>\n",
       "      <td>2.0</td>\n",
       "      <td>17.0</td>\n",
       "      <td>0.0</td>\n",
       "      <td>0.0</td>\n",
       "      <td>0.0</td>\n",
       "      <td>0.0</td>\n",
       "      <td>1.0</td>\n",
       "      <td>0.08</td>\n",
       "      <td>0.0</td>\n",
       "      <td>...</td>\n",
       "      <td>?</td>\n",
       "      <td>?</td>\n",
       "      <td>0</td>\n",
       "      <td>0</td>\n",
       "      <td>0</td>\n",
       "      <td>0</td>\n",
       "      <td>0</td>\n",
       "      <td>0</td>\n",
       "      <td>1</td>\n",
       "      <td>0</td>\n",
       "    </tr>\n",
       "    <tr>\n",
       "      <th>856</th>\n",
       "      <td>33</td>\n",
       "      <td>2.0</td>\n",
       "      <td>24.0</td>\n",
       "      <td>2.0</td>\n",
       "      <td>0.0</td>\n",
       "      <td>0.0</td>\n",
       "      <td>0.0</td>\n",
       "      <td>1.0</td>\n",
       "      <td>0.08</td>\n",
       "      <td>0.0</td>\n",
       "      <td>...</td>\n",
       "      <td>?</td>\n",
       "      <td>?</td>\n",
       "      <td>0</td>\n",
       "      <td>0</td>\n",
       "      <td>0</td>\n",
       "      <td>0</td>\n",
       "      <td>0</td>\n",
       "      <td>0</td>\n",
       "      <td>0</td>\n",
       "      <td>0</td>\n",
       "    </tr>\n",
       "    <tr>\n",
       "      <th>857</th>\n",
       "      <td>29</td>\n",
       "      <td>2.0</td>\n",
       "      <td>20.0</td>\n",
       "      <td>1.0</td>\n",
       "      <td>0.0</td>\n",
       "      <td>0.0</td>\n",
       "      <td>0.0</td>\n",
       "      <td>1.0</td>\n",
       "      <td>0.5</td>\n",
       "      <td>0.0</td>\n",
       "      <td>...</td>\n",
       "      <td>?</td>\n",
       "      <td>?</td>\n",
       "      <td>0</td>\n",
       "      <td>0</td>\n",
       "      <td>0</td>\n",
       "      <td>0</td>\n",
       "      <td>0</td>\n",
       "      <td>0</td>\n",
       "      <td>0</td>\n",
       "      <td>0</td>\n",
       "    </tr>\n",
       "  </tbody>\n",
       "</table>\n",
       "<p>858 rows × 36 columns</p>\n",
       "</div>"
      ],
      "text/plain": [
       "     Age Number of sexual partners First sexual intercourse  \\\n",
       "0     18                       4.0                     15.0   \n",
       "1     15                       1.0                     14.0   \n",
       "2     34                       1.0                        ?   \n",
       "3     52                       5.0                     16.0   \n",
       "4     46                       3.0                     21.0   \n",
       "..   ...                       ...                      ...   \n",
       "853   34                       3.0                     18.0   \n",
       "854   32                       2.0                     19.0   \n",
       "855   25                       2.0                     17.0   \n",
       "856   33                       2.0                     24.0   \n",
       "857   29                       2.0                     20.0   \n",
       "\n",
       "    Num of pregnancies Smokes Smokes (years) Smokes (packs/year)  \\\n",
       "0                  1.0    0.0            0.0                 0.0   \n",
       "1                  1.0    0.0            0.0                 0.0   \n",
       "2                  1.0    0.0            0.0                 0.0   \n",
       "3                  4.0    1.0           37.0                37.0   \n",
       "4                  4.0    0.0            0.0                 0.0   \n",
       "..                 ...    ...            ...                 ...   \n",
       "853                0.0    0.0            0.0                 0.0   \n",
       "854                1.0    0.0            0.0                 0.0   \n",
       "855                0.0    0.0            0.0                 0.0   \n",
       "856                2.0    0.0            0.0                 0.0   \n",
       "857                1.0    0.0            0.0                 0.0   \n",
       "\n",
       "    Hormonal Contraceptives Hormonal Contraceptives (years)  IUD  ...  \\\n",
       "0                       0.0                             0.0  0.0  ...   \n",
       "1                       0.0                             0.0  0.0  ...   \n",
       "2                       0.0                             0.0  0.0  ...   \n",
       "3                       1.0                             3.0  0.0  ...   \n",
       "4                       1.0                            15.0  0.0  ...   \n",
       "..                      ...                             ...  ...  ...   \n",
       "853                     0.0                             0.0  0.0  ...   \n",
       "854                     1.0                             8.0  0.0  ...   \n",
       "855                     1.0                            0.08  0.0  ...   \n",
       "856                     1.0                            0.08  0.0  ...   \n",
       "857                     1.0                             0.5  0.0  ...   \n",
       "\n",
       "    STDs: Time since first diagnosis STDs: Time since last diagnosis  \\\n",
       "0                                  ?                               ?   \n",
       "1                                  ?                               ?   \n",
       "2                                  ?                               ?   \n",
       "3                                  ?                               ?   \n",
       "4                                  ?                               ?   \n",
       "..                               ...                             ...   \n",
       "853                                ?                               ?   \n",
       "854                                ?                               ?   \n",
       "855                                ?                               ?   \n",
       "856                                ?                               ?   \n",
       "857                                ?                               ?   \n",
       "\n",
       "    Dx:Cancer Dx:CIN Dx:HPV Dx Hinselmann Schiller Citology Biopsy  \n",
       "0           0      0      0  0          0        0        0      0  \n",
       "1           0      0      0  0          0        0        0      0  \n",
       "2           0      0      0  0          0        0        0      0  \n",
       "3           1      0      1  0          0        0        0      0  \n",
       "4           0      0      0  0          0        0        0      0  \n",
       "..        ...    ...    ... ..        ...      ...      ...    ...  \n",
       "853         0      0      0  0          0        0        0      0  \n",
       "854         0      0      0  0          0        0        0      0  \n",
       "855         0      0      0  0          0        0        1      0  \n",
       "856         0      0      0  0          0        0        0      0  \n",
       "857         0      0      0  0          0        0        0      0  \n",
       "\n",
       "[858 rows x 36 columns]"
      ]
     },
     "execution_count": 3,
     "metadata": {},
     "output_type": "execute_result"
    }
   ],
   "source": [
    "df"
   ]
  },
  {
   "cell_type": "code",
   "execution_count": 4,
   "metadata": {
    "scrolled": true
   },
   "outputs": [
    {
     "data": {
      "text/plain": [
       "Age                                   0\n",
       "Number of sexual partners             0\n",
       "First sexual intercourse              0\n",
       "Num of pregnancies                    0\n",
       "Smokes                                0\n",
       "Smokes (years)                        0\n",
       "Smokes (packs/year)                   0\n",
       "Hormonal Contraceptives               0\n",
       "Hormonal Contraceptives (years)       0\n",
       "IUD                                   0\n",
       "IUD (years)                           0\n",
       "STDs                                  0\n",
       "STDs (number)                         0\n",
       "STDs:condylomatosis                   0\n",
       "STDs:cervical condylomatosis          0\n",
       "STDs:vaginal condylomatosis           0\n",
       "STDs:vulvo-perineal condylomatosis    0\n",
       "STDs:syphilis                         0\n",
       "STDs:pelvic inflammatory disease      0\n",
       "STDs:genital herpes                   0\n",
       "STDs:molluscum contagiosum            0\n",
       "STDs:AIDS                             0\n",
       "STDs:HIV                              0\n",
       "STDs:Hepatitis B                      0\n",
       "STDs:HPV                              0\n",
       "STDs: Number of diagnosis             0\n",
       "STDs: Time since first diagnosis      0\n",
       "STDs: Time since last diagnosis       0\n",
       "Dx:Cancer                             0\n",
       "Dx:CIN                                0\n",
       "Dx:HPV                                0\n",
       "Dx                                    0\n",
       "Hinselmann                            0\n",
       "Schiller                              0\n",
       "Citology                              0\n",
       "Biopsy                                0\n",
       "dtype: int64"
      ]
     },
     "execution_count": 4,
     "metadata": {},
     "output_type": "execute_result"
    }
   ],
   "source": [
    "df.isna().sum()"
   ]
  },
  {
   "cell_type": "code",
   "execution_count": 5,
   "metadata": {
    "scrolled": true
   },
   "outputs": [
    {
     "data": {
      "text/plain": [
       "Age                                    int64\n",
       "Number of sexual partners             object\n",
       "First sexual intercourse              object\n",
       "Num of pregnancies                    object\n",
       "Smokes                                object\n",
       "Smokes (years)                        object\n",
       "Smokes (packs/year)                   object\n",
       "Hormonal Contraceptives               object\n",
       "Hormonal Contraceptives (years)       object\n",
       "IUD                                   object\n",
       "IUD (years)                           object\n",
       "STDs                                  object\n",
       "STDs (number)                         object\n",
       "STDs:condylomatosis                   object\n",
       "STDs:cervical condylomatosis          object\n",
       "STDs:vaginal condylomatosis           object\n",
       "STDs:vulvo-perineal condylomatosis    object\n",
       "STDs:syphilis                         object\n",
       "STDs:pelvic inflammatory disease      object\n",
       "STDs:genital herpes                   object\n",
       "STDs:molluscum contagiosum            object\n",
       "STDs:AIDS                             object\n",
       "STDs:HIV                              object\n",
       "STDs:Hepatitis B                      object\n",
       "STDs:HPV                              object\n",
       "STDs: Number of diagnosis              int64\n",
       "STDs: Time since first diagnosis      object\n",
       "STDs: Time since last diagnosis       object\n",
       "Dx:Cancer                              int64\n",
       "Dx:CIN                                 int64\n",
       "Dx:HPV                                 int64\n",
       "Dx                                     int64\n",
       "Hinselmann                             int64\n",
       "Schiller                               int64\n",
       "Citology                               int64\n",
       "Biopsy                                 int64\n",
       "dtype: object"
      ]
     },
     "execution_count": 5,
     "metadata": {},
     "output_type": "execute_result"
    }
   ],
   "source": [
    "df.dtypes"
   ]
  },
  {
   "cell_type": "code",
   "execution_count": 6,
   "metadata": {
    "scrolled": true
   },
   "outputs": [
    {
     "data": {
      "text/plain": [
       "Index(['Age', 'Number of sexual partners', 'First sexual intercourse',\n",
       "       'Num of pregnancies', 'Smokes', 'Smokes (years)', 'Smokes (packs/year)',\n",
       "       'Hormonal Contraceptives', 'Hormonal Contraceptives (years)', 'IUD',\n",
       "       'IUD (years)', 'STDs', 'STDs (number)', 'STDs:condylomatosis',\n",
       "       'STDs:cervical condylomatosis', 'STDs:vaginal condylomatosis',\n",
       "       'STDs:vulvo-perineal condylomatosis', 'STDs:syphilis',\n",
       "       'STDs:pelvic inflammatory disease', 'STDs:genital herpes',\n",
       "       'STDs:molluscum contagiosum', 'STDs:AIDS', 'STDs:HIV',\n",
       "       'STDs:Hepatitis B', 'STDs:HPV', 'STDs: Number of diagnosis',\n",
       "       'STDs: Time since first diagnosis', 'STDs: Time since last diagnosis',\n",
       "       'Dx:Cancer', 'Dx:CIN', 'Dx:HPV', 'Dx', 'Hinselmann', 'Schiller',\n",
       "       'Citology', 'Biopsy'],\n",
       "      dtype='object')"
      ]
     },
     "execution_count": 6,
     "metadata": {},
     "output_type": "execute_result"
    }
   ],
   "source": [
    "df.columns"
   ]
  },
  {
   "cell_type": "markdown",
   "metadata": {},
   "source": [
    "# Preprocessing Categorical variables"
   ]
  },
  {
   "cell_type": "markdown",
   "metadata": {},
   "source": [
    "# Preprocessing Number of sexual partners column"
   ]
  },
  {
   "cell_type": "code",
   "execution_count": 7,
   "metadata": {},
   "outputs": [
    {
     "name": "stdout",
     "output_type": "stream",
     "text": [
      "Total Null Values in Number of sexual partners column:\n",
      "0\n",
      "\n",
      "Minimum and Maximum values for Number of sexual partners column:\n",
      "1.0 ?\n"
     ]
    }
   ],
   "source": [
    "print('Total Null Values in Number of sexual partners column:')\n",
    "print(df['Number of sexual partners'].isna().sum())\n",
    "\n",
    "print('\\nMinimum and Maximum values for Number of sexual partners column:')\n",
    "print(df['Number of sexual partners'].min(), df['Number of sexual partners'].max())"
   ]
  },
  {
   "cell_type": "code",
   "execution_count": 8,
   "metadata": {},
   "outputs": [
    {
     "data": {
      "text/plain": [
       "2.0     272\n",
       "3.0     208\n",
       "1.0     206\n",
       "4.0      78\n",
       "5.0      44\n",
       "?        26\n",
       "6.0       9\n",
       "7.0       7\n",
       "8.0       4\n",
       "9.0       1\n",
       "28.0      1\n",
       "15.0      1\n",
       "10.0      1\n",
       "Name: Number of sexual partners, dtype: int64"
      ]
     },
     "execution_count": 8,
     "metadata": {},
     "output_type": "execute_result"
    }
   ],
   "source": [
    "df['Number of sexual partners'].value_counts()"
   ]
  },
  {
   "cell_type": "code",
   "execution_count": 9,
   "metadata": {},
   "outputs": [
    {
     "data": {
      "text/plain": [
       "2.0     272\n",
       "3.0     208\n",
       "1.0     206\n",
       "4.0      78\n",
       "5.0      44\n",
       "0        26\n",
       "6.0       9\n",
       "7.0       7\n",
       "8.0       4\n",
       "9.0       1\n",
       "28.0      1\n",
       "15.0      1\n",
       "10.0      1\n",
       "Name: Number of sexual partners, dtype: int64"
      ]
     },
     "execution_count": 9,
     "metadata": {},
     "output_type": "execute_result"
    }
   ],
   "source": [
    "df['Number of sexual partners'].replace(to_replace=\"?\",value=0,inplace=True)\n",
    "df['Number of sexual partners'].value_counts()"
   ]
  },
  {
   "cell_type": "code",
   "execution_count": 10,
   "metadata": {},
   "outputs": [],
   "source": [
    "df['Number of sexual partners'] = df['Number of sexual partners'].apply(lambda x:float(x))"
   ]
  },
  {
   "cell_type": "code",
   "execution_count": 11,
   "metadata": {},
   "outputs": [
    {
     "data": {
      "text/plain": [
       "1    272\n",
       "0    232\n",
       "2    208\n",
       "3     78\n",
       "4     68\n",
       "Name: Number of sexual partners, dtype: int64"
      ]
     },
     "execution_count": 11,
     "metadata": {},
     "output_type": "execute_result"
    }
   ],
   "source": [
    "#Discretizing the Number of sexual partners column\n",
    "cut_label_Numberofsexualpartner = ['0','1', '2', '3', '4']\n",
    "\n",
    "cut_bins = [-1, 1, 2, 3, 4,29]\n",
    "\n",
    "df['Number of sexual partners'] = pd.cut(df['Number of sexual partners'], bins=cut_bins, labels=cut_label_Numberofsexualpartner)\n",
    "\n",
    "df['Number of sexual partners'].value_counts()"
   ]
  },
  {
   "cell_type": "markdown",
   "metadata": {},
   "source": [
    "# Preprocessing First sexual intercourse column"
   ]
  },
  {
   "cell_type": "code",
   "execution_count": 12,
   "metadata": {},
   "outputs": [
    {
     "name": "stdout",
     "output_type": "stream",
     "text": [
      "Total Null Values in First sexual intercourse column:\n",
      "0\n",
      "\n",
      "Minimum and Maximum values for First sexual intercourse column:\n",
      "10.0 ?\n"
     ]
    }
   ],
   "source": [
    "print('Total Null Values in First sexual intercourse column:')\n",
    "print(df['First sexual intercourse'].isna().sum())\n",
    "\n",
    "print('\\nMinimum and Maximum values for First sexual intercourse column:')\n",
    "print(df['First sexual intercourse'].min(), df['First sexual intercourse'].max())"
   ]
  },
  {
   "cell_type": "code",
   "execution_count": 13,
   "metadata": {
    "scrolled": true
   },
   "outputs": [
    {
     "data": {
      "text/plain": [
       "15.0    163\n",
       "17.0    151\n",
       "18.0    137\n",
       "16.0    121\n",
       "14.0     79\n",
       "19.0     60\n",
       "20.0     37\n",
       "13.0     25\n",
       "21.0     20\n",
       "23.0      9\n",
       "22.0      9\n",
       "26.0      7\n",
       "?         7\n",
       "27.0      6\n",
       "12.0      6\n",
       "24.0      6\n",
       "29.0      5\n",
       "28.0      3\n",
       "11.0      2\n",
       "25.0      2\n",
       "10.0      2\n",
       "32.0      1\n",
       "Name: First sexual intercourse, dtype: int64"
      ]
     },
     "execution_count": 13,
     "metadata": {},
     "output_type": "execute_result"
    }
   ],
   "source": [
    "df['First sexual intercourse'].value_counts()"
   ]
  },
  {
   "cell_type": "code",
   "execution_count": 14,
   "metadata": {
    "scrolled": true
   },
   "outputs": [
    {
     "data": {
      "text/plain": [
       "15.0    163\n",
       "17.0    151\n",
       "18.0    137\n",
       "16.0    121\n",
       "14.0     79\n",
       "19.0     60\n",
       "20.0     37\n",
       "13.0     25\n",
       "21.0     20\n",
       "22.0      9\n",
       "23.0      9\n",
       "26.0      7\n",
       "0         7\n",
       "12.0      6\n",
       "24.0      6\n",
       "27.0      6\n",
       "29.0      5\n",
       "28.0      3\n",
       "25.0      2\n",
       "11.0      2\n",
       "10.0      2\n",
       "32.0      1\n",
       "Name: First sexual intercourse, dtype: int64"
      ]
     },
     "execution_count": 14,
     "metadata": {},
     "output_type": "execute_result"
    }
   ],
   "source": [
    "df['First sexual intercourse'].replace(to_replace=\"?\",value=0,inplace=True)\n",
    "df['First sexual intercourse'].value_counts()"
   ]
  },
  {
   "cell_type": "code",
   "execution_count": 15,
   "metadata": {},
   "outputs": [],
   "source": [
    "df['First sexual intercourse'] = df['First sexual intercourse'].apply(lambda x:float(x))"
   ]
  },
  {
   "cell_type": "code",
   "execution_count": 16,
   "metadata": {},
   "outputs": [
    {
     "data": {
      "text/plain": [
       "5    165\n",
       "1    163\n",
       "3    151\n",
       "4    137\n",
       "2    121\n",
       "0    121\n",
       "Name: First sexual intercourse, dtype: int64"
      ]
     },
     "execution_count": 16,
     "metadata": {},
     "output_type": "execute_result"
    }
   ],
   "source": [
    "#Discretizing the First sexual intercourse column\n",
    "cut_label_First_sexual_intercourse = ['0','1', '2', '3','4','5']\n",
    "\n",
    "cut_bins = [-1,14,15,16,17,18,40]\n",
    "\n",
    "df['First sexual intercourse'] = pd.cut(df['First sexual intercourse'], bins=cut_bins, labels=cut_label_First_sexual_intercourse)\n",
    "\n",
    "df['First sexual intercourse'].value_counts()"
   ]
  },
  {
   "cell_type": "markdown",
   "metadata": {},
   "source": [
    "# Preprocessing Num of pregnancies column"
   ]
  },
  {
   "cell_type": "code",
   "execution_count": 17,
   "metadata": {},
   "outputs": [
    {
     "name": "stdout",
     "output_type": "stream",
     "text": [
      "Total Null Values in Num of pregnancies column:\n",
      "0\n",
      "\n",
      "Minimum and Maximum values for Num of pregnancies column:\n",
      "0.0 ?\n"
     ]
    }
   ],
   "source": [
    "print('Total Null Values in Num of pregnancies column:')\n",
    "print(df['Num of pregnancies'].isna().sum())\n",
    "\n",
    "print('\\nMinimum and Maximum values for Num of pregnancies column:')\n",
    "print(df['Num of pregnancies'].min(), df['Num of pregnancies'].max())"
   ]
  },
  {
   "cell_type": "code",
   "execution_count": 18,
   "metadata": {},
   "outputs": [
    {
     "data": {
      "text/plain": [
       "1.0     270\n",
       "2.0     240\n",
       "3.0     139\n",
       "4.0      74\n",
       "?        56\n",
       "5.0      35\n",
       "6.0      18\n",
       "0.0      16\n",
       "7.0       6\n",
       "8.0       2\n",
       "11.0      1\n",
       "10.0      1\n",
       "Name: Num of pregnancies, dtype: int64"
      ]
     },
     "execution_count": 18,
     "metadata": {},
     "output_type": "execute_result"
    }
   ],
   "source": [
    "df['Num of pregnancies'].value_counts()"
   ]
  },
  {
   "cell_type": "code",
   "execution_count": 19,
   "metadata": {},
   "outputs": [
    {
     "data": {
      "text/plain": [
       "1.0     270\n",
       "2.0     240\n",
       "3.0     139\n",
       "4.0      74\n",
       "12       56\n",
       "5.0      35\n",
       "6.0      18\n",
       "0.0      16\n",
       "7.0       6\n",
       "8.0       2\n",
       "11.0      1\n",
       "10.0      1\n",
       "Name: Num of pregnancies, dtype: int64"
      ]
     },
     "execution_count": 19,
     "metadata": {},
     "output_type": "execute_result"
    }
   ],
   "source": [
    "df['Num of pregnancies'].replace(to_replace=\"?\",value=12,inplace=True)\n",
    "df['Num of pregnancies'].value_counts()"
   ]
  },
  {
   "cell_type": "code",
   "execution_count": 20,
   "metadata": {},
   "outputs": [],
   "source": [
    "df['Num of pregnancies'] = df['Num of pregnancies'].apply(lambda x:float(x))"
   ]
  },
  {
   "cell_type": "code",
   "execution_count": 21,
   "metadata": {},
   "outputs": [
    {
     "data": {
      "text/plain": [
       "1    286\n",
       "2    240\n",
       "3    139\n",
       "5    119\n",
       "4     74\n",
       "Name: Num of pregnancies, dtype: int64"
      ]
     },
     "execution_count": 21,
     "metadata": {},
     "output_type": "execute_result"
    }
   ],
   "source": [
    "#Discretizing the Num of pregnancies column\n",
    "cut_label_pregnancies = ['1', '2', '3', '4', '5']\n",
    "\n",
    "cut_bins = [-1,1,2,3,4,12]\n",
    "\n",
    "df['Num of pregnancies'] = pd.cut(df['Num of pregnancies'], bins=cut_bins, labels=cut_label_pregnancies)\n",
    "\n",
    "df['Num of pregnancies'].value_counts()"
   ]
  },
  {
   "cell_type": "markdown",
   "metadata": {},
   "source": [
    "# Preprocessing Smokes column"
   ]
  },
  {
   "cell_type": "code",
   "execution_count": 22,
   "metadata": {},
   "outputs": [
    {
     "name": "stdout",
     "output_type": "stream",
     "text": [
      "Total Null Values in Smokes column:\n",
      "0\n",
      "\n",
      "Minimum and Maximum values for Smokes column:\n",
      "0.0 ?\n"
     ]
    }
   ],
   "source": [
    "print('Total Null Values in Smokes column:')\n",
    "print(df['Smokes'].isna().sum())\n",
    "\n",
    "print('\\nMinimum and Maximum values for Smokes column:')\n",
    "print(df['Smokes'].min(), df['Smokes'].max())"
   ]
  },
  {
   "cell_type": "code",
   "execution_count": 23,
   "metadata": {},
   "outputs": [
    {
     "data": {
      "text/plain": [
       "0.0    722\n",
       "1.0    123\n",
       "?       13\n",
       "Name: Smokes, dtype: int64"
      ]
     },
     "execution_count": 23,
     "metadata": {},
     "output_type": "execute_result"
    }
   ],
   "source": [
    "df['Smokes'].value_counts()"
   ]
  },
  {
   "cell_type": "code",
   "execution_count": 24,
   "metadata": {},
   "outputs": [
    {
     "data": {
      "text/plain": [
       "0.0    722\n",
       "1.0    123\n",
       "2       13\n",
       "Name: Smokes, dtype: int64"
      ]
     },
     "execution_count": 24,
     "metadata": {},
     "output_type": "execute_result"
    }
   ],
   "source": [
    "df['Smokes'].replace(to_replace=\"?\",value=2,inplace=True)\n",
    "df['Smokes'].value_counts()"
   ]
  },
  {
   "cell_type": "code",
   "execution_count": 25,
   "metadata": {},
   "outputs": [],
   "source": [
    "df['Smokes'] = df['Smokes'].apply(lambda x:float(x))"
   ]
  },
  {
   "cell_type": "code",
   "execution_count": 26,
   "metadata": {},
   "outputs": [
    {
     "data": {
      "text/plain": [
       "1    722\n",
       "2    123\n",
       "3     13\n",
       "Name: Smokes, dtype: int64"
      ]
     },
     "execution_count": 26,
     "metadata": {},
     "output_type": "execute_result"
    }
   ],
   "source": [
    "#Discretizing the Smokes column\n",
    "cut_label_Smokes = ['1', '2', '3']\n",
    "\n",
    "cut_bins = [-1, 0,1,2]\n",
    "\n",
    "df['Smokes'] = pd.cut(df['Smokes'], bins=cut_bins, labels=cut_label_Smokes)\n",
    "\n",
    "df['Smokes'].value_counts()"
   ]
  },
  {
   "cell_type": "markdown",
   "metadata": {},
   "source": [
    "# Preprocessing Smokes (years) column"
   ]
  },
  {
   "cell_type": "code",
   "execution_count": 27,
   "metadata": {},
   "outputs": [
    {
     "name": "stdout",
     "output_type": "stream",
     "text": [
      "Total Null Values in Smokes (years) column:\n",
      "0\n",
      "\n",
      "Minimum and Maximum values for Smokes (years) column:\n",
      "0.0 ?\n"
     ]
    }
   ],
   "source": [
    "print('Total Null Values in Smokes (years) column:')\n",
    "print(df['Smokes (years)'].isna().sum())\n",
    "\n",
    "print('\\nMinimum and Maximum values for Smokes (years) column:')\n",
    "print(df['Smokes (years)'].min(), df['Smokes (years)'].max())"
   ]
  },
  {
   "cell_type": "code",
   "execution_count": 28,
   "metadata": {
    "scrolled": true
   },
   "outputs": [
    {
     "data": {
      "text/plain": [
       "0.0            722\n",
       "1.266972909     15\n",
       "?               13\n",
       "5.0              9\n",
       "9.0              9\n",
       "1.0              8\n",
       "2.0              7\n",
       "3.0              7\n",
       "7.0              6\n",
       "16.0             6\n",
       "8.0              6\n",
       "11.0             5\n",
       "10.0             5\n",
       "4.0              5\n",
       "6.0              4\n",
       "14.0             4\n",
       "15.0             4\n",
       "13.0             3\n",
       "0.5              3\n",
       "12.0             3\n",
       "19.0             3\n",
       "22.0             2\n",
       "28.0             1\n",
       "21.0             1\n",
       "18.0             1\n",
       "0.16             1\n",
       "20.0             1\n",
       "24.0             1\n",
       "32.0             1\n",
       "37.0             1\n",
       "34.0             1\n",
       "Name: Smokes (years), dtype: int64"
      ]
     },
     "execution_count": 28,
     "metadata": {},
     "output_type": "execute_result"
    }
   ],
   "source": [
    "df['Smokes (years)'].value_counts()"
   ]
  },
  {
   "cell_type": "code",
   "execution_count": 29,
   "metadata": {
    "scrolled": true
   },
   "outputs": [
    {
     "data": {
      "text/plain": [
       "0.0            722\n",
       "1.266972909     15\n",
       "40              13\n",
       "5.0              9\n",
       "9.0              9\n",
       "1.0              8\n",
       "2.0              7\n",
       "3.0              7\n",
       "7.0              6\n",
       "16.0             6\n",
       "8.0              6\n",
       "11.0             5\n",
       "10.0             5\n",
       "4.0              5\n",
       "6.0              4\n",
       "14.0             4\n",
       "15.0             4\n",
       "13.0             3\n",
       "0.5              3\n",
       "12.0             3\n",
       "19.0             3\n",
       "22.0             2\n",
       "28.0             1\n",
       "21.0             1\n",
       "18.0             1\n",
       "0.16             1\n",
       "20.0             1\n",
       "24.0             1\n",
       "32.0             1\n",
       "37.0             1\n",
       "34.0             1\n",
       "Name: Smokes (years), dtype: int64"
      ]
     },
     "execution_count": 29,
     "metadata": {},
     "output_type": "execute_result"
    }
   ],
   "source": [
    "df['Smokes (years)'].replace(to_replace=\"?\",value=40,inplace=True)\n",
    "df['Smokes (years)'].value_counts()"
   ]
  },
  {
   "cell_type": "code",
   "execution_count": 30,
   "metadata": {},
   "outputs": [],
   "source": [
    "df['Smokes (years)'] = df['Smokes (years)'].apply(lambda x:float(x))"
   ]
  },
  {
   "cell_type": "code",
   "execution_count": 31,
   "metadata": {
    "scrolled": true
   },
   "outputs": [
    {
     "data": {
      "text/plain": [
       "1    722\n",
       "2    136\n",
       "Name: Smokes (years), dtype: int64"
      ]
     },
     "execution_count": 31,
     "metadata": {},
     "output_type": "execute_result"
    }
   ],
   "source": [
    "#Discretizing the Smokes (years) column\n",
    "\n",
    "cut_label_Smokes_years = ['1', '2']\n",
    "\n",
    "cut_bins = [-1, 0, 40]\n",
    "\n",
    "df['Smokes (years)'] = pd.cut(df['Smokes (years)'], bins=cut_bins, labels=cut_label_Smokes_years)\n",
    "\n",
    "df['Smokes (years)'].value_counts()"
   ]
  },
  {
   "cell_type": "markdown",
   "metadata": {},
   "source": [
    "# Preprocessing Smokes (packs/year) column"
   ]
  },
  {
   "cell_type": "code",
   "execution_count": 32,
   "metadata": {},
   "outputs": [
    {
     "name": "stdout",
     "output_type": "stream",
     "text": [
      "Total Null Values in Smokes (packs/year) column:\n",
      "0\n",
      "\n",
      "Minimum and Maximum values for Smokes (packs/year) column:\n",
      "0.0 ?\n"
     ]
    }
   ],
   "source": [
    "print('Total Null Values in Smokes (packs/year) column:')\n",
    "print(df['Smokes (packs/year)'].isna().sum())\n",
    "\n",
    "print('\\nMinimum and Maximum values for Smokes (packs/year) column:')\n",
    "print(df['Smokes (packs/year)'].min(), df['Smokes (packs/year)'].max())"
   ]
  },
  {
   "cell_type": "code",
   "execution_count": 33,
   "metadata": {},
   "outputs": [
    {
     "data": {
      "text/plain": [
       "0.0             722\n",
       "0.5132021277     18\n",
       "?                13\n",
       "1.0               6\n",
       "3.0               5\n",
       "               ... \n",
       "0.25              1\n",
       "1.65              1\n",
       "2.2               1\n",
       "22.0              1\n",
       "7.6               1\n",
       "Name: Smokes (packs/year), Length: 63, dtype: int64"
      ]
     },
     "execution_count": 33,
     "metadata": {},
     "output_type": "execute_result"
    }
   ],
   "source": [
    "df['Smokes (packs/year)'].value_counts()"
   ]
  },
  {
   "cell_type": "code",
   "execution_count": 34,
   "metadata": {},
   "outputs": [
    {
     "data": {
      "text/plain": [
       "0.0             722\n",
       "0.5132021277     18\n",
       "40               13\n",
       "1.0               6\n",
       "3.0               5\n",
       "               ... \n",
       "0.25              1\n",
       "1.65              1\n",
       "2.2               1\n",
       "22.0              1\n",
       "7.6               1\n",
       "Name: Smokes (packs/year), Length: 63, dtype: int64"
      ]
     },
     "execution_count": 34,
     "metadata": {},
     "output_type": "execute_result"
    }
   ],
   "source": [
    "df['Smokes (packs/year)'].replace(to_replace=\"?\",value=40,inplace=True)\n",
    "df['Smokes (packs/year)'].value_counts()"
   ]
  },
  {
   "cell_type": "code",
   "execution_count": 35,
   "metadata": {},
   "outputs": [],
   "source": [
    "df['Smokes (packs/year)'] = df['Smokes (packs/year)'].apply(lambda x:float(x))"
   ]
  },
  {
   "cell_type": "code",
   "execution_count": 36,
   "metadata": {},
   "outputs": [
    {
     "data": {
      "text/plain": [
       "1    722\n",
       "3     78\n",
       "2     58\n",
       "Name: Smokes (packs/year), dtype: int64"
      ]
     },
     "execution_count": 36,
     "metadata": {},
     "output_type": "execute_result"
    }
   ],
   "source": [
    "#Discretizing the Smokes (packs/year) column\n",
    "cut_label_Smokes_packyears = ['1', '2', '3']\n",
    "\n",
    "cut_bins = [-1, 0,1,41]\n",
    "\n",
    "df['Smokes (packs/year)'] = pd.cut(df['Smokes (packs/year)'], bins=cut_bins, labels=cut_label_Smokes_packyears)\n",
    "\n",
    "df['Smokes (packs/year)'].value_counts()"
   ]
  },
  {
   "cell_type": "markdown",
   "metadata": {},
   "source": [
    "# Preprocessing Hormonal Contraceptives column"
   ]
  },
  {
   "cell_type": "code",
   "execution_count": 37,
   "metadata": {},
   "outputs": [
    {
     "name": "stdout",
     "output_type": "stream",
     "text": [
      "Total Null Values in Hormonal Contraceptives column:\n",
      "0\n",
      "\n",
      "Minimum and Maximum values for Hormonal Contraceptives column:\n",
      "0.0 ?\n"
     ]
    }
   ],
   "source": [
    "print('Total Null Values in Hormonal Contraceptives column:')\n",
    "print(df['Hormonal Contraceptives'].isna().sum())\n",
    "\n",
    "print('\\nMinimum and Maximum values for Hormonal Contraceptives column:')\n",
    "print(df['Hormonal Contraceptives'].min(), df['Hormonal Contraceptives'].max())"
   ]
  },
  {
   "cell_type": "code",
   "execution_count": 38,
   "metadata": {},
   "outputs": [
    {
     "data": {
      "text/plain": [
       "1.0    481\n",
       "0.0    269\n",
       "?      108\n",
       "Name: Hormonal Contraceptives, dtype: int64"
      ]
     },
     "execution_count": 38,
     "metadata": {},
     "output_type": "execute_result"
    }
   ],
   "source": [
    "df['Hormonal Contraceptives'].value_counts()"
   ]
  },
  {
   "cell_type": "code",
   "execution_count": 39,
   "metadata": {},
   "outputs": [
    {
     "data": {
      "text/plain": [
       "1.0    481\n",
       "0.0    269\n",
       "2      108\n",
       "Name: Hormonal Contraceptives, dtype: int64"
      ]
     },
     "execution_count": 39,
     "metadata": {},
     "output_type": "execute_result"
    }
   ],
   "source": [
    "df['Hormonal Contraceptives'].replace(to_replace=\"?\",value=2,inplace=True)\n",
    "df['Hormonal Contraceptives'].value_counts()"
   ]
  },
  {
   "cell_type": "code",
   "execution_count": 40,
   "metadata": {},
   "outputs": [],
   "source": [
    "df['Hormonal Contraceptives'] = df['Hormonal Contraceptives'].apply(lambda x:float(x))"
   ]
  },
  {
   "cell_type": "code",
   "execution_count": 41,
   "metadata": {},
   "outputs": [
    {
     "data": {
      "text/plain": [
       "1.0    481\n",
       "0.0    269\n",
       "2.0    108\n",
       "Name: Hormonal Contraceptives, dtype: int64"
      ]
     },
     "execution_count": 41,
     "metadata": {},
     "output_type": "execute_result"
    }
   ],
   "source": [
    "df['Hormonal Contraceptives'].value_counts()"
   ]
  },
  {
   "cell_type": "markdown",
   "metadata": {},
   "source": [
    "# Preprocessing Hormonal Contraceptives (years) column"
   ]
  },
  {
   "cell_type": "code",
   "execution_count": 42,
   "metadata": {},
   "outputs": [
    {
     "name": "stdout",
     "output_type": "stream",
     "text": [
      "Total Null Values in Hormonal Contraceptives (years) column:\n",
      "0\n",
      "\n",
      "Minimum and Maximum values for Hormonal Contraceptives (years) column:\n",
      "0.0 ?\n"
     ]
    }
   ],
   "source": [
    "print('Total Null Values in Hormonal Contraceptives (years) column:')\n",
    "print(df['Hormonal Contraceptives (years)'].isna().sum())\n",
    "\n",
    "print('\\nMinimum and Maximum values for Hormonal Contraceptives (years) column:')\n",
    "print(df['Hormonal Contraceptives (years)'].min(), df['Hormonal Contraceptives (years)'].max())"
   ]
  },
  {
   "cell_type": "code",
   "execution_count": 43,
   "metadata": {},
   "outputs": [
    {
     "name": "stdout",
     "output_type": "stream",
     "text": [
      "0.0 ?\n"
     ]
    }
   ],
   "source": [
    "print(df['Hormonal Contraceptives (years)'].min(), df['Hormonal Contraceptives (years)'].max())"
   ]
  },
  {
   "cell_type": "code",
   "execution_count": 44,
   "metadata": {
    "scrolled": true
   },
   "outputs": [
    {
     "data": {
      "text/plain": [
       "0.0            269\n",
       "?              108\n",
       "1.0             77\n",
       "0.25            41\n",
       "2.0             40\n",
       "3.0             39\n",
       "5.0             34\n",
       "0.5             25\n",
       "0.08            25\n",
       "6.0             24\n",
       "4.0             22\n",
       "7.0             21\n",
       "8.0             18\n",
       "0.16            16\n",
       "9.0             12\n",
       "10.0            11\n",
       "0.33             9\n",
       "0.42             8\n",
       "0.75             7\n",
       "15.0             6\n",
       "0.66             6\n",
       "0.58             6\n",
       "20.0             4\n",
       "12.0             4\n",
       "1.5              3\n",
       "19.0             2\n",
       "11.0             2\n",
       "2.282200521      2\n",
       "16.0             2\n",
       "14.0             2\n",
       "0.67             2\n",
       "13.0             2\n",
       "6.5              1\n",
       "2.5              1\n",
       "0.41             1\n",
       "4.5              1\n",
       "30.0             1\n",
       "0.17             1\n",
       "3.5              1\n",
       "22.0             1\n",
       "17.0             1\n",
       "Name: Hormonal Contraceptives (years), dtype: int64"
      ]
     },
     "execution_count": 44,
     "metadata": {},
     "output_type": "execute_result"
    }
   ],
   "source": [
    "df['Hormonal Contraceptives (years)'].value_counts()"
   ]
  },
  {
   "cell_type": "code",
   "execution_count": 45,
   "metadata": {
    "scrolled": true
   },
   "outputs": [
    {
     "data": {
      "text/plain": [
       "0.0            269\n",
       "25             108\n",
       "1.0             77\n",
       "0.25            41\n",
       "2.0             40\n",
       "3.0             39\n",
       "5.0             34\n",
       "0.5             25\n",
       "0.08            25\n",
       "6.0             24\n",
       "4.0             22\n",
       "7.0             21\n",
       "8.0             18\n",
       "0.16            16\n",
       "9.0             12\n",
       "10.0            11\n",
       "0.33             9\n",
       "0.42             8\n",
       "0.75             7\n",
       "15.0             6\n",
       "0.66             6\n",
       "0.58             6\n",
       "20.0             4\n",
       "12.0             4\n",
       "1.5              3\n",
       "19.0             2\n",
       "11.0             2\n",
       "2.282200521      2\n",
       "14.0             2\n",
       "0.67             2\n",
       "16.0             2\n",
       "13.0             2\n",
       "6.5              1\n",
       "2.5              1\n",
       "0.41             1\n",
       "4.5              1\n",
       "30.0             1\n",
       "0.17             1\n",
       "3.5              1\n",
       "22.0             1\n",
       "17.0             1\n",
       "Name: Hormonal Contraceptives (years), dtype: int64"
      ]
     },
     "execution_count": 45,
     "metadata": {},
     "output_type": "execute_result"
    }
   ],
   "source": [
    "df['Hormonal Contraceptives (years)'].replace(to_replace=\"?\",value=25,inplace=True)\n",
    "df['Hormonal Contraceptives (years)'].value_counts()"
   ]
  },
  {
   "cell_type": "code",
   "execution_count": 46,
   "metadata": {},
   "outputs": [],
   "source": [
    "df['Hormonal Contraceptives (years)'] = df['Hormonal Contraceptives (years)'].apply(lambda x:float(x))"
   ]
  },
  {
   "cell_type": "code",
   "execution_count": 47,
   "metadata": {},
   "outputs": [
    {
     "data": {
      "text/plain": [
       "3    365\n",
       "1    269\n",
       "2    224\n",
       "Name: Hormonal Contraceptives (years), dtype: int64"
      ]
     },
     "execution_count": 47,
     "metadata": {},
     "output_type": "execute_result"
    }
   ],
   "source": [
    "#Discretizing the Hormonal Contraceptives (years) column\n",
    "\n",
    "cut_label_Hormonal_Contraceptives_years = ['1','2', '3']\n",
    "\n",
    "cut_bins = [-1, 0, 1, 30]\n",
    "\n",
    "df['Hormonal Contraceptives (years)'] = pd.cut(df['Hormonal Contraceptives (years)'], bins=cut_bins, labels=cut_label_Hormonal_Contraceptives_years)\n",
    "\n",
    "df['Hormonal Contraceptives (years)'].value_counts()"
   ]
  },
  {
   "cell_type": "markdown",
   "metadata": {},
   "source": [
    "# Preprocessing IUD column"
   ]
  },
  {
   "cell_type": "code",
   "execution_count": 48,
   "metadata": {},
   "outputs": [
    {
     "name": "stdout",
     "output_type": "stream",
     "text": [
      "Total Null Values in IUD column:\n",
      "0\n",
      "\n",
      "Minimum and Maximum values for IUD column:\n",
      "0.0 ?\n"
     ]
    }
   ],
   "source": [
    "print('Total Null Values in IUD column:')\n",
    "print(df['IUD'].isna().sum())\n",
    "\n",
    "print('\\nMinimum and Maximum values for IUD column:')\n",
    "print(df['IUD'].min(), df['IUD'].max())"
   ]
  },
  {
   "cell_type": "code",
   "execution_count": 49,
   "metadata": {},
   "outputs": [
    {
     "data": {
      "text/plain": [
       "0.0    658\n",
       "?      117\n",
       "1.0     83\n",
       "Name: IUD, dtype: int64"
      ]
     },
     "execution_count": 49,
     "metadata": {},
     "output_type": "execute_result"
    }
   ],
   "source": [
    "df['IUD'].value_counts()"
   ]
  },
  {
   "cell_type": "code",
   "execution_count": 50,
   "metadata": {},
   "outputs": [
    {
     "data": {
      "text/plain": [
       "0.0    658\n",
       "2      117\n",
       "1.0     83\n",
       "Name: IUD, dtype: int64"
      ]
     },
     "execution_count": 50,
     "metadata": {},
     "output_type": "execute_result"
    }
   ],
   "source": [
    "df['IUD'].replace(to_replace=\"?\",value=2,inplace=True)\n",
    "df['IUD'].value_counts()"
   ]
  },
  {
   "cell_type": "code",
   "execution_count": 51,
   "metadata": {},
   "outputs": [],
   "source": [
    "df['IUD'] = df['IUD'].apply(lambda x:float(x))"
   ]
  },
  {
   "cell_type": "markdown",
   "metadata": {},
   "source": [
    "# Preprocessing IUD (years) column"
   ]
  },
  {
   "cell_type": "code",
   "execution_count": 52,
   "metadata": {},
   "outputs": [
    {
     "name": "stdout",
     "output_type": "stream",
     "text": [
      "Total Null Values in IUD (years) column:\n",
      "0\n",
      "\n",
      "Minimum and Maximum values for IUD (years) column:\n",
      "0.0 ?\n"
     ]
    }
   ],
   "source": [
    "print('Total Null Values in IUD (years) column:')\n",
    "print(df['IUD (years)'].isna().sum())\n",
    "\n",
    "print('\\nMinimum and Maximum values for IUD (years) column:')\n",
    "print(df['IUD (years)'].min(), df['IUD (years)'].max())"
   ]
  },
  {
   "cell_type": "code",
   "execution_count": 53,
   "metadata": {
    "scrolled": true
   },
   "outputs": [
    {
     "data": {
      "text/plain": [
       "0.0     658\n",
       "?       117\n",
       "3.0      11\n",
       "2.0      10\n",
       "5.0       9\n",
       "1.0       8\n",
       "8.0       7\n",
       "7.0       7\n",
       "6.0       5\n",
       "4.0       5\n",
       "11.0      3\n",
       "0.08      2\n",
       "0.5       2\n",
       "0.91      1\n",
       "15.0      1\n",
       "10.0      1\n",
       "0.16      1\n",
       "9.0       1\n",
       "0.41      1\n",
       "12.0      1\n",
       "0.33      1\n",
       "0.58      1\n",
       "0.17      1\n",
       "1.5       1\n",
       "0.25      1\n",
       "19.0      1\n",
       "17.0      1\n",
       "Name: IUD (years), dtype: int64"
      ]
     },
     "execution_count": 53,
     "metadata": {},
     "output_type": "execute_result"
    }
   ],
   "source": [
    "df['IUD (years)'].value_counts()"
   ]
  },
  {
   "cell_type": "code",
   "execution_count": 54,
   "metadata": {
    "scrolled": true
   },
   "outputs": [
    {
     "data": {
      "text/plain": [
       "0.0     658\n",
       "20      117\n",
       "3.0      11\n",
       "2.0      10\n",
       "5.0       9\n",
       "1.0       8\n",
       "8.0       7\n",
       "7.0       7\n",
       "6.0       5\n",
       "4.0       5\n",
       "11.0      3\n",
       "0.08      2\n",
       "0.5       2\n",
       "0.91      1\n",
       "0.41      1\n",
       "10.0      1\n",
       "0.16      1\n",
       "9.0       1\n",
       "0.33      1\n",
       "12.0      1\n",
       "15.0      1\n",
       "0.58      1\n",
       "0.17      1\n",
       "1.5       1\n",
       "0.25      1\n",
       "19.0      1\n",
       "17.0      1\n",
       "Name: IUD (years), dtype: int64"
      ]
     },
     "execution_count": 54,
     "metadata": {},
     "output_type": "execute_result"
    }
   ],
   "source": [
    "df['IUD (years)'].replace(to_replace=\"?\",value=20,inplace=True)\n",
    "df['IUD (years)'].value_counts()"
   ]
  },
  {
   "cell_type": "code",
   "execution_count": 55,
   "metadata": {},
   "outputs": [],
   "source": [
    "df['IUD (years)'] = df['IUD (years)'].apply(lambda x:float(x))"
   ]
  },
  {
   "cell_type": "code",
   "execution_count": 56,
   "metadata": {},
   "outputs": [
    {
     "data": {
      "text/plain": [
       "1    658\n",
       "3    124\n",
       "2     76\n",
       "Name: IUD (years), dtype: int64"
      ]
     },
     "execution_count": 56,
     "metadata": {},
     "output_type": "execute_result"
    }
   ],
   "source": [
    "#Discretizing the IUD (years) column\n",
    "cut_label_IUD_y = ['1','2','3']\n",
    "\n",
    "cut_bins = [-1, 0, 10,20]\n",
    "\n",
    "df['IUD (years)'] = pd.cut(df['IUD (years)'], bins=cut_bins, labels=cut_label_IUD_y)\n",
    "\n",
    "df['IUD (years)'].value_counts()"
   ]
  },
  {
   "cell_type": "markdown",
   "metadata": {},
   "source": [
    "# Preprocessing STDs column"
   ]
  },
  {
   "cell_type": "code",
   "execution_count": 57,
   "metadata": {},
   "outputs": [
    {
     "name": "stdout",
     "output_type": "stream",
     "text": [
      "Total Null Values in STDs column:\n",
      "0\n",
      "\n",
      "Minimum and Maximum values for STDs column:\n",
      "0.0 ?\n"
     ]
    }
   ],
   "source": [
    "print('Total Null Values in STDs column:')\n",
    "print(df['STDs'].isna().sum())\n",
    "\n",
    "print('\\nMinimum and Maximum values for STDs column:')\n",
    "print(df['STDs'].min(), df['STDs'].max())"
   ]
  },
  {
   "cell_type": "code",
   "execution_count": 58,
   "metadata": {},
   "outputs": [
    {
     "data": {
      "text/plain": [
       "0.0    674\n",
       "?      105\n",
       "1.0     79\n",
       "Name: STDs, dtype: int64"
      ]
     },
     "execution_count": 58,
     "metadata": {},
     "output_type": "execute_result"
    }
   ],
   "source": [
    "df['STDs'].value_counts()"
   ]
  },
  {
   "cell_type": "code",
   "execution_count": 59,
   "metadata": {},
   "outputs": [
    {
     "data": {
      "text/plain": [
       "0.0    674\n",
       "2      105\n",
       "1.0     79\n",
       "Name: STDs, dtype: int64"
      ]
     },
     "execution_count": 59,
     "metadata": {},
     "output_type": "execute_result"
    }
   ],
   "source": [
    "df['STDs'].replace(to_replace=\"?\",value=2,inplace=True)\n",
    "df['STDs'].value_counts()"
   ]
  },
  {
   "cell_type": "code",
   "execution_count": 60,
   "metadata": {},
   "outputs": [],
   "source": [
    "df['IUD'] = df['IUD'].apply(lambda x:float(x))"
   ]
  },
  {
   "cell_type": "markdown",
   "metadata": {},
   "source": [
    "# Preprocessing STDs (number) column"
   ]
  },
  {
   "cell_type": "code",
   "execution_count": 61,
   "metadata": {},
   "outputs": [
    {
     "name": "stdout",
     "output_type": "stream",
     "text": [
      "Total Null Values in STDs (number) column:\n",
      "0\n",
      "\n",
      "Minimum and Maximum values for STDs (number) column:\n",
      "0.0 ?\n"
     ]
    }
   ],
   "source": [
    "print('Total Null Values in STDs (number) column:')\n",
    "print(df['STDs (number)'].isna().sum())\n",
    "\n",
    "print('\\nMinimum and Maximum values for STDs (number) column:')\n",
    "print(df['STDs (number)'].min(), df['STDs (number)'].max())"
   ]
  },
  {
   "cell_type": "code",
   "execution_count": 62,
   "metadata": {},
   "outputs": [
    {
     "data": {
      "text/plain": [
       "0.0    674\n",
       "?      105\n",
       "2.0     37\n",
       "1.0     34\n",
       "3.0      7\n",
       "4.0      1\n",
       "Name: STDs (number), dtype: int64"
      ]
     },
     "execution_count": 62,
     "metadata": {},
     "output_type": "execute_result"
    }
   ],
   "source": [
    "df['STDs (number)'].value_counts()"
   ]
  },
  {
   "cell_type": "code",
   "execution_count": 63,
   "metadata": {},
   "outputs": [
    {
     "data": {
      "text/plain": [
       "0.0    674\n",
       "5      105\n",
       "2.0     37\n",
       "1.0     34\n",
       "3.0      7\n",
       "4.0      1\n",
       "Name: STDs (number), dtype: int64"
      ]
     },
     "execution_count": 63,
     "metadata": {},
     "output_type": "execute_result"
    }
   ],
   "source": [
    "df['STDs (number)'].replace(to_replace=\"?\",value=5,inplace=True)\n",
    "df['STDs (number)'].value_counts()"
   ]
  },
  {
   "cell_type": "code",
   "execution_count": 64,
   "metadata": {},
   "outputs": [],
   "source": [
    "df['STDs (number)'] = df['STDs (number)'].apply(lambda x:float(x))"
   ]
  },
  {
   "cell_type": "code",
   "execution_count": 65,
   "metadata": {},
   "outputs": [
    {
     "data": {
      "text/plain": [
       "1    674\n",
       "2    184\n",
       "Name: STDs (number), dtype: int64"
      ]
     },
     "execution_count": 65,
     "metadata": {},
     "output_type": "execute_result"
    }
   ],
   "source": [
    "#Discretizing the STDs (number) column\n",
    "\n",
    "cut_label_STDs_number = ['1','2']\n",
    "\n",
    "cut_bins = [-1, 0, 6]\n",
    "\n",
    "df['STDs (number)'] = pd.cut(df['STDs (number)'], bins=cut_bins, labels=cut_label_STDs_number)\n",
    "\n",
    "df['STDs (number)'].value_counts()"
   ]
  },
  {
   "cell_type": "markdown",
   "metadata": {},
   "source": [
    "# Preprocessing STDs:condylomatosis column"
   ]
  },
  {
   "cell_type": "code",
   "execution_count": 66,
   "metadata": {},
   "outputs": [
    {
     "name": "stdout",
     "output_type": "stream",
     "text": [
      "Total Null Values in STDs:condylomatosis column:\n",
      "0\n",
      "\n",
      "Minimum and Maximum values for STDs:condylomatosis column:\n",
      "0.0 ?\n"
     ]
    }
   ],
   "source": [
    "print('Total Null Values in STDs:condylomatosis column:')\n",
    "print(df['STDs:condylomatosis'].isna().sum())\n",
    "\n",
    "print('\\nMinimum and Maximum values for STDs:condylomatosis column:')\n",
    "print(df['STDs:condylomatosis'].min(), df['STDs:condylomatosis'].max())"
   ]
  },
  {
   "cell_type": "code",
   "execution_count": 67,
   "metadata": {},
   "outputs": [
    {
     "data": {
      "text/plain": [
       "0.0    709\n",
       "?      105\n",
       "1.0     44\n",
       "Name: STDs:condylomatosis, dtype: int64"
      ]
     },
     "execution_count": 67,
     "metadata": {},
     "output_type": "execute_result"
    }
   ],
   "source": [
    "df['STDs:condylomatosis'].value_counts()"
   ]
  },
  {
   "cell_type": "code",
   "execution_count": 68,
   "metadata": {},
   "outputs": [
    {
     "data": {
      "text/plain": [
       "0.0    709\n",
       "2      105\n",
       "1.0     44\n",
       "Name: STDs:condylomatosis, dtype: int64"
      ]
     },
     "execution_count": 68,
     "metadata": {},
     "output_type": "execute_result"
    }
   ],
   "source": [
    "df['STDs:condylomatosis'].replace(to_replace=\"?\",value=2,inplace=True)\n",
    "df['STDs:condylomatosis'].value_counts()"
   ]
  },
  {
   "cell_type": "code",
   "execution_count": 69,
   "metadata": {},
   "outputs": [],
   "source": [
    "df['STDs:condylomatosis'] = df['STDs:condylomatosis'].apply(lambda x:float(x))"
   ]
  },
  {
   "cell_type": "markdown",
   "metadata": {},
   "source": [
    "# Preprocessing STDs:cervical condylomatosis column"
   ]
  },
  {
   "cell_type": "code",
   "execution_count": 70,
   "metadata": {},
   "outputs": [
    {
     "name": "stdout",
     "output_type": "stream",
     "text": [
      "Total Null Values in STDs:cervical condylomatosis column:\n",
      "0\n",
      "\n",
      "Minimum and Maximum values for STDs:cervical condylomatosis column:\n",
      "0.0 ?\n"
     ]
    }
   ],
   "source": [
    "print('Total Null Values in STDs:cervical condylomatosis column:')\n",
    "print(df['STDs:cervical condylomatosis'].isna().sum())\n",
    "\n",
    "print('\\nMinimum and Maximum values for STDs:cervical condylomatosis column:')\n",
    "print(df['STDs:cervical condylomatosis'].min(), df['STDs:cervical condylomatosis'].max())"
   ]
  },
  {
   "cell_type": "code",
   "execution_count": 71,
   "metadata": {},
   "outputs": [
    {
     "data": {
      "text/plain": [
       "0.0    753\n",
       "?      105\n",
       "Name: STDs:cervical condylomatosis, dtype: int64"
      ]
     },
     "execution_count": 71,
     "metadata": {},
     "output_type": "execute_result"
    }
   ],
   "source": [
    "df['STDs:cervical condylomatosis'].value_counts()"
   ]
  },
  {
   "cell_type": "code",
   "execution_count": 72,
   "metadata": {},
   "outputs": [
    {
     "data": {
      "text/plain": [
       "0.0    753\n",
       "1      105\n",
       "Name: STDs:cervical condylomatosis, dtype: int64"
      ]
     },
     "execution_count": 72,
     "metadata": {},
     "output_type": "execute_result"
    }
   ],
   "source": [
    "df['STDs:cervical condylomatosis'].replace(to_replace=\"?\",value=1,inplace=True)\n",
    "df['STDs:cervical condylomatosis'].value_counts()"
   ]
  },
  {
   "cell_type": "code",
   "execution_count": 73,
   "metadata": {},
   "outputs": [],
   "source": [
    "df['STDs:cervical condylomatosis'] = df['STDs:cervical condylomatosis'].apply(lambda x:float(x))"
   ]
  },
  {
   "cell_type": "markdown",
   "metadata": {},
   "source": [
    "# Preprocessing STDs:vaginal condylomatosis column"
   ]
  },
  {
   "cell_type": "code",
   "execution_count": 74,
   "metadata": {},
   "outputs": [
    {
     "name": "stdout",
     "output_type": "stream",
     "text": [
      "Total Null Values in STDs:vaginal condylomatosis column:\n",
      "0\n",
      "\n",
      "Minimum and Maximum values for STDs:vaginal condylomatosis column:\n",
      "0.0 ?\n"
     ]
    }
   ],
   "source": [
    "print('Total Null Values in STDs:vaginal condylomatosis column:')\n",
    "print(df['STDs:vaginal condylomatosis'].isna().sum())\n",
    "\n",
    "print('\\nMinimum and Maximum values for STDs:vaginal condylomatosis column:')\n",
    "print(df['STDs:vaginal condylomatosis'].min(), df['STDs:vaginal condylomatosis'].max())"
   ]
  },
  {
   "cell_type": "code",
   "execution_count": 75,
   "metadata": {},
   "outputs": [
    {
     "data": {
      "text/plain": [
       "0.0    749\n",
       "?      105\n",
       "1.0      4\n",
       "Name: STDs:vaginal condylomatosis, dtype: int64"
      ]
     },
     "execution_count": 75,
     "metadata": {},
     "output_type": "execute_result"
    }
   ],
   "source": [
    "df['STDs:vaginal condylomatosis'].value_counts()"
   ]
  },
  {
   "cell_type": "code",
   "execution_count": 76,
   "metadata": {},
   "outputs": [
    {
     "data": {
      "text/plain": [
       "0.0    749\n",
       "2      105\n",
       "1.0      4\n",
       "Name: STDs:vaginal condylomatosis, dtype: int64"
      ]
     },
     "execution_count": 76,
     "metadata": {},
     "output_type": "execute_result"
    }
   ],
   "source": [
    "df['STDs:vaginal condylomatosis'].replace(to_replace=\"?\",value=2,inplace=True)\n",
    "df['STDs:vaginal condylomatosis'].value_counts()"
   ]
  },
  {
   "cell_type": "code",
   "execution_count": 77,
   "metadata": {},
   "outputs": [],
   "source": [
    "df['STDs:vaginal condylomatosis'] = df['STDs:vaginal condylomatosis'].apply(lambda x:float(x))"
   ]
  },
  {
   "cell_type": "code",
   "execution_count": 78,
   "metadata": {},
   "outputs": [
    {
     "data": {
      "text/plain": [
       "1    749\n",
       "2    109\n",
       "Name: STDs:vaginal condylomatosis, dtype: int64"
      ]
     },
     "execution_count": 78,
     "metadata": {},
     "output_type": "execute_result"
    }
   ],
   "source": [
    "# Discretizing the STDs:vaginal condylomatosis column\n",
    "\n",
    "cut_label_STDs_vaginal_condylomatosis = ['1','2']\n",
    "\n",
    "cut_bins = [-1, 0, 3]\n",
    "\n",
    "df['STDs:vaginal condylomatosis'] = pd.cut(df['STDs:vaginal condylomatosis'], bins=cut_bins, labels=cut_label_STDs_vaginal_condylomatosis)\n",
    "\n",
    "df['STDs:vaginal condylomatosis'].value_counts()"
   ]
  },
  {
   "cell_type": "markdown",
   "metadata": {},
   "source": [
    "# Preprocessing STDs:vulvo-perineal condylomatosis column"
   ]
  },
  {
   "cell_type": "code",
   "execution_count": 79,
   "metadata": {},
   "outputs": [
    {
     "name": "stdout",
     "output_type": "stream",
     "text": [
      "Total Null Values in STDs:vulvo-perineal condylomatosis column:\n",
      "0\n",
      "\n",
      "Minimum and Maximum values for STDs:vulvo-perineal condylomatosis column:\n",
      "0.0 ?\n"
     ]
    }
   ],
   "source": [
    "print('Total Null Values in STDs:vulvo-perineal condylomatosis column:')\n",
    "print(df['STDs:vulvo-perineal condylomatosis'].isna().sum())\n",
    "\n",
    "print('\\nMinimum and Maximum values for STDs:vulvo-perineal condylomatosis column:')\n",
    "print(df['STDs:vulvo-perineal condylomatosis'].min(), df['STDs:vulvo-perineal condylomatosis'].max())"
   ]
  },
  {
   "cell_type": "code",
   "execution_count": 80,
   "metadata": {},
   "outputs": [
    {
     "data": {
      "text/plain": [
       "0.0    710\n",
       "?      105\n",
       "1.0     43\n",
       "Name: STDs:vulvo-perineal condylomatosis, dtype: int64"
      ]
     },
     "execution_count": 80,
     "metadata": {},
     "output_type": "execute_result"
    }
   ],
   "source": [
    "df['STDs:vulvo-perineal condylomatosis'].value_counts()"
   ]
  },
  {
   "cell_type": "code",
   "execution_count": 81,
   "metadata": {},
   "outputs": [
    {
     "data": {
      "text/plain": [
       "0.0    710\n",
       "2      105\n",
       "1.0     43\n",
       "Name: STDs:vulvo-perineal condylomatosis, dtype: int64"
      ]
     },
     "execution_count": 81,
     "metadata": {},
     "output_type": "execute_result"
    }
   ],
   "source": [
    "df['STDs:vulvo-perineal condylomatosis'].replace(to_replace=\"?\",value=2,inplace=True)\n",
    "df['STDs:vulvo-perineal condylomatosis'].value_counts()"
   ]
  },
  {
   "cell_type": "code",
   "execution_count": 82,
   "metadata": {},
   "outputs": [],
   "source": [
    "df['STDs:vulvo-perineal condylomatosis'] = df['STDs:vulvo-perineal condylomatosis'].apply(lambda x:float(x))"
   ]
  },
  {
   "cell_type": "markdown",
   "metadata": {},
   "source": [
    "# Preprocessing STDs:syphilis column"
   ]
  },
  {
   "cell_type": "code",
   "execution_count": 83,
   "metadata": {},
   "outputs": [
    {
     "name": "stdout",
     "output_type": "stream",
     "text": [
      "Total Null Values in STDs:syphilis column:\n",
      "0\n",
      "\n",
      "Minimum and Maximum values for STDs:syphilis column:\n",
      "0.0 ?\n"
     ]
    }
   ],
   "source": [
    "print('Total Null Values in STDs:syphilis column:')\n",
    "print(df['STDs:syphilis'].isna().sum())\n",
    "\n",
    "print('\\nMinimum and Maximum values for STDs:syphilis column:')\n",
    "print(df['STDs:syphilis'].min(), df['STDs:syphilis'].max())"
   ]
  },
  {
   "cell_type": "code",
   "execution_count": 84,
   "metadata": {},
   "outputs": [
    {
     "data": {
      "text/plain": [
       "0.0    735\n",
       "?      105\n",
       "1.0     18\n",
       "Name: STDs:syphilis, dtype: int64"
      ]
     },
     "execution_count": 84,
     "metadata": {},
     "output_type": "execute_result"
    }
   ],
   "source": [
    "df['STDs:syphilis'].value_counts()"
   ]
  },
  {
   "cell_type": "code",
   "execution_count": 85,
   "metadata": {},
   "outputs": [
    {
     "data": {
      "text/plain": [
       "0.0    735\n",
       "2      105\n",
       "1.0     18\n",
       "Name: STDs:syphilis, dtype: int64"
      ]
     },
     "execution_count": 85,
     "metadata": {},
     "output_type": "execute_result"
    }
   ],
   "source": [
    "df['STDs:syphilis'].replace(to_replace=\"?\",value=2,inplace=True)\n",
    "df['STDs:syphilis'].value_counts()"
   ]
  },
  {
   "cell_type": "code",
   "execution_count": 86,
   "metadata": {},
   "outputs": [],
   "source": [
    "df['STDs:syphilis'] = df['STDs:syphilis'].apply(lambda x:float(x))"
   ]
  },
  {
   "cell_type": "code",
   "execution_count": 87,
   "metadata": {},
   "outputs": [
    {
     "data": {
      "text/plain": [
       "1    735\n",
       "2    123\n",
       "Name: STDs:syphilis, dtype: int64"
      ]
     },
     "execution_count": 87,
     "metadata": {},
     "output_type": "execute_result"
    }
   ],
   "source": [
    "#Discretizing the STDs:syphilis column\n",
    "\n",
    "cut_label_STDs_syphilis = ['1','2']\n",
    "\n",
    "cut_bins = [-1, 0, 3]\n",
    "\n",
    "df['STDs:syphilis'] = pd.cut(df['STDs:syphilis'], bins=cut_bins, labels=cut_label_STDs_syphilis)\n",
    "\n",
    "df['STDs:syphilis'].value_counts()"
   ]
  },
  {
   "cell_type": "markdown",
   "metadata": {},
   "source": [
    "# Preprocessing STDs:pelvic inflammatory disease column"
   ]
  },
  {
   "cell_type": "code",
   "execution_count": 88,
   "metadata": {},
   "outputs": [
    {
     "name": "stdout",
     "output_type": "stream",
     "text": [
      "Total Null Values in STDs:pelvic inflammatory disease column:\n",
      "0\n",
      "\n",
      "Minimum and Maximum values for STDs:pelvic inflammatory disease column:\n",
      "0.0 ?\n"
     ]
    }
   ],
   "source": [
    "print('Total Null Values in STDs:pelvic inflammatory disease column:')\n",
    "print(df['STDs:pelvic inflammatory disease'].isna().sum())\n",
    "\n",
    "print('\\nMinimum and Maximum values for STDs:pelvic inflammatory disease column:')\n",
    "print(df['STDs:pelvic inflammatory disease'].min(), df['STDs:pelvic inflammatory disease'].max())"
   ]
  },
  {
   "cell_type": "code",
   "execution_count": 89,
   "metadata": {},
   "outputs": [
    {
     "data": {
      "text/plain": [
       "0.0    752\n",
       "?      105\n",
       "1.0      1\n",
       "Name: STDs:pelvic inflammatory disease, dtype: int64"
      ]
     },
     "execution_count": 89,
     "metadata": {},
     "output_type": "execute_result"
    }
   ],
   "source": [
    "df['STDs:pelvic inflammatory disease'].value_counts()"
   ]
  },
  {
   "cell_type": "code",
   "execution_count": 90,
   "metadata": {},
   "outputs": [
    {
     "data": {
      "text/plain": [
       "0.0    752\n",
       "2      105\n",
       "1.0      1\n",
       "Name: STDs:pelvic inflammatory disease, dtype: int64"
      ]
     },
     "execution_count": 90,
     "metadata": {},
     "output_type": "execute_result"
    }
   ],
   "source": [
    "df['STDs:pelvic inflammatory disease'].replace(to_replace=\"?\",value=2,inplace=True)\n",
    "df['STDs:pelvic inflammatory disease'].value_counts()"
   ]
  },
  {
   "cell_type": "code",
   "execution_count": 91,
   "metadata": {},
   "outputs": [],
   "source": [
    "df['STDs:pelvic inflammatory disease'] = df['STDs:pelvic inflammatory disease'].apply(lambda x:float(x))"
   ]
  },
  {
   "cell_type": "code",
   "execution_count": 92,
   "metadata": {},
   "outputs": [
    {
     "data": {
      "text/plain": [
       "1    752\n",
       "2    106\n",
       "Name: STDs:pelvic inflammatory disease, dtype: int64"
      ]
     },
     "execution_count": 92,
     "metadata": {},
     "output_type": "execute_result"
    }
   ],
   "source": [
    "#Discretizing the STDs:pelvic inflammatory disease column\n",
    "\n",
    "cut_label_STDs_pelvic_inflammatory_disease = ['1','2']\n",
    "\n",
    "cut_bins = [-1, 0, 3]\n",
    "\n",
    "df['STDs:pelvic inflammatory disease'] = pd.cut(df['STDs:pelvic inflammatory disease'], bins=cut_bins, labels=cut_label_STDs_pelvic_inflammatory_disease)\n",
    "\n",
    "df['STDs:pelvic inflammatory disease'].value_counts()"
   ]
  },
  {
   "cell_type": "markdown",
   "metadata": {},
   "source": [
    "# Preprocessing STDs:genital herpes column"
   ]
  },
  {
   "cell_type": "code",
   "execution_count": 93,
   "metadata": {},
   "outputs": [
    {
     "name": "stdout",
     "output_type": "stream",
     "text": [
      "Total Null Values in STDs:genital herpes column:\n",
      "0\n",
      "\n",
      "Minimum and Maximum values for STDs:genital herpes column:\n",
      "0.0 ?\n"
     ]
    }
   ],
   "source": [
    "print('Total Null Values in STDs:genital herpes column:')\n",
    "print(df['STDs:genital herpes'].isna().sum())\n",
    "\n",
    "print('\\nMinimum and Maximum values for STDs:genital herpes column:')\n",
    "print(df['STDs:genital herpes'].min(), df['STDs:genital herpes'].max())"
   ]
  },
  {
   "cell_type": "code",
   "execution_count": 94,
   "metadata": {},
   "outputs": [
    {
     "data": {
      "text/plain": [
       "0.0    752\n",
       "?      105\n",
       "1.0      1\n",
       "Name: STDs:genital herpes, dtype: int64"
      ]
     },
     "execution_count": 94,
     "metadata": {},
     "output_type": "execute_result"
    }
   ],
   "source": [
    "df['STDs:genital herpes'].value_counts()"
   ]
  },
  {
   "cell_type": "code",
   "execution_count": 95,
   "metadata": {},
   "outputs": [
    {
     "data": {
      "text/plain": [
       "0.0    752\n",
       "2      105\n",
       "1.0      1\n",
       "Name: STDs:genital herpes, dtype: int64"
      ]
     },
     "execution_count": 95,
     "metadata": {},
     "output_type": "execute_result"
    }
   ],
   "source": [
    "df['STDs:genital herpes'].replace(to_replace=\"?\",value=2,inplace=True)\n",
    "df['STDs:genital herpes'].value_counts()"
   ]
  },
  {
   "cell_type": "code",
   "execution_count": 96,
   "metadata": {},
   "outputs": [],
   "source": [
    "df['STDs:genital herpes'] = df['STDs:genital herpes'].apply(lambda x:float(x))"
   ]
  },
  {
   "cell_type": "code",
   "execution_count": 97,
   "metadata": {},
   "outputs": [
    {
     "data": {
      "text/plain": [
       "1    752\n",
       "2    106\n",
       "Name: STDs:genital herpes, dtype: int64"
      ]
     },
     "execution_count": 97,
     "metadata": {},
     "output_type": "execute_result"
    }
   ],
   "source": [
    "#Discretizing the STDs:genital herpes column\n",
    "\n",
    "cut_label_STDs_genital_herpes = ['1','2']\n",
    "\n",
    "cut_bins = [-1, 0, 3]\n",
    "\n",
    "df['STDs:genital herpes'] = pd.cut(df['STDs:genital herpes'], bins=cut_bins, labels=cut_label_STDs_genital_herpes)\n",
    "\n",
    "df['STDs:genital herpes'].value_counts()"
   ]
  },
  {
   "cell_type": "markdown",
   "metadata": {},
   "source": [
    "# Preprocessing STDs:molluscum contagiosum column"
   ]
  },
  {
   "cell_type": "code",
   "execution_count": 98,
   "metadata": {},
   "outputs": [
    {
     "name": "stdout",
     "output_type": "stream",
     "text": [
      "Total Null Values in STDs:molluscum contagiosum column:\n",
      "0\n",
      "\n",
      "Minimum and Maximum values for STDs:molluscum contagiosum column:\n",
      "0.0 ?\n"
     ]
    }
   ],
   "source": [
    "print('Total Null Values in STDs:molluscum contagiosum column:')\n",
    "print(df['STDs:molluscum contagiosum'].isna().sum())\n",
    "\n",
    "print('\\nMinimum and Maximum values for STDs:molluscum contagiosum column:')\n",
    "print(df['STDs:molluscum contagiosum'].min(), df['STDs:molluscum contagiosum'].max())"
   ]
  },
  {
   "cell_type": "code",
   "execution_count": 99,
   "metadata": {},
   "outputs": [
    {
     "data": {
      "text/plain": [
       "0.0    752\n",
       "?      105\n",
       "1.0      1\n",
       "Name: STDs:molluscum contagiosum, dtype: int64"
      ]
     },
     "execution_count": 99,
     "metadata": {},
     "output_type": "execute_result"
    }
   ],
   "source": [
    "df['STDs:molluscum contagiosum'].value_counts()"
   ]
  },
  {
   "cell_type": "code",
   "execution_count": 100,
   "metadata": {},
   "outputs": [
    {
     "data": {
      "text/plain": [
       "0.0    752\n",
       "2      105\n",
       "1.0      1\n",
       "Name: STDs:molluscum contagiosum, dtype: int64"
      ]
     },
     "execution_count": 100,
     "metadata": {},
     "output_type": "execute_result"
    }
   ],
   "source": [
    "df['STDs:molluscum contagiosum'].replace(to_replace=\"?\",value=2,inplace=True)\n",
    "df['STDs:molluscum contagiosum'].value_counts()"
   ]
  },
  {
   "cell_type": "code",
   "execution_count": 101,
   "metadata": {},
   "outputs": [],
   "source": [
    "df['STDs:molluscum contagiosum'] = df['STDs:molluscum contagiosum'].apply(lambda x:float(x))"
   ]
  },
  {
   "cell_type": "code",
   "execution_count": 102,
   "metadata": {},
   "outputs": [
    {
     "data": {
      "text/plain": [
       "1    752\n",
       "2    106\n",
       "Name: STDs:molluscum contagiosum, dtype: int64"
      ]
     },
     "execution_count": 102,
     "metadata": {},
     "output_type": "execute_result"
    }
   ],
   "source": [
    "#Discretizing the STDs:molluscum contagiosum column\n",
    "\n",
    "cut_label_STDs_molluscum_contagiosum = ['1','2']\n",
    "\n",
    "cut_bins = [-1, 0, 3]\n",
    "\n",
    "df['STDs:molluscum contagiosum'] = pd.cut(df['STDs:molluscum contagiosum'], bins=cut_bins, labels=cut_label_STDs_molluscum_contagiosum)\n",
    "\n",
    "df['STDs:molluscum contagiosum'].value_counts()"
   ]
  },
  {
   "cell_type": "markdown",
   "metadata": {},
   "source": [
    "# Preprocessing STDs:AIDS column"
   ]
  },
  {
   "cell_type": "code",
   "execution_count": 103,
   "metadata": {},
   "outputs": [
    {
     "name": "stdout",
     "output_type": "stream",
     "text": [
      "Total Null Values in STDs:AIDS column:\n",
      "0\n",
      "\n",
      "Minimum and Maximum values for STDs:AIDS column:\n",
      "0.0 ?\n"
     ]
    }
   ],
   "source": [
    "print('Total Null Values in STDs:AIDS column:')\n",
    "print(df['STDs:AIDS'].isna().sum())\n",
    "\n",
    "print('\\nMinimum and Maximum values for STDs:AIDS column:')\n",
    "print(df['STDs:AIDS'].min(), df['STDs:AIDS'].max())"
   ]
  },
  {
   "cell_type": "code",
   "execution_count": 104,
   "metadata": {},
   "outputs": [
    {
     "data": {
      "text/plain": [
       "0.0    753\n",
       "?      105\n",
       "Name: STDs:AIDS, dtype: int64"
      ]
     },
     "execution_count": 104,
     "metadata": {},
     "output_type": "execute_result"
    }
   ],
   "source": [
    "df['STDs:AIDS'].value_counts()"
   ]
  },
  {
   "cell_type": "code",
   "execution_count": 105,
   "metadata": {},
   "outputs": [
    {
     "data": {
      "text/plain": [
       "0.0    753\n",
       "1      105\n",
       "Name: STDs:AIDS, dtype: int64"
      ]
     },
     "execution_count": 105,
     "metadata": {},
     "output_type": "execute_result"
    }
   ],
   "source": [
    "df['STDs:AIDS'].replace(to_replace=\"?\",value=1,inplace=True)\n",
    "df['STDs:AIDS'].value_counts()"
   ]
  },
  {
   "cell_type": "code",
   "execution_count": 106,
   "metadata": {},
   "outputs": [],
   "source": [
    "df['STDs:AIDS'] = df['STDs:AIDS'].apply(lambda x:float(x))"
   ]
  },
  {
   "cell_type": "markdown",
   "metadata": {},
   "source": [
    "# Preprocessing STDs:HIV column"
   ]
  },
  {
   "cell_type": "code",
   "execution_count": 107,
   "metadata": {},
   "outputs": [
    {
     "name": "stdout",
     "output_type": "stream",
     "text": [
      "Total Null Values in STDs:HIV column:\n",
      "0\n",
      "\n",
      "Minimum and Maximum values for STDs:HIV column:\n",
      "0.0 ?\n"
     ]
    }
   ],
   "source": [
    "print('Total Null Values in STDs:HIV column:')\n",
    "print(df['STDs:HIV'].isna().sum())\n",
    "\n",
    "print('\\nMinimum and Maximum values for STDs:HIV column:')\n",
    "print(df['STDs:HIV'].min(), df['STDs:HIV'].max())"
   ]
  },
  {
   "cell_type": "code",
   "execution_count": 108,
   "metadata": {},
   "outputs": [
    {
     "data": {
      "text/plain": [
       "0.0    735\n",
       "?      105\n",
       "1.0     18\n",
       "Name: STDs:HIV, dtype: int64"
      ]
     },
     "execution_count": 108,
     "metadata": {},
     "output_type": "execute_result"
    }
   ],
   "source": [
    "df['STDs:HIV'].value_counts()"
   ]
  },
  {
   "cell_type": "code",
   "execution_count": 109,
   "metadata": {},
   "outputs": [
    {
     "data": {
      "text/plain": [
       "0.0    735\n",
       "2      105\n",
       "1.0     18\n",
       "Name: STDs:HIV, dtype: int64"
      ]
     },
     "execution_count": 109,
     "metadata": {},
     "output_type": "execute_result"
    }
   ],
   "source": [
    "df['STDs:HIV'].replace(to_replace=\"?\",value=2,inplace=True)\n",
    "df['STDs:HIV'].value_counts()"
   ]
  },
  {
   "cell_type": "code",
   "execution_count": 110,
   "metadata": {},
   "outputs": [],
   "source": [
    "df['STDs:HIV'] = df['STDs:HIV'].apply(lambda x:float(x))"
   ]
  },
  {
   "cell_type": "markdown",
   "metadata": {},
   "source": [
    "# Preprocessing STDs:Hepatitis B column"
   ]
  },
  {
   "cell_type": "code",
   "execution_count": 111,
   "metadata": {},
   "outputs": [
    {
     "name": "stdout",
     "output_type": "stream",
     "text": [
      "Total Null Values in STDs:Hepatitis B column:\n",
      "0\n",
      "\n",
      "Minimum and Maximum values for STDs:Hepatitis B column:\n",
      "0.0 ?\n"
     ]
    }
   ],
   "source": [
    "print('Total Null Values in STDs:Hepatitis B column:')\n",
    "print(df['STDs:Hepatitis B'].isna().sum())\n",
    "\n",
    "print('\\nMinimum and Maximum values for STDs:Hepatitis B column:')\n",
    "print(df['STDs:Hepatitis B'].min(), df['STDs:Hepatitis B'].max())"
   ]
  },
  {
   "cell_type": "code",
   "execution_count": 112,
   "metadata": {},
   "outputs": [
    {
     "data": {
      "text/plain": [
       "0.0    752\n",
       "?      105\n",
       "1.0      1\n",
       "Name: STDs:Hepatitis B, dtype: int64"
      ]
     },
     "execution_count": 112,
     "metadata": {},
     "output_type": "execute_result"
    }
   ],
   "source": [
    "df['STDs:Hepatitis B'].value_counts()"
   ]
  },
  {
   "cell_type": "code",
   "execution_count": 113,
   "metadata": {},
   "outputs": [
    {
     "data": {
      "text/plain": [
       "0.0    752\n",
       "2      105\n",
       "1.0      1\n",
       "Name: STDs:Hepatitis B, dtype: int64"
      ]
     },
     "execution_count": 113,
     "metadata": {},
     "output_type": "execute_result"
    }
   ],
   "source": [
    "df['STDs:Hepatitis B'].replace(to_replace=\"?\",value=2,inplace=True)\n",
    "df['STDs:Hepatitis B'].value_counts()"
   ]
  },
  {
   "cell_type": "code",
   "execution_count": 114,
   "metadata": {},
   "outputs": [],
   "source": [
    "df['STDs:Hepatitis B'] = df['STDs:Hepatitis B'].apply(lambda x:float(x))"
   ]
  },
  {
   "cell_type": "code",
   "execution_count": 115,
   "metadata": {},
   "outputs": [
    {
     "data": {
      "text/plain": [
       "1    752\n",
       "2    106\n",
       "Name: STDs:Hepatitis B, dtype: int64"
      ]
     },
     "execution_count": 115,
     "metadata": {},
     "output_type": "execute_result"
    }
   ],
   "source": [
    "#Discretizing the STDs:Hepatitis B column\n",
    "\n",
    "cut_label_STDs_Hepatitis_B = ['1','2']\n",
    "\n",
    "cut_bins = [-1, 0, 3]\n",
    "\n",
    "df['STDs:Hepatitis B'] = pd.cut(df['STDs:Hepatitis B'], bins=cut_bins, labels=cut_label_STDs_Hepatitis_B)\n",
    "\n",
    "df['STDs:Hepatitis B'].value_counts()"
   ]
  },
  {
   "cell_type": "markdown",
   "metadata": {},
   "source": [
    "# Preprocessing STDs:HPV column"
   ]
  },
  {
   "cell_type": "code",
   "execution_count": 116,
   "metadata": {},
   "outputs": [
    {
     "name": "stdout",
     "output_type": "stream",
     "text": [
      "Total Null Values in STDs:HPV column:\n",
      "0\n",
      "\n",
      "Minimum and Maximum values for STDs:HPV column:\n",
      "0.0 ?\n"
     ]
    }
   ],
   "source": [
    "print('Total Null Values in STDs:HPV column:')\n",
    "print(df['STDs:HPV'].isna().sum())\n",
    "\n",
    "print('\\nMinimum and Maximum values for STDs:HPV column:')\n",
    "print(df['STDs:HPV'].min(), df['STDs:HPV'].max())"
   ]
  },
  {
   "cell_type": "code",
   "execution_count": 117,
   "metadata": {},
   "outputs": [
    {
     "data": {
      "text/plain": [
       "0.0    751\n",
       "?      105\n",
       "1.0      2\n",
       "Name: STDs:HPV, dtype: int64"
      ]
     },
     "execution_count": 117,
     "metadata": {},
     "output_type": "execute_result"
    }
   ],
   "source": [
    "df['STDs:HPV'].value_counts()"
   ]
  },
  {
   "cell_type": "code",
   "execution_count": 118,
   "metadata": {},
   "outputs": [
    {
     "data": {
      "text/plain": [
       "0.0    751\n",
       "2      105\n",
       "1.0      2\n",
       "Name: STDs:HPV, dtype: int64"
      ]
     },
     "execution_count": 118,
     "metadata": {},
     "output_type": "execute_result"
    }
   ],
   "source": [
    "df['STDs:HPV'].replace(to_replace=\"?\",value=2,inplace=True)\n",
    "df['STDs:HPV'].value_counts()"
   ]
  },
  {
   "cell_type": "code",
   "execution_count": 119,
   "metadata": {},
   "outputs": [],
   "source": [
    "df['STDs:HPV'] = df['STDs:HPV'].apply(lambda x:float(x))"
   ]
  },
  {
   "cell_type": "code",
   "execution_count": 120,
   "metadata": {},
   "outputs": [
    {
     "data": {
      "text/plain": [
       "1    751\n",
       "2    107\n",
       "Name: STDs:HPV, dtype: int64"
      ]
     },
     "execution_count": 120,
     "metadata": {},
     "output_type": "execute_result"
    }
   ],
   "source": [
    "#Discretizing the STDs:HPV column\n",
    "\n",
    "cut_label_STDs_HPV = ['1','2']\n",
    "\n",
    "cut_bins = [-1, 0, 3]\n",
    "\n",
    "df['STDs:HPV'] = pd.cut(df['STDs:HPV'], bins=cut_bins, labels=cut_label_STDs_HPV)\n",
    "\n",
    "df['STDs:HPV'].value_counts()"
   ]
  },
  {
   "cell_type": "markdown",
   "metadata": {},
   "source": [
    "# Preprocessing STDs: Time since first diagnosis column"
   ]
  },
  {
   "cell_type": "code",
   "execution_count": 121,
   "metadata": {},
   "outputs": [
    {
     "name": "stdout",
     "output_type": "stream",
     "text": [
      "Total Null Values in STDs: Time since first diagnosis column:\n",
      "0\n",
      "\n",
      "Minimum and Maximum values for STDs: Time since first diagnosis column:\n",
      "1.0 ?\n"
     ]
    }
   ],
   "source": [
    "print('Total Null Values in STDs: Time since first diagnosis column:')\n",
    "print(df['IUD'].isna().sum())\n",
    "\n",
    "print('\\nMinimum and Maximum values for STDs: Time since first diagnosis column:')\n",
    "print(df['STDs: Time since first diagnosis'].min(), df['STDs: Time since first diagnosis'].max())"
   ]
  },
  {
   "cell_type": "code",
   "execution_count": 122,
   "metadata": {},
   "outputs": [
    {
     "data": {
      "text/plain": [
       "?       787\n",
       "1.0      15\n",
       "3.0      10\n",
       "2.0       9\n",
       "4.0       6\n",
       "7.0       5\n",
       "16.0      4\n",
       "5.0       4\n",
       "8.0       3\n",
       "6.0       3\n",
       "19.0      2\n",
       "11.0      2\n",
       "21.0      2\n",
       "9.0       1\n",
       "22.0      1\n",
       "18.0      1\n",
       "12.0      1\n",
       "15.0      1\n",
       "10.0      1\n",
       "Name: STDs: Time since first diagnosis, dtype: int64"
      ]
     },
     "execution_count": 122,
     "metadata": {},
     "output_type": "execute_result"
    }
   ],
   "source": [
    "df['STDs: Time since first diagnosis'].value_counts()"
   ]
  },
  {
   "cell_type": "code",
   "execution_count": 123,
   "metadata": {},
   "outputs": [
    {
     "data": {
      "text/plain": [
       "0       787\n",
       "1.0      15\n",
       "3.0      10\n",
       "2.0       9\n",
       "4.0       6\n",
       "7.0       5\n",
       "16.0      4\n",
       "5.0       4\n",
       "8.0       3\n",
       "6.0       3\n",
       "19.0      2\n",
       "11.0      2\n",
       "21.0      2\n",
       "22.0      1\n",
       "9.0       1\n",
       "18.0      1\n",
       "12.0      1\n",
       "15.0      1\n",
       "10.0      1\n",
       "Name: STDs: Time since first diagnosis, dtype: int64"
      ]
     },
     "execution_count": 123,
     "metadata": {},
     "output_type": "execute_result"
    }
   ],
   "source": [
    "df['STDs: Time since first diagnosis'].replace(to_replace=\"?\",value=0,inplace=True)\n",
    "df['STDs: Time since first diagnosis'].value_counts()"
   ]
  },
  {
   "cell_type": "code",
   "execution_count": 124,
   "metadata": {},
   "outputs": [],
   "source": [
    "df['STDs: Time since first diagnosis'] = df['STDs: Time since first diagnosis'].apply(lambda x:float(x))"
   ]
  },
  {
   "cell_type": "code",
   "execution_count": 125,
   "metadata": {},
   "outputs": [
    {
     "data": {
      "text/plain": [
       "-1    787\n",
       "0      71\n",
       "Name: STDs: Time since first diagnosis, dtype: int64"
      ]
     },
     "execution_count": 125,
     "metadata": {},
     "output_type": "execute_result"
    }
   ],
   "source": [
    "#Discretizing the STDs: Time since first diagnosis column\n",
    "cut_label_STDTSFD = ['-1','0']\n",
    "\n",
    "cut_bins = [-1, 0, 22]\n",
    "\n",
    "df['STDs: Time since first diagnosis'] = pd.cut(df['STDs: Time since first diagnosis'], bins=cut_bins, labels=cut_label_STDTSFD)\n",
    "\n",
    "df['STDs: Time since first diagnosis'].value_counts()"
   ]
  },
  {
   "cell_type": "markdown",
   "metadata": {},
   "source": [
    "# Preprocessing STDs: Time since last diagnosis column"
   ]
  },
  {
   "cell_type": "code",
   "execution_count": 126,
   "metadata": {},
   "outputs": [
    {
     "name": "stdout",
     "output_type": "stream",
     "text": [
      "Total Null Values in STDs: Time since last diagnosis column:\n",
      "0\n",
      "\n",
      "Minimum and Maximum values for STDs: Time since last diagnosis column:\n",
      "1.0 ?\n"
     ]
    }
   ],
   "source": [
    "print('Total Null Values in STDs: Time since last diagnosis column:')\n",
    "print(df['STDs: Time since last diagnosis'].isna().sum())\n",
    "\n",
    "print('\\nMinimum and Maximum values for STDs: Time since last diagnosis column:')\n",
    "print(df['STDs: Time since last diagnosis'].min(), df['STDs: Time since last diagnosis'].max())"
   ]
  },
  {
   "cell_type": "code",
   "execution_count": 127,
   "metadata": {},
   "outputs": [
    {
     "data": {
      "text/plain": [
       "?       787\n",
       "1.0      17\n",
       "2.0      10\n",
       "3.0       9\n",
       "4.0       6\n",
       "7.0       5\n",
       "16.0      4\n",
       "8.0       3\n",
       "5.0       3\n",
       "6.0       3\n",
       "11.0      2\n",
       "21.0      2\n",
       "9.0       1\n",
       "19.0      1\n",
       "22.0      1\n",
       "18.0      1\n",
       "12.0      1\n",
       "15.0      1\n",
       "10.0      1\n",
       "Name: STDs: Time since last diagnosis, dtype: int64"
      ]
     },
     "execution_count": 127,
     "metadata": {},
     "output_type": "execute_result"
    }
   ],
   "source": [
    "df['STDs: Time since last diagnosis'].value_counts()"
   ]
  },
  {
   "cell_type": "code",
   "execution_count": 128,
   "metadata": {},
   "outputs": [
    {
     "data": {
      "text/plain": [
       "0       787\n",
       "1.0      17\n",
       "2.0      10\n",
       "3.0       9\n",
       "4.0       6\n",
       "7.0       5\n",
       "16.0      4\n",
       "8.0       3\n",
       "5.0       3\n",
       "6.0       3\n",
       "11.0      2\n",
       "21.0      2\n",
       "18.0      1\n",
       "22.0      1\n",
       "9.0       1\n",
       "19.0      1\n",
       "12.0      1\n",
       "15.0      1\n",
       "10.0      1\n",
       "Name: STDs: Time since last diagnosis, dtype: int64"
      ]
     },
     "execution_count": 128,
     "metadata": {},
     "output_type": "execute_result"
    }
   ],
   "source": [
    "df['STDs: Time since last diagnosis'].replace(to_replace=\"?\",value=0,inplace=True)\n",
    "df['STDs: Time since last diagnosis'].value_counts()"
   ]
  },
  {
   "cell_type": "code",
   "execution_count": 129,
   "metadata": {},
   "outputs": [],
   "source": [
    "df['STDs: Time since last diagnosis'] = df['STDs: Time since last diagnosis'].apply(lambda x:float(x))"
   ]
  },
  {
   "cell_type": "code",
   "execution_count": 130,
   "metadata": {},
   "outputs": [
    {
     "data": {
      "text/plain": [
       "0    787\n",
       "1     71\n",
       "Name: STDs: Time since last diagnosis, dtype: int64"
      ]
     },
     "execution_count": 130,
     "metadata": {},
     "output_type": "execute_result"
    }
   ],
   "source": [
    "#Discretizing the STDs: Time since last diagnosis column\n",
    "cut_label_STDsTimesincelastdiagnosis = ['0', '1']\n",
    "\n",
    "cut_bins = [-1, 0, 25]\n",
    "\n",
    "df['STDs: Time since last diagnosis'] = pd.cut(df['STDs: Time since last diagnosis'], bins=cut_bins, labels=cut_label_STDsTimesincelastdiagnosis)\n",
    "\n",
    "df['STDs: Time since last diagnosis'].value_counts()"
   ]
  },
  {
   "cell_type": "markdown",
   "metadata": {},
   "source": [
    "# Preprocessing Continuous variables"
   ]
  },
  {
   "cell_type": "markdown",
   "metadata": {},
   "source": [
    "# Preprocessing age column"
   ]
  },
  {
   "cell_type": "code",
   "execution_count": 131,
   "metadata": {},
   "outputs": [
    {
     "name": "stdout",
     "output_type": "stream",
     "text": [
      "Total Null Values in age column:\n",
      "0\n",
      "\n",
      "Minimum and Maximum values for age column:\n",
      "13 84\n"
     ]
    }
   ],
   "source": [
    "print('Total Null Values in age column:')\n",
    "print(df['Age'].isna().sum())\n",
    "\n",
    "print('\\nMinimum and Maximum values for age column:')\n",
    "print(df['Age'].min(), df['Age'].max())"
   ]
  },
  {
   "cell_type": "code",
   "execution_count": 132,
   "metadata": {},
   "outputs": [],
   "source": [
    "df['Age'] = df['Age'].apply(lambda x:float(x))"
   ]
  },
  {
   "cell_type": "code",
   "execution_count": 133,
   "metadata": {
    "scrolled": true
   },
   "outputs": [
    {
     "data": {
      "text/plain": [
       "23.0    54\n",
       "18.0    50\n",
       "21.0    46\n",
       "20.0    45\n",
       "19.0    44\n",
       "25.0    39\n",
       "24.0    39\n",
       "26.0    38\n",
       "28.0    37\n",
       "30.0    35\n",
       "17.0    35\n",
       "29.0    33\n",
       "27.0    33\n",
       "22.0    30\n",
       "35.0    29\n",
       "33.0    28\n",
       "31.0    27\n",
       "34.0    24\n",
       "36.0    24\n",
       "16.0    23\n",
       "15.0    21\n",
       "32.0    18\n",
       "37.0    17\n",
       "41.0    13\n",
       "40.0    12\n",
       "38.0     9\n",
       "39.0     9\n",
       "42.0     6\n",
       "44.0     6\n",
       "45.0     6\n",
       "14.0     5\n",
       "43.0     5\n",
       "46.0     3\n",
       "49.0     2\n",
       "70.0     2\n",
       "48.0     2\n",
       "52.0     2\n",
       "13.0     1\n",
       "50.0     1\n",
       "51.0     1\n",
       "47.0     1\n",
       "79.0     1\n",
       "59.0     1\n",
       "84.0     1\n",
       "Name: Age, dtype: int64"
      ]
     },
     "execution_count": 133,
     "metadata": {},
     "output_type": "execute_result"
    }
   ],
   "source": [
    "df['Age'].value_counts()"
   ]
  },
  {
   "cell_type": "code",
   "execution_count": 134,
   "metadata": {
    "scrolled": true
   },
   "outputs": [
    {
     "data": {
      "text/plain": [
       "5    116\n",
       "7    113\n",
       "8    105\n",
       "9    100\n",
       "2     94\n",
       "3     91\n",
       "1     85\n",
       "4     84\n",
       "6     70\n",
       "Name: Age_bin, dtype: int64"
      ]
     },
     "execution_count": 134,
     "metadata": {},
     "output_type": "execute_result"
    }
   ],
   "source": [
    "#Discretizing the age column\n",
    "cut_label_age = ['1', '2', '3', '4','5','6','7','8','9']\n",
    "\n",
    "cut_bins = [10, 17, 19, 21, 23, 26,28, 32,36, 100]\n",
    "\n",
    "df['Age_bin'] = pd.cut(df['Age'], bins=cut_bins, labels=cut_label_age)\n",
    "\n",
    "df['Age_bin'].value_counts()"
   ]
  },
  {
   "cell_type": "markdown",
   "metadata": {},
   "source": [
    "# Preprocessing STDs: Number of diagnosis column"
   ]
  },
  {
   "cell_type": "code",
   "execution_count": 135,
   "metadata": {},
   "outputs": [
    {
     "name": "stdout",
     "output_type": "stream",
     "text": [
      "Total Null Values in STDs: Number of diagnosis column:\n",
      "0\n",
      "\n",
      "Minimum and Maximum values for STDs: Number of diagnosis column:\n",
      "0 3\n"
     ]
    }
   ],
   "source": [
    "print('Total Null Values in STDs: Number of diagnosis column:')\n",
    "print(df['STDs: Number of diagnosis'].isna().sum())\n",
    "\n",
    "print('\\nMinimum and Maximum values for STDs: Number of diagnosis column:')\n",
    "print(df['STDs: Number of diagnosis'].min(), df['STDs: Number of diagnosis'].max())"
   ]
  },
  {
   "cell_type": "code",
   "execution_count": 136,
   "metadata": {},
   "outputs": [
    {
     "data": {
      "text/plain": [
       "0    787\n",
       "1     68\n",
       "2      2\n",
       "3      1\n",
       "Name: STDs: Number of diagnosis, dtype: int64"
      ]
     },
     "execution_count": 136,
     "metadata": {},
     "output_type": "execute_result"
    }
   ],
   "source": [
    "df['STDs: Number of diagnosis'].value_counts()"
   ]
  },
  {
   "cell_type": "code",
   "execution_count": 137,
   "metadata": {},
   "outputs": [],
   "source": [
    "df['STDs: Number of diagnosis'] = df['STDs: Number of diagnosis'].apply(lambda x:float(x))"
   ]
  },
  {
   "cell_type": "code",
   "execution_count": 138,
   "metadata": {},
   "outputs": [
    {
     "data": {
      "text/plain": [
       "1    787\n",
       "2     71\n",
       "Name: STDs: Number of diagnosis_bin, dtype: int64"
      ]
     },
     "execution_count": 138,
     "metadata": {},
     "output_type": "execute_result"
    }
   ],
   "source": [
    "#Discretizing the STDs: Number of diagnosis column\n",
    "\n",
    "cut_label_STDs_Number_of_diagnosis= ['1','2']\n",
    "\n",
    "cut_bins = [-1, 0, 3]\n",
    "\n",
    "df['STDs: Number of diagnosis_bin'] = pd.cut(df['STDs: Number of diagnosis'], bins=cut_bins, labels=cut_label_STDs_Number_of_diagnosis)\n",
    "\n",
    "df['STDs: Number of diagnosis_bin'].value_counts()"
   ]
  },
  {
   "cell_type": "markdown",
   "metadata": {},
   "source": [
    "# Preprocessing Dx:Cancer column"
   ]
  },
  {
   "cell_type": "code",
   "execution_count": 139,
   "metadata": {},
   "outputs": [
    {
     "name": "stdout",
     "output_type": "stream",
     "text": [
      "Total Null Values in Dx:Cancer column:\n",
      "0\n",
      "\n",
      "Minimum and Maximum values for Dx:Cancer column:\n",
      "0 1\n"
     ]
    }
   ],
   "source": [
    "print('Total Null Values in Dx:Cancer column:')\n",
    "print(df['Dx:Cancer'].isna().sum())\n",
    "\n",
    "print('\\nMinimum and Maximum values for Dx:Cancer column:')\n",
    "print(df['Dx:Cancer'].min(), df['Dx:Cancer'].max())"
   ]
  },
  {
   "cell_type": "code",
   "execution_count": 140,
   "metadata": {},
   "outputs": [
    {
     "data": {
      "text/plain": [
       "0    840\n",
       "1     18\n",
       "Name: Dx:Cancer, dtype: int64"
      ]
     },
     "execution_count": 140,
     "metadata": {},
     "output_type": "execute_result"
    }
   ],
   "source": [
    "df['Dx:Cancer'].value_counts()"
   ]
  },
  {
   "cell_type": "code",
   "execution_count": 141,
   "metadata": {},
   "outputs": [],
   "source": [
    "df['Dx:Cancer'] = df['Dx:Cancer'].apply(lambda x:float(x))"
   ]
  },
  {
   "cell_type": "code",
   "execution_count": 142,
   "metadata": {},
   "outputs": [
    {
     "data": {
      "text/plain": [
       "0    840\n",
       "1     18\n",
       "Name: Dx:Cancer_bin, dtype: int64"
      ]
     },
     "execution_count": 142,
     "metadata": {},
     "output_type": "execute_result"
    }
   ],
   "source": [
    "df[\"Dx:Cancer_bin\"] = df[\"Dx:Cancer\"].map({0:0, 1:1})\n",
    "\n",
    "# Finding counts of unique values\n",
    "df['Dx:Cancer_bin'].value_counts()"
   ]
  },
  {
   "cell_type": "markdown",
   "metadata": {},
   "source": [
    "# Preprocessing Dx:CIN column"
   ]
  },
  {
   "cell_type": "code",
   "execution_count": 143,
   "metadata": {},
   "outputs": [
    {
     "name": "stdout",
     "output_type": "stream",
     "text": [
      "Total Null Values in Dx:CIN column:\n",
      "0\n",
      "\n",
      "Minimum and Maximum values for Dx:CIN column:\n",
      "0 1\n"
     ]
    }
   ],
   "source": [
    "print('Total Null Values in Dx:CIN column:')\n",
    "print(df['Dx:CIN'].isna().sum())\n",
    "\n",
    "print('\\nMinimum and Maximum values for Dx:CIN column:')\n",
    "print(df['Dx:CIN'].min(), df['Dx:CIN'].max())"
   ]
  },
  {
   "cell_type": "code",
   "execution_count": 144,
   "metadata": {},
   "outputs": [
    {
     "data": {
      "text/plain": [
       "0    849\n",
       "1      9\n",
       "Name: Dx:CIN, dtype: int64"
      ]
     },
     "execution_count": 144,
     "metadata": {},
     "output_type": "execute_result"
    }
   ],
   "source": [
    "df['Dx:CIN'].value_counts()"
   ]
  },
  {
   "cell_type": "code",
   "execution_count": 145,
   "metadata": {},
   "outputs": [],
   "source": [
    "df['Dx:CIN'] = df['Dx:CIN'].apply(lambda x:float(x))"
   ]
  },
  {
   "cell_type": "code",
   "execution_count": 146,
   "metadata": {},
   "outputs": [
    {
     "data": {
      "text/plain": [
       "0    849\n",
       "1      9\n",
       "Name: Dx:CIN_bin, dtype: int64"
      ]
     },
     "execution_count": 146,
     "metadata": {},
     "output_type": "execute_result"
    }
   ],
   "source": [
    "df[\"Dx:CIN_bin\"] = df[\"Dx:CIN\"].map({0:0, 1:1})\n",
    "\n",
    "# Finding counts of unique values\n",
    "df['Dx:CIN_bin'].value_counts()"
   ]
  },
  {
   "cell_type": "markdown",
   "metadata": {},
   "source": [
    "# Preprocessing Dx:HPV column"
   ]
  },
  {
   "cell_type": "code",
   "execution_count": 147,
   "metadata": {},
   "outputs": [
    {
     "name": "stdout",
     "output_type": "stream",
     "text": [
      "Total Null Values in Dx:HPV column:\n",
      "0\n",
      "\n",
      "Minimum and Maximum values for Dx:HPV column:\n",
      "0 1\n"
     ]
    }
   ],
   "source": [
    "print('Total Null Values in Dx:HPV column:')\n",
    "print(df['Dx:HPV'].isna().sum())\n",
    "\n",
    "print('\\nMinimum and Maximum values for Dx:HPV column:')\n",
    "print(df['Dx:HPV'].min(), df['Dx:HPV'].max())"
   ]
  },
  {
   "cell_type": "code",
   "execution_count": 148,
   "metadata": {},
   "outputs": [
    {
     "data": {
      "text/plain": [
       "0    840\n",
       "1     18\n",
       "Name: Dx:HPV, dtype: int64"
      ]
     },
     "execution_count": 148,
     "metadata": {},
     "output_type": "execute_result"
    }
   ],
   "source": [
    "df['Dx:HPV'].value_counts()"
   ]
  },
  {
   "cell_type": "code",
   "execution_count": 149,
   "metadata": {},
   "outputs": [],
   "source": [
    "df['Dx:HPV'] = df['Dx:HPV'].apply(lambda x:float(x))"
   ]
  },
  {
   "cell_type": "code",
   "execution_count": 150,
   "metadata": {},
   "outputs": [
    {
     "data": {
      "text/plain": [
       "0    840\n",
       "1     18\n",
       "Name: Dx:HPV_bin, dtype: int64"
      ]
     },
     "execution_count": 150,
     "metadata": {},
     "output_type": "execute_result"
    }
   ],
   "source": [
    "df[\"Dx:HPV_bin\"] = df[\"Dx:HPV\"].map({0:0, 1:1})\n",
    "\n",
    "# Finding counts of unique values\n",
    "df['Dx:HPV_bin'].value_counts()"
   ]
  },
  {
   "cell_type": "markdown",
   "metadata": {},
   "source": [
    "# Preprocessing Dx column"
   ]
  },
  {
   "cell_type": "code",
   "execution_count": 151,
   "metadata": {},
   "outputs": [
    {
     "name": "stdout",
     "output_type": "stream",
     "text": [
      "Total Null Values in Dx column:\n",
      "0\n",
      "\n",
      "Minimum and Maximum values for Dx column:\n",
      "0 1\n"
     ]
    }
   ],
   "source": [
    "print('Total Null Values in Dx column:')\n",
    "print(df['Dx'].isna().sum())\n",
    "\n",
    "print('\\nMinimum and Maximum values for Dx column:')\n",
    "print(df['Dx'].min(), df['Dx'].max())"
   ]
  },
  {
   "cell_type": "code",
   "execution_count": 152,
   "metadata": {},
   "outputs": [
    {
     "data": {
      "text/plain": [
       "0    834\n",
       "1     24\n",
       "Name: Dx, dtype: int64"
      ]
     },
     "execution_count": 152,
     "metadata": {},
     "output_type": "execute_result"
    }
   ],
   "source": [
    "df['Dx'].value_counts()"
   ]
  },
  {
   "cell_type": "code",
   "execution_count": 153,
   "metadata": {},
   "outputs": [],
   "source": [
    "df['Dx'] = df['Dx'].apply(lambda x:float(x))"
   ]
  },
  {
   "cell_type": "code",
   "execution_count": 154,
   "metadata": {},
   "outputs": [
    {
     "data": {
      "text/plain": [
       "0    834\n",
       "1     24\n",
       "Name: Dx_bin, dtype: int64"
      ]
     },
     "execution_count": 154,
     "metadata": {},
     "output_type": "execute_result"
    }
   ],
   "source": [
    "df[\"Dx_bin\"] = df[\"Dx\"].map({0:0, 1:1})\n",
    "\n",
    "# Finding counts of unique values\n",
    "df['Dx_bin'].value_counts()"
   ]
  },
  {
   "cell_type": "markdown",
   "metadata": {},
   "source": [
    "# Preprocessing Hinselmann column"
   ]
  },
  {
   "cell_type": "code",
   "execution_count": 155,
   "metadata": {},
   "outputs": [
    {
     "name": "stdout",
     "output_type": "stream",
     "text": [
      "Total Null Values in Hinselmann column:\n",
      "0\n",
      "\n",
      "Minimum and Maximum values for Hinselmann column:\n",
      "0 1\n"
     ]
    }
   ],
   "source": [
    "print('Total Null Values in Hinselmann column:')\n",
    "print(df['Hinselmann'].isna().sum())\n",
    "\n",
    "print('\\nMinimum and Maximum values for Hinselmann column:')\n",
    "print(df['Hinselmann'].min(), df['Hinselmann'].max())"
   ]
  },
  {
   "cell_type": "code",
   "execution_count": 156,
   "metadata": {},
   "outputs": [
    {
     "data": {
      "text/plain": [
       "0    823\n",
       "1     35\n",
       "Name: Hinselmann, dtype: int64"
      ]
     },
     "execution_count": 156,
     "metadata": {},
     "output_type": "execute_result"
    }
   ],
   "source": [
    "df['Hinselmann'].value_counts()"
   ]
  },
  {
   "cell_type": "code",
   "execution_count": 157,
   "metadata": {},
   "outputs": [],
   "source": [
    "df['Hinselmann'] = df['Hinselmann'].apply(lambda x:float(x))"
   ]
  },
  {
   "cell_type": "code",
   "execution_count": 158,
   "metadata": {},
   "outputs": [
    {
     "data": {
      "text/plain": [
       "0    823\n",
       "1     35\n",
       "Name: Hinselmann_bin, dtype: int64"
      ]
     },
     "execution_count": 158,
     "metadata": {},
     "output_type": "execute_result"
    }
   ],
   "source": [
    "df[\"Hinselmann_bin\"] = df[\"Hinselmann\"].map({0:0, 1:1})\n",
    "\n",
    "# Finding counts of unique values\n",
    "df['Hinselmann_bin'].value_counts()"
   ]
  },
  {
   "cell_type": "markdown",
   "metadata": {},
   "source": [
    "# Preprocessing Schiller column"
   ]
  },
  {
   "cell_type": "code",
   "execution_count": 159,
   "metadata": {},
   "outputs": [
    {
     "name": "stdout",
     "output_type": "stream",
     "text": [
      "Total Null Values in Schiller column:\n",
      "0\n",
      "\n",
      "Minimum and Maximum values for Schiller column:\n",
      "0 1\n"
     ]
    }
   ],
   "source": [
    "print('Total Null Values in Schiller column:')\n",
    "print(df['Schiller'].isna().sum())\n",
    "\n",
    "print('\\nMinimum and Maximum values for Schiller column:')\n",
    "print(df['Schiller'].min(), df['Schiller'].max())"
   ]
  },
  {
   "cell_type": "code",
   "execution_count": 160,
   "metadata": {},
   "outputs": [
    {
     "data": {
      "text/plain": [
       "0    784\n",
       "1     74\n",
       "Name: Schiller, dtype: int64"
      ]
     },
     "execution_count": 160,
     "metadata": {},
     "output_type": "execute_result"
    }
   ],
   "source": [
    "df['Schiller'].value_counts()"
   ]
  },
  {
   "cell_type": "code",
   "execution_count": 161,
   "metadata": {},
   "outputs": [],
   "source": [
    "df['Schiller'] = df['Schiller'].apply(lambda x:float(x))"
   ]
  },
  {
   "cell_type": "code",
   "execution_count": 162,
   "metadata": {},
   "outputs": [
    {
     "data": {
      "text/plain": [
       "0    784\n",
       "1     74\n",
       "Name: Schiller_bin, dtype: int64"
      ]
     },
     "execution_count": 162,
     "metadata": {},
     "output_type": "execute_result"
    }
   ],
   "source": [
    "df[\"Schiller_bin\"] = df[\"Schiller\"].map({0:0, 1:1})\n",
    "\n",
    "# Finding counts of unique values\n",
    "df['Schiller_bin'].value_counts()"
   ]
  },
  {
   "cell_type": "markdown",
   "metadata": {},
   "source": [
    "# Preprocessing Citology column"
   ]
  },
  {
   "cell_type": "code",
   "execution_count": 163,
   "metadata": {},
   "outputs": [
    {
     "name": "stdout",
     "output_type": "stream",
     "text": [
      "Total Null Values in Citology column:\n",
      "0\n",
      "\n",
      "Minimum and Maximum values for Citology column:\n",
      "0 1\n"
     ]
    }
   ],
   "source": [
    "print('Total Null Values in Citology column:')\n",
    "print(df['Citology'].isna().sum())\n",
    "\n",
    "print('\\nMinimum and Maximum values for Citology column:')\n",
    "print(df['Citology'].min(), df['Citology'].max())"
   ]
  },
  {
   "cell_type": "code",
   "execution_count": 164,
   "metadata": {},
   "outputs": [
    {
     "data": {
      "text/plain": [
       "0    814\n",
       "1     44\n",
       "Name: Citology, dtype: int64"
      ]
     },
     "execution_count": 164,
     "metadata": {},
     "output_type": "execute_result"
    }
   ],
   "source": [
    "df['Citology'].value_counts()"
   ]
  },
  {
   "cell_type": "code",
   "execution_count": 165,
   "metadata": {},
   "outputs": [],
   "source": [
    "df['Citology'] = df['Citology'].apply(lambda x:float(x))"
   ]
  },
  {
   "cell_type": "code",
   "execution_count": 166,
   "metadata": {},
   "outputs": [
    {
     "data": {
      "text/plain": [
       "0    814\n",
       "1     44\n",
       "Name: Citology_bin, dtype: int64"
      ]
     },
     "execution_count": 166,
     "metadata": {},
     "output_type": "execute_result"
    }
   ],
   "source": [
    "df[\"Citology_bin\"] = df[\"Citology\"].map({0:0, 1:1})\n",
    "\n",
    "# Finding counts of unique values\n",
    "df['Citology_bin'].value_counts()"
   ]
  },
  {
   "cell_type": "markdown",
   "metadata": {},
   "source": [
    "# Preprocessing Biopsy column"
   ]
  },
  {
   "cell_type": "code",
   "execution_count": 167,
   "metadata": {},
   "outputs": [
    {
     "name": "stdout",
     "output_type": "stream",
     "text": [
      "Total Null Values in Biopsy column:\n",
      "0\n",
      "\n",
      "Minimum and Maximum values for Biopsy column:\n",
      "0 1\n"
     ]
    }
   ],
   "source": [
    "print('Total Null Values in Biopsy column:')\n",
    "print(df['Biopsy'].isna().sum())\n",
    "\n",
    "print('\\nMinimum and Maximum values for Biopsy column:')\n",
    "print(df['Biopsy'].min(), df['Biopsy'].max())"
   ]
  },
  {
   "cell_type": "code",
   "execution_count": 168,
   "metadata": {},
   "outputs": [
    {
     "data": {
      "text/plain": [
       "0    803\n",
       "1     55\n",
       "Name: Biopsy, dtype: int64"
      ]
     },
     "execution_count": 168,
     "metadata": {},
     "output_type": "execute_result"
    }
   ],
   "source": [
    "df['Biopsy'].value_counts()"
   ]
  },
  {
   "cell_type": "code",
   "execution_count": 169,
   "metadata": {},
   "outputs": [],
   "source": [
    "df['Biopsy'] = df['Biopsy'].apply(lambda x:float(x))"
   ]
  },
  {
   "cell_type": "markdown",
   "metadata": {},
   "source": [
    "# Q1:"
   ]
  },
  {
   "cell_type": "markdown",
   "metadata": {},
   "source": [
    "## Node class"
   ]
  },
  {
   "cell_type": "code",
   "execution_count": 170,
   "metadata": {},
   "outputs": [],
   "source": [
    "#creating a node class for the decision tree\n",
    "class Node():\n",
    "    def __init__(self, feature_index=None,left=None,right=None, value=None):\n",
    "       #constructor  \n",
    "        \n",
    "        # decision node\n",
    "        self.feature_index = feature_index\n",
    "        self.left = left\n",
    "        self.right = right\n",
    "        \n",
    "        # leaf node\n",
    "        self.value = value"
   ]
  },
  {
   "cell_type": "markdown",
   "metadata": {},
   "source": [
    "## Decision Tree classifier using Weight of Evidence(WOE)"
   ]
  },
  {
   "cell_type": "markdown",
   "metadata": {},
   "source": [
    "## This decision tree classifier is being designed by us to be used for one attribute based split or two attribute per node based split"
   ]
  },
  {
   "cell_type": "code",
   "execution_count": 171,
   "metadata": {},
   "outputs": [],
   "source": [
    "# class for decision tree classifier\n",
    "\n",
    "class DecisionTreeClassifier(): \n",
    "    def __init__(self, min_samples_split=3, max_depth=1, no_of_IV=0):\n",
    "        # constructor \n",
    "        \n",
    "        # root of the tree \n",
    "        self.root = None\n",
    "        \n",
    "        # Stopping Criteria\n",
    "        self.min_samples_split = min_samples_split\n",
    "        self.max_depth = max_depth\n",
    "        self.no_of_IV = no_of_IV \n",
    "        \n",
    "    def build_tree(self, dataset, curr_depth=0):  \n",
    "        # function to build the tree \n",
    "\n",
    "        X, Y = dataset.iloc[:,:-1].values, dataset.iloc[:,-1].values\n",
    "        num_samples, num_features = np.shape(X)\n",
    "        \n",
    "        # check the stopping criteria to split the node\n",
    "        if num_samples>=self.min_samples_split and curr_depth<=self.max_depth:\n",
    "            \n",
    "            best_split = self.get_best_split(dataset, num_samples, num_features)\n",
    "        \n",
    "            # building left subtree using recursion\n",
    "            left_subtree = self.build_tree(best_split[\"dataset_left\"], curr_depth+1)\n",
    "\n",
    "            # building right subtree using recursion\n",
    "            right_subtree = self.build_tree(best_split[\"dataset_right\"], curr_depth+1)\n",
    "\n",
    "            # return the decision node\n",
    "            return Node(best_split[\"feature_index\"],left_subtree, right_subtree)\n",
    "        \n",
    "        # Finding the class leaf node\n",
    "        leaf_value = self.calculate_leaf_value(Y)\n",
    "        \n",
    "        # return the leaf node\n",
    "        return Node(value=leaf_value)\n",
    "      \n",
    "    def get_best_split(self, dataset, num_samples, num_features):\n",
    "        # Function to get the best split based on the IV value\n",
    "        \n",
    "        dataset = pd.DataFrame(dataset)\n",
    "        \n",
    "        best_split = {}\n",
    "        \n",
    "        # dataframe for the categorical variables\n",
    "        df_cat = dataset[['Number of sexual partners', 'First sexual intercourse',\n",
    "       'Num of pregnancies', 'Smokes', 'Smokes (years)', 'Smokes (packs/year)',\n",
    "       'Hormonal Contraceptives', 'Hormonal Contraceptives (years)', 'IUD',\n",
    "       'IUD (years)', 'STDs', 'STDs (number)', 'STDs:condylomatosis',\n",
    "       'STDs:cervical condylomatosis', 'STDs:vaginal condylomatosis',\n",
    "       'STDs:vulvo-perineal condylomatosis', 'STDs:syphilis',\n",
    "       'STDs:pelvic inflammatory disease', 'STDs:genital herpes',\n",
    "       'STDs:molluscum contagiosum', 'STDs:AIDS', 'STDs:HIV',\n",
    "       'STDs:Hepatitis B', 'STDs:HPV', 'STDs: Time since first diagnosis', 'STDs: Time since last diagnosis',\n",
    "        'Biopsy']]\n",
    "        \n",
    "        # dataframe for the continuous variables\n",
    "        df_con = dataset[['Age',  'STDs: Number of diagnosis',\n",
    "       'Dx:Cancer', 'Dx:CIN', 'Dx:HPV', 'Dx', 'Hinselmann', 'Schiller',\n",
    "       'Citology']]\n",
    "        \n",
    "        # Dataframe for the continuous variables including the bin variables  \n",
    "        data = dataset[['Age',  'STDs: Number of diagnosis',\n",
    "       'Dx:Cancer', 'Dx:CIN', 'Dx:HPV', 'Dx', 'Hinselmann', 'Schiller',\n",
    "       'Citology','Age_bin','STDs: Number of diagnosis_bin','Dx:Cancer_bin', 'Dx:CIN_bin', 'Dx:HPV_bin', \n",
    "       'Dx_bin', 'Hinselmann_bin', 'Schiller_bin', 'Citology_bin']]      \n",
    "\n",
    "        #Target Class\n",
    "        target = 'Biopsy' \n",
    "    \n",
    "        #lists containing Information Value(IV) values for categorical and continuous variables\n",
    "        iv_cat=[]\n",
    "        iv_cat_col_name=[]\n",
    "        iv_con=[]\n",
    "        iv_con_col_name =[]\n",
    "        \n",
    "        # column names \n",
    "        feature_cat = df_cat.columns\n",
    "        feature_con = df_con.columns\n",
    "        \n",
    "        #creating lists with IV values and their corresponding categorical attributes\n",
    "        for col in feature_cat:\n",
    "            df1, iv1 = self.calculate_woe_iv_cat(df_cat, col, target)\n",
    "            iv_cat_col_name.append(col)\n",
    "            iv_cat.append(iv1)\n",
    "            \n",
    "        #creating lists with IV values and their corresponding continuous attributes\n",
    "        for col in feature_con:\n",
    "            df2, iv2 = self.calculate_woe_iv_con(df_con,data, col, target)\n",
    "            iv_con.append(iv2)\n",
    "            iv_con_col_name.append(col)\n",
    "            \n",
    "        #concatenating the IV values and their corresponding attributes into one list\n",
    "        iv_col = iv_cat_col_name + iv_con_col_name\n",
    "        iv=iv_cat+iv_con\n",
    "\n",
    "        my_dict = {\"col\":iv_col,\"iv\":iv};\n",
    "        new = pd.DataFrame.from_dict(my_dict)\n",
    "        \n",
    "        #sorting the dataframe containg IV values in decreasing order \n",
    "#       and filtering only relevant IV values\n",
    "        new_df = new.sort_values(by=['iv'], ascending=False)\n",
    "        new_df1 =new_df[new_df['iv']<=0.5]\n",
    "\n",
    "        #creating list of best one or two feature numbers/index  \n",
    "        a=[]\n",
    "        for i in range(self.no_of_IV):\n",
    "            l=new_df1.index[new_df1['iv']==new_df1.iloc[i]['iv']] #returns list\n",
    "            a.append(l)\n",
    "\n",
    "        dataset1 =dataset.iloc[:,:45]\n",
    "        feature_ind = []\n",
    "        for s in a:\n",
    "            feature_ind.append(s.item()+1)\n",
    "    \n",
    "        y = dataset.iloc[:, 44].values\n",
    "        z=dataset.iloc[:,feature_ind].values\n",
    "        y=y.reshape(y.shape[0], 1)\n",
    "        z=z.reshape(z.shape[0], len(a))\n",
    "        \n",
    "        #calling logistic regression to calculate new feature for splitting the node\n",
    "        result= self.logistic_split(y, z, dataset1)\n",
    "        \n",
    "        dataset_right = pd.DataFrame()\n",
    "        dataset_left = pd.DataFrame()\n",
    "        \n",
    "        #splitting the node\n",
    "        dataset_left, dataset_right = self.split(result)\n",
    "        \n",
    "        # decision node values on best split\n",
    "        best_split[\"feature_index\"] = feature_ind\n",
    "        best_split[\"dataset_left\"] = dataset_left\n",
    "        best_split[\"dataset_right\"] = dataset_right\n",
    "        \n",
    "        return best_split\n",
    "    \n",
    "    def split(self, dataset): \n",
    "        \n",
    "        # function to split the data \n",
    "        dataset_left = dataset[dataset.iloc[:,-1] == 0]\n",
    "        dataset_right = dataset[dataset.iloc[:,-1] == 1]\n",
    "        \n",
    "        return dataset_left, dataset_right\n",
    "    \n",
    "    def logistic_split(self, y_train, X_train, dataset):\n",
    "\n",
    "        # create logistic regression classifier using IV values\n",
    "        LR=LogisticRegression(random_state=1)\n",
    "      \n",
    "        y_train=y_train.astype('int')\n",
    "        LR.fit(X_train,y_train)\n",
    "          \n",
    "        #compute probabilities\n",
    "        prob=LR.predict_proba(X_train)\n",
    "        \n",
    "        #create list with predicted values from logistic regression classifier\n",
    "        LRPredict_train=[]\n",
    "        for i in range(len(y_train)):\n",
    "            if(prob[i][0]>=0.5):\n",
    "                LRPredict_train.append(0)\n",
    "            else: \n",
    "                LRPredict_train.append(1)\n",
    "                \n",
    "        LRPredict_train=np.array(LRPredict_train)     \n",
    "       \n",
    "        a=pd.DataFrame(dataset.iloc[:,:45])\n",
    "        c=pd.DataFrame(LRPredict_train)\n",
    "        \n",
    "        a.reset_index(drop=True, inplace=True)\n",
    "        c.reset_index(drop=True, inplace=True)\n",
    "    \n",
    "        # Create concatenated dataframe containing given class label and predicted class label\n",
    "        frames = [a,c]  \n",
    "        result = pd.concat(frames, axis=1) # Create concateenated dataframe\n",
    "\n",
    "        return result\n",
    "    \n",
    "    def calculate_leaf_value(self, Y):\n",
    "        # function to compute the leaf node \n",
    "\n",
    "        pred_train=[]\n",
    "        Y = list(Y)\n",
    "        for i in range(len(Y)):\n",
    "            if(Y[i]>=0.75):\n",
    "                pred_train.append(0)\n",
    "            else: \n",
    "                pred_train.append(1)\n",
    "                default=0\n",
    "        # the most frequent value is returned as the class label and in case of an empty sequence return nan \n",
    "        return max(pred_train, key=pred_train.count, default=np.nan)      \n",
    "\n",
    "    \n",
    "    def print_tree(self, tree=None, indent=\" \"):\n",
    "        # function to print the tree \n",
    "        threshold=0.5\n",
    "        if not tree:\n",
    "            tree = self.root\n",
    "\n",
    "        if tree.value is not None:\n",
    "            print(tree.value)\n",
    "\n",
    "        else:\n",
    "            print(\"X_\"+str(tree.feature_index), \"<=\", threshold)\n",
    "            print(\"%sleft:\" % (indent), end=\"\")\n",
    "            self.print_tree(tree.left, indent + indent)\n",
    "            print(\"%sright:\" % (indent), end=\"\")\n",
    "            self.print_tree(tree.right, indent + indent)\n",
    "    \n",
    "    def fit(self, X, Y):\n",
    "        # function to train the tree \n",
    "        \n",
    "        dataset = np.concatenate((X, Y), axis=1)\n",
    "        dataset = pd.DataFrame(dataset)\n",
    "        dataset.columns = ['Age', 'Number of sexual partners', 'First sexual intercourse',\n",
    "       'Num of pregnancies', 'Smokes', 'Smokes (years)', 'Smokes (packs/year)',\n",
    "       'Hormonal Contraceptives', 'Hormonal Contraceptives (years)', 'IUD',\n",
    "       'IUD (years)', 'STDs', 'STDs (number)', 'STDs:condylomatosis',\n",
    "       'STDs:cervical condylomatosis', 'STDs:vaginal condylomatosis',\n",
    "       'STDs:vulvo-perineal condylomatosis', 'STDs:syphilis',\n",
    "       'STDs:pelvic inflammatory disease', 'STDs:genital herpes',\n",
    "       'STDs:molluscum contagiosum', 'STDs:AIDS', 'STDs:HIV',\n",
    "       'STDs:Hepatitis B', 'STDs:HPV', 'STDs: Number of diagnosis',\n",
    "       'STDs: Time since first diagnosis', 'STDs: Time since last diagnosis',\n",
    "       'Dx:Cancer', 'Dx:CIN', 'Dx:HPV', 'Dx', 'Hinselmann', 'Schiller',\n",
    "       'Citology', 'Age_bin', 'STDs: Number of diagnosis_bin', 'Dx:Cancer_bin',\n",
    "       'Dx:CIN_bin', 'Dx:HPV_bin', 'Dx_bin', 'Hinselmann_bin', 'Schiller_bin',\n",
    "       'Citology_bin', 'Biopsy']\n",
    "      \n",
    "        self.root = self.build_tree(dataset, 0)\n",
    "    \n",
    "    def calculate_woe_iv_cat(self,dataset, feature, target):\n",
    "        #function to calculate WOE and IV for categorical variables\n",
    "        lst = []\n",
    "        dataset = pd.DataFrame(dataset)\n",
    "        dataset = dataset.astype(float)\n",
    "\n",
    "        for i in range(dataset[feature].nunique()):\n",
    "            val = list(dataset[feature].unique())[i]\n",
    "            lst.append({\n",
    "                'bin' : val,\n",
    "                'events' : dataset[(dataset[feature] == val) & (dataset[target] == 0.0)][feature].count(),\n",
    "                'non_events' : dataset[(dataset[feature] == val) & (dataset[target] == 1.0)][feature].count()\n",
    "            })\n",
    "            d = pd.DataFrame(lst)\n",
    "            d['Percent_events']  =  (d['events'] / (d['events'].sum())) * 100\n",
    "            d['Percent_non_events'] = (d['non_events'] / (d['non_events'].sum())) * 100\n",
    "            d['WOE'] = np.log(d['Percent_events'] / d['Percent_non_events'])\n",
    "            d = d.replace({'WOE': {np.inf: 0, -np.inf: 0.5}})\n",
    "            d['IV'] = (d['Percent_events']/100 - d['Percent_non_events']/100) * d['WOE']\n",
    "            sum_of_IV=d['IV'].sum()\n",
    "\n",
    "        return d, sum_of_IV\n",
    "    \n",
    "    def calculate_woe_iv_con(self, df,data, feature, target):\n",
    "    #function to calculate WOE and IV for continuous variables\n",
    "    \n",
    "        #creating column names for features whose bins are created \n",
    "        feat_bin = feature + '_bin'\n",
    "\n",
    "        grouped_df = data.groupby(feat_bin).sum()\n",
    "        grouped_df.reset_index(level=0, inplace=True)\n",
    "\n",
    "        a=data[feat_bin].value_counts().to_dict()\n",
    "        d=grouped_df[[feat_bin,feature]]\n",
    "        d.columns = ['bin','sum']\n",
    "        d['obs'] = d['bin'].map(a)\n",
    "        d = d.astype(float)\n",
    "        d['percent_obs'] = d['obs']/(d['obs'].sum()) * 100\n",
    "        d['percent_Y'] = (d['sum']/d['sum'].sum()) * 100\n",
    "        d['WOE'] = np.log(d['percent_Y']/d['percent_obs'])\n",
    "        d['IV'] = (d['percent_Y']/100 - d['percent_obs']/100) * d['WOE']\n",
    "        sum_of_IV=d['IV'].sum()\n",
    "\n",
    "        return d, sum_of_IV\n",
    "    \n",
    "    def predict(self, X):\n",
    "        # function to predict new dataset \n",
    "        predictions = [self.make_prediction(x, self.root) for x in X]\n",
    "        return predictions\n",
    "    \n",
    "    def make_prediction(self, x, tree):\n",
    "        threshold = 1\n",
    "        # function to predict a single data point \n",
    "        if tree.value!=None: return tree.value\n",
    "        feature_val = x[-1]\n",
    "        if feature_val<=threshold:\n",
    "            return self.make_prediction(x, tree.left)\n",
    "        else:\n",
    "            return self.make_prediction(x, tree.right)"
   ]
  },
  {
   "cell_type": "markdown",
   "metadata": {},
   "source": [
    "## Train-Test split"
   ]
  },
  {
   "cell_type": "code",
   "execution_count": 172,
   "metadata": {},
   "outputs": [],
   "source": [
    "#create target variable dataframe\n",
    "target = df[['Biopsy']]\n",
    "#create dataframe with independent variables\n",
    "df = df.drop(columns = 'Biopsy')"
   ]
  },
  {
   "cell_type": "code",
   "execution_count": 173,
   "metadata": {},
   "outputs": [],
   "source": [
    "#concat the dataframe\n",
    "df = pd.concat([df,target],axis =1)"
   ]
  },
  {
   "cell_type": "code",
   "execution_count": 174,
   "metadata": {},
   "outputs": [],
   "source": [
    "# splitting the dataset into input variables and target variables\n",
    "\n",
    "X = df.iloc[:, :-1].values\n",
    "Y = df.iloc[:, -1].values.reshape(-1,1)\n",
    "\n",
    "#split the data into train and test part\n",
    "X_train, X_test, Y_train, Y_test = train_test_split(X, Y, test_size=.20, random_state=0)\n"
   ]
  },
  {
   "cell_type": "markdown",
   "metadata": {},
   "source": [
    "# Fit the model using one attribute for the split and visualize it"
   ]
  },
  {
   "cell_type": "code",
   "execution_count": 175,
   "metadata": {
    "scrolled": false
   },
   "outputs": [
    {
     "name": "stdout",
     "output_type": "stream",
     "text": [
      "X_[11] <= 0.5\n",
      " left:X_[11] <= 0.5\n",
      "  left:X_[11] <= 0.5\n",
      "    left:X_[11] <= 0.5\n",
      "        left:X_[11] <= 0.5\n",
      "                left:X_[11] <= 0.5\n",
      "                                left:X_[11] <= 0.5\n",
      "                                                                left:1\n",
      "                                                                right:nan\n",
      "                                right:nan\n",
      "                right:nan\n",
      "        right:nan\n",
      "    right:nan\n",
      "  right:nan\n",
      " right:nan\n"
     ]
    }
   ],
   "source": [
    "#train the model \n",
    "classifier1 = DecisionTreeClassifier(min_samples_split=100, max_depth=6, no_of_IV=1)\n",
    "classifier1.fit(X_train,Y_train)\n",
    "\n",
    "# #Print the tree\n",
    "classifier1.print_tree()"
   ]
  },
  {
   "cell_type": "markdown",
   "metadata": {},
   "source": [
    "## Predictions on the test data for model with one attribute for the split"
   ]
  },
  {
   "cell_type": "code",
   "execution_count": 176,
   "metadata": {},
   "outputs": [
    {
     "data": {
      "text/plain": [
       "0.046511627906976744"
      ]
     },
     "execution_count": 176,
     "metadata": {},
     "output_type": "execute_result"
    }
   ],
   "source": [
    "#make predictions\n",
    "Y_pred1 = classifier1.predict(X_test) \n",
    "from sklearn.metrics import accuracy_score\n",
    "\n",
    "#print the accuracy score\n",
    "accuracy_score(Y_test, Y_pred1)"
   ]
  },
  {
   "cell_type": "code",
   "execution_count": 177,
   "metadata": {},
   "outputs": [
    {
     "name": "stdout",
     "output_type": "stream",
     "text": [
      "              precision    recall  f1-score   support\n",
      "\n",
      "         0.0       0.00      0.00      0.00       164\n",
      "         1.0       0.05      1.00      0.09         8\n",
      "\n",
      "    accuracy                           0.05       172\n",
      "   macro avg       0.02      0.50      0.04       172\n",
      "weighted avg       0.00      0.05      0.00       172\n",
      "\n",
      "0.5\n"
     ]
    }
   ],
   "source": [
    "# Print the classification report containing precision, recall, f1-score, support\n",
    "print(metrics.classification_report(Y_test, Y_pred1))\n",
    "\n",
    "#print the ROC_AUC score\n",
    "print (roc_auc_score(Y_test, Y_pred1))"
   ]
  },
  {
   "cell_type": "markdown",
   "metadata": {},
   "source": [
    "## Fit the model using two attributes for the split and visualize it"
   ]
  },
  {
   "cell_type": "code",
   "execution_count": 178,
   "metadata": {
    "scrolled": true
   },
   "outputs": [
    {
     "name": "stdout",
     "output_type": "stream",
     "text": [
      "X_[11, 22] <= 0.5\n",
      " left:X_[11, 22] <= 0.5\n",
      "  left:X_[11, 22] <= 0.5\n",
      "    left:X_[11, 22] <= 0.5\n",
      "        left:X_[11, 22] <= 0.5\n",
      "                left:X_[11, 22] <= 0.5\n",
      "                                left:X_[11, 22] <= 0.5\n",
      "                                                                left:1\n",
      "                                                                right:nan\n",
      "                                right:nan\n",
      "                right:nan\n",
      "        right:nan\n",
      "    right:nan\n",
      "  right:nan\n",
      " right:nan\n"
     ]
    }
   ],
   "source": [
    "#train the model\n",
    "classifier2 = DecisionTreeClassifier(min_samples_split=100, max_depth=6, no_of_IV=2)\n",
    "classifier2.fit(X_train,Y_train)\n",
    "\n",
    "# #Print the tree\n",
    "classifier2.print_tree()"
   ]
  },
  {
   "cell_type": "markdown",
   "metadata": {},
   "source": [
    "## Predictions on the test data for model with two attributes for the split"
   ]
  },
  {
   "cell_type": "code",
   "execution_count": 179,
   "metadata": {},
   "outputs": [
    {
     "data": {
      "text/plain": [
       "0.046511627906976744"
      ]
     },
     "execution_count": 179,
     "metadata": {},
     "output_type": "execute_result"
    }
   ],
   "source": [
    "#make predictions\n",
    "Y_pred2 = classifier2.predict(X_test) \n",
    "from sklearn.metrics import accuracy_score\n",
    "\n",
    "#print the accuracy score\n",
    "accuracy_score(Y_test, Y_pred2)"
   ]
  },
  {
   "cell_type": "code",
   "execution_count": 180,
   "metadata": {},
   "outputs": [
    {
     "name": "stdout",
     "output_type": "stream",
     "text": [
      "              precision    recall  f1-score   support\n",
      "\n",
      "         0.0       0.00      0.00      0.00       164\n",
      "         1.0       0.05      1.00      0.09         8\n",
      "\n",
      "    accuracy                           0.05       172\n",
      "   macro avg       0.02      0.50      0.04       172\n",
      "weighted avg       0.00      0.05      0.00       172\n",
      "\n",
      "0.5\n"
     ]
    }
   ],
   "source": [
    "# Print the classification report containing precision, recall, f1-score, support\n",
    "print(metrics.classification_report(Y_test, Y_pred2))\n",
    "\n",
    "#print the ROC_AUC score\n",
    "print (roc_auc_score(Y_test, Y_pred2))"
   ]
  },
  {
   "cell_type": "markdown",
   "metadata": {},
   "source": [
    "# Q2:"
   ]
  },
  {
   "cell_type": "markdown",
   "metadata": {},
   "source": [
    "## Visualize custom made decision tree using one attribute "
   ]
  },
  {
   "cell_type": "code",
   "execution_count": 181,
   "metadata": {},
   "outputs": [
    {
     "name": "stdout",
     "output_type": "stream",
     "text": [
      "X_[11] <= 0.5\n",
      " left:X_[11] <= 0.5\n",
      "  left:X_[11] <= 0.5\n",
      "    left:X_[11] <= 0.5\n",
      "        left:X_[11] <= 0.5\n",
      "                left:X_[11] <= 0.5\n",
      "                                left:X_[11] <= 0.5\n",
      "                                                                left:1\n",
      "                                                                right:nan\n",
      "                                right:nan\n",
      "                right:nan\n",
      "        right:nan\n",
      "    right:nan\n",
      "  right:nan\n",
      " right:nan\n"
     ]
    }
   ],
   "source": [
    "# #Print the tree\n",
    "classifier1.print_tree()"
   ]
  },
  {
   "cell_type": "code",
   "execution_count": 182,
   "metadata": {},
   "outputs": [],
   "source": [
    "# column 11 is STDs\n",
    "\n",
    "# The rules can be visualized using th tree generated\n",
    "# f probability (STDs) < =0.75 then class = 1 "
   ]
  },
  {
   "cell_type": "markdown",
   "metadata": {},
   "source": [
    "## Visualize custom made decision tree using two attribute "
   ]
  },
  {
   "cell_type": "code",
   "execution_count": 183,
   "metadata": {},
   "outputs": [
    {
     "name": "stdout",
     "output_type": "stream",
     "text": [
      "X_[11, 22] <= 0.5\n",
      " left:X_[11, 22] <= 0.5\n",
      "  left:X_[11, 22] <= 0.5\n",
      "    left:X_[11, 22] <= 0.5\n",
      "        left:X_[11, 22] <= 0.5\n",
      "                left:X_[11, 22] <= 0.5\n",
      "                                left:X_[11, 22] <= 0.5\n",
      "                                                                left:1\n",
      "                                                                right:nan\n",
      "                                right:nan\n",
      "                right:nan\n",
      "        right:nan\n",
      "    right:nan\n",
      "  right:nan\n",
      " right:nan\n"
     ]
    }
   ],
   "source": [
    "# #Print the tree\n",
    "classifier2.print_tree()"
   ]
  },
  {
   "cell_type": "code",
   "execution_count": 184,
   "metadata": {},
   "outputs": [],
   "source": [
    "# column 11 is STDs, column 22 is STDs:HIV\n",
    "\n",
    "# The rules can be visualized using th tree generated\n",
    "# if probability (STDs and STDs:HIV) < =0.75 then class =1 "
   ]
  },
  {
   "cell_type": "markdown",
   "metadata": {},
   "source": [
    "## Normal Decision Tree"
   ]
  },
  {
   "cell_type": "code",
   "execution_count": 185,
   "metadata": {},
   "outputs": [
    {
     "name": "stdout",
     "output_type": "stream",
     "text": [
      "              precision    recall  f1-score   support\n",
      "\n",
      "         0.0       0.99      0.98      0.98       164\n",
      "         1.0       0.67      0.75      0.71         8\n",
      "\n",
      "    accuracy                           0.97       172\n",
      "   macro avg       0.83      0.87      0.85       172\n",
      "weighted avg       0.97      0.97      0.97       172\n",
      "\n",
      "0.8658536585365854\n"
     ]
    }
   ],
   "source": [
    "from sklearn.tree import DecisionTreeClassifier\n",
    "\n",
    "# Train the decision tree classifier using scikit learn\n",
    "dt = DecisionTreeClassifier(criterion='gini', min_samples_split=100,min_samples_leaf=1, max_depth=6)\n",
    "dt.fit(X_train,Y_train)\n",
    "\n",
    "#Make Predictions\n",
    "Y_pred = dt.predict(X_test)\n",
    "\n",
    "# Print the classification report containing precision, recall, f1-score, support\n",
    "print(metrics.classification_report(Y_test, Y_pred))\n",
    "\n",
    "#print the ROC_AUC score\n",
    "print(roc_auc_score(Y_test, Y_pred))"
   ]
  },
  {
   "cell_type": "code",
   "execution_count": 186,
   "metadata": {},
   "outputs": [
    {
     "data": {
      "image/png": "[encoded data removed]",
      "text/plain": [
       "<Figure size 720x720 with 1 Axes>"
      ]
     },
     "metadata": {
      "needs_background": "light"
     },
     "output_type": "display_data"
    }
   ],
   "source": [
    "from sklearn import tree\n",
    "plt.figure(figsize=(10,10))\n",
    "tree.plot_tree(dt);"
   ]
  },
  {
   "cell_type": "markdown",
   "metadata": {},
   "source": [
    "# Comparision and observations from visualizing the splits"
   ]
  },
  {
   "cell_type": "markdown",
   "metadata": {},
   "source": [
    "#### The custom made decision tree using WOE and logistic regression generates rules based on probabilities as thresholds."
   ]
  },
  {
   "cell_type": "markdown",
   "metadata": {},
   "source": [
    "#### However, the normal decision tree generates rules using attribute values as thresholds"
   ]
  },
  {
   "cell_type": "markdown",
   "metadata": {},
   "source": [
    "#### This is evident from the visualizations provided above"
   ]
  },
  {
   "cell_type": "markdown",
   "metadata": {},
   "source": [
    "# Q3:"
   ]
  },
  {
   "cell_type": "markdown",
   "metadata": {},
   "source": [
    "## Model using 5 fold Cross validation"
   ]
  },
  {
   "cell_type": "code",
   "execution_count": 187,
   "metadata": {},
   "outputs": [
    {
     "name": "stdout",
     "output_type": "stream",
     "text": [
      "              precision    recall  f1-score   support\n",
      "\n",
      "         0.0       0.99      0.97      0.98       803\n",
      "         1.0       0.65      0.87      0.74        55\n",
      "\n",
      "    accuracy                           0.96       858\n",
      "   macro avg       0.82      0.92      0.86       858\n",
      "weighted avg       0.97      0.96      0.96       858\n",
      "\n",
      "0.9201743462017433\n"
     ]
    }
   ],
   "source": [
    "from sklearn.model_selection import cross_val_predict\n",
    "y_pred_cv=cross_val_predict(dt,X,Y,cv=5)\n",
    "\n",
    "#print the accuracy score\n",
    "accuracy_score(Y, y_pred_cv)\n",
    "\n",
    "# Print the classification report containing precision, recall, f1-score, support\n",
    "print(metrics.classification_report(Y, y_pred_cv))\n",
    "\n",
    "#print the ROC_AUC score\n",
    "print(roc_auc_score(Y, y_pred_cv))"
   ]
  },
  {
   "cell_type": "markdown",
   "metadata": {},
   "source": [
    "## Student t test for single attribute "
   ]
  },
  {
   "cell_type": "code",
   "execution_count": 188,
   "metadata": {},
   "outputs": [
    {
     "data": {
      "text/plain": [
       "Ttest_indResult(statistic=array([-59.20726307]), pvalue=array([8.0838724e-182]))"
      ]
     },
     "execution_count": 188,
     "metadata": {},
     "output_type": "execute_result"
    }
   ],
   "source": [
    "import scipy.stats as stats\n",
    " \n",
    "# Perform the two sample t-test with equal variances\n",
    "stats.ttest_ind(a=Y_test, b=Y_pred1, equal_var=True)"
   ]
  },
  {
   "cell_type": "markdown",
   "metadata": {},
   "source": [
    "Two sample t-test has the following hypothesis:\n",
    "\n",
    "H0 => µ1 = µ2 (population mean of given class labels is equal to the mean of the predicted class labels)\n",
    "\n",
    "HA => µ1 ≠µ2 (population mean of given class labels is different from the mean of the predicted class labels)\n",
    "\n",
    "Here, since the p-value (8.0838724e-182) is less than alpha = 0.05 so we reject the null hypothesis (H0) of the test."
   ]
  },
  {
   "cell_type": "markdown",
   "metadata": {},
   "source": [
    "## Student t test for two attributes "
   ]
  },
  {
   "cell_type": "code",
   "execution_count": 189,
   "metadata": {},
   "outputs": [
    {
     "data": {
      "text/plain": [
       "Ttest_indResult(statistic=array([-59.20726307]), pvalue=array([8.0838724e-182]))"
      ]
     },
     "execution_count": 189,
     "metadata": {},
     "output_type": "execute_result"
    }
   ],
   "source": [
    "import scipy.stats as stats\n",
    " \n",
    "# Perform the two sample t-test with equal variances\n",
    "stats.ttest_ind(a=Y_test, b=Y_pred2, equal_var=True)"
   ]
  },
  {
   "cell_type": "markdown",
   "metadata": {},
   "source": [
    "Two sample t-test has the following hypothesis:\n",
    "\n",
    "H0 => µ1 = µ2 (population mean of given class labels is equal to the mean of the predicted class labels)\n",
    "\n",
    "HA => µ1 ≠µ2 (population mean of given class labels is different from the mean of the predicted class labels)\n",
    "\n",
    "Here, since the p-value (8.0838724e-182) is less than alpha = 0.05 so we reject the null hypothesis (H0) of the test."
   ]
  },
  {
   "cell_type": "code",
   "execution_count": 190,
   "metadata": {},
   "outputs": [],
   "source": [
    "# Since the accuracy of both the models is similar ,the poosible reason for this may be that when we are taking two \n",
    "# attributes for making the model both of them are possibly correlated with each other.\n",
    "\n",
    "#Hence, the presence of two attributes per node versus one attribute per node both are generating similar results in terms\n",
    "# of precision, recall, F1 score and accuracy ."
   ]
  },
  {
   "cell_type": "code",
   "execution_count": null,
   "metadata": {},
   "outputs": [],
   "source": []
  },
  {
   "cell_type": "code",
   "execution_count": null,
   "metadata": {},
   "outputs": [],
   "source": []
  }
 ],
 "metadata": {
  "kernelspec": {
   "display_name": "Python 3",
   "language": "python",
   "name": "python3"
  },
  "language_info": {
   "codemirror_mode": {
    "name": "ipython",
    "version": 3
   },
   "file_extension": ".py",
   "mimetype": "text/x-python",
   "name": "python",
   "nbconvert_exporter": "python",
   "pygments_lexer": "ipython3",
   "version": "3.8.3"
  }
 },
 "nbformat": 4,
 "nbformat_minor": 4
}
